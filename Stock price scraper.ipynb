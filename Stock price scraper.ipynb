{
 "cells": [
  {
   "cell_type": "code",
   "execution_count": 1,
   "metadata": {},
   "outputs": [],
   "source": [
    "import pandas as pd\n",
    "from bs4 import BeautifulSoup\n",
    "import re\n",
    "from selenium import webdriver\n",
    "import time\n",
    "import string\n",
    "from datetime import datetime\n",
    "pd.options.display.float_format = '{:.0f}'.format"
   ]
  },
  {
   "cell_type": "code",
   "execution_count": 2,
   "metadata": {},
   "outputs": [],
   "source": [
    "# BaseURL of Yahoo Finance website.\n",
    "URL = \"https://finance.yahoo.com/\""
   ]
  },
  {
   "cell_type": "code",
   "execution_count": 3,
   "metadata": {},
   "outputs": [],
   "source": [
    "def Live_Data(cname):\n",
    "    driver = webdriver.Chrome(executable_path = r\"C:\\Users\\KIIT\\Desktop\\Web Driver\\chromedriver.exe\")\n",
    "    print(\"Catching up with the site...\")\n",
    "    driver.get(URL)\n",
    "    print(\"Searching the company\")\n",
    "    driver.find_element_by_xpath(\"//input[@placeholder = 'Search for news, symbols or companies']\").send_keys(cname)\n",
    "    driver.find_element_by_xpath(\"//button[@id= 'header-desktop-search-button']\").click()\n",
    "    print(\"Found the page, you requested!\")\n",
    "    # time.sleep(2)\n",
    "    # Driver clicks on Historical Data tab and sleeps for 2 seconds.\n",
    "    # driver.find_element_by_xpath(\"//span[text() = 'Summary']\").click()\n",
    "    # time.sleep(2)\n",
    "    html = driver.execute_script('return document.body.innerHTML;')\n",
    "    soup = BeautifulSoup(html,'lxml')\n",
    "    end_loop = ['At close:  4:00PM EST','At close:  3:30PM IST']\n",
    "    i = 1\n",
    "    while(1):\n",
    "        print(''.join([entry.text for entry in soup.find_all('div',{'id':\"quote-market-notice\"}\n",
    "                            ,{'class':\"C($tertiaryColor) D(b) Fz(12px) Fw(n) Mstart(0)--mobpsm Mt(6px)--mobpsm\"})]))\n",
    "        if(''.join([entry.text for entry in soup.find_all('div',{'id':\"quote-market-notice\"}\n",
    "                            ,{'class':\"C($tertiaryColor) D(b) Fz(12px) Fw(n) Mstart(0)--mobpsm Mt(6px)--mobpsm\"})]) in end_loop):\n",
    "            print(\"The Market for\",[entry.text for entry in soup.find_all('h1', {'class':'D(ib) Fz(18px)'})],\"is closed, right now!\")\n",
    "            print(\"Completed!\")\n",
    "            break\n",
    "        elif(i==1):\n",
    "            html = driver.execute_script('return document.body.innerHTML;')\n",
    "            soup = BeautifulSoup(html,'lxml')\n",
    "            print(\"Getting the data for\",[entry.text for entry in soup.find_all('h1', {'class':'D(ib) Fz(18px)'})])\n",
    "            Real_Time_Price = [entry.text for entry in soup.find_all('span', {'class':'Trsdu(0.3s) Fw(b) Fz(36px) Mb(-4px) D(ib)'})]\n",
    "            temp = [entry.text for entry in soup.find_all('span', {'data-reactid': \"33\"})]\n",
    "            temp = temp[1:]\n",
    "            headers = [entry.text for entry in soup.find_all('td', {'class':'C($primaryColor) W(51%)'})]\n",
    "            getters = [entry.text for entry in soup.find_all('td', {'class':'Ta(end) Fw(600) Lh(14px)'})]\n",
    "            res = dict(zip(headers, getters))\n",
    "            now = datetime.now()\n",
    "            now = now.strftime(\"%d/%m/%Y %H:%M:%S\")\n",
    "            df_temp = pd.DataFrame(list(zip(Real_Time_Price,temp)),columns=['Real_Time_Price','Difference'])\n",
    "            df_temp['Date'] = now\n",
    "            df_temp2 = pd.DataFrame(res,index=[0])\n",
    "            df_temp2 = df_temp2[['Previous Close','Open','Volume']]\n",
    "            frames = [df_temp,df_temp2]\n",
    "            df_final = pd.concat(frames,axis=1)\n",
    "            df_final.set_index('Date',inplace=True)\n",
    "            df_final.to_csv('file.csv')\n",
    "            print(\"#############\",i)\n",
    "            time.sleep(10)\n",
    "            i = i + 1 \n",
    "        else:\n",
    "            html = driver.execute_script('return document.body.innerHTML;')\n",
    "            soup = BeautifulSoup(html,'lxml')\n",
    "            Real_Time_Price = [entry.text for entry in soup.find_all('span', {'class':'Trsdu(0.3s) Fw(b) Fz(36px) Mb(-4px) D(ib)'})]\n",
    "            temp = [entry.text for entry in soup.find_all('span', {'data-reactid': \"33\"})]\n",
    "            temp = temp[1:]\n",
    "            headers = [entry.text for entry in soup.find_all('td', {'class':'C($primaryColor) W(51%)'})]\n",
    "            getters = [entry.text for entry in soup.find_all('td', {'class':'Ta(end) Fw(600) Lh(14px)'})]\n",
    "            res = dict(zip(headers, getters))\n",
    "            now = datetime.now()\n",
    "            now = now.strftime(\"%d/%m/%Y %H:%M:%S\")\n",
    "            df1_temp = pd.DataFrame(list(zip(Real_Time_Price,temp)),columns=['Real_Time_Price','Difference'])\n",
    "            df1_temp['Date'] = now\n",
    "            df1_temp2 = pd.DataFrame(res,index=[0])\n",
    "            df1_temp2 = df1_temp2[['Previous Close','Open','Volume']]\n",
    "            frames = [df1_temp,df1_temp2]\n",
    "            df1_final = pd.concat(frames,axis=1)\n",
    "            df1_final.set_index('Date',inplace=True)\n",
    "            frames = [df_final,df1_final]\n",
    "            df = pd.concat(frames)\n",
    "            df_final = df\n",
    "            df_final.to_csv('file.csv')\n",
    "            print(\"#############\",i)\n",
    "            time.sleep(10)\n",
    "            i = i+1"
   ]
  },
  {
   "cell_type": "code",
   "execution_count": 5,
   "metadata": {},
   "outputs": [
    {
     "name": "stdout",
     "output_type": "stream",
     "text": [
      "Write the full company name or ticker goog\n",
      "Catching up with the site...\n",
      "Searching the company\n",
      "Found the page, you requested!\n",
      "At close:  4:00PM EST\n",
      "The Market for ['Alphabet Inc. (GOOG)'] is closed, right now!\n",
      "Completed!\n"
     ]
    }
   ],
   "source": [
    "Name = input(\"Write the full company name or ticker \").upper()\n",
    "Live_Data(Name)"
   ]
  },
  {
   "cell_type": "markdown",
   "metadata": {},
   "source": [
    "Name, Prev close, Change in values(%), Volume"
   ]
  }
 ],
 "metadata": {
  "kernelspec": {
   "display_name": "Python 3",
   "language": "python",
   "name": "python3"
  },
  "language_info": {
   "codemirror_mode": {
    "name": "ipython",
    "version": 3
   },
   "file_extension": ".py",
   "mimetype": "text/x-python",
   "name": "python",
   "nbconvert_exporter": "python",
   "pygments_lexer": "ipython3",
   "version": "3.8.5"
  }
 },
 "nbformat": 4,
 "nbformat_minor": 4
}

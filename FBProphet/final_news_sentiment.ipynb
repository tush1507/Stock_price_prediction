{
  "nbformat": 4,
  "nbformat_minor": 0,
  "metadata": {
    "colab": {
      "name": "final_news_sentiment.ipynb",
      "provenance": [],
      "collapsed_sections": []
    },
    "kernelspec": {
      "display_name": "Python 3",
      "language": "python",
      "name": "python3"
    },
    "language_info": {
      "codemirror_mode": {
        "name": "ipython",
        "version": 3
      },
      "file_extension": ".py",
      "mimetype": "text/x-python",
      "name": "python",
      "nbconvert_exporter": "python",
      "pygments_lexer": "ipython3",
      "version": "3.8.3"
    },
    "widgets": {
      "application/vnd.jupyter.widget-state+json": {
        "6cecc95732774f768a8d1bfbd5b95239": {
          "model_module": "@jupyter-widgets/controls",
          "model_name": "HBoxModel",
          "state": {
            "_view_name": "HBoxView",
            "_dom_classes": [],
            "_model_name": "HBoxModel",
            "_view_module": "@jupyter-widgets/controls",
            "_model_module_version": "1.5.0",
            "_view_count": null,
            "_view_module_version": "1.5.0",
            "box_style": "",
            "layout": "IPY_MODEL_4cf36322d34a4dac8081deb69b2e3ea7",
            "_model_module": "@jupyter-widgets/controls",
            "children": [
              "IPY_MODEL_9e6d894234484f6d832db3f6979270d9",
              "IPY_MODEL_30479cfc437b4576896e30e0d22ea20c"
            ]
          }
        },
        "4cf36322d34a4dac8081deb69b2e3ea7": {
          "model_module": "@jupyter-widgets/base",
          "model_name": "LayoutModel",
          "state": {
            "_view_name": "LayoutView",
            "grid_template_rows": null,
            "right": null,
            "justify_content": null,
            "_view_module": "@jupyter-widgets/base",
            "overflow": null,
            "_model_module_version": "1.2.0",
            "_view_count": null,
            "flex_flow": null,
            "width": null,
            "min_width": null,
            "border": null,
            "align_items": null,
            "bottom": null,
            "_model_module": "@jupyter-widgets/base",
            "top": null,
            "grid_column": null,
            "overflow_y": null,
            "overflow_x": null,
            "grid_auto_flow": null,
            "grid_area": null,
            "grid_template_columns": null,
            "flex": null,
            "_model_name": "LayoutModel",
            "justify_items": null,
            "grid_row": null,
            "max_height": null,
            "align_content": null,
            "visibility": null,
            "align_self": null,
            "height": null,
            "min_height": null,
            "padding": null,
            "grid_auto_rows": null,
            "grid_gap": null,
            "max_width": null,
            "order": null,
            "_view_module_version": "1.2.0",
            "grid_template_areas": null,
            "object_position": null,
            "object_fit": null,
            "grid_auto_columns": null,
            "margin": null,
            "display": null,
            "left": null
          }
        },
        "9e6d894234484f6d832db3f6979270d9": {
          "model_module": "@jupyter-widgets/controls",
          "model_name": "FloatProgressModel",
          "state": {
            "_view_name": "ProgressView",
            "style": "IPY_MODEL_89bf552408b64d99829d812ec0eea99c",
            "_dom_classes": [],
            "description": "100%",
            "_model_name": "FloatProgressModel",
            "bar_style": "success",
            "max": 8,
            "_view_module": "@jupyter-widgets/controls",
            "_model_module_version": "1.5.0",
            "value": 8,
            "_view_count": null,
            "_view_module_version": "1.5.0",
            "orientation": "horizontal",
            "min": 0,
            "description_tooltip": null,
            "_model_module": "@jupyter-widgets/controls",
            "layout": "IPY_MODEL_1c1998defab047458ea4c9ad2fbbc92f"
          }
        },
        "30479cfc437b4576896e30e0d22ea20c": {
          "model_module": "@jupyter-widgets/controls",
          "model_name": "HTMLModel",
          "state": {
            "_view_name": "HTMLView",
            "style": "IPY_MODEL_f6ff1e95fcae49e5a6cf8400bb6fee6e",
            "_dom_classes": [],
            "description": "",
            "_model_name": "HTMLModel",
            "placeholder": "​",
            "_view_module": "@jupyter-widgets/controls",
            "_model_module_version": "1.5.0",
            "value": " 8/8 [11:48&lt;00:00, 88.57s/it]",
            "_view_count": null,
            "_view_module_version": "1.5.0",
            "description_tooltip": null,
            "_model_module": "@jupyter-widgets/controls",
            "layout": "IPY_MODEL_94da00806cf34dd08be91159cf467164"
          }
        },
        "89bf552408b64d99829d812ec0eea99c": {
          "model_module": "@jupyter-widgets/controls",
          "model_name": "ProgressStyleModel",
          "state": {
            "_view_name": "StyleView",
            "_model_name": "ProgressStyleModel",
            "description_width": "initial",
            "_view_module": "@jupyter-widgets/base",
            "_model_module_version": "1.5.0",
            "_view_count": null,
            "_view_module_version": "1.2.0",
            "bar_color": null,
            "_model_module": "@jupyter-widgets/controls"
          }
        },
        "1c1998defab047458ea4c9ad2fbbc92f": {
          "model_module": "@jupyter-widgets/base",
          "model_name": "LayoutModel",
          "state": {
            "_view_name": "LayoutView",
            "grid_template_rows": null,
            "right": null,
            "justify_content": null,
            "_view_module": "@jupyter-widgets/base",
            "overflow": null,
            "_model_module_version": "1.2.0",
            "_view_count": null,
            "flex_flow": null,
            "width": null,
            "min_width": null,
            "border": null,
            "align_items": null,
            "bottom": null,
            "_model_module": "@jupyter-widgets/base",
            "top": null,
            "grid_column": null,
            "overflow_y": null,
            "overflow_x": null,
            "grid_auto_flow": null,
            "grid_area": null,
            "grid_template_columns": null,
            "flex": null,
            "_model_name": "LayoutModel",
            "justify_items": null,
            "grid_row": null,
            "max_height": null,
            "align_content": null,
            "visibility": null,
            "align_self": null,
            "height": null,
            "min_height": null,
            "padding": null,
            "grid_auto_rows": null,
            "grid_gap": null,
            "max_width": null,
            "order": null,
            "_view_module_version": "1.2.0",
            "grid_template_areas": null,
            "object_position": null,
            "object_fit": null,
            "grid_auto_columns": null,
            "margin": null,
            "display": null,
            "left": null
          }
        },
        "f6ff1e95fcae49e5a6cf8400bb6fee6e": {
          "model_module": "@jupyter-widgets/controls",
          "model_name": "DescriptionStyleModel",
          "state": {
            "_view_name": "StyleView",
            "_model_name": "DescriptionStyleModel",
            "description_width": "",
            "_view_module": "@jupyter-widgets/base",
            "_model_module_version": "1.5.0",
            "_view_count": null,
            "_view_module_version": "1.2.0",
            "_model_module": "@jupyter-widgets/controls"
          }
        },
        "94da00806cf34dd08be91159cf467164": {
          "model_module": "@jupyter-widgets/base",
          "model_name": "LayoutModel",
          "state": {
            "_view_name": "LayoutView",
            "grid_template_rows": null,
            "right": null,
            "justify_content": null,
            "_view_module": "@jupyter-widgets/base",
            "overflow": null,
            "_model_module_version": "1.2.0",
            "_view_count": null,
            "flex_flow": null,
            "width": null,
            "min_width": null,
            "border": null,
            "align_items": null,
            "bottom": null,
            "_model_module": "@jupyter-widgets/base",
            "top": null,
            "grid_column": null,
            "overflow_y": null,
            "overflow_x": null,
            "grid_auto_flow": null,
            "grid_area": null,
            "grid_template_columns": null,
            "flex": null,
            "_model_name": "LayoutModel",
            "justify_items": null,
            "grid_row": null,
            "max_height": null,
            "align_content": null,
            "visibility": null,
            "align_self": null,
            "height": null,
            "min_height": null,
            "padding": null,
            "grid_auto_rows": null,
            "grid_gap": null,
            "max_width": null,
            "order": null,
            "_view_module_version": "1.2.0",
            "grid_template_areas": null,
            "object_position": null,
            "object_fit": null,
            "grid_auto_columns": null,
            "margin": null,
            "display": null,
            "left": null
          }
        }
      }
    }
  },
  "cells": [
    {
      "cell_type": "code",
      "metadata": {
        "id": "Bxt1fz4MJKmp",
        "colab": {
          "base_uri": "https://localhost:8080/"
        },
        "outputId": "3d41fc53-4b58-410d-884e-dc7d5cd284e8"
      },
      "source": [
        "# importing libraries & dependencies\n",
        "!pip install vaderSentiment\n",
        "!pip install nltk\n",
        "!pip install textblob\n",
        "!pip install fbprophet\n",
        "from google.colab import drive\n",
        "import pandas as pd\n",
        "import numpy as np\n",
        "import nltk\n",
        "nltk.download('punkt')\n",
        "nltk.download('stopwords')\n",
        "from nltk.tokenize import word_tokenize\n",
        "from nltk.corpus import stopwords\n",
        "from nltk.stem.porter import PorterStemmer\n",
        "from textblob import TextBlob\n",
        "import string\n",
        "from string import digits\n",
        "from fbprophet import Prophet\n",
        "from fbprophet.plot import plot_cross_validation_metric\n",
        "from sklearn.metrics import mean_squared_error\n",
        "from fbprophet.diagnostics import cross_validation"
      ],
      "execution_count": 1,
      "outputs": [
        {
          "output_type": "stream",
          "text": [
            "Collecting vaderSentiment\n",
            "\u001b[?25l  Downloading https://files.pythonhosted.org/packages/76/fc/310e16254683c1ed35eeb97386986d6c00bc29df17ce280aed64d55537e9/vaderSentiment-3.3.2-py2.py3-none-any.whl (125kB)\n",
            "\r\u001b[K     |██▋                             | 10kB 13.9MB/s eta 0:00:01\r\u001b[K     |█████▏                          | 20kB 19.2MB/s eta 0:00:01\r\u001b[K     |███████▉                        | 30kB 9.9MB/s eta 0:00:01\r\u001b[K     |██████████▍                     | 40kB 8.1MB/s eta 0:00:01\r\u001b[K     |█████████████                   | 51kB 4.2MB/s eta 0:00:01\r\u001b[K     |███████████████▋                | 61kB 4.6MB/s eta 0:00:01\r\u001b[K     |██████████████████▏             | 71kB 4.8MB/s eta 0:00:01\r\u001b[K     |████████████████████▉           | 81kB 5.1MB/s eta 0:00:01\r\u001b[K     |███████████████████████▍        | 92kB 5.6MB/s eta 0:00:01\r\u001b[K     |██████████████████████████      | 102kB 5.7MB/s eta 0:00:01\r\u001b[K     |████████████████████████████▋   | 112kB 5.7MB/s eta 0:00:01\r\u001b[K     |███████████████████████████████▏| 122kB 5.7MB/s eta 0:00:01\r\u001b[K     |████████████████████████████████| 133kB 5.7MB/s \n",
            "\u001b[?25hRequirement already satisfied: requests in /usr/local/lib/python3.7/dist-packages (from vaderSentiment) (2.23.0)\n",
            "Requirement already satisfied: chardet<4,>=3.0.2 in /usr/local/lib/python3.7/dist-packages (from requests->vaderSentiment) (3.0.4)\n",
            "Requirement already satisfied: idna<3,>=2.5 in /usr/local/lib/python3.7/dist-packages (from requests->vaderSentiment) (2.10)\n",
            "Requirement already satisfied: certifi>=2017.4.17 in /usr/local/lib/python3.7/dist-packages (from requests->vaderSentiment) (2020.12.5)\n",
            "Requirement already satisfied: urllib3!=1.25.0,!=1.25.1,<1.26,>=1.21.1 in /usr/local/lib/python3.7/dist-packages (from requests->vaderSentiment) (1.24.3)\n",
            "Installing collected packages: vaderSentiment\n",
            "Successfully installed vaderSentiment-3.3.2\n",
            "Requirement already satisfied: nltk in /usr/local/lib/python3.7/dist-packages (3.2.5)\n",
            "Requirement already satisfied: six in /usr/local/lib/python3.7/dist-packages (from nltk) (1.15.0)\n",
            "Requirement already satisfied: textblob in /usr/local/lib/python3.7/dist-packages (0.15.3)\n",
            "Requirement already satisfied: nltk>=3.1 in /usr/local/lib/python3.7/dist-packages (from textblob) (3.2.5)\n",
            "Requirement already satisfied: six in /usr/local/lib/python3.7/dist-packages (from nltk>=3.1->textblob) (1.15.0)\n",
            "Requirement already satisfied: fbprophet in /usr/local/lib/python3.7/dist-packages (0.7.1)\n",
            "Requirement already satisfied: Cython>=0.22 in /usr/local/lib/python3.7/dist-packages (from fbprophet) (0.29.22)\n",
            "Requirement already satisfied: cmdstanpy==0.9.5 in /usr/local/lib/python3.7/dist-packages (from fbprophet) (0.9.5)\n",
            "Requirement already satisfied: pystan>=2.14 in /usr/local/lib/python3.7/dist-packages (from fbprophet) (2.19.1.1)\n",
            "Requirement already satisfied: numpy>=1.15.4 in /usr/local/lib/python3.7/dist-packages (from fbprophet) (1.19.5)\n",
            "Requirement already satisfied: pandas>=1.0.4 in /usr/local/lib/python3.7/dist-packages (from fbprophet) (1.1.5)\n",
            "Requirement already satisfied: matplotlib>=2.0.0 in /usr/local/lib/python3.7/dist-packages (from fbprophet) (3.2.2)\n",
            "Requirement already satisfied: LunarCalendar>=0.0.9 in /usr/local/lib/python3.7/dist-packages (from fbprophet) (0.0.9)\n",
            "Requirement already satisfied: convertdate>=2.1.2 in /usr/local/lib/python3.7/dist-packages (from fbprophet) (2.3.1)\n",
            "Requirement already satisfied: holidays>=0.10.2 in /usr/local/lib/python3.7/dist-packages (from fbprophet) (0.10.5.2)\n",
            "Requirement already satisfied: setuptools-git>=1.2 in /usr/local/lib/python3.7/dist-packages (from fbprophet) (1.2)\n",
            "Requirement already satisfied: python-dateutil>=2.8.0 in /usr/local/lib/python3.7/dist-packages (from fbprophet) (2.8.1)\n",
            "Requirement already satisfied: tqdm>=4.36.1 in /usr/local/lib/python3.7/dist-packages (from fbprophet) (4.41.1)\n",
            "Requirement already satisfied: pytz>=2017.2 in /usr/local/lib/python3.7/dist-packages (from pandas>=1.0.4->fbprophet) (2018.9)\n",
            "Requirement already satisfied: cycler>=0.10 in /usr/local/lib/python3.7/dist-packages (from matplotlib>=2.0.0->fbprophet) (0.10.0)\n",
            "Requirement already satisfied: pyparsing!=2.0.4,!=2.1.2,!=2.1.6,>=2.0.1 in /usr/local/lib/python3.7/dist-packages (from matplotlib>=2.0.0->fbprophet) (2.4.7)\n",
            "Requirement already satisfied: kiwisolver>=1.0.1 in /usr/local/lib/python3.7/dist-packages (from matplotlib>=2.0.0->fbprophet) (1.3.1)\n",
            "Requirement already satisfied: ephem>=3.7.5.3 in /usr/local/lib/python3.7/dist-packages (from LunarCalendar>=0.0.9->fbprophet) (3.7.7.1)\n",
            "Requirement already satisfied: pymeeus!=0.3.8,<=1,>=0.3.6 in /usr/local/lib/python3.7/dist-packages (from convertdate>=2.1.2->fbprophet) (0.5.9)\n",
            "Requirement already satisfied: six in /usr/local/lib/python3.7/dist-packages (from holidays>=0.10.2->fbprophet) (1.15.0)\n",
            "Requirement already satisfied: hijri-converter in /usr/local/lib/python3.7/dist-packages (from holidays>=0.10.2->fbprophet) (2.1.1)\n",
            "Requirement already satisfied: korean-lunar-calendar in /usr/local/lib/python3.7/dist-packages (from holidays>=0.10.2->fbprophet) (0.2.1)\n",
            "[nltk_data] Downloading package punkt to /root/nltk_data...\n",
            "[nltk_data]   Unzipping tokenizers/punkt.zip.\n",
            "[nltk_data] Downloading package stopwords to /root/nltk_data...\n",
            "[nltk_data]   Unzipping corpora/stopwords.zip.\n"
          ],
          "name": "stdout"
        }
      ]
    },
    {
      "cell_type": "code",
      "metadata": {
        "id": "15X80S8nxj4W",
        "colab": {
          "base_uri": "https://localhost:8080/"
        },
        "outputId": "ce3a4a91-f5f1-4b7c-b0ec-628e889a589c"
      },
      "source": [
        "drive.mount('/content/drive')"
      ],
      "execution_count": 2,
      "outputs": [
        {
          "output_type": "stream",
          "text": [
            "Mounted at /content/drive\n"
          ],
          "name": "stdout"
        }
      ]
    },
    {
      "cell_type": "markdown",
      "metadata": {
        "id": "nyYn4S-uXjdS"
      },
      "source": [
        "Data: -\n",
        "1. News Headlines (DataFrame -> combined_df)\n",
        "    \n",
        "    Scrapped from https://www.investing.com/equities/google-inc-c-news\n",
        "2. Historical data (DataFrame -> historical_df)\n",
        "    \n",
        "    Downloaded from https://in.finance.yahoo.com/quote/GOOG/history?p=GOOG"
      ]
    },
    {
      "cell_type": "code",
      "metadata": {
        "id": "2HgGuTIcJuwv",
        "colab": {
          "base_uri": "https://localhost:8080/",
          "height": 196
        },
        "outputId": "ac2c9ca0-6496-48f1-db48-6adcbcad14f4"
      },
      "source": [
        "data = pd.read_csv(\"/content/drive/MyDrive/Tech_Tailored/final_goog_headlines.csv\")\n",
        "data.drop(columns=['Unnamed: 0'], inplace= True)\n",
        "data.rename(columns={'Published_on':'Date'}, inplace=True)\n",
        "data.Date = data.Date.astype('datetime64[ns]')\n",
        "data.head()"
      ],
      "execution_count": 3,
      "outputs": [
        {
          "output_type": "execute_result",
          "data": {
            "text/html": [
              "<div>\n",
              "<style scoped>\n",
              "    .dataframe tbody tr th:only-of-type {\n",
              "        vertical-align: middle;\n",
              "    }\n",
              "\n",
              "    .dataframe tbody tr th {\n",
              "        vertical-align: top;\n",
              "    }\n",
              "\n",
              "    .dataframe thead th {\n",
              "        text-align: right;\n",
              "    }\n",
              "</style>\n",
              "<table border=\"1\" class=\"dataframe\">\n",
              "  <thead>\n",
              "    <tr style=\"text-align: right;\">\n",
              "      <th></th>\n",
              "      <th>Headlines</th>\n",
              "      <th>Date</th>\n",
              "    </tr>\n",
              "  </thead>\n",
              "  <tbody>\n",
              "    <tr>\n",
              "      <th>0</th>\n",
              "      <td>Exclusive: U.S. agency probes Facebook for 'sy...</td>\n",
              "      <td>2021-03-06</td>\n",
              "    </tr>\n",
              "    <tr>\n",
              "      <th>1</th>\n",
              "      <td>Biden adds Big Tech critic Tim Wu to his econo...</td>\n",
              "      <td>2021-03-06</td>\n",
              "    </tr>\n",
              "    <tr>\n",
              "      <th>2</th>\n",
              "      <td>Hackers target Williams F1 livery launch on AR...</td>\n",
              "      <td>2021-03-06</td>\n",
              "    </tr>\n",
              "    <tr>\n",
              "      <th>3</th>\n",
              "      <td>Watch Amazon, Facebook, Google as White House ...</td>\n",
              "      <td>2021-03-06</td>\n",
              "    </tr>\n",
              "    <tr>\n",
              "      <th>4</th>\n",
              "      <td>The Trade Desk stock drops 20% in two days aft...</td>\n",
              "      <td>2021-03-06</td>\n",
              "    </tr>\n",
              "  </tbody>\n",
              "</table>\n",
              "</div>"
            ],
            "text/plain": [
              "                                           Headlines       Date\n",
              "0  Exclusive: U.S. agency probes Facebook for 'sy... 2021-03-06\n",
              "1  Biden adds Big Tech critic Tim Wu to his econo... 2021-03-06\n",
              "2  Hackers target Williams F1 livery launch on AR... 2021-03-06\n",
              "3  Watch Amazon, Facebook, Google as White House ... 2021-03-06\n",
              "4  The Trade Desk stock drops 20% in two days aft... 2021-03-06"
            ]
          },
          "metadata": {
            "tags": []
          },
          "execution_count": 3
        }
      ]
    },
    {
      "cell_type": "markdown",
      "metadata": {
        "id": "ZzwQqdWf2S6K"
      },
      "source": [
        "Concatenating all the headlines for all the unique dates"
      ]
    },
    {
      "cell_type": "code",
      "metadata": {
        "id": "hDP_6v3RJ4Uq",
        "colab": {
          "base_uri": "https://localhost:8080/"
        },
        "outputId": "5ed329fe-2c56-46fa-aefb-85ad93d999e8"
      },
      "source": [
        "combined_df = data.groupby(['Date'])['Headlines'].apply(', '.join).reset_index()\n",
        "print(combined_df,type(combined_df))"
      ],
      "execution_count": 4,
      "outputs": [
        {
          "output_type": "stream",
          "text": [
            "          Date                                          Headlines\n",
            "0   2018-11-20  Wall Street tumbles as Apple, internet stocks ...\n",
            "1   2018-11-23  Exclusive: Logitech in talks to acquire headph...\n",
            "2   2018-11-28  Google workers demand end to censored Chinese ...\n",
            "3   2018-11-29  Indonesia's Go-Jek starts trial launch in Sing...\n",
            "4   2018-11-30  White House to hold roundtable with tech execu...\n",
            "..         ...                                                ...\n",
            "363 2021-03-01  Coinbase and Roblox take a page from Google, k...\n",
            "364 2021-03-02  Dow Racks Up Triple-Digit Gains as Bulls Raise...\n",
            "365 2021-03-03  S&P 500 Slips on Tech Tumble After Monday's Ra...\n",
            "366 2021-03-04  2021 Healthcare Reputation Report Correlates S...\n",
            "367 2021-03-06  Exclusive: U.S. agency probes Facebook for 'sy...\n",
            "\n",
            "[368 rows x 2 columns] <class 'pandas.core.frame.DataFrame'>\n"
          ],
          "name": "stdout"
        }
      ]
    },
    {
      "cell_type": "markdown",
      "metadata": {
        "id": "_kVD7S6MalIc"
      },
      "source": [
        "### Sentiment Analysis"
      ]
    },
    {
      "cell_type": "markdown",
      "metadata": {
        "id": "zVAjEuNRYDbu"
      },
      "source": [
        "Text Cleaning "
      ]
    },
    {
      "cell_type": "code",
      "metadata": {
        "id": "R9khNkEAJKne"
      },
      "source": [
        "# cleaning text\n",
        "combined_df['Headlines'] = combined_df['Headlines'].apply(lambda x: x.lower())\n",
        "\n",
        "# set of special characters\n",
        "exclude = set(string.punctuation)\n",
        "combined_df['Headlines'] = combined_df['Headlines'].apply(lambda x: ''.join(ch for ch in x if ch not in exclude))\n",
        "\n",
        "# removing the digits from the text\n",
        "#remove_digits = str.maketrans('', '', digits)\n",
        "#data['Headlines'] = data['Headlines'].apply(lambda x: x.translate(remove_digits))"
      ],
      "execution_count": 5,
      "outputs": []
    },
    {
      "cell_type": "markdown",
      "metadata": {
        "id": "Xc2eqif9YKpe"
      },
      "source": [
        "Tokenizing & Stopwords removal"
      ]
    },
    {
      "cell_type": "code",
      "metadata": {
        "id": "WxdOQkqbJKng"
      },
      "source": [
        "# tokenizing the words in a text\n",
        "combined_df['Headlines'] = combined_df['Headlines'].apply(lambda x: word_tokenize(x))\n",
        "combined_df['Headlines'].head(2)\n",
        "\n",
        "# removing stopwords\n",
        "stop = stopwords.words('english')\n",
        "combined_df['Headlines'] = combined_df['Headlines'].apply(lambda x: ' '.join(ch for ch in x if ch not in stop))"
      ],
      "execution_count": 6,
      "outputs": []
    },
    {
      "cell_type": "markdown",
      "metadata": {
        "id": "HBw2buq4YaT0"
      },
      "source": [
        "Assigning Sentiment Score to headlines"
      ]
    },
    {
      "cell_type": "code",
      "metadata": {
        "id": "85K3aYtvJKnt",
        "colab": {
          "base_uri": "https://localhost:8080/"
        },
        "outputId": "f96a463a-62f7-4e65-d42a-65de18b444cf"
      },
      "source": [
        "# calculating the sentiment scores for each headlines\n",
        "\n",
        "def get_news_sentiment(text):\n",
        "    analysis = TextBlob(text)\n",
        "    if analysis.sentiment.polarity > 0:\n",
        "        return 'positive'\n",
        "    elif analysis.sentiment.polarity == 0:\n",
        "        return 'neutral'\n",
        "    else:\n",
        "        return 'negative'\n",
        "\n",
        "data1 = combined_df['Headlines'].apply(lambda x: get_news_sentiment(''.join(x)))\n",
        "data1.head(10)"
      ],
      "execution_count": 7,
      "outputs": [
        {
          "output_type": "execute_result",
          "data": {
            "text/plain": [
              "0    negative\n",
              "1    negative\n",
              "2    positive\n",
              "3    positive\n",
              "4    positive\n",
              "5    positive\n",
              "6    positive\n",
              "7    positive\n",
              "8    negative\n",
              "9    negative\n",
              "Name: Headlines, dtype: object"
            ]
          },
          "metadata": {
            "tags": []
          },
          "execution_count": 7
        }
      ]
    },
    {
      "cell_type": "code",
      "metadata": {
        "id": "KgUPIXthJKnv"
      },
      "source": [
        "combined_df['Sentiment_score'] = data1\n",
        "combined_df['Sentiment_score'].replace('positive', 1, inplace = True) #label 1 to positive \n",
        "combined_df['Sentiment_score'].replace('neutral', 0, inplace = True) # label 0 to neutral\n",
        "combined_df['Sentiment_score'].replace('negative', -1, inplace = True) # label -1 to negative"
      ],
      "execution_count": 8,
      "outputs": []
    },
    {
      "cell_type": "markdown",
      "metadata": {
        "id": "uXquVdN4YnfG"
      },
      "source": [
        "Assigning \n",
        "* Subjectivity\n",
        "* Polarity\n",
        "* Compund\n",
        "* Neutral\n",
        "* Positive\n",
        "* Negative Scores"
      ]
    },
    {
      "cell_type": "code",
      "metadata": {
        "id": "cYIUNcj-JKn0"
      },
      "source": [
        "def getSubjectivity(text):\n",
        "    return TextBlob(text).sentiment.subjectivity\n",
        "def getpolarity(text):\n",
        "    return TextBlob(text).sentiment.polarity"
      ],
      "execution_count": 9,
      "outputs": []
    },
    {
      "cell_type": "code",
      "metadata": {
        "id": "0HLYYWaaJKn1",
        "colab": {
          "base_uri": "https://localhost:8080/",
          "height": 107
        },
        "outputId": "8a0f5b86-f490-4ca2-b6e9-16eb1e1b4a0d"
      },
      "source": [
        "combined_df['Subjectivity']=combined_df['Headlines'].apply(getSubjectivity)\n",
        "combined_df['Polarity']=combined_df['Headlines'].apply(getpolarity)\n",
        "combined_df.head(2)"
      ],
      "execution_count": 10,
      "outputs": [
        {
          "output_type": "execute_result",
          "data": {
            "text/html": [
              "<div>\n",
              "<style scoped>\n",
              "    .dataframe tbody tr th:only-of-type {\n",
              "        vertical-align: middle;\n",
              "    }\n",
              "\n",
              "    .dataframe tbody tr th {\n",
              "        vertical-align: top;\n",
              "    }\n",
              "\n",
              "    .dataframe thead th {\n",
              "        text-align: right;\n",
              "    }\n",
              "</style>\n",
              "<table border=\"1\" class=\"dataframe\">\n",
              "  <thead>\n",
              "    <tr style=\"text-align: right;\">\n",
              "      <th></th>\n",
              "      <th>Date</th>\n",
              "      <th>Headlines</th>\n",
              "      <th>Sentiment_score</th>\n",
              "      <th>Subjectivity</th>\n",
              "      <th>Polarity</th>\n",
              "    </tr>\n",
              "  </thead>\n",
              "  <tbody>\n",
              "    <tr>\n",
              "      <th>0</th>\n",
              "      <td>2018-11-20</td>\n",
              "      <td>wall street tumbles apple internet stocks swoo...</td>\n",
              "      <td>-1</td>\n",
              "      <td>0.233333</td>\n",
              "      <td>-0.016667</td>\n",
              "    </tr>\n",
              "    <tr>\n",
              "      <th>1</th>\n",
              "      <td>2018-11-23</td>\n",
              "      <td>exclusive logitech talks acquire headphone mak...</td>\n",
              "      <td>-1</td>\n",
              "      <td>0.392235</td>\n",
              "      <td>-0.010038</td>\n",
              "    </tr>\n",
              "  </tbody>\n",
              "</table>\n",
              "</div>"
            ],
            "text/plain": [
              "        Date  ...  Polarity\n",
              "0 2018-11-20  ... -0.016667\n",
              "1 2018-11-23  ... -0.010038\n",
              "\n",
              "[2 rows x 5 columns]"
            ]
          },
          "metadata": {
            "tags": []
          },
          "execution_count": 10
        }
      ]
    },
    {
      "cell_type": "code",
      "metadata": {
        "id": "QmWn35veJKn4"
      },
      "source": [
        "#from nltk.sentiment.vader import SentimentIntensityAnalyzer as SIA\n",
        "from vaderSentiment.vaderSentiment import SentimentIntensityAnalyzer\n",
        "sia = SentimentIntensityAnalyzer()\n",
        "def getSIA(text):\n",
        "    sia=SentimentIntensityAnalyzer()\n",
        "    sentiment=sia.polarity_scores(text)\n",
        "    return sentiment"
      ],
      "execution_count": 11,
      "outputs": []
    },
    {
      "cell_type": "code",
      "metadata": {
        "id": "cyf2nHR8JKn5"
      },
      "source": [
        "compound=[]\n",
        "neg=[]\n",
        "pos=[]\n",
        "neu=[]\n",
        "SIA=[]\n",
        "for i in range(0,len(combined_df['Headlines'])):\n",
        "    SIA=getSIA(combined_df['Headlines'][i])\n",
        "    compound.append(SIA['compound'])\n",
        "    neg.append(SIA['neg'])\n",
        "    neu.append(SIA['neu'])\n",
        "    pos.append(SIA['pos'])\n",
        "\n",
        "combined_df['Compound']=compound\n",
        "combined_df['Negative']=neg\n",
        "combined_df['Neutral']=neu\n",
        "combined_df['Positive']=pos"
      ],
      "execution_count": 12,
      "outputs": []
    },
    {
      "cell_type": "code",
      "metadata": {
        "id": "e2Pb0gqYKwKp",
        "colab": {
          "base_uri": "https://localhost:8080/"
        },
        "outputId": "288248e2-ab9a-4541-9cc0-b40bf99431de"
      },
      "source": [
        "combined_df['Sentiment_score'].value_counts()"
      ],
      "execution_count": 13,
      "outputs": [
        {
          "output_type": "execute_result",
          "data": {
            "text/plain": [
              " 1    256\n",
              "-1    108\n",
              " 0      4\n",
              "Name: Sentiment_score, dtype: int64"
            ]
          },
          "metadata": {
            "tags": []
          },
          "execution_count": 13
        }
      ]
    },
    {
      "cell_type": "code",
      "metadata": {
        "id": "dyia0fW5JKn9",
        "colab": {
          "base_uri": "https://localhost:8080/",
          "height": 882
        },
        "outputId": "d6a199aa-c78f-470f-edaa-7e2ca07b0fce"
      },
      "source": [
        "import seaborn as sns\n",
        "from matplotlib import pyplot as plt\n",
        "sns.set()\n",
        "combined_df.hist(sharex = False, sharey = False, xlabelsize = 10, ylabelsize = 10, figsize=(15, 15))\n",
        "plt.show()\n"
      ],
      "execution_count": 14,
      "outputs": [
        {
          "output_type": "display_data",
          "data": {
            "image/png": "[encoded data removed]",
            "text/plain": [
              "<Figure size 1080x1080 with 9 Axes>"
            ]
          },
          "metadata": {
            "tags": []
          }
        }
      ]
    },
    {
      "cell_type": "code",
      "metadata": {
        "id": "icBjvMQdJKn_",
        "colab": {
          "base_uri": "https://localhost:8080/",
          "height": 292
        },
        "outputId": "9193c354-1ea6-49e4-cb34-41a0d371524f"
      },
      "source": [
        "plt.scatter(combined_df['Subjectivity'], combined_df['Sentiment_score'])\n",
        "plt.xlabel('Subjectivity')\n",
        "plt.ylabel('Stock Price Up or Down 0: Down, 1: Up')\n",
        "plt.show()\n"
      ],
      "execution_count": 15,
      "outputs": [
        {
          "output_type": "display_data",
          "data": {
            "image/png": "[encoded data removed]",
            "text/plain": [
              "<Figure size 432x288 with 1 Axes>"
            ]
          },
          "metadata": {
            "tags": []
          }
        }
      ]
    },
    {
      "cell_type": "code",
      "metadata": {
        "id": "krFx5bY2NdUY"
      },
      "source": [
        "historical_df = pd.read_csv('/content/drive/MyDrive/Tech_Tailored/goog_historical_data.csv')\n",
        "historical_df['Date'] = historical_df.Date.astype('datetime64[ns]')\n",
        "# historical_df.tail()"
      ],
      "execution_count": 16,
      "outputs": []
    },
    {
      "cell_type": "markdown",
      "metadata": {
        "id": "m634G50Tat9d"
      },
      "source": [
        "### Preparing data for forecasting"
      ]
    },
    {
      "cell_type": "markdown",
      "metadata": {
        "id": "XCzqy3B2ZV64"
      },
      "source": [
        "Merging Headlines data and Historical data for forecasting"
      ]
    },
    {
      "cell_type": "code",
      "metadata": {
        "id": "9Aj4vjA34rtn"
      },
      "source": [
        "merged_df = pd.merge(combined_df,historical_df, on='Date',how='right')\n",
        "merged_df.rename(columns={'Date':'ds', 'Close':'y'},inplace=True)\n",
        "merged_df.drop(columns=['Headlines'],inplace=True)\n",
        "# merged_df.head(2)"
      ],
      "execution_count": 17,
      "outputs": []
    },
    {
      "cell_type": "code",
      "metadata": {
        "id": "wpfQw5_nI6iP"
      },
      "source": [
        "# np.mean(merged_df.iloc[:,2:8])"
      ],
      "execution_count": 18,
      "outputs": []
    },
    {
      "cell_type": "markdown",
      "metadata": {
        "id": "cyakweM5Zwyj"
      },
      "source": [
        "Replacing NaN values with corresponding mean values of respective features"
      ]
    },
    {
      "cell_type": "code",
      "metadata": {
        "id": "OE12sXfFQhgF"
      },
      "source": [
        "merged_df.Subjectivity.fillna(np.mean(merged_df.Subjectivity),inplace=True)\n",
        "merged_df.Polarity.fillna(np.mean(merged_df.Polarity),inplace=True)\n",
        "merged_df.Compound.fillna(np.mean(merged_df.Compound),inplace=True)\n",
        "merged_df.Negative.fillna(np.mean(merged_df.Negative),inplace=True)\n",
        "merged_df.Neutral.fillna(np.mean(merged_df.Neutral),inplace=True)\n",
        "merged_df.Positive.fillna(np.mean(merged_df.Positive),inplace=True)\n",
        "merged_df.Sentiment_score.fillna(0,inplace=True)\n"
      ],
      "execution_count": 19,
      "outputs": []
    },
    {
      "cell_type": "code",
      "metadata": {
        "id": "YuFM_0DCTDl-",
        "colab": {
          "base_uri": "https://localhost:8080/",
          "height": 107
        },
        "outputId": "6d8c7242-fec4-4412-dea1-1c011c324e48"
      },
      "source": [
        "merged_df.head(2)"
      ],
      "execution_count": 20,
      "outputs": [
        {
          "output_type": "execute_result",
          "data": {
            "text/html": [
              "<div>\n",
              "<style scoped>\n",
              "    .dataframe tbody tr th:only-of-type {\n",
              "        vertical-align: middle;\n",
              "    }\n",
              "\n",
              "    .dataframe tbody tr th {\n",
              "        vertical-align: top;\n",
              "    }\n",
              "\n",
              "    .dataframe thead th {\n",
              "        text-align: right;\n",
              "    }\n",
              "</style>\n",
              "<table border=\"1\" class=\"dataframe\">\n",
              "  <thead>\n",
              "    <tr style=\"text-align: right;\">\n",
              "      <th></th>\n",
              "      <th>ds</th>\n",
              "      <th>Sentiment_score</th>\n",
              "      <th>Subjectivity</th>\n",
              "      <th>Polarity</th>\n",
              "      <th>Compound</th>\n",
              "      <th>Negative</th>\n",
              "      <th>Neutral</th>\n",
              "      <th>Positive</th>\n",
              "      <th>Open</th>\n",
              "      <th>High</th>\n",
              "      <th>Low</th>\n",
              "      <th>y</th>\n",
              "      <th>Adj Close</th>\n",
              "      <th>Volume</th>\n",
              "    </tr>\n",
              "  </thead>\n",
              "  <tbody>\n",
              "    <tr>\n",
              "      <th>0</th>\n",
              "      <td>2018-11-20</td>\n",
              "      <td>-1.0</td>\n",
              "      <td>0.233333</td>\n",
              "      <td>-0.016667</td>\n",
              "      <td>0.051600</td>\n",
              "      <td>0.062000</td>\n",
              "      <td>0.862000</td>\n",
              "      <td>0.076000</td>\n",
              "      <td>1000.00000</td>\n",
              "      <td>1031.739990</td>\n",
              "      <td>996.020020</td>\n",
              "      <td>1025.760010</td>\n",
              "      <td>1025.760010</td>\n",
              "      <td>2449100</td>\n",
              "    </tr>\n",
              "    <tr>\n",
              "      <th>1</th>\n",
              "      <td>2018-11-21</td>\n",
              "      <td>0.0</td>\n",
              "      <td>0.339298</td>\n",
              "      <td>0.058482</td>\n",
              "      <td>0.031459</td>\n",
              "      <td>0.105877</td>\n",
              "      <td>0.778754</td>\n",
              "      <td>0.115392</td>\n",
              "      <td>1036.76001</td>\n",
              "      <td>1048.560059</td>\n",
              "      <td>1033.469971</td>\n",
              "      <td>1037.609985</td>\n",
              "      <td>1037.609985</td>\n",
              "      <td>1534300</td>\n",
              "    </tr>\n",
              "  </tbody>\n",
              "</table>\n",
              "</div>"
            ],
            "text/plain": [
              "          ds  Sentiment_score  Subjectivity  ...            y    Adj Close   Volume\n",
              "0 2018-11-20             -1.0      0.233333  ...  1025.760010  1025.760010  2449100\n",
              "1 2018-11-21              0.0      0.339298  ...  1037.609985  1037.609985  1534300\n",
              "\n",
              "[2 rows x 14 columns]"
            ]
          },
          "metadata": {
            "tags": []
          },
          "execution_count": 20
        }
      ]
    },
    {
      "cell_type": "code",
      "metadata": {
        "id": "YjptDWrRGJ0V",
        "colab": {
          "base_uri": "https://localhost:8080/"
        },
        "outputId": "7f0c05b8-e40f-4888-c957-e0f36e8406bc"
      },
      "source": [
        "merged_df.corr()['y']"
      ],
      "execution_count": 21,
      "outputs": [
        {
          "output_type": "execute_result",
          "data": {
            "text/plain": [
              "Sentiment_score    0.122483\n",
              "Subjectivity      -0.021340\n",
              "Polarity           0.053012\n",
              "Compound           0.056705\n",
              "Negative          -0.081289\n",
              "Neutral            0.085981\n",
              "Positive          -0.014787\n",
              "Open               0.997268\n",
              "High               0.998633\n",
              "Low                0.998665\n",
              "y                  1.000000\n",
              "Adj Close          1.000000\n",
              "Volume            -0.031807\n",
              "Name: y, dtype: float64"
            ]
          },
          "metadata": {
            "tags": []
          },
          "execution_count": 21
        }
      ]
    },
    {
      "cell_type": "code",
      "metadata": {
        "id": "wOZs3HZIIPGt",
        "colab": {
          "base_uri": "https://localhost:8080/",
          "height": 611
        },
        "outputId": "cf43d4c6-d48e-48e3-bb87-1e42bcdcca4d"
      },
      "source": [
        "merged_df.y.plot(figsize = (10,10))"
      ],
      "execution_count": 22,
      "outputs": [
        {
          "output_type": "execute_result",
          "data": {
            "text/plain": [
              "<matplotlib.axes._subplots.AxesSubplot at 0x7f496560c590>"
            ]
          },
          "metadata": {
            "tags": []
          },
          "execution_count": 22
        },
        {
          "output_type": "display_data",
          "data": {
            "image/png": "[encoded data removed]",
            "text/plain": [
              "<Figure size 720x720 with 1 Axes>"
            ]
          },
          "metadata": {
            "tags": []
          }
        }
      ]
    },
    {
      "cell_type": "code",
      "metadata": {
        "id": "qrVlAkhsSah-",
        "colab": {
          "base_uri": "https://localhost:8080/",
          "height": 196
        },
        "outputId": "849015f0-5e0d-42d8-b10e-1f0629ab2a67"
      },
      "source": [
        "df = merged_df[['ds', 'y']]\n",
        "df.head()"
      ],
      "execution_count": 23,
      "outputs": [
        {
          "output_type": "execute_result",
          "data": {
            "text/html": [
              "<div>\n",
              "<style scoped>\n",
              "    .dataframe tbody tr th:only-of-type {\n",
              "        vertical-align: middle;\n",
              "    }\n",
              "\n",
              "    .dataframe tbody tr th {\n",
              "        vertical-align: top;\n",
              "    }\n",
              "\n",
              "    .dataframe thead th {\n",
              "        text-align: right;\n",
              "    }\n",
              "</style>\n",
              "<table border=\"1\" class=\"dataframe\">\n",
              "  <thead>\n",
              "    <tr style=\"text-align: right;\">\n",
              "      <th></th>\n",
              "      <th>ds</th>\n",
              "      <th>y</th>\n",
              "    </tr>\n",
              "  </thead>\n",
              "  <tbody>\n",
              "    <tr>\n",
              "      <th>0</th>\n",
              "      <td>2018-11-20</td>\n",
              "      <td>1025.760010</td>\n",
              "    </tr>\n",
              "    <tr>\n",
              "      <th>1</th>\n",
              "      <td>2018-11-21</td>\n",
              "      <td>1037.609985</td>\n",
              "    </tr>\n",
              "    <tr>\n",
              "      <th>2</th>\n",
              "      <td>2018-11-23</td>\n",
              "      <td>1023.880005</td>\n",
              "    </tr>\n",
              "    <tr>\n",
              "      <th>3</th>\n",
              "      <td>2018-11-26</td>\n",
              "      <td>1048.619995</td>\n",
              "    </tr>\n",
              "    <tr>\n",
              "      <th>4</th>\n",
              "      <td>2018-11-27</td>\n",
              "      <td>1044.410034</td>\n",
              "    </tr>\n",
              "  </tbody>\n",
              "</table>\n",
              "</div>"
            ],
            "text/plain": [
              "          ds            y\n",
              "0 2018-11-20  1025.760010\n",
              "1 2018-11-21  1037.609985\n",
              "2 2018-11-23  1023.880005\n",
              "3 2018-11-26  1048.619995\n",
              "4 2018-11-27  1044.410034"
            ]
          },
          "metadata": {
            "tags": []
          },
          "execution_count": 23
        }
      ]
    },
    {
      "cell_type": "markdown",
      "metadata": {
        "id": "nadaBdf7aJ8G"
      },
      "source": [
        "## Stocks forecasting Using FbProphet model"
      ]
    },
    {
      "cell_type": "markdown",
      "metadata": {
        "id": "XuA76i_yiFeU"
      },
      "source": [
        "**I** . Only ***Close***"
      ]
    },
    {
      "cell_type": "code",
      "metadata": {
        "id": "re1nDP6mSMHf",
        "colab": {
          "base_uri": "https://localhost:8080/"
        },
        "outputId": "9cd47129-f62d-4fa5-eb91-c99c6771ac64"
      },
      "source": [
        "m = Prophet(changepoint_prior_scale=4,changepoint_range=1,n_changepoints=250,holidays_prior_scale=20,)\n",
        "m.fit(df)"
      ],
      "execution_count": 24,
      "outputs": [
        {
          "output_type": "stream",
          "text": [
            "INFO:numexpr.utils:NumExpr defaulting to 2 threads.\n",
            "INFO:fbprophet:Disabling daily seasonality. Run prophet with daily_seasonality=True to override this.\n"
          ],
          "name": "stderr"
        },
        {
          "output_type": "execute_result",
          "data": {
            "text/plain": [
              "<fbprophet.forecaster.Prophet at 0x7f496558c5d0>"
            ]
          },
          "metadata": {
            "tags": []
          },
          "execution_count": 24
        }
      ]
    },
    {
      "cell_type": "code",
      "metadata": {
        "id": "Ojl7wQN6S3Wt",
        "colab": {
          "base_uri": "https://localhost:8080/",
          "height": 453
        },
        "outputId": "370af2d9-54e6-4d00-f592-471fff3d44ab"
      },
      "source": [
        "future = m.make_future_dataframe(periods=30)\n",
        "predictions=m.predict(future)\n",
        "m.plot(predictions)\n",
        "plt.title(\"Prediction of GOOGLE Stock Price\")\n",
        "plt.xlabel(\"Date\")\n",
        "plt.ylabel(\"Closing Stock Price\")\n",
        "plt.show()"
      ],
      "execution_count": 25,
      "outputs": [
        {
          "output_type": "display_data",
          "data": {
            "image/png": "[encoded data removed]",
            "text/plain": [
              "<Figure size 720x432 with 1 Axes>"
            ]
          },
          "metadata": {
            "tags": []
          }
        }
      ]
    },
    {
      "cell_type": "code",
      "metadata": {
        "id": "943mgNLnS641",
        "colab": {
          "base_uri": "https://localhost:8080/",
          "height": 404
        },
        "outputId": "3d4deb0f-ac3f-464d-fb23-af43747ca8d2"
      },
      "source": [
        "results_df01 = pd.DataFrame({\"ds\":future.ds.iloc[:575],\"Close\":merged_df.y.iloc[:575], \n",
        "                             \"Predicted\":predictions.yhat.iloc[:575]})\n",
        "results_df01"
      ],
      "execution_count": 26,
      "outputs": [
        {
          "output_type": "execute_result",
          "data": {
            "text/html": [
              "<div>\n",
              "<style scoped>\n",
              "    .dataframe tbody tr th:only-of-type {\n",
              "        vertical-align: middle;\n",
              "    }\n",
              "\n",
              "    .dataframe tbody tr th {\n",
              "        vertical-align: top;\n",
              "    }\n",
              "\n",
              "    .dataframe thead th {\n",
              "        text-align: right;\n",
              "    }\n",
              "</style>\n",
              "<table border=\"1\" class=\"dataframe\">\n",
              "  <thead>\n",
              "    <tr style=\"text-align: right;\">\n",
              "      <th></th>\n",
              "      <th>ds</th>\n",
              "      <th>Close</th>\n",
              "      <th>Predicted</th>\n",
              "    </tr>\n",
              "  </thead>\n",
              "  <tbody>\n",
              "    <tr>\n",
              "      <th>0</th>\n",
              "      <td>2018-11-20</td>\n",
              "      <td>1025.760010</td>\n",
              "      <td>1015.376729</td>\n",
              "    </tr>\n",
              "    <tr>\n",
              "      <th>1</th>\n",
              "      <td>2018-11-21</td>\n",
              "      <td>1037.609985</td>\n",
              "      <td>1026.840296</td>\n",
              "    </tr>\n",
              "    <tr>\n",
              "      <th>2</th>\n",
              "      <td>2018-11-23</td>\n",
              "      <td>1023.880005</td>\n",
              "      <td>1040.509886</td>\n",
              "    </tr>\n",
              "    <tr>\n",
              "      <th>3</th>\n",
              "      <td>2018-11-26</td>\n",
              "      <td>1048.619995</td>\n",
              "      <td>1057.233874</td>\n",
              "    </tr>\n",
              "    <tr>\n",
              "      <th>4</th>\n",
              "      <td>2018-11-27</td>\n",
              "      <td>1044.410034</td>\n",
              "      <td>1064.240450</td>\n",
              "    </tr>\n",
              "    <tr>\n",
              "      <th>...</th>\n",
              "      <td>...</td>\n",
              "      <td>...</td>\n",
              "      <td>...</td>\n",
              "    </tr>\n",
              "    <tr>\n",
              "      <th>570</th>\n",
              "      <td>2021-03-01</td>\n",
              "      <td>2081.510010</td>\n",
              "      <td>2060.219420</td>\n",
              "    </tr>\n",
              "    <tr>\n",
              "      <th>571</th>\n",
              "      <td>2021-03-02</td>\n",
              "      <td>2075.840088</td>\n",
              "      <td>2061.133130</td>\n",
              "    </tr>\n",
              "    <tr>\n",
              "      <th>572</th>\n",
              "      <td>2021-03-03</td>\n",
              "      <td>2026.709961</td>\n",
              "      <td>2064.700901</td>\n",
              "    </tr>\n",
              "    <tr>\n",
              "      <th>573</th>\n",
              "      <td>2021-03-04</td>\n",
              "      <td>2049.090088</td>\n",
              "      <td>2064.819415</td>\n",
              "    </tr>\n",
              "    <tr>\n",
              "      <th>574</th>\n",
              "      <td>2021-03-05</td>\n",
              "      <td>2108.540039</td>\n",
              "      <td>2065.378614</td>\n",
              "    </tr>\n",
              "  </tbody>\n",
              "</table>\n",
              "<p>575 rows × 3 columns</p>\n",
              "</div>"
            ],
            "text/plain": [
              "            ds        Close    Predicted\n",
              "0   2018-11-20  1025.760010  1015.376729\n",
              "1   2018-11-21  1037.609985  1026.840296\n",
              "2   2018-11-23  1023.880005  1040.509886\n",
              "3   2018-11-26  1048.619995  1057.233874\n",
              "4   2018-11-27  1044.410034  1064.240450\n",
              "..         ...          ...          ...\n",
              "570 2021-03-01  2081.510010  2060.219420\n",
              "571 2021-03-02  2075.840088  2061.133130\n",
              "572 2021-03-03  2026.709961  2064.700901\n",
              "573 2021-03-04  2049.090088  2064.819415\n",
              "574 2021-03-05  2108.540039  2065.378614\n",
              "\n",
              "[575 rows x 3 columns]"
            ]
          },
          "metadata": {
            "tags": []
          },
          "execution_count": 26
        }
      ]
    },
    {
      "cell_type": "code",
      "metadata": {
        "id": "ZvHtH7maQOtn",
        "colab": {
          "base_uri": "https://localhost:8080/"
        },
        "outputId": "3314cd7f-7922-4828-a0e5-937ef65e7a06"
      },
      "source": [
        "y_true, y_pred = np.array(results_df01.Close), np.array(results_df01.Predicted)\n",
        "print(np.mean(np.abs((y_true - y_pred) / y_true)) * 100)"
      ],
      "execution_count": 27,
      "outputs": [
        {
          "output_type": "stream",
          "text": [
            "1.1382039131737811\n"
          ],
          "name": "stdout"
        }
      ]
    },
    {
      "cell_type": "markdown",
      "metadata": {
        "id": "VUNf8AHu2cSJ"
      },
      "source": [
        "**----------------------------------------------------------------------------**"
      ]
    },
    {
      "cell_type": "markdown",
      "metadata": {
        "id": "p9cucOBzhkfd"
      },
      "source": [
        "**II**. With all ***news sentiment fearures*** and ***historical features***"
      ]
    },
    {
      "cell_type": "markdown",
      "metadata": {
        "id": "U1LyMjVHuCYr"
      },
      "source": [
        "Creating two new features namely:\n",
        "1. New year\n",
        "2. New month"
      ]
    },
    {
      "cell_type": "code",
      "metadata": {
        "id": "4QcliT9qHuMe"
      },
      "source": [
        "New_month=[]\n",
        "for i in pd.DatetimeIndex(merged_df.ds).day:\n",
        "  if(i>5):\n",
        "    New_month.append(0)\n",
        "  else:\n",
        "    New_month.append(1)"
      ],
      "execution_count": 28,
      "outputs": []
    },
    {
      "cell_type": "code",
      "metadata": {
        "id": "EVOSVycoHvtB"
      },
      "source": [
        "New_year=[]\n",
        "for i,j in zip(pd.DatetimeIndex(merged_df.ds).day,pd.DatetimeIndex(merged_df.ds).month):\n",
        "  if(i==31 and j==12):\n",
        "    New_year.append(1)\n",
        "    \n",
        "  elif(i>=1and i<5 and j==1):\n",
        "    New_year.append(1)\n",
        "\n",
        "  else:\n",
        "    New_year.append(0)"
      ],
      "execution_count": 29,
      "outputs": []
    },
    {
      "cell_type": "code",
      "metadata": {
        "id": "n7yCnb_bHxHn",
        "colab": {
          "base_uri": "https://localhost:8080/",
          "height": 160
        },
        "outputId": "2b5166ab-192c-4917-95e5-836dc222dde7"
      },
      "source": [
        "merged_df['New_year'] = New_year\n",
        "merged_df['New_month'] = New_month\n",
        "merged_df.tail(2)\n"
      ],
      "execution_count": 30,
      "outputs": [
        {
          "output_type": "execute_result",
          "data": {
            "text/html": [
              "<div>\n",
              "<style scoped>\n",
              "    .dataframe tbody tr th:only-of-type {\n",
              "        vertical-align: middle;\n",
              "    }\n",
              "\n",
              "    .dataframe tbody tr th {\n",
              "        vertical-align: top;\n",
              "    }\n",
              "\n",
              "    .dataframe thead th {\n",
              "        text-align: right;\n",
              "    }\n",
              "</style>\n",
              "<table border=\"1\" class=\"dataframe\">\n",
              "  <thead>\n",
              "    <tr style=\"text-align: right;\">\n",
              "      <th></th>\n",
              "      <th>ds</th>\n",
              "      <th>Sentiment_score</th>\n",
              "      <th>Subjectivity</th>\n",
              "      <th>Polarity</th>\n",
              "      <th>Compound</th>\n",
              "      <th>Negative</th>\n",
              "      <th>Neutral</th>\n",
              "      <th>Positive</th>\n",
              "      <th>Open</th>\n",
              "      <th>High</th>\n",
              "      <th>Low</th>\n",
              "      <th>y</th>\n",
              "      <th>Adj Close</th>\n",
              "      <th>Volume</th>\n",
              "      <th>New_year</th>\n",
              "      <th>New_month</th>\n",
              "    </tr>\n",
              "  </thead>\n",
              "  <tbody>\n",
              "    <tr>\n",
              "      <th>573</th>\n",
              "      <td>2021-03-04</td>\n",
              "      <td>1.0</td>\n",
              "      <td>0.588788</td>\n",
              "      <td>0.301970</td>\n",
              "      <td>0.458800</td>\n",
              "      <td>0.057000</td>\n",
              "      <td>0.856000</td>\n",
              "      <td>0.088000</td>\n",
              "      <td>2023.369995</td>\n",
              "      <td>2089.239990</td>\n",
              "      <td>2020.270020</td>\n",
              "      <td>2049.090088</td>\n",
              "      <td>2049.090088</td>\n",
              "      <td>2116100</td>\n",
              "      <td>0</td>\n",
              "      <td>1</td>\n",
              "    </tr>\n",
              "    <tr>\n",
              "      <th>574</th>\n",
              "      <td>2021-03-05</td>\n",
              "      <td>0.0</td>\n",
              "      <td>0.339298</td>\n",
              "      <td>0.058482</td>\n",
              "      <td>0.031459</td>\n",
              "      <td>0.105877</td>\n",
              "      <td>0.778754</td>\n",
              "      <td>0.115392</td>\n",
              "      <td>2073.120117</td>\n",
              "      <td>2118.110107</td>\n",
              "      <td>2046.415039</td>\n",
              "      <td>2108.540039</td>\n",
              "      <td>2108.540039</td>\n",
              "      <td>2193800</td>\n",
              "      <td>0</td>\n",
              "      <td>1</td>\n",
              "    </tr>\n",
              "  </tbody>\n",
              "</table>\n",
              "</div>"
            ],
            "text/plain": [
              "            ds  Sentiment_score  Subjectivity  ...   Volume  New_year  New_month\n",
              "573 2021-03-04              1.0      0.588788  ...  2116100         0          1\n",
              "574 2021-03-05              0.0      0.339298  ...  2193800         0          1\n",
              "\n",
              "[2 rows x 16 columns]"
            ]
          },
          "metadata": {
            "tags": []
          },
          "execution_count": 30
        }
      ]
    },
    {
      "cell_type": "code",
      "metadata": {
        "id": "u_0hxrAwWK8V"
      },
      "source": [
        "x_train = merged_df.iloc[:545]\n",
        "x_test= merged_df.iloc[545:576]"
      ],
      "execution_count": 31,
      "outputs": []
    },
    {
      "cell_type": "code",
      "metadata": {
        "id": "rRUhmEYTWm70"
      },
      "source": [
        "X = x_train[['ds','y','New_year','New_month','Positive','Neutral','Negative']]\n",
        "X_test = x_test[['y']]"
      ],
      "execution_count": 32,
      "outputs": []
    },
    {
      "cell_type": "code",
      "metadata": {
        "id": "95EhiUpcMNSX",
        "colab": {
          "base_uri": "https://localhost:8080/"
        },
        "outputId": "e7fdcfee-7e5c-42a5-e97f-6f6eacdc7a48"
      },
      "source": [
        "m=Prophet(changepoint_prior_scale=4,changepoint_range=1,n_changepoints=250)\n",
        "m.add_country_holidays(country_name='US')\n",
        "m.add_regressor('New_year')\n",
        "m.add_regressor('New_month')\n",
        "m.add_regressor('Positive')\n",
        "m.add_regressor('Negative')\n",
        "m.add_regressor('Neutral')"
      ],
      "execution_count": 33,
      "outputs": [
        {
          "output_type": "execute_result",
          "data": {
            "text/plain": [
              "<fbprophet.forecaster.Prophet at 0x7f4959809990>"
            ]
          },
          "metadata": {
            "tags": []
          },
          "execution_count": 33
        }
      ]
    },
    {
      "cell_type": "code",
      "metadata": {
        "id": "C3kJMPSTMZCg",
        "colab": {
          "base_uri": "https://localhost:8080/"
        },
        "outputId": "847dc2cc-a473-4fda-92ee-a87e334ed5aa"
      },
      "source": [
        "m.fit(X)"
      ],
      "execution_count": 34,
      "outputs": [
        {
          "output_type": "stream",
          "text": [
            "INFO:fbprophet:Disabling daily seasonality. Run prophet with daily_seasonality=True to override this.\n"
          ],
          "name": "stderr"
        },
        {
          "output_type": "execute_result",
          "data": {
            "text/plain": [
              "<fbprophet.forecaster.Prophet at 0x7f4959809990>"
            ]
          },
          "metadata": {
            "tags": []
          },
          "execution_count": 34
        }
      ]
    },
    {
      "cell_type": "code",
      "metadata": {
        "id": "8Zl_P_KJMbSg"
      },
      "source": [
        "future = m.make_future_dataframe(periods=30)\n",
        "results_df02 = pd.DataFrame({'ds':future['ds'],\n",
        "                           'New_year' : merged_df['New_year'].iloc[:575],\n",
        "                           'New_month' : merged_df['New_month'].iloc[:575],\n",
        "                           'Positive' : merged_df['Positive'].iloc[:575],\n",
        "                           'Negative' : merged_df['Negative'].iloc[:575],\n",
        "                           'Neutral': merged_df['Neutral'].iloc[:575]})"
      ],
      "execution_count": 35,
      "outputs": []
    },
    {
      "cell_type": "code",
      "metadata": {
        "id": "2Ap504n9ND8c",
        "colab": {
          "base_uri": "https://localhost:8080/",
          "height": 857
        },
        "outputId": "85556597-5247-456e-d07e-b30e22c8f2d0"
      },
      "source": [
        "forecast = m.predict(results_df02)\n",
        "m.plot(forecast)"
      ],
      "execution_count": 36,
      "outputs": [
        {
          "output_type": "execute_result",
          "data": {
            "image/png": "[encoded data removed]",
            "text/plain": [
              "<Figure size 720x432 with 1 Axes>"
            ]
          },
          "metadata": {
            "tags": []
          },
          "execution_count": 36
        },
        {
          "output_type": "display_data",
          "data": {
            "image/png": "[encoded data removed]",
            "text/plain": [
              "<Figure size 720x432 with 1 Axes>"
            ]
          },
          "metadata": {
            "tags": []
          }
        }
      ]
    },
    {
      "cell_type": "code",
      "metadata": {
        "id": "bgBZKVBE-rey"
      },
      "source": [
        "# fig = m.plot_components(forecast)"
      ],
      "execution_count": 37,
      "outputs": []
    },
    {
      "cell_type": "code",
      "metadata": {
        "id": "tuiokBOoNF0Z"
      },
      "source": [
        "pred = pd.DataFrame({'Close':x_test['y'],'Predicted':forecast['yhat'].iloc[545:575],\n",
        "                     'Yhat_upper':forecast['yhat_upper'].iloc[545:575],\n",
        "                     'Yhat_lower':forecast['yhat_lower'].iloc[545:575]})"
      ],
      "execution_count": 38,
      "outputs": []
    },
    {
      "cell_type": "code",
      "metadata": {
        "id": "nT38yIenNMu9",
        "colab": {
          "base_uri": "https://localhost:8080/",
          "height": 942
        },
        "outputId": "17c8988c-045e-47a2-99c8-3e720477e7d5"
      },
      "source": [
        "pred"
      ],
      "execution_count": 39,
      "outputs": [
        {
          "output_type": "execute_result",
          "data": {
            "text/html": [
              "<div>\n",
              "<style scoped>\n",
              "    .dataframe tbody tr th:only-of-type {\n",
              "        vertical-align: middle;\n",
              "    }\n",
              "\n",
              "    .dataframe tbody tr th {\n",
              "        vertical-align: top;\n",
              "    }\n",
              "\n",
              "    .dataframe thead th {\n",
              "        text-align: right;\n",
              "    }\n",
              "</style>\n",
              "<table border=\"1\" class=\"dataframe\">\n",
              "  <thead>\n",
              "    <tr style=\"text-align: right;\">\n",
              "      <th></th>\n",
              "      <th>Close</th>\n",
              "      <th>Predicted</th>\n",
              "      <th>Yhat_upper</th>\n",
              "      <th>Yhat_lower</th>\n",
              "    </tr>\n",
              "  </thead>\n",
              "  <tbody>\n",
              "    <tr>\n",
              "      <th>545</th>\n",
              "      <td>1901.050049</td>\n",
              "      <td>1863.648124</td>\n",
              "      <td>1890.173518</td>\n",
              "      <td>1839.091282</td>\n",
              "    </tr>\n",
              "    <tr>\n",
              "      <th>546</th>\n",
              "      <td>1899.400024</td>\n",
              "      <td>1861.289151</td>\n",
              "      <td>1888.596727</td>\n",
              "      <td>1835.487360</td>\n",
              "    </tr>\n",
              "    <tr>\n",
              "      <th>547</th>\n",
              "      <td>1917.239990</td>\n",
              "      <td>1872.864390</td>\n",
              "      <td>1901.113818</td>\n",
              "      <td>1845.282318</td>\n",
              "    </tr>\n",
              "    <tr>\n",
              "      <th>548</th>\n",
              "      <td>1830.790039</td>\n",
              "      <td>1902.765714</td>\n",
              "      <td>1929.603084</td>\n",
              "      <td>1876.871289</td>\n",
              "    </tr>\n",
              "    <tr>\n",
              "      <th>549</th>\n",
              "      <td>1863.109985</td>\n",
              "      <td>1910.784058</td>\n",
              "      <td>1940.685433</td>\n",
              "      <td>1885.834704</td>\n",
              "    </tr>\n",
              "    <tr>\n",
              "      <th>550</th>\n",
              "      <td>1835.739990</td>\n",
              "      <td>1927.989705</td>\n",
              "      <td>1958.597008</td>\n",
              "      <td>1900.891335</td>\n",
              "    </tr>\n",
              "    <tr>\n",
              "      <th>551</th>\n",
              "      <td>1901.349976</td>\n",
              "      <td>1943.659499</td>\n",
              "      <td>1973.309512</td>\n",
              "      <td>1915.509014</td>\n",
              "    </tr>\n",
              "    <tr>\n",
              "      <th>552</th>\n",
              "      <td>1927.510010</td>\n",
              "      <td>1955.429492</td>\n",
              "      <td>1988.148569</td>\n",
              "      <td>1925.761220</td>\n",
              "    </tr>\n",
              "    <tr>\n",
              "      <th>553</th>\n",
              "      <td>2070.070068</td>\n",
              "      <td>1953.288014</td>\n",
              "      <td>1986.601762</td>\n",
              "      <td>1921.592567</td>\n",
              "    </tr>\n",
              "    <tr>\n",
              "      <th>554</th>\n",
              "      <td>2062.370117</td>\n",
              "      <td>1957.357328</td>\n",
              "      <td>1992.668824</td>\n",
              "      <td>1928.534974</td>\n",
              "    </tr>\n",
              "    <tr>\n",
              "      <th>555</th>\n",
              "      <td>2098.000000</td>\n",
              "      <td>1991.881053</td>\n",
              "      <td>2029.152579</td>\n",
              "      <td>1955.305328</td>\n",
              "    </tr>\n",
              "    <tr>\n",
              "      <th>556</th>\n",
              "      <td>2092.909912</td>\n",
              "      <td>1997.521627</td>\n",
              "      <td>2038.901686</td>\n",
              "      <td>1962.741898</td>\n",
              "    </tr>\n",
              "    <tr>\n",
              "      <th>557</th>\n",
              "      <td>2083.510010</td>\n",
              "      <td>2017.957091</td>\n",
              "      <td>2059.369377</td>\n",
              "      <td>1978.325783</td>\n",
              "    </tr>\n",
              "    <tr>\n",
              "      <th>558</th>\n",
              "      <td>2095.379883</td>\n",
              "      <td>2033.786540</td>\n",
              "      <td>2081.555992</td>\n",
              "      <td>1991.311190</td>\n",
              "    </tr>\n",
              "    <tr>\n",
              "      <th>559</th>\n",
              "      <td>2095.889893</td>\n",
              "      <td>2036.721203</td>\n",
              "      <td>2088.169390</td>\n",
              "      <td>1989.644701</td>\n",
              "    </tr>\n",
              "    <tr>\n",
              "      <th>560</th>\n",
              "      <td>2104.110107</td>\n",
              "      <td>2036.926670</td>\n",
              "      <td>2091.428791</td>\n",
              "      <td>1989.014816</td>\n",
              "    </tr>\n",
              "    <tr>\n",
              "      <th>561</th>\n",
              "      <td>2121.899902</td>\n",
              "      <td>2041.304578</td>\n",
              "      <td>2101.954114</td>\n",
              "      <td>1990.205017</td>\n",
              "    </tr>\n",
              "    <tr>\n",
              "      <th>562</th>\n",
              "      <td>2128.310059</td>\n",
              "      <td>2071.289118</td>\n",
              "      <td>2129.162181</td>\n",
              "      <td>2015.516852</td>\n",
              "    </tr>\n",
              "    <tr>\n",
              "      <th>563</th>\n",
              "      <td>2117.199951</td>\n",
              "      <td>2082.366280</td>\n",
              "      <td>2148.503818</td>\n",
              "      <td>2023.555826</td>\n",
              "    </tr>\n",
              "    <tr>\n",
              "      <th>564</th>\n",
              "      <td>2101.139893</td>\n",
              "      <td>2098.786194</td>\n",
              "      <td>2173.532900</td>\n",
              "      <td>2033.838165</td>\n",
              "    </tr>\n",
              "    <tr>\n",
              "      <th>565</th>\n",
              "      <td>2064.879883</td>\n",
              "      <td>2108.054088</td>\n",
              "      <td>2183.577177</td>\n",
              "      <td>2039.485417</td>\n",
              "    </tr>\n",
              "    <tr>\n",
              "      <th>566</th>\n",
              "      <td>2070.860107</td>\n",
              "      <td>2122.067498</td>\n",
              "      <td>2204.862152</td>\n",
              "      <td>2046.346880</td>\n",
              "    </tr>\n",
              "    <tr>\n",
              "      <th>567</th>\n",
              "      <td>2095.169922</td>\n",
              "      <td>2111.531218</td>\n",
              "      <td>2198.277100</td>\n",
              "      <td>2031.310827</td>\n",
              "    </tr>\n",
              "    <tr>\n",
              "      <th>568</th>\n",
              "      <td>2031.359985</td>\n",
              "      <td>2126.725496</td>\n",
              "      <td>2220.534627</td>\n",
              "      <td>2040.973150</td>\n",
              "    </tr>\n",
              "    <tr>\n",
              "      <th>569</th>\n",
              "      <td>2036.859985</td>\n",
              "      <td>2148.160561</td>\n",
              "      <td>2251.945302</td>\n",
              "      <td>2057.091505</td>\n",
              "    </tr>\n",
              "    <tr>\n",
              "      <th>570</th>\n",
              "      <td>2081.510010</td>\n",
              "      <td>2163.764507</td>\n",
              "      <td>2270.015964</td>\n",
              "      <td>2068.890693</td>\n",
              "    </tr>\n",
              "    <tr>\n",
              "      <th>571</th>\n",
              "      <td>2075.840088</td>\n",
              "      <td>2176.857421</td>\n",
              "      <td>2293.091058</td>\n",
              "      <td>2077.426519</td>\n",
              "    </tr>\n",
              "    <tr>\n",
              "      <th>572</th>\n",
              "      <td>2026.709961</td>\n",
              "      <td>2183.088704</td>\n",
              "      <td>2302.546417</td>\n",
              "      <td>2081.916638</td>\n",
              "    </tr>\n",
              "    <tr>\n",
              "      <th>573</th>\n",
              "      <td>2049.090088</td>\n",
              "      <td>2196.442855</td>\n",
              "      <td>2330.150459</td>\n",
              "      <td>2083.333027</td>\n",
              "    </tr>\n",
              "    <tr>\n",
              "      <th>574</th>\n",
              "      <td>2108.540039</td>\n",
              "      <td>2179.026674</td>\n",
              "      <td>2308.113117</td>\n",
              "      <td>2066.816113</td>\n",
              "    </tr>\n",
              "  </tbody>\n",
              "</table>\n",
              "</div>"
            ],
            "text/plain": [
              "           Close    Predicted   Yhat_upper   Yhat_lower\n",
              "545  1901.050049  1863.648124  1890.173518  1839.091282\n",
              "546  1899.400024  1861.289151  1888.596727  1835.487360\n",
              "547  1917.239990  1872.864390  1901.113818  1845.282318\n",
              "548  1830.790039  1902.765714  1929.603084  1876.871289\n",
              "549  1863.109985  1910.784058  1940.685433  1885.834704\n",
              "550  1835.739990  1927.989705  1958.597008  1900.891335\n",
              "551  1901.349976  1943.659499  1973.309512  1915.509014\n",
              "552  1927.510010  1955.429492  1988.148569  1925.761220\n",
              "553  2070.070068  1953.288014  1986.601762  1921.592567\n",
              "554  2062.370117  1957.357328  1992.668824  1928.534974\n",
              "555  2098.000000  1991.881053  2029.152579  1955.305328\n",
              "556  2092.909912  1997.521627  2038.901686  1962.741898\n",
              "557  2083.510010  2017.957091  2059.369377  1978.325783\n",
              "558  2095.379883  2033.786540  2081.555992  1991.311190\n",
              "559  2095.889893  2036.721203  2088.169390  1989.644701\n",
              "560  2104.110107  2036.926670  2091.428791  1989.014816\n",
              "561  2121.899902  2041.304578  2101.954114  1990.205017\n",
              "562  2128.310059  2071.289118  2129.162181  2015.516852\n",
              "563  2117.199951  2082.366280  2148.503818  2023.555826\n",
              "564  2101.139893  2098.786194  2173.532900  2033.838165\n",
              "565  2064.879883  2108.054088  2183.577177  2039.485417\n",
              "566  2070.860107  2122.067498  2204.862152  2046.346880\n",
              "567  2095.169922  2111.531218  2198.277100  2031.310827\n",
              "568  2031.359985  2126.725496  2220.534627  2040.973150\n",
              "569  2036.859985  2148.160561  2251.945302  2057.091505\n",
              "570  2081.510010  2163.764507  2270.015964  2068.890693\n",
              "571  2075.840088  2176.857421  2293.091058  2077.426519\n",
              "572  2026.709961  2183.088704  2302.546417  2081.916638\n",
              "573  2049.090088  2196.442855  2330.150459  2083.333027\n",
              "574  2108.540039  2179.026674  2308.113117  2066.816113"
            ]
          },
          "metadata": {
            "tags": []
          },
          "execution_count": 39
        }
      ]
    },
    {
      "cell_type": "code",
      "metadata": {
        "id": "4mDCBvZENrfS",
        "colab": {
          "base_uri": "https://localhost:8080/"
        },
        "outputId": "a26ad264-27d6-4750-ae6d-45bd2614c22e"
      },
      "source": [
        "from sklearn.metrics import mean_squared_error\n",
        "import numpy as np\n",
        "error=np.sqrt(mean_squared_error(pred['Close'],pred['Predicted']))\n",
        "error"
      ],
      "execution_count": 40,
      "outputs": [
        {
          "output_type": "execute_result",
          "data": {
            "text/plain": [
              "79.53884891162198"
            ]
          },
          "metadata": {
            "tags": []
          },
          "execution_count": 40
        }
      ]
    },
    {
      "cell_type": "code",
      "metadata": {
        "id": "R7ciDHGOuG5k",
        "colab": {
          "base_uri": "https://localhost:8080/"
        },
        "outputId": "22073d9f-1edb-4206-d4b1-c096de70cbe0"
      },
      "source": [
        "y_true, y_pred = np.array(pred.Close), np.array(pred.Predicted)\n",
        "print(np.mean(np.abs((y_true - y_pred) / y_true)) * 100)"
      ],
      "execution_count": 41,
      "outputs": [
        {
          "output_type": "stream",
          "text": [
            "3.4911568837834723\n"
          ],
          "name": "stdout"
        }
      ]
    },
    {
      "cell_type": "markdown",
      "metadata": {
        "id": "_5y9vNw5iqao"
      },
      "source": [
        "**--------------------------------------------------------------------------------------------------------------------------------------------------**"
      ]
    },
    {
      "cell_type": "markdown",
      "metadata": {
        "id": "SZtuz3I12nUM"
      },
      "source": [
        "**II** . With ***Sentiment_Score,Subjectivity*** & ***Close***"
      ]
    },
    {
      "cell_type": "code",
      "metadata": {
        "id": "-ST3xdhN42Ki"
      },
      "source": [
        "X_train_02 = merged_df.iloc[:545]\n",
        "x_test_02 = merged_df.iloc[545:576]"
      ],
      "execution_count": 42,
      "outputs": []
    },
    {
      "cell_type": "code",
      "metadata": {
        "id": "PRrMw46g5kbR"
      },
      "source": [
        "X_02 = X_train_02[['ds','y','New_year','New_month','Sentiment_score','Subjectivity']]\n",
        "X_test_02 = x_test_02[['y']]"
      ],
      "execution_count": 43,
      "outputs": []
    },
    {
      "cell_type": "code",
      "metadata": {
        "id": "p6vA1kkRKlZG",
        "colab": {
          "base_uri": "https://localhost:8080/",
          "height": 196
        },
        "outputId": "cd1c223a-e6a0-45f2-cc2b-d90a5929d356"
      },
      "source": [
        "X_02.tail()"
      ],
      "execution_count": 44,
      "outputs": [
        {
          "output_type": "execute_result",
          "data": {
            "text/html": [
              "<div>\n",
              "<style scoped>\n",
              "    .dataframe tbody tr th:only-of-type {\n",
              "        vertical-align: middle;\n",
              "    }\n",
              "\n",
              "    .dataframe tbody tr th {\n",
              "        vertical-align: top;\n",
              "    }\n",
              "\n",
              "    .dataframe thead th {\n",
              "        text-align: right;\n",
              "    }\n",
              "</style>\n",
              "<table border=\"1\" class=\"dataframe\">\n",
              "  <thead>\n",
              "    <tr style=\"text-align: right;\">\n",
              "      <th></th>\n",
              "      <th>ds</th>\n",
              "      <th>y</th>\n",
              "      <th>New_year</th>\n",
              "      <th>New_month</th>\n",
              "      <th>Sentiment_score</th>\n",
              "      <th>Subjectivity</th>\n",
              "    </tr>\n",
              "  </thead>\n",
              "  <tbody>\n",
              "    <tr>\n",
              "      <th>540</th>\n",
              "      <td>2021-01-14</td>\n",
              "      <td>1740.180054</td>\n",
              "      <td>0</td>\n",
              "      <td>0</td>\n",
              "      <td>1.0</td>\n",
              "      <td>0.341667</td>\n",
              "    </tr>\n",
              "    <tr>\n",
              "      <th>541</th>\n",
              "      <td>2021-01-15</td>\n",
              "      <td>1736.189941</td>\n",
              "      <td>0</td>\n",
              "      <td>0</td>\n",
              "      <td>0.0</td>\n",
              "      <td>0.339298</td>\n",
              "    </tr>\n",
              "    <tr>\n",
              "      <th>542</th>\n",
              "      <td>2021-01-19</td>\n",
              "      <td>1790.859985</td>\n",
              "      <td>0</td>\n",
              "      <td>0</td>\n",
              "      <td>1.0</td>\n",
              "      <td>0.186869</td>\n",
              "    </tr>\n",
              "    <tr>\n",
              "      <th>543</th>\n",
              "      <td>2021-01-20</td>\n",
              "      <td>1886.900024</td>\n",
              "      <td>0</td>\n",
              "      <td>0</td>\n",
              "      <td>1.0</td>\n",
              "      <td>0.458788</td>\n",
              "    </tr>\n",
              "    <tr>\n",
              "      <th>544</th>\n",
              "      <td>2021-01-21</td>\n",
              "      <td>1891.250000</td>\n",
              "      <td>0</td>\n",
              "      <td>0</td>\n",
              "      <td>1.0</td>\n",
              "      <td>0.281818</td>\n",
              "    </tr>\n",
              "  </tbody>\n",
              "</table>\n",
              "</div>"
            ],
            "text/plain": [
              "            ds            y  New_year  New_month  Sentiment_score  Subjectivity\n",
              "540 2021-01-14  1740.180054         0          0              1.0      0.341667\n",
              "541 2021-01-15  1736.189941         0          0              0.0      0.339298\n",
              "542 2021-01-19  1790.859985         0          0              1.0      0.186869\n",
              "543 2021-01-20  1886.900024         0          0              1.0      0.458788\n",
              "544 2021-01-21  1891.250000         0          0              1.0      0.281818"
            ]
          },
          "metadata": {
            "tags": []
          },
          "execution_count": 44
        }
      ]
    },
    {
      "cell_type": "code",
      "metadata": {
        "id": "INMcqOdw5kbY",
        "colab": {
          "base_uri": "https://localhost:8080/"
        },
        "outputId": "6087284b-64c9-492b-8971-419b1810f9cd"
      },
      "source": [
        "m_02 = Prophet(changepoint_prior_scale=4,changepoint_range=1,n_changepoints=250)\n",
        "m_02.add_country_holidays(country_name='US')\n",
        "m_02.add_regressor('New_year')\n",
        "m_02.add_regressor('New_month')\n",
        "m_02.add_regressor('Sentiment_score')\n",
        "m_02.add_regressor('Subjectivity')"
      ],
      "execution_count": 45,
      "outputs": [
        {
          "output_type": "execute_result",
          "data": {
            "text/plain": [
              "<fbprophet.forecaster.Prophet at 0x7f4959654d90>"
            ]
          },
          "metadata": {
            "tags": []
          },
          "execution_count": 45
        }
      ]
    },
    {
      "cell_type": "code",
      "metadata": {
        "id": "IdznQ76-5kba",
        "colab": {
          "base_uri": "https://localhost:8080/"
        },
        "outputId": "a63fb3ee-7f5d-46b6-812c-18534727bda7"
      },
      "source": [
        "m_02.fit(X_02)"
      ],
      "execution_count": 46,
      "outputs": [
        {
          "output_type": "stream",
          "text": [
            "INFO:fbprophet:Disabling daily seasonality. Run prophet with daily_seasonality=True to override this.\n"
          ],
          "name": "stderr"
        },
        {
          "output_type": "execute_result",
          "data": {
            "text/plain": [
              "<fbprophet.forecaster.Prophet at 0x7f4959654d90>"
            ]
          },
          "metadata": {
            "tags": []
          },
          "execution_count": 46
        }
      ]
    },
    {
      "cell_type": "code",
      "metadata": {
        "id": "s9eP7adx5kba"
      },
      "source": [
        "future_02 = m.make_future_dataframe(periods=30)\n",
        "results_df_03 = pd.DataFrame({'ds':future_02['ds'],\n",
        "                           'New_year' : merged_df['New_year'].iloc[:575],\n",
        "                           'New_month' : merged_df['New_month'].iloc[:575],\n",
        "                           'Sentiment_score' : merged_df['Sentiment_score'].iloc[:575],\n",
        "                           'Subjectivity' : merged_df['Subjectivity'].iloc[:575]})"
      ],
      "execution_count": 47,
      "outputs": []
    },
    {
      "cell_type": "code",
      "metadata": {
        "id": "JVgADhZ75kbc",
        "colab": {
          "base_uri": "https://localhost:8080/",
          "height": 857
        },
        "outputId": "a97ba05e-ec90-4bdd-dc78-24edec46a8a5"
      },
      "source": [
        "forecast_02 = m_02.predict(results_df_03)\n",
        "\n",
        "m_02.plot(forecast_02)"
      ],
      "execution_count": 48,
      "outputs": [
        {
          "output_type": "execute_result",
          "data": {
            "image/png": "[encoded data removed]",
            "text/plain": [
              "<Figure size 720x432 with 1 Axes>"
            ]
          },
          "metadata": {
            "tags": []
          },
          "execution_count": 48
        },
        {
          "output_type": "display_data",
          "data": {
            "image/png": "[encoded data removed]",
            "text/plain": [
              "<Figure size 720x432 with 1 Axes>"
            ]
          },
          "metadata": {
            "tags": []
          }
        }
      ]
    },
    {
      "cell_type": "code",
      "metadata": {
        "id": "f7a4MTdT5kbd"
      },
      "source": [
        "# fig_02 = m_02.plot_components(forecast_02)"
      ],
      "execution_count": 49,
      "outputs": []
    },
    {
      "cell_type": "code",
      "metadata": {
        "id": "riWcZMSK5kbd",
        "colab": {
          "base_uri": "https://localhost:8080/",
          "height": 942
        },
        "outputId": "da6a5e8e-e64f-4285-8516-1a6951751ee0"
      },
      "source": [
        "pred_02 = pd.DataFrame({'Close':X_test_02['y'],'Predicted':forecast_02['yhat'].iloc[545:575],\n",
        "                     'Yhat_upper':forecast_02['yhat_upper'].iloc[545:575],\n",
        "                     'Yhat_lower':forecast['yhat_lower'].iloc[545:575]})\n",
        "\n",
        "pred_02"
      ],
      "execution_count": 50,
      "outputs": [
        {
          "output_type": "execute_result",
          "data": {
            "text/html": [
              "<div>\n",
              "<style scoped>\n",
              "    .dataframe tbody tr th:only-of-type {\n",
              "        vertical-align: middle;\n",
              "    }\n",
              "\n",
              "    .dataframe tbody tr th {\n",
              "        vertical-align: top;\n",
              "    }\n",
              "\n",
              "    .dataframe thead th {\n",
              "        text-align: right;\n",
              "    }\n",
              "</style>\n",
              "<table border=\"1\" class=\"dataframe\">\n",
              "  <thead>\n",
              "    <tr style=\"text-align: right;\">\n",
              "      <th></th>\n",
              "      <th>Close</th>\n",
              "      <th>Predicted</th>\n",
              "      <th>Yhat_upper</th>\n",
              "      <th>Yhat_lower</th>\n",
              "    </tr>\n",
              "  </thead>\n",
              "  <tbody>\n",
              "    <tr>\n",
              "      <th>545</th>\n",
              "      <td>1901.050049</td>\n",
              "      <td>1845.354749</td>\n",
              "      <td>1873.410410</td>\n",
              "      <td>1839.091282</td>\n",
              "    </tr>\n",
              "    <tr>\n",
              "      <th>546</th>\n",
              "      <td>1899.400024</td>\n",
              "      <td>1859.320457</td>\n",
              "      <td>1887.577359</td>\n",
              "      <td>1835.487360</td>\n",
              "    </tr>\n",
              "    <tr>\n",
              "      <th>547</th>\n",
              "      <td>1917.239990</td>\n",
              "      <td>1863.283279</td>\n",
              "      <td>1889.284429</td>\n",
              "      <td>1845.282318</td>\n",
              "    </tr>\n",
              "    <tr>\n",
              "      <th>548</th>\n",
              "      <td>1830.790039</td>\n",
              "      <td>1896.163415</td>\n",
              "      <td>1925.667016</td>\n",
              "      <td>1876.871289</td>\n",
              "    </tr>\n",
              "    <tr>\n",
              "      <th>549</th>\n",
              "      <td>1863.109985</td>\n",
              "      <td>1896.629327</td>\n",
              "      <td>1924.842350</td>\n",
              "      <td>1885.834704</td>\n",
              "    </tr>\n",
              "    <tr>\n",
              "      <th>550</th>\n",
              "      <td>1835.739990</td>\n",
              "      <td>1904.484642</td>\n",
              "      <td>1932.951833</td>\n",
              "      <td>1900.891335</td>\n",
              "    </tr>\n",
              "    <tr>\n",
              "      <th>551</th>\n",
              "      <td>1901.349976</td>\n",
              "      <td>1919.290939</td>\n",
              "      <td>1948.770509</td>\n",
              "      <td>1915.509014</td>\n",
              "    </tr>\n",
              "    <tr>\n",
              "      <th>552</th>\n",
              "      <td>1927.510010</td>\n",
              "      <td>1930.213860</td>\n",
              "      <td>1963.498333</td>\n",
              "      <td>1925.761220</td>\n",
              "    </tr>\n",
              "    <tr>\n",
              "      <th>553</th>\n",
              "      <td>2070.070068</td>\n",
              "      <td>1928.150590</td>\n",
              "      <td>1956.949898</td>\n",
              "      <td>1921.592567</td>\n",
              "    </tr>\n",
              "    <tr>\n",
              "      <th>554</th>\n",
              "      <td>2062.370117</td>\n",
              "      <td>1937.034916</td>\n",
              "      <td>1968.076722</td>\n",
              "      <td>1928.534974</td>\n",
              "    </tr>\n",
              "    <tr>\n",
              "      <th>555</th>\n",
              "      <td>2098.000000</td>\n",
              "      <td>1957.870167</td>\n",
              "      <td>1991.814742</td>\n",
              "      <td>1955.305328</td>\n",
              "    </tr>\n",
              "    <tr>\n",
              "      <th>556</th>\n",
              "      <td>2092.909912</td>\n",
              "      <td>1962.720683</td>\n",
              "      <td>1999.205032</td>\n",
              "      <td>1962.741898</td>\n",
              "    </tr>\n",
              "    <tr>\n",
              "      <th>557</th>\n",
              "      <td>2083.510010</td>\n",
              "      <td>1978.225443</td>\n",
              "      <td>2019.576608</td>\n",
              "      <td>1978.325783</td>\n",
              "    </tr>\n",
              "    <tr>\n",
              "      <th>558</th>\n",
              "      <td>2095.379883</td>\n",
              "      <td>1991.097651</td>\n",
              "      <td>2036.232501</td>\n",
              "      <td>1991.311190</td>\n",
              "    </tr>\n",
              "    <tr>\n",
              "      <th>559</th>\n",
              "      <td>2095.889893</td>\n",
              "      <td>1994.884362</td>\n",
              "      <td>2041.419712</td>\n",
              "      <td>1989.644701</td>\n",
              "    </tr>\n",
              "    <tr>\n",
              "      <th>560</th>\n",
              "      <td>2104.110107</td>\n",
              "      <td>2001.010455</td>\n",
              "      <td>2048.632485</td>\n",
              "      <td>1989.014816</td>\n",
              "    </tr>\n",
              "    <tr>\n",
              "      <th>561</th>\n",
              "      <td>2121.899902</td>\n",
              "      <td>2001.678449</td>\n",
              "      <td>2050.845333</td>\n",
              "      <td>1990.205017</td>\n",
              "    </tr>\n",
              "    <tr>\n",
              "      <th>562</th>\n",
              "      <td>2128.310059</td>\n",
              "      <td>2015.596263</td>\n",
              "      <td>2070.662008</td>\n",
              "      <td>2015.516852</td>\n",
              "    </tr>\n",
              "    <tr>\n",
              "      <th>563</th>\n",
              "      <td>2117.199951</td>\n",
              "      <td>2026.413140</td>\n",
              "      <td>2086.270878</td>\n",
              "      <td>2023.555826</td>\n",
              "    </tr>\n",
              "    <tr>\n",
              "      <th>564</th>\n",
              "      <td>2101.139893</td>\n",
              "      <td>2045.313984</td>\n",
              "      <td>2106.891629</td>\n",
              "      <td>2033.838165</td>\n",
              "    </tr>\n",
              "    <tr>\n",
              "      <th>565</th>\n",
              "      <td>2064.879883</td>\n",
              "      <td>2057.571964</td>\n",
              "      <td>2123.236571</td>\n",
              "      <td>2039.485417</td>\n",
              "    </tr>\n",
              "    <tr>\n",
              "      <th>566</th>\n",
              "      <td>2070.860107</td>\n",
              "      <td>2062.308357</td>\n",
              "      <td>2133.861819</td>\n",
              "      <td>2046.346880</td>\n",
              "    </tr>\n",
              "    <tr>\n",
              "      <th>567</th>\n",
              "      <td>2095.169922</td>\n",
              "      <td>2067.638052</td>\n",
              "      <td>2140.002525</td>\n",
              "      <td>2031.310827</td>\n",
              "    </tr>\n",
              "    <tr>\n",
              "      <th>568</th>\n",
              "      <td>2031.359985</td>\n",
              "      <td>2061.982357</td>\n",
              "      <td>2139.587833</td>\n",
              "      <td>2040.973150</td>\n",
              "    </tr>\n",
              "    <tr>\n",
              "      <th>569</th>\n",
              "      <td>2036.859985</td>\n",
              "      <td>2089.809238</td>\n",
              "      <td>2173.119371</td>\n",
              "      <td>2057.091505</td>\n",
              "    </tr>\n",
              "    <tr>\n",
              "      <th>570</th>\n",
              "      <td>2081.510010</td>\n",
              "      <td>2094.054255</td>\n",
              "      <td>2182.486455</td>\n",
              "      <td>2068.890693</td>\n",
              "    </tr>\n",
              "    <tr>\n",
              "      <th>571</th>\n",
              "      <td>2075.840088</td>\n",
              "      <td>2097.983741</td>\n",
              "      <td>2191.789279</td>\n",
              "      <td>2077.426519</td>\n",
              "    </tr>\n",
              "    <tr>\n",
              "      <th>572</th>\n",
              "      <td>2026.709961</td>\n",
              "      <td>2120.059869</td>\n",
              "      <td>2215.405810</td>\n",
              "      <td>2081.916638</td>\n",
              "    </tr>\n",
              "    <tr>\n",
              "      <th>573</th>\n",
              "      <td>2049.090088</td>\n",
              "      <td>2131.366544</td>\n",
              "      <td>2234.329354</td>\n",
              "      <td>2083.333027</td>\n",
              "    </tr>\n",
              "    <tr>\n",
              "      <th>574</th>\n",
              "      <td>2108.540039</td>\n",
              "      <td>2116.838924</td>\n",
              "      <td>2227.693434</td>\n",
              "      <td>2066.816113</td>\n",
              "    </tr>\n",
              "  </tbody>\n",
              "</table>\n",
              "</div>"
            ],
            "text/plain": [
              "           Close    Predicted   Yhat_upper   Yhat_lower\n",
              "545  1901.050049  1845.354749  1873.410410  1839.091282\n",
              "546  1899.400024  1859.320457  1887.577359  1835.487360\n",
              "547  1917.239990  1863.283279  1889.284429  1845.282318\n",
              "548  1830.790039  1896.163415  1925.667016  1876.871289\n",
              "549  1863.109985  1896.629327  1924.842350  1885.834704\n",
              "550  1835.739990  1904.484642  1932.951833  1900.891335\n",
              "551  1901.349976  1919.290939  1948.770509  1915.509014\n",
              "552  1927.510010  1930.213860  1963.498333  1925.761220\n",
              "553  2070.070068  1928.150590  1956.949898  1921.592567\n",
              "554  2062.370117  1937.034916  1968.076722  1928.534974\n",
              "555  2098.000000  1957.870167  1991.814742  1955.305328\n",
              "556  2092.909912  1962.720683  1999.205032  1962.741898\n",
              "557  2083.510010  1978.225443  2019.576608  1978.325783\n",
              "558  2095.379883  1991.097651  2036.232501  1991.311190\n",
              "559  2095.889893  1994.884362  2041.419712  1989.644701\n",
              "560  2104.110107  2001.010455  2048.632485  1989.014816\n",
              "561  2121.899902  2001.678449  2050.845333  1990.205017\n",
              "562  2128.310059  2015.596263  2070.662008  2015.516852\n",
              "563  2117.199951  2026.413140  2086.270878  2023.555826\n",
              "564  2101.139893  2045.313984  2106.891629  2033.838165\n",
              "565  2064.879883  2057.571964  2123.236571  2039.485417\n",
              "566  2070.860107  2062.308357  2133.861819  2046.346880\n",
              "567  2095.169922  2067.638052  2140.002525  2031.310827\n",
              "568  2031.359985  2061.982357  2139.587833  2040.973150\n",
              "569  2036.859985  2089.809238  2173.119371  2057.091505\n",
              "570  2081.510010  2094.054255  2182.486455  2068.890693\n",
              "571  2075.840088  2097.983741  2191.789279  2077.426519\n",
              "572  2026.709961  2120.059869  2215.405810  2081.916638\n",
              "573  2049.090088  2131.366544  2234.329354  2083.333027\n",
              "574  2108.540039  2116.838924  2227.693434  2066.816113"
            ]
          },
          "metadata": {
            "tags": []
          },
          "execution_count": 50
        }
      ]
    },
    {
      "cell_type": "code",
      "metadata": {
        "id": "XeEvejdP5kbf",
        "colab": {
          "base_uri": "https://localhost:8080/"
        },
        "outputId": "1db35fbe-03c2-4658-9629-6071303f20e4"
      },
      "source": [
        "error=np.sqrt(mean_squared_error(pred_02['Close'],pred_02['Predicted']))\n",
        "error"
      ],
      "execution_count": 51,
      "outputs": [
        {
          "output_type": "execute_result",
          "data": {
            "text/plain": [
              "80.13349331779233"
            ]
          },
          "metadata": {
            "tags": []
          },
          "execution_count": 51
        }
      ]
    },
    {
      "cell_type": "code",
      "metadata": {
        "id": "Ms4PBQxV5kbf",
        "colab": {
          "base_uri": "https://localhost:8080/"
        },
        "outputId": "6ca213e8-4615-49f4-a019-45657f56b9d4"
      },
      "source": [
        "y_true, y_pred = np.array(pred_02.Close), np.array(pred_02.Predicted)\n",
        "print(np.mean(np.abs((y_true - y_pred) / y_true)) * 100)"
      ],
      "execution_count": 52,
      "outputs": [
        {
          "output_type": "stream",
          "text": [
            "3.2804459187619575\n"
          ],
          "name": "stdout"
        }
      ]
    },
    {
      "cell_type": "markdown",
      "metadata": {
        "id": "Wfo0UAnsvpSs"
      },
      "source": [
        "##------------------------------------------------------------------------------------------------------##"
      ]
    },
    {
      "cell_type": "markdown",
      "metadata": {
        "id": "Vseh5ITwv1Rt"
      },
      "source": [
        "### Performing ***Cross Validation***"
      ]
    },
    {
      "cell_type": "code",
      "metadata": {
        "id": "WBEvbWpHHeap",
        "colab": {
          "base_uri": "https://localhost:8080/",
          "height": 82,
          "referenced_widgets": [
            "6cecc95732774f768a8d1bfbd5b95239",
            "4cf36322d34a4dac8081deb69b2e3ea7",
            "9e6d894234484f6d832db3f6979270d9",
            "30479cfc437b4576896e30e0d22ea20c",
            "89bf552408b64d99829d812ec0eea99c",
            "1c1998defab047458ea4c9ad2fbbc92f",
            "f6ff1e95fcae49e5a6cf8400bb6fee6e",
            "94da00806cf34dd08be91159cf467164"
          ]
        },
        "outputId": "47709446-c2ce-4456-aa69-639a026909ee"
      },
      "source": [
        "df_cv = cross_validation(m, initial='532 days', period='30 days', horizon = '43 days')"
      ],
      "execution_count": null,
      "outputs": [
        {
          "output_type": "stream",
          "text": [
            "INFO:fbprophet:Making 8 forecasts with cutoffs between 2020-05-13 00:00:00 and 2020-12-09 00:00:00\n"
          ],
          "name": "stderr"
        },
        {
          "output_type": "display_data",
          "data": {
            "application/vnd.jupyter.widget-view+json": {
              "model_id": "6cecc95732774f768a8d1bfbd5b95239",
              "version_minor": 0,
              "version_major": 2
            },
            "text/plain": [
              "HBox(children=(FloatProgress(value=0.0, max=8.0), HTML(value='')))"
            ]
          },
          "metadata": {
            "tags": []
          }
        },
        {
          "output_type": "stream",
          "text": [
            "\n"
          ],
          "name": "stdout"
        }
      ]
    },
    {
      "cell_type": "code",
      "metadata": {
        "id": "4OqAtUtTHlNh",
        "colab": {
          "base_uri": "https://localhost:8080/",
          "height": 404
        },
        "outputId": "d8acd66e-d407-4517-d5cc-8e0ce54d4cef"
      },
      "source": [
        "df_cv"
      ],
      "execution_count": null,
      "outputs": [
        {
          "output_type": "execute_result",
          "data": {
            "text/html": [
              "<div>\n",
              "<style scoped>\n",
              "    .dataframe tbody tr th:only-of-type {\n",
              "        vertical-align: middle;\n",
              "    }\n",
              "\n",
              "    .dataframe tbody tr th {\n",
              "        vertical-align: top;\n",
              "    }\n",
              "\n",
              "    .dataframe thead th {\n",
              "        text-align: right;\n",
              "    }\n",
              "</style>\n",
              "<table border=\"1\" class=\"dataframe\">\n",
              "  <thead>\n",
              "    <tr style=\"text-align: right;\">\n",
              "      <th></th>\n",
              "      <th>ds</th>\n",
              "      <th>yhat</th>\n",
              "      <th>yhat_lower</th>\n",
              "      <th>yhat_upper</th>\n",
              "      <th>y</th>\n",
              "      <th>cutoff</th>\n",
              "    </tr>\n",
              "  </thead>\n",
              "  <tbody>\n",
              "    <tr>\n",
              "      <th>0</th>\n",
              "      <td>2020-05-14</td>\n",
              "      <td>1376.751534</td>\n",
              "      <td>1355.091064</td>\n",
              "      <td>1398.065394</td>\n",
              "      <td>1356.130005</td>\n",
              "      <td>2020-05-13</td>\n",
              "    </tr>\n",
              "    <tr>\n",
              "      <th>1</th>\n",
              "      <td>2020-05-15</td>\n",
              "      <td>1377.055856</td>\n",
              "      <td>1355.386156</td>\n",
              "      <td>1397.584882</td>\n",
              "      <td>1373.189941</td>\n",
              "      <td>2020-05-13</td>\n",
              "    </tr>\n",
              "    <tr>\n",
              "      <th>2</th>\n",
              "      <td>2020-05-18</td>\n",
              "      <td>1368.537210</td>\n",
              "      <td>1344.720269</td>\n",
              "      <td>1391.325817</td>\n",
              "      <td>1383.939941</td>\n",
              "      <td>2020-05-13</td>\n",
              "    </tr>\n",
              "    <tr>\n",
              "      <th>3</th>\n",
              "      <td>2020-05-19</td>\n",
              "      <td>1366.324894</td>\n",
              "      <td>1342.092183</td>\n",
              "      <td>1392.813514</td>\n",
              "      <td>1373.484985</td>\n",
              "      <td>2020-05-13</td>\n",
              "    </tr>\n",
              "    <tr>\n",
              "      <th>4</th>\n",
              "      <td>2020-05-20</td>\n",
              "      <td>1365.802223</td>\n",
              "      <td>1339.997339</td>\n",
              "      <td>1392.265266</td>\n",
              "      <td>1406.719971</td>\n",
              "      <td>2020-05-13</td>\n",
              "    </tr>\n",
              "    <tr>\n",
              "      <th>...</th>\n",
              "      <td>...</td>\n",
              "      <td>...</td>\n",
              "      <td>...</td>\n",
              "      <td>...</td>\n",
              "      <td>...</td>\n",
              "      <td>...</td>\n",
              "    </tr>\n",
              "    <tr>\n",
              "      <th>234</th>\n",
              "      <td>2021-01-14</td>\n",
              "      <td>1962.563306</td>\n",
              "      <td>1782.191157</td>\n",
              "      <td>2146.582215</td>\n",
              "      <td>1740.180054</td>\n",
              "      <td>2020-12-09</td>\n",
              "    </tr>\n",
              "    <tr>\n",
              "      <th>235</th>\n",
              "      <td>2021-01-15</td>\n",
              "      <td>1962.940387</td>\n",
              "      <td>1774.179864</td>\n",
              "      <td>2162.553664</td>\n",
              "      <td>1736.189941</td>\n",
              "      <td>2020-12-09</td>\n",
              "    </tr>\n",
              "    <tr>\n",
              "      <th>236</th>\n",
              "      <td>2021-01-19</td>\n",
              "      <td>1971.145572</td>\n",
              "      <td>1754.051744</td>\n",
              "      <td>2203.961802</td>\n",
              "      <td>1790.859985</td>\n",
              "      <td>2020-12-09</td>\n",
              "    </tr>\n",
              "    <tr>\n",
              "      <th>237</th>\n",
              "      <td>2021-01-20</td>\n",
              "      <td>1976.053363</td>\n",
              "      <td>1747.510495</td>\n",
              "      <td>2222.403832</td>\n",
              "      <td>1886.900024</td>\n",
              "      <td>2020-12-09</td>\n",
              "    </tr>\n",
              "    <tr>\n",
              "      <th>238</th>\n",
              "      <td>2021-01-21</td>\n",
              "      <td>1984.145042</td>\n",
              "      <td>1746.090904</td>\n",
              "      <td>2233.977873</td>\n",
              "      <td>1891.250000</td>\n",
              "      <td>2020-12-09</td>\n",
              "    </tr>\n",
              "  </tbody>\n",
              "</table>\n",
              "<p>239 rows × 6 columns</p>\n",
              "</div>"
            ],
            "text/plain": [
              "            ds         yhat   yhat_lower   yhat_upper            y     cutoff\n",
              "0   2020-05-14  1376.751534  1355.091064  1398.065394  1356.130005 2020-05-13\n",
              "1   2020-05-15  1377.055856  1355.386156  1397.584882  1373.189941 2020-05-13\n",
              "2   2020-05-18  1368.537210  1344.720269  1391.325817  1383.939941 2020-05-13\n",
              "3   2020-05-19  1366.324894  1342.092183  1392.813514  1373.484985 2020-05-13\n",
              "4   2020-05-20  1365.802223  1339.997339  1392.265266  1406.719971 2020-05-13\n",
              "..         ...          ...          ...          ...          ...        ...\n",
              "234 2021-01-14  1962.563306  1782.191157  2146.582215  1740.180054 2020-12-09\n",
              "235 2021-01-15  1962.940387  1774.179864  2162.553664  1736.189941 2020-12-09\n",
              "236 2021-01-19  1971.145572  1754.051744  2203.961802  1790.859985 2020-12-09\n",
              "237 2021-01-20  1976.053363  1747.510495  2222.403832  1886.900024 2020-12-09\n",
              "238 2021-01-21  1984.145042  1746.090904  2233.977873  1891.250000 2020-12-09\n",
              "\n",
              "[239 rows x 6 columns]"
            ]
          },
          "metadata": {
            "tags": []
          },
          "execution_count": 54
        }
      ]
    },
    {
      "cell_type": "code",
      "metadata": {
        "id": "AiIsqP15vrd0",
        "colab": {
          "base_uri": "https://localhost:8080/",
          "height": 1000
        },
        "outputId": "a6298819-bc26-4f09-fd96-f9f3874631e0"
      },
      "source": [
        "from fbprophet.diagnostics import performance_metrics\n",
        "performance_metrics(df_cv)"
      ],
      "execution_count": null,
      "outputs": [
        {
          "output_type": "execute_result",
          "data": {
            "text/html": [
              "<div>\n",
              "<style scoped>\n",
              "    .dataframe tbody tr th:only-of-type {\n",
              "        vertical-align: middle;\n",
              "    }\n",
              "\n",
              "    .dataframe tbody tr th {\n",
              "        vertical-align: top;\n",
              "    }\n",
              "\n",
              "    .dataframe thead th {\n",
              "        text-align: right;\n",
              "    }\n",
              "</style>\n",
              "<table border=\"1\" class=\"dataframe\">\n",
              "  <thead>\n",
              "    <tr style=\"text-align: right;\">\n",
              "      <th></th>\n",
              "      <th>horizon</th>\n",
              "      <th>mse</th>\n",
              "      <th>rmse</th>\n",
              "      <th>mae</th>\n",
              "      <th>mape</th>\n",
              "      <th>mdape</th>\n",
              "      <th>coverage</th>\n",
              "    </tr>\n",
              "  </thead>\n",
              "  <tbody>\n",
              "    <tr>\n",
              "      <th>0</th>\n",
              "      <td>5 days</td>\n",
              "      <td>4351.164155</td>\n",
              "      <td>65.963355</td>\n",
              "      <td>55.495442</td>\n",
              "      <td>0.034769</td>\n",
              "      <td>0.035390</td>\n",
              "      <td>0.282609</td>\n",
              "    </tr>\n",
              "    <tr>\n",
              "      <th>1</th>\n",
              "      <td>6 days</td>\n",
              "      <td>4443.235761</td>\n",
              "      <td>66.657601</td>\n",
              "      <td>54.834599</td>\n",
              "      <td>0.034624</td>\n",
              "      <td>0.027324</td>\n",
              "      <td>0.355072</td>\n",
              "    </tr>\n",
              "    <tr>\n",
              "      <th>2</th>\n",
              "      <td>7 days</td>\n",
              "      <td>5643.367751</td>\n",
              "      <td>75.122352</td>\n",
              "      <td>62.060559</td>\n",
              "      <td>0.039070</td>\n",
              "      <td>0.034775</td>\n",
              "      <td>0.304348</td>\n",
              "    </tr>\n",
              "    <tr>\n",
              "      <th>3</th>\n",
              "      <td>8 days</td>\n",
              "      <td>7438.244779</td>\n",
              "      <td>86.245259</td>\n",
              "      <td>70.036378</td>\n",
              "      <td>0.043754</td>\n",
              "      <td>0.034775</td>\n",
              "      <td>0.246377</td>\n",
              "    </tr>\n",
              "    <tr>\n",
              "      <th>4</th>\n",
              "      <td>9 days</td>\n",
              "      <td>10280.475476</td>\n",
              "      <td>101.392680</td>\n",
              "      <td>82.438336</td>\n",
              "      <td>0.050794</td>\n",
              "      <td>0.045121</td>\n",
              "      <td>0.195652</td>\n",
              "    </tr>\n",
              "    <tr>\n",
              "      <th>5</th>\n",
              "      <td>10 days</td>\n",
              "      <td>13055.725617</td>\n",
              "      <td>114.261654</td>\n",
              "      <td>94.212072</td>\n",
              "      <td>0.057640</td>\n",
              "      <td>0.050596</td>\n",
              "      <td>0.130435</td>\n",
              "    </tr>\n",
              "    <tr>\n",
              "      <th>6</th>\n",
              "      <td>11 days</td>\n",
              "      <td>17476.861359</td>\n",
              "      <td>132.200081</td>\n",
              "      <td>107.109298</td>\n",
              "      <td>0.066106</td>\n",
              "      <td>0.051422</td>\n",
              "      <td>0.137681</td>\n",
              "    </tr>\n",
              "    <tr>\n",
              "      <th>7</th>\n",
              "      <td>12 days</td>\n",
              "      <td>19208.939502</td>\n",
              "      <td>138.596319</td>\n",
              "      <td>111.338953</td>\n",
              "      <td>0.069574</td>\n",
              "      <td>0.051422</td>\n",
              "      <td>0.217391</td>\n",
              "    </tr>\n",
              "    <tr>\n",
              "      <th>8</th>\n",
              "      <td>13 days</td>\n",
              "      <td>18024.223820</td>\n",
              "      <td>134.254325</td>\n",
              "      <td>107.680800</td>\n",
              "      <td>0.068396</td>\n",
              "      <td>0.050596</td>\n",
              "      <td>0.231884</td>\n",
              "    </tr>\n",
              "    <tr>\n",
              "      <th>9</th>\n",
              "      <td>14 days</td>\n",
              "      <td>22803.542988</td>\n",
              "      <td>151.008420</td>\n",
              "      <td>121.144017</td>\n",
              "      <td>0.077456</td>\n",
              "      <td>0.063031</td>\n",
              "      <td>0.182609</td>\n",
              "    </tr>\n",
              "    <tr>\n",
              "      <th>10</th>\n",
              "      <td>15 days</td>\n",
              "      <td>27304.925629</td>\n",
              "      <td>165.242021</td>\n",
              "      <td>136.008369</td>\n",
              "      <td>0.086623</td>\n",
              "      <td>0.067711</td>\n",
              "      <td>0.130435</td>\n",
              "    </tr>\n",
              "    <tr>\n",
              "      <th>11</th>\n",
              "      <td>16 days</td>\n",
              "      <td>33029.171573</td>\n",
              "      <td>181.739296</td>\n",
              "      <td>148.664420</td>\n",
              "      <td>0.093654</td>\n",
              "      <td>0.067711</td>\n",
              "      <td>0.086957</td>\n",
              "    </tr>\n",
              "    <tr>\n",
              "      <th>12</th>\n",
              "      <td>17 days</td>\n",
              "      <td>34822.129555</td>\n",
              "      <td>186.606885</td>\n",
              "      <td>150.154482</td>\n",
              "      <td>0.094414</td>\n",
              "      <td>0.067711</td>\n",
              "      <td>0.144928</td>\n",
              "    </tr>\n",
              "    <tr>\n",
              "      <th>13</th>\n",
              "      <td>18 days</td>\n",
              "      <td>44868.511703</td>\n",
              "      <td>211.821887</td>\n",
              "      <td>171.903747</td>\n",
              "      <td>0.107988</td>\n",
              "      <td>0.072674</td>\n",
              "      <td>0.173913</td>\n",
              "    </tr>\n",
              "    <tr>\n",
              "      <th>14</th>\n",
              "      <td>19 days</td>\n",
              "      <td>46633.276259</td>\n",
              "      <td>215.947392</td>\n",
              "      <td>172.120176</td>\n",
              "      <td>0.109927</td>\n",
              "      <td>0.072674</td>\n",
              "      <td>0.260870</td>\n",
              "    </tr>\n",
              "    <tr>\n",
              "      <th>15</th>\n",
              "      <td>20 days</td>\n",
              "      <td>43325.593879</td>\n",
              "      <td>208.148010</td>\n",
              "      <td>159.932417</td>\n",
              "      <td>0.103620</td>\n",
              "      <td>0.064137</td>\n",
              "      <td>0.321739</td>\n",
              "    </tr>\n",
              "    <tr>\n",
              "      <th>16</th>\n",
              "      <td>21 days</td>\n",
              "      <td>56372.224650</td>\n",
              "      <td>237.428357</td>\n",
              "      <td>187.647885</td>\n",
              "      <td>0.120524</td>\n",
              "      <td>0.080856</td>\n",
              "      <td>0.239130</td>\n",
              "    </tr>\n",
              "    <tr>\n",
              "      <th>17</th>\n",
              "      <td>22 days</td>\n",
              "      <td>64134.215676</td>\n",
              "      <td>253.247341</td>\n",
              "      <td>203.955851</td>\n",
              "      <td>0.130796</td>\n",
              "      <td>0.082925</td>\n",
              "      <td>0.173913</td>\n",
              "    </tr>\n",
              "    <tr>\n",
              "      <th>18</th>\n",
              "      <td>23 days</td>\n",
              "      <td>69990.601736</td>\n",
              "      <td>264.557369</td>\n",
              "      <td>212.686117</td>\n",
              "      <td>0.134528</td>\n",
              "      <td>0.091995</td>\n",
              "      <td>0.188406</td>\n",
              "    </tr>\n",
              "    <tr>\n",
              "      <th>19</th>\n",
              "      <td>24 days</td>\n",
              "      <td>78275.126052</td>\n",
              "      <td>279.776922</td>\n",
              "      <td>224.136241</td>\n",
              "      <td>0.140178</td>\n",
              "      <td>0.093041</td>\n",
              "      <td>0.202899</td>\n",
              "    </tr>\n",
              "    <tr>\n",
              "      <th>20</th>\n",
              "      <td>25 days</td>\n",
              "      <td>91556.663856</td>\n",
              "      <td>302.583317</td>\n",
              "      <td>245.890065</td>\n",
              "      <td>0.153776</td>\n",
              "      <td>0.238692</td>\n",
              "      <td>0.217391</td>\n",
              "    </tr>\n",
              "    <tr>\n",
              "      <th>21</th>\n",
              "      <td>26 days</td>\n",
              "      <td>88504.365009</td>\n",
              "      <td>297.496832</td>\n",
              "      <td>238.662753</td>\n",
              "      <td>0.151337</td>\n",
              "      <td>0.099940</td>\n",
              "      <td>0.260870</td>\n",
              "    </tr>\n",
              "    <tr>\n",
              "      <th>22</th>\n",
              "      <td>27 days</td>\n",
              "      <td>86166.726425</td>\n",
              "      <td>293.541695</td>\n",
              "      <td>233.773445</td>\n",
              "      <td>0.149683</td>\n",
              "      <td>0.094697</td>\n",
              "      <td>0.252174</td>\n",
              "    </tr>\n",
              "    <tr>\n",
              "      <th>23</th>\n",
              "      <td>28 days</td>\n",
              "      <td>96858.103424</td>\n",
              "      <td>311.220345</td>\n",
              "      <td>255.664702</td>\n",
              "      <td>0.163561</td>\n",
              "      <td>0.104410</td>\n",
              "      <td>0.191304</td>\n",
              "    </tr>\n",
              "    <tr>\n",
              "      <th>24</th>\n",
              "      <td>29 days</td>\n",
              "      <td>103659.023189</td>\n",
              "      <td>321.961214</td>\n",
              "      <td>263.855494</td>\n",
              "      <td>0.168664</td>\n",
              "      <td>0.104410</td>\n",
              "      <td>0.260870</td>\n",
              "    </tr>\n",
              "    <tr>\n",
              "      <th>25</th>\n",
              "      <td>30 days</td>\n",
              "      <td>108182.269780</td>\n",
              "      <td>328.910732</td>\n",
              "      <td>266.058142</td>\n",
              "      <td>0.167254</td>\n",
              "      <td>0.099582</td>\n",
              "      <td>0.347826</td>\n",
              "    </tr>\n",
              "    <tr>\n",
              "      <th>26</th>\n",
              "      <td>31 days</td>\n",
              "      <td>118846.124475</td>\n",
              "      <td>344.740663</td>\n",
              "      <td>278.341183</td>\n",
              "      <td>0.172906</td>\n",
              "      <td>0.099582</td>\n",
              "      <td>0.347826</td>\n",
              "    </tr>\n",
              "    <tr>\n",
              "      <th>27</th>\n",
              "      <td>32 days</td>\n",
              "      <td>141522.556081</td>\n",
              "      <td>376.194838</td>\n",
              "      <td>300.364873</td>\n",
              "      <td>0.186264</td>\n",
              "      <td>0.096654</td>\n",
              "      <td>0.355072</td>\n",
              "    </tr>\n",
              "    <tr>\n",
              "      <th>28</th>\n",
              "      <td>33 days</td>\n",
              "      <td>140146.281687</td>\n",
              "      <td>374.361165</td>\n",
              "      <td>290.670238</td>\n",
              "      <td>0.181470</td>\n",
              "      <td>0.096654</td>\n",
              "      <td>0.369565</td>\n",
              "    </tr>\n",
              "    <tr>\n",
              "      <th>29</th>\n",
              "      <td>34 days</td>\n",
              "      <td>141632.908365</td>\n",
              "      <td>376.341478</td>\n",
              "      <td>286.914326</td>\n",
              "      <td>0.180328</td>\n",
              "      <td>0.106422</td>\n",
              "      <td>0.369565</td>\n",
              "    </tr>\n",
              "    <tr>\n",
              "      <th>30</th>\n",
              "      <td>35 days</td>\n",
              "      <td>160260.871472</td>\n",
              "      <td>400.325957</td>\n",
              "      <td>308.421164</td>\n",
              "      <td>0.193661</td>\n",
              "      <td>0.111098</td>\n",
              "      <td>0.391304</td>\n",
              "    </tr>\n",
              "    <tr>\n",
              "      <th>31</th>\n",
              "      <td>36 days</td>\n",
              "      <td>167630.980806</td>\n",
              "      <td>409.427626</td>\n",
              "      <td>321.180867</td>\n",
              "      <td>0.201520</td>\n",
              "      <td>0.116032</td>\n",
              "      <td>0.369565</td>\n",
              "    </tr>\n",
              "    <tr>\n",
              "      <th>32</th>\n",
              "      <td>37 days</td>\n",
              "      <td>168984.499208</td>\n",
              "      <td>411.077242</td>\n",
              "      <td>327.317294</td>\n",
              "      <td>0.202959</td>\n",
              "      <td>0.122691</td>\n",
              "      <td>0.326087</td>\n",
              "    </tr>\n",
              "    <tr>\n",
              "      <th>33</th>\n",
              "      <td>38 days</td>\n",
              "      <td>181669.890077</td>\n",
              "      <td>426.227510</td>\n",
              "      <td>345.632917</td>\n",
              "      <td>0.213198</td>\n",
              "      <td>0.130602</td>\n",
              "      <td>0.260870</td>\n",
              "    </tr>\n",
              "    <tr>\n",
              "      <th>34</th>\n",
              "      <td>39 days</td>\n",
              "      <td>202633.176781</td>\n",
              "      <td>450.147950</td>\n",
              "      <td>365.545619</td>\n",
              "      <td>0.225789</td>\n",
              "      <td>0.133507</td>\n",
              "      <td>0.231884</td>\n",
              "    </tr>\n",
              "    <tr>\n",
              "      <th>35</th>\n",
              "      <td>40 days</td>\n",
              "      <td>194600.924483</td>\n",
              "      <td>441.135948</td>\n",
              "      <td>349.705840</td>\n",
              "      <td>0.217646</td>\n",
              "      <td>0.133507</td>\n",
              "      <td>0.275362</td>\n",
              "    </tr>\n",
              "    <tr>\n",
              "      <th>36</th>\n",
              "      <td>41 days</td>\n",
              "      <td>190321.831390</td>\n",
              "      <td>436.258904</td>\n",
              "      <td>336.804429</td>\n",
              "      <td>0.211569</td>\n",
              "      <td>0.132963</td>\n",
              "      <td>0.376812</td>\n",
              "    </tr>\n",
              "    <tr>\n",
              "      <th>37</th>\n",
              "      <td>42 days</td>\n",
              "      <td>217223.433407</td>\n",
              "      <td>466.072348</td>\n",
              "      <td>356.426350</td>\n",
              "      <td>0.223624</td>\n",
              "      <td>0.122762</td>\n",
              "      <td>0.443478</td>\n",
              "    </tr>\n",
              "    <tr>\n",
              "      <th>38</th>\n",
              "      <td>43 days</td>\n",
              "      <td>232365.715511</td>\n",
              "      <td>482.043271</td>\n",
              "      <td>369.694158</td>\n",
              "      <td>0.231538</td>\n",
              "      <td>0.132963</td>\n",
              "      <td>0.478261</td>\n",
              "    </tr>\n",
              "  </tbody>\n",
              "</table>\n",
              "</div>"
            ],
            "text/plain": [
              "   horizon            mse        rmse         mae      mape     mdape  coverage\n",
              "0   5 days    4351.164155   65.963355   55.495442  0.034769  0.035390  0.282609\n",
              "1   6 days    4443.235761   66.657601   54.834599  0.034624  0.027324  0.355072\n",
              "2   7 days    5643.367751   75.122352   62.060559  0.039070  0.034775  0.304348\n",
              "3   8 days    7438.244779   86.245259   70.036378  0.043754  0.034775  0.246377\n",
              "4   9 days   10280.475476  101.392680   82.438336  0.050794  0.045121  0.195652\n",
              "5  10 days   13055.725617  114.261654   94.212072  0.057640  0.050596  0.130435\n",
              "6  11 days   17476.861359  132.200081  107.109298  0.066106  0.051422  0.137681\n",
              "7  12 days   19208.939502  138.596319  111.338953  0.069574  0.051422  0.217391\n",
              "8  13 days   18024.223820  134.254325  107.680800  0.068396  0.050596  0.231884\n",
              "9  14 days   22803.542988  151.008420  121.144017  0.077456  0.063031  0.182609\n",
              "10 15 days   27304.925629  165.242021  136.008369  0.086623  0.067711  0.130435\n",
              "11 16 days   33029.171573  181.739296  148.664420  0.093654  0.067711  0.086957\n",
              "12 17 days   34822.129555  186.606885  150.154482  0.094414  0.067711  0.144928\n",
              "13 18 days   44868.511703  211.821887  171.903747  0.107988  0.072674  0.173913\n",
              "14 19 days   46633.276259  215.947392  172.120176  0.109927  0.072674  0.260870\n",
              "15 20 days   43325.593879  208.148010  159.932417  0.103620  0.064137  0.321739\n",
              "16 21 days   56372.224650  237.428357  187.647885  0.120524  0.080856  0.239130\n",
              "17 22 days   64134.215676  253.247341  203.955851  0.130796  0.082925  0.173913\n",
              "18 23 days   69990.601736  264.557369  212.686117  0.134528  0.091995  0.188406\n",
              "19 24 days   78275.126052  279.776922  224.136241  0.140178  0.093041  0.202899\n",
              "20 25 days   91556.663856  302.583317  245.890065  0.153776  0.238692  0.217391\n",
              "21 26 days   88504.365009  297.496832  238.662753  0.151337  0.099940  0.260870\n",
              "22 27 days   86166.726425  293.541695  233.773445  0.149683  0.094697  0.252174\n",
              "23 28 days   96858.103424  311.220345  255.664702  0.163561  0.104410  0.191304\n",
              "24 29 days  103659.023189  321.961214  263.855494  0.168664  0.104410  0.260870\n",
              "25 30 days  108182.269780  328.910732  266.058142  0.167254  0.099582  0.347826\n",
              "26 31 days  118846.124475  344.740663  278.341183  0.172906  0.099582  0.347826\n",
              "27 32 days  141522.556081  376.194838  300.364873  0.186264  0.096654  0.355072\n",
              "28 33 days  140146.281687  374.361165  290.670238  0.181470  0.096654  0.369565\n",
              "29 34 days  141632.908365  376.341478  286.914326  0.180328  0.106422  0.369565\n",
              "30 35 days  160260.871472  400.325957  308.421164  0.193661  0.111098  0.391304\n",
              "31 36 days  167630.980806  409.427626  321.180867  0.201520  0.116032  0.369565\n",
              "32 37 days  168984.499208  411.077242  327.317294  0.202959  0.122691  0.326087\n",
              "33 38 days  181669.890077  426.227510  345.632917  0.213198  0.130602  0.260870\n",
              "34 39 days  202633.176781  450.147950  365.545619  0.225789  0.133507  0.231884\n",
              "35 40 days  194600.924483  441.135948  349.705840  0.217646  0.133507  0.275362\n",
              "36 41 days  190321.831390  436.258904  336.804429  0.211569  0.132963  0.376812\n",
              "37 42 days  217223.433407  466.072348  356.426350  0.223624  0.122762  0.443478\n",
              "38 43 days  232365.715511  482.043271  369.694158  0.231538  0.132963  0.478261"
            ]
          },
          "metadata": {
            "tags": []
          },
          "execution_count": 55
        }
      ]
    },
    {
      "cell_type": "code",
      "metadata": {
        "id": "5bkEIQFqRhxo",
        "colab": {
          "base_uri": "https://localhost:8080/",
          "height": 398
        },
        "outputId": "f1754aa0-fc74-4734-e872-0b3d7c64656b"
      },
      "source": [
        "fig = plot_cross_validation_metric(df_cv, metric='mape')"
      ],
      "execution_count": null,
      "outputs": [
        {
          "output_type": "display_data",
          "data": {
            "image/png": "[encoded data removed]",
            "text/plain": [
              "<Figure size 720x432 with 1 Axes>"
            ]
          },
          "metadata": {
            "tags": []
          }
        }
      ]
    },
    {
      "cell_type": "markdown",
      "metadata": {
        "id": "qC-NhBjbiNRf"
      },
      "source": [
        "**-------------------------------------------------------------------------------------------------------**"
      ]
    },
    {
      "cell_type": "code",
      "metadata": {
        "colab": {
          "base_uri": "https://localhost:8080/"
        },
        "id": "7bg6YOlxZj2g",
        "outputId": "1854b10e-b91e-4d63-da00-05fd51be6124"
      },
      "source": [
        "!pip install chart-studio"
      ],
      "execution_count": 54,
      "outputs": [
        {
          "output_type": "stream",
          "text": [
            "Collecting chart-studio\n",
            "\u001b[?25l  Downloading https://files.pythonhosted.org/packages/ca/ce/330794a6b6ca4b9182c38fc69dd2a9cbff60fd49421cb8648ee5fee352dc/chart_studio-1.1.0-py3-none-any.whl (64kB)\n",
            "\r\u001b[K     |█████                           | 10kB 14.3MB/s eta 0:00:01\r\u001b[K     |██████████▏                     | 20kB 13.1MB/s eta 0:00:01\r\u001b[K     |███████████████▎                | 30kB 10.5MB/s eta 0:00:01\r\u001b[K     |████████████████████▍           | 40kB 3.0MB/s eta 0:00:01\r\u001b[K     |█████████████████████████▍      | 51kB 3.6MB/s eta 0:00:01\r\u001b[K     |██████████████████████████████▌ | 61kB 4.2MB/s eta 0:00:01\r\u001b[K     |████████████████████████████████| 71kB 3.0MB/s \n",
            "\u001b[?25hRequirement already satisfied: six in /usr/local/lib/python3.7/dist-packages (from chart-studio) (1.15.0)\n",
            "Requirement already satisfied: retrying>=1.3.3 in /usr/local/lib/python3.7/dist-packages (from chart-studio) (1.3.3)\n",
            "Requirement already satisfied: plotly in /usr/local/lib/python3.7/dist-packages (from chart-studio) (4.4.1)\n",
            "Requirement already satisfied: requests in /usr/local/lib/python3.7/dist-packages (from chart-studio) (2.23.0)\n",
            "Requirement already satisfied: idna<3,>=2.5 in /usr/local/lib/python3.7/dist-packages (from requests->chart-studio) (2.10)\n",
            "Requirement already satisfied: chardet<4,>=3.0.2 in /usr/local/lib/python3.7/dist-packages (from requests->chart-studio) (3.0.4)\n",
            "Requirement already satisfied: certifi>=2017.4.17 in /usr/local/lib/python3.7/dist-packages (from requests->chart-studio) (2020.12.5)\n",
            "Requirement already satisfied: urllib3!=1.25.0,!=1.25.1,<1.26,>=1.21.1 in /usr/local/lib/python3.7/dist-packages (from requests->chart-studio) (1.24.3)\n",
            "Installing collected packages: chart-studio\n",
            "Successfully installed chart-studio-1.1.0\n"
          ],
          "name": "stdout"
        }
      ]
    },
    {
      "cell_type": "code",
      "metadata": {
        "id": "FeKl6zi9YsaS"
      },
      "source": [
        "# Import Libraries\n",
        "import seaborn as sns\n",
        "import datetime as dt\n",
        "# Statsmodels widely known for forecasting than Prophet\n",
        "import statsmodels.api as sm\n",
        "from scipy import stats\n",
        "# from pandas import datetools\n",
        "from plotly import tools\n",
        "import chart_studio.plotly as py\n",
        "import plotly.figure_factory as ff\n",
        "import plotly.tools as tls\n",
        "import plotly.subplots\n",
        "import plotly.graph_objs as go\n",
        "from plotly.offline import download_plotlyjs, init_notebook_mode, plot, iplot\n",
        "# import warnings\n",
        "# warnings.filterwarnings(\"ignore\")\n",
        "\n",
        "# plt.style.available\n",
        "plt.style.use(\"seaborn-whitegrid\")"
      ],
      "execution_count": 55,
      "outputs": []
    },
    {
      "cell_type": "markdown",
      "metadata": {
        "id": "2ElmxWWFkCAM"
      },
      "source": [
        "start from 2 day 5 day 7 day 10 day 1 month 2 months 3 months 6 months ytd 8 months 1 year trends\n"
      ]
    },
    {
      "cell_type": "code",
      "metadata": {
        "id": "r-hzMy2BW9mu"
      },
      "source": [
        "merged_df['2_d_avg'] = merged_df.y.rolling(window=2).mean()\n",
        "merged_df['5_d_avg'] = merged_df.y.rolling(window=5).mean()\n",
        "merged_df['7_d_avg'] = merged_df.y.rolling(window=7).mean()\n",
        "merged_df['10_d_avg'] = merged_df.y.rolling(window=10).mean()\n",
        "merged_df['30_d_avg'] = merged_df.y.rolling(window=30).mean()\n",
        "merged_df['2_m_avg'] = merged_df.y.rolling(window=60).mean()\n",
        "merged_df['3_m_avg'] = merged_df.y.rolling(window=90).mean()\n",
        "merged_df['6_m_avg'] = merged_df.y.rolling(window=180).mean()\n",
        "merged_df['9_m_avg'] = merged_df.y.rolling(window=270).mean()\n",
        "merged_df['1_y_avg'] = merged_df.y.rolling(window=365).mean()\n",
        "\n",
        "close_p = merged_df['y'].values.tolist()\n",
        "\n",
        "\n",
        "# Variables to insert into plotly\n",
        "two_d = merged_df['2_d_avg'].values.tolist()\n",
        "seven_d = merged_df['7_d_avg'].values.tolist()\n",
        "ten_d = merged_df['10_d_avg'].values.tolist()\n",
        "thirty_d = merged_df['30_d_avg'].values.tolist()\n",
        "two_m = merged_df['2_m_avg'].values.tolist()\n",
        "three_m = merged_df['3_m_avg'].values.tolist()\n",
        "six_m = merged_df['6_m_avg'].values.tolist()\n",
        "nine_m = merged_df['9_m_avg'].values.tolist()\n",
        "one_y = merged_df['1_y_avg'].values.tolist()\n",
        "date = merged_df['ds'].values.tolist()\n",
        "\n",
        "# Set date as index\n",
        "merged_df_mod = merged_df.set_index('ds')"
      ],
      "execution_count": 56,
      "outputs": []
    },
    {
      "cell_type": "code",
      "metadata": {
        "colab": {
          "base_uri": "https://localhost:8080/",
          "height": 621
        },
        "id": "JolEnDZ0hwNK",
        "outputId": "d7227e47-113a-4d28-bc2f-162cd621de38"
      },
      "source": [
        "merged_df_mod"
      ],
      "execution_count": 57,
      "outputs": [
        {
          "output_type": "execute_result",
          "data": {
            "text/html": [
              "<div>\n",
              "<style scoped>\n",
              "    .dataframe tbody tr th:only-of-type {\n",
              "        vertical-align: middle;\n",
              "    }\n",
              "\n",
              "    .dataframe tbody tr th {\n",
              "        vertical-align: top;\n",
              "    }\n",
              "\n",
              "    .dataframe thead th {\n",
              "        text-align: right;\n",
              "    }\n",
              "</style>\n",
              "<table border=\"1\" class=\"dataframe\">\n",
              "  <thead>\n",
              "    <tr style=\"text-align: right;\">\n",
              "      <th></th>\n",
              "      <th>Sentiment_score</th>\n",
              "      <th>Subjectivity</th>\n",
              "      <th>Polarity</th>\n",
              "      <th>Compound</th>\n",
              "      <th>Negative</th>\n",
              "      <th>Neutral</th>\n",
              "      <th>Positive</th>\n",
              "      <th>Open</th>\n",
              "      <th>High</th>\n",
              "      <th>Low</th>\n",
              "      <th>y</th>\n",
              "      <th>Adj Close</th>\n",
              "      <th>Volume</th>\n",
              "      <th>New_year</th>\n",
              "      <th>New_month</th>\n",
              "      <th>2_d_avg</th>\n",
              "      <th>5_d_avg</th>\n",
              "      <th>7_d_avg</th>\n",
              "      <th>10_d_avg</th>\n",
              "      <th>30_d_avg</th>\n",
              "      <th>2_m_avg</th>\n",
              "      <th>3_m_avg</th>\n",
              "      <th>6_m_avg</th>\n",
              "      <th>9_m_avg</th>\n",
              "      <th>1_y_avg</th>\n",
              "    </tr>\n",
              "    <tr>\n",
              "      <th>ds</th>\n",
              "      <th></th>\n",
              "      <th></th>\n",
              "      <th></th>\n",
              "      <th></th>\n",
              "      <th></th>\n",
              "      <th></th>\n",
              "      <th></th>\n",
              "      <th></th>\n",
              "      <th></th>\n",
              "      <th></th>\n",
              "      <th></th>\n",
              "      <th></th>\n",
              "      <th></th>\n",
              "      <th></th>\n",
              "      <th></th>\n",
              "      <th></th>\n",
              "      <th></th>\n",
              "      <th></th>\n",
              "      <th></th>\n",
              "      <th></th>\n",
              "      <th></th>\n",
              "      <th></th>\n",
              "      <th></th>\n",
              "      <th></th>\n",
              "      <th></th>\n",
              "    </tr>\n",
              "  </thead>\n",
              "  <tbody>\n",
              "    <tr>\n",
              "      <th>2018-11-20</th>\n",
              "      <td>-1.0</td>\n",
              "      <td>0.233333</td>\n",
              "      <td>-0.016667</td>\n",
              "      <td>0.051600</td>\n",
              "      <td>0.062000</td>\n",
              "      <td>0.862000</td>\n",
              "      <td>0.076000</td>\n",
              "      <td>1000.000000</td>\n",
              "      <td>1031.739990</td>\n",
              "      <td>996.020020</td>\n",
              "      <td>1025.760010</td>\n",
              "      <td>1025.760010</td>\n",
              "      <td>2449100</td>\n",
              "      <td>0</td>\n",
              "      <td>0</td>\n",
              "      <td>NaN</td>\n",
              "      <td>NaN</td>\n",
              "      <td>NaN</td>\n",
              "      <td>NaN</td>\n",
              "      <td>NaN</td>\n",
              "      <td>NaN</td>\n",
              "      <td>NaN</td>\n",
              "      <td>NaN</td>\n",
              "      <td>NaN</td>\n",
              "      <td>NaN</td>\n",
              "    </tr>\n",
              "    <tr>\n",
              "      <th>2018-11-21</th>\n",
              "      <td>0.0</td>\n",
              "      <td>0.339298</td>\n",
              "      <td>0.058482</td>\n",
              "      <td>0.031459</td>\n",
              "      <td>0.105877</td>\n",
              "      <td>0.778754</td>\n",
              "      <td>0.115392</td>\n",
              "      <td>1036.760010</td>\n",
              "      <td>1048.560059</td>\n",
              "      <td>1033.469971</td>\n",
              "      <td>1037.609985</td>\n",
              "      <td>1037.609985</td>\n",
              "      <td>1534300</td>\n",
              "      <td>0</td>\n",
              "      <td>0</td>\n",
              "      <td>1031.684998</td>\n",
              "      <td>NaN</td>\n",
              "      <td>NaN</td>\n",
              "      <td>NaN</td>\n",
              "      <td>NaN</td>\n",
              "      <td>NaN</td>\n",
              "      <td>NaN</td>\n",
              "      <td>NaN</td>\n",
              "      <td>NaN</td>\n",
              "      <td>NaN</td>\n",
              "    </tr>\n",
              "    <tr>\n",
              "      <th>2018-11-23</th>\n",
              "      <td>-1.0</td>\n",
              "      <td>0.392235</td>\n",
              "      <td>-0.010038</td>\n",
              "      <td>-0.796400</td>\n",
              "      <td>0.138000</td>\n",
              "      <td>0.768000</td>\n",
              "      <td>0.095000</td>\n",
              "      <td>1030.000000</td>\n",
              "      <td>1037.589966</td>\n",
              "      <td>1022.398987</td>\n",
              "      <td>1023.880005</td>\n",
              "      <td>1023.880005</td>\n",
              "      <td>691500</td>\n",
              "      <td>0</td>\n",
              "      <td>0</td>\n",
              "      <td>1030.744995</td>\n",
              "      <td>NaN</td>\n",
              "      <td>NaN</td>\n",
              "      <td>NaN</td>\n",
              "      <td>NaN</td>\n",
              "      <td>NaN</td>\n",
              "      <td>NaN</td>\n",
              "      <td>NaN</td>\n",
              "      <td>NaN</td>\n",
              "      <td>NaN</td>\n",
              "    </tr>\n",
              "    <tr>\n",
              "      <th>2018-11-26</th>\n",
              "      <td>0.0</td>\n",
              "      <td>0.339298</td>\n",
              "      <td>0.058482</td>\n",
              "      <td>0.031459</td>\n",
              "      <td>0.105877</td>\n",
              "      <td>0.778754</td>\n",
              "      <td>0.115392</td>\n",
              "      <td>1038.349976</td>\n",
              "      <td>1049.310059</td>\n",
              "      <td>1033.910034</td>\n",
              "      <td>1048.619995</td>\n",
              "      <td>1048.619995</td>\n",
              "      <td>1942800</td>\n",
              "      <td>0</td>\n",
              "      <td>0</td>\n",
              "      <td>1036.250000</td>\n",
              "      <td>NaN</td>\n",
              "      <td>NaN</td>\n",
              "      <td>NaN</td>\n",
              "      <td>NaN</td>\n",
              "      <td>NaN</td>\n",
              "      <td>NaN</td>\n",
              "      <td>NaN</td>\n",
              "      <td>NaN</td>\n",
              "      <td>NaN</td>\n",
              "    </tr>\n",
              "    <tr>\n",
              "      <th>2018-11-27</th>\n",
              "      <td>0.0</td>\n",
              "      <td>0.339298</td>\n",
              "      <td>0.058482</td>\n",
              "      <td>0.031459</td>\n",
              "      <td>0.105877</td>\n",
              "      <td>0.778754</td>\n",
              "      <td>0.115392</td>\n",
              "      <td>1041.000000</td>\n",
              "      <td>1057.579956</td>\n",
              "      <td>1038.489990</td>\n",
              "      <td>1044.410034</td>\n",
              "      <td>1044.410034</td>\n",
              "      <td>1803200</td>\n",
              "      <td>0</td>\n",
              "      <td>0</td>\n",
              "      <td>1046.515015</td>\n",
              "      <td>1036.056006</td>\n",
              "      <td>NaN</td>\n",
              "      <td>NaN</td>\n",
              "      <td>NaN</td>\n",
              "      <td>NaN</td>\n",
              "      <td>NaN</td>\n",
              "      <td>NaN</td>\n",
              "      <td>NaN</td>\n",
              "      <td>NaN</td>\n",
              "    </tr>\n",
              "    <tr>\n",
              "      <th>...</th>\n",
              "      <td>...</td>\n",
              "      <td>...</td>\n",
              "      <td>...</td>\n",
              "      <td>...</td>\n",
              "      <td>...</td>\n",
              "      <td>...</td>\n",
              "      <td>...</td>\n",
              "      <td>...</td>\n",
              "      <td>...</td>\n",
              "      <td>...</td>\n",
              "      <td>...</td>\n",
              "      <td>...</td>\n",
              "      <td>...</td>\n",
              "      <td>...</td>\n",
              "      <td>...</td>\n",
              "      <td>...</td>\n",
              "      <td>...</td>\n",
              "      <td>...</td>\n",
              "      <td>...</td>\n",
              "      <td>...</td>\n",
              "      <td>...</td>\n",
              "      <td>...</td>\n",
              "      <td>...</td>\n",
              "      <td>...</td>\n",
              "      <td>...</td>\n",
              "    </tr>\n",
              "    <tr>\n",
              "      <th>2021-03-01</th>\n",
              "      <td>1.0</td>\n",
              "      <td>0.141667</td>\n",
              "      <td>0.062500</td>\n",
              "      <td>0.510600</td>\n",
              "      <td>0.029000</td>\n",
              "      <td>0.906000</td>\n",
              "      <td>0.065000</td>\n",
              "      <td>2056.520020</td>\n",
              "      <td>2086.520020</td>\n",
              "      <td>2046.099976</td>\n",
              "      <td>2081.510010</td>\n",
              "      <td>2081.510010</td>\n",
              "      <td>1404500</td>\n",
              "      <td>0</td>\n",
              "      <td>1</td>\n",
              "      <td>2059.184998</td>\n",
              "      <td>2063.152002</td>\n",
              "      <td>2068.825684</td>\n",
              "      <td>2084.918970</td>\n",
              "      <td>1997.760657</td>\n",
              "      <td>1882.193331</td>\n",
              "      <td>1822.242442</td>\n",
              "      <td>1666.292051</td>\n",
              "      <td>1551.403979</td>\n",
              "      <td>1491.004807</td>\n",
              "    </tr>\n",
              "    <tr>\n",
              "      <th>2021-03-02</th>\n",
              "      <td>-1.0</td>\n",
              "      <td>0.133333</td>\n",
              "      <td>-0.066667</td>\n",
              "      <td>0.904200</td>\n",
              "      <td>0.035000</td>\n",
              "      <td>0.776000</td>\n",
              "      <td>0.189000</td>\n",
              "      <td>2076.189941</td>\n",
              "      <td>2104.370117</td>\n",
              "      <td>2071.260010</td>\n",
              "      <td>2075.840088</td>\n",
              "      <td>2075.840088</td>\n",
              "      <td>1133600</td>\n",
              "      <td>0</td>\n",
              "      <td>1</td>\n",
              "      <td>2078.675049</td>\n",
              "      <td>2064.147998</td>\n",
              "      <td>2065.211426</td>\n",
              "      <td>2080.312988</td>\n",
              "      <td>2009.082328</td>\n",
              "      <td>1886.324833</td>\n",
              "      <td>1828.019221</td>\n",
              "      <td>1669.973496</td>\n",
              "      <td>1553.732757</td>\n",
              "      <td>1493.315574</td>\n",
              "    </tr>\n",
              "    <tr>\n",
              "      <th>2021-03-03</th>\n",
              "      <td>1.0</td>\n",
              "      <td>0.368973</td>\n",
              "      <td>0.070210</td>\n",
              "      <td>-0.077200</td>\n",
              "      <td>0.084000</td>\n",
              "      <td>0.830000</td>\n",
              "      <td>0.086000</td>\n",
              "      <td>2067.209961</td>\n",
              "      <td>2088.518066</td>\n",
              "      <td>2010.000000</td>\n",
              "      <td>2026.709961</td>\n",
              "      <td>2026.709961</td>\n",
              "      <td>1483100</td>\n",
              "      <td>0</td>\n",
              "      <td>1</td>\n",
              "      <td>2051.275025</td>\n",
              "      <td>2050.456006</td>\n",
              "      <td>2059.758580</td>\n",
              "      <td>2070.152979</td>\n",
              "      <td>2016.943994</td>\n",
              "      <td>1889.657166</td>\n",
              "      <td>1832.834775</td>\n",
              "      <td>1673.344940</td>\n",
              "      <td>1555.875276</td>\n",
              "      <td>1495.474478</td>\n",
              "    </tr>\n",
              "    <tr>\n",
              "      <th>2021-03-04</th>\n",
              "      <td>1.0</td>\n",
              "      <td>0.588788</td>\n",
              "      <td>0.301970</td>\n",
              "      <td>0.458800</td>\n",
              "      <td>0.057000</td>\n",
              "      <td>0.856000</td>\n",
              "      <td>0.088000</td>\n",
              "      <td>2023.369995</td>\n",
              "      <td>2089.239990</td>\n",
              "      <td>2020.270020</td>\n",
              "      <td>2049.090088</td>\n",
              "      <td>2049.090088</td>\n",
              "      <td>2116100</td>\n",
              "      <td>0</td>\n",
              "      <td>1</td>\n",
              "      <td>2037.900025</td>\n",
              "      <td>2054.002026</td>\n",
              "      <td>2056.648577</td>\n",
              "      <td>2063.341992</td>\n",
              "      <td>2022.350330</td>\n",
              "      <td>1893.342167</td>\n",
              "      <td>1837.654332</td>\n",
              "      <td>1676.713663</td>\n",
              "      <td>1557.996980</td>\n",
              "      <td>1497.718752</td>\n",
              "    </tr>\n",
              "    <tr>\n",
              "      <th>2021-03-05</th>\n",
              "      <td>0.0</td>\n",
              "      <td>0.339298</td>\n",
              "      <td>0.058482</td>\n",
              "      <td>0.031459</td>\n",
              "      <td>0.105877</td>\n",
              "      <td>0.778754</td>\n",
              "      <td>0.115392</td>\n",
              "      <td>2073.120117</td>\n",
              "      <td>2118.110107</td>\n",
              "      <td>2046.415039</td>\n",
              "      <td>2108.540039</td>\n",
              "      <td>2108.540039</td>\n",
              "      <td>2193800</td>\n",
              "      <td>0</td>\n",
              "      <td>1</td>\n",
              "      <td>2078.815064</td>\n",
              "      <td>2068.338037</td>\n",
              "      <td>2058.558594</td>\n",
              "      <td>2064.082007</td>\n",
              "      <td>2029.593331</td>\n",
              "      <td>1898.159835</td>\n",
              "      <td>1842.849221</td>\n",
              "      <td>1680.365997</td>\n",
              "      <td>1560.327758</td>\n",
              "      <td>1500.114670</td>\n",
              "    </tr>\n",
              "  </tbody>\n",
              "</table>\n",
              "<p>575 rows × 25 columns</p>\n",
              "</div>"
            ],
            "text/plain": [
              "            Sentiment_score  Subjectivity  ...      9_m_avg      1_y_avg\n",
              "ds                                         ...                          \n",
              "2018-11-20             -1.0      0.233333  ...          NaN          NaN\n",
              "2018-11-21              0.0      0.339298  ...          NaN          NaN\n",
              "2018-11-23             -1.0      0.392235  ...          NaN          NaN\n",
              "2018-11-26              0.0      0.339298  ...          NaN          NaN\n",
              "2018-11-27              0.0      0.339298  ...          NaN          NaN\n",
              "...                     ...           ...  ...          ...          ...\n",
              "2021-03-01              1.0      0.141667  ...  1551.403979  1491.004807\n",
              "2021-03-02             -1.0      0.133333  ...  1553.732757  1493.315574\n",
              "2021-03-03              1.0      0.368973  ...  1555.875276  1495.474478\n",
              "2021-03-04              1.0      0.588788  ...  1557.996980  1497.718752\n",
              "2021-03-05              0.0      0.339298  ...  1560.327758  1500.114670\n",
              "\n",
              "[575 rows x 25 columns]"
            ]
          },
          "metadata": {
            "tags": []
          },
          "execution_count": 57
        }
      ]
    },
    {
      "cell_type": "code",
      "metadata": {
        "colab": {
          "base_uri": "https://localhost:8080/",
          "height": 817
        },
        "id": "LUFI7uFOW9ke",
        "outputId": "4a695797-dce0-4804-ac27-0b51bb2aea48"
      },
      "source": [
        "\n",
        "fig = plotly.subplots.make_subplots(rows=3, cols=1, shared_xaxes=True)\n",
        "\n",
        "colors = ['#ff4500', '#92a1cf', '#6E6E6E','#9900FF','#FF0044']\n",
        "avgs = ['2_d_avg', '5_d_avg', '7_d_avg','10_d_avg','30_d_avg']\n",
        "# for i,c in zip(range(n),color):\n",
        "#    ax1.plot(x, y,c=c)\n",
        "\n",
        "for col, c in zip(avgs[0:2], colors[0:2]):\n",
        "    fig.append_trace({'x': merged_df_mod.index, 'y': merged_df[col], 'type': 'scatter', 'name': col, 'line': {'color': c}}, 1, 1)\n",
        "for col, c in zip(avgs[2:5], colors[2:5]):\n",
        "    fig.append_trace({'x': merged_df_mod.index, 'y': merged_df[col], 'type': 'scatter', 'name': col, 'line': {'color': c}}, 2, 1)\n",
        "for col in ['y']:\n",
        "    fig.append_trace({'x': merged_df_mod.index, 'y': merged_df[col], 'type': 'scatter', 'name': 'Closing Price', 'line':{'color': '#01DF3A'}}, 3, 1)\n",
        "    \n",
        "fig['layout'].update(height=800,title='Relationship between MAs <br> and Closing Price',\n",
        "                    paper_bgcolor='#F2DFCE', plot_bgcolor='#F2DFCE')\n",
        "    \n",
        "iplot(fig,show_link=True, filename='pandas/mixed-type subplots.html',animation_opts={'frame':{'duration':5}})"
      ],
      "execution_count": 122,
      "outputs": [
        {
          "output_type": "display_data",
          "data": {
            "text/html": [
              "<html>\n",
              "<head><meta charset=\"utf-8\" /></head>\n",
              "<body>\n",
              "    <div>\n",
              "            <script src=\"https://cdnjs.cloudflare.com/ajax/libs/mathjax/2.7.5/MathJax.js?config=TeX-AMS-MML_SVG\"></script><script type=\"text/javascript\">if (window.MathJax) {MathJax.Hub.Config({SVG: {font: \"STIX-Web\"}});}</script>\n",
              "                <script type=\"text/javascript\">window.PlotlyConfig = {MathJaxConfig: 'local'};</script>\n",
              "        <script src=\"https://cdn.plot.ly/plotly-latest.min.js\"></script>    \n",
              "            <div id=\"a3a122c3-8990-4061-98b6-787be9082918\" class=\"plotly-graph-div\" style=\"height:800px; width:100%;\"></div>\n",
              "            <script type=\"text/javascript\">\n",
              "                \n",
              "                    window.PLOTLYENV=window.PLOTLYENV || {};\n",
              "                    window.PLOTLYENV.BASE_URL='https://plot.ly';\n",
              "                    \n",
              "                if (document.getElementById(\"a3a122c3-8990-4061-98b6-787be9082918\")) {\n",
              "                    Plotly.newPlot(\n",
              "                        'a3a122c3-8990-4061-98b6-787be9082918',\n",
              "                        [{\"line\": {\"color\": \"#ff4500\"}, \"name\": \"2_d_avg\", \"type\": \"scatter\", \"x\": [\"2018-11-20T00:00:00\", \"2018-11-21T00:00:00\", \"2018-11-23T00:00:00\", \"2018-11-26T00:00:00\", \"2018-11-27T00:00:00\", \"2018-11-28T00:00:00\", \"2018-11-29T00:00:00\", \"2018-11-30T00:00:00\", \"2018-12-03T00:00:00\", \"2018-12-04T00:00:00\", \"2018-12-06T00:00:00\", \"2018-12-07T00:00:00\", \"2018-12-10T00:00:00\", \"2018-12-11T00:00:00\", \"2018-12-12T00:00:00\", \"2018-12-13T00:00:00\", \"2018-12-14T00:00:00\", \"2018-12-17T00:00:00\", \"2018-12-18T00:00:00\", \"2018-12-19T00:00:00\", \"2018-12-20T00:00:00\", \"2018-12-21T00:00:00\", \"2018-12-24T00:00:00\", \"2018-12-26T00:00:00\", \"2018-12-27T00:00:00\", \"2018-12-28T00:00:00\", \"2018-12-31T00:00:00\", \"2019-01-02T00:00:00\", \"2019-01-03T00:00:00\", \"2019-01-04T00:00:00\", \"2019-01-07T00:00:00\", \"2019-01-08T00:00:00\", \"2019-01-09T00:00:00\", \"2019-01-10T00:00:00\", \"2019-01-11T00:00:00\", \"2019-01-14T00:00:00\", \"2019-01-15T00:00:00\", \"2019-01-16T00:00:00\", \"2019-01-17T00:00:00\", \"2019-01-18T00:00:00\", \"2019-01-22T00:00:00\", \"2019-01-23T00:00:00\", \"2019-01-24T00:00:00\", \"2019-01-25T00:00:00\", \"2019-01-28T00:00:00\", \"2019-01-29T00:00:00\", \"2019-01-30T00:00:00\", \"2019-01-31T00:00:00\", \"2019-02-01T00:00:00\", \"2019-02-04T00:00:00\", \"2019-02-05T00:00:00\", \"2019-02-06T00:00:00\", \"2019-02-07T00:00:00\", \"2019-02-08T00:00:00\", \"2019-02-11T00:00:00\", \"2019-02-12T00:00:00\", \"2019-02-13T00:00:00\", \"2019-02-14T00:00:00\", \"2019-02-15T00:00:00\", \"2019-02-19T00:00:00\", \"2019-02-20T00:00:00\", \"2019-02-21T00:00:00\", \"2019-02-22T00:00:00\", \"2019-02-25T00:00:00\", \"2019-02-26T00:00:00\", \"2019-02-27T00:00:00\", \"2019-02-28T00:00:00\", \"2019-03-01T00:00:00\", \"2019-03-04T00:00:00\", \"2019-03-05T00:00:00\", \"2019-03-06T00:00:00\", \"2019-03-07T00:00:00\", \"2019-03-08T00:00:00\", \"2019-03-11T00:00:00\", \"2019-03-12T00:00:00\", \"2019-03-13T00:00:00\", \"2019-03-14T00:00:00\", \"2019-03-15T00:00:00\", \"2019-03-18T00:00:00\", \"2019-03-19T00:00:00\", \"2019-03-20T00:00:00\", \"2019-03-21T00:00:00\", \"2019-03-22T00:00:00\", \"2019-03-25T00:00:00\", \"2019-03-26T00:00:00\", \"2019-03-27T00:00:00\", \"2019-03-28T00:00:00\", \"2019-03-29T00:00:00\", \"2019-04-01T00:00:00\", \"2019-04-02T00:00:00\", \"2019-04-03T00:00:00\", \"2019-04-04T00:00:00\", \"2019-04-05T00:00:00\", \"2019-04-08T00:00:00\", \"2019-04-09T00:00:00\", \"2019-04-10T00:00:00\", \"2019-04-11T00:00:00\", \"2019-04-12T00:00:00\", \"2019-04-15T00:00:00\", \"2019-04-16T00:00:00\", \"2019-04-17T00:00:00\", \"2019-04-18T00:00:00\", \"2019-04-22T00:00:00\", \"2019-04-23T00:00:00\", \"2019-04-24T00:00:00\", \"2019-04-25T00:00:00\", \"2019-04-26T00:00:00\", \"2019-04-29T00:00:00\", \"2019-04-30T00:00:00\", \"2019-05-01T00:00:00\", \"2019-05-02T00:00:00\", \"2019-05-03T00:00:00\", \"2019-05-06T00:00:00\", \"2019-05-07T00:00:00\", \"2019-05-08T00:00:00\", \"2019-05-09T00:00:00\", \"2019-05-10T00:00:00\", \"2019-05-13T00:00:00\", \"2019-05-14T00:00:00\", \"2019-05-15T00:00:00\", \"2019-05-16T00:00:00\", \"2019-05-17T00:00:00\", \"2019-05-20T00:00:00\", \"2019-05-21T00:00:00\", \"2019-05-22T00:00:00\", \"2019-05-23T00:00:00\", \"2019-05-24T00:00:00\", \"2019-05-28T00:00:00\", \"2019-05-29T00:00:00\", \"2019-05-30T00:00:00\", \"2019-05-31T00:00:00\", \"2019-06-03T00:00:00\", \"2019-06-04T00:00:00\", \"2019-06-05T00:00:00\", \"2019-06-06T00:00:00\", \"2019-06-07T00:00:00\", \"2019-06-10T00:00:00\", \"2019-06-11T00:00:00\", \"2019-06-12T00:00:00\", \"2019-06-13T00:00:00\", \"2019-06-14T00:00:00\", \"2019-06-17T00:00:00\", \"2019-06-18T00:00:00\", \"2019-06-19T00:00:00\", \"2019-06-20T00:00:00\", \"2019-06-21T00:00:00\", \"2019-06-24T00:00:00\", \"2019-06-25T00:00:00\", \"2019-06-26T00:00:00\", \"2019-06-27T00:00:00\", \"2019-06-28T00:00:00\", \"2019-07-01T00:00:00\", \"2019-07-02T00:00:00\", \"2019-07-03T00:00:00\", \"2019-07-05T00:00:00\", \"2019-07-08T00:00:00\", \"2019-07-09T00:00:00\", \"2019-07-10T00:00:00\", \"2019-07-11T00:00:00\", \"2019-07-12T00:00:00\", \"2019-07-15T00:00:00\", \"2019-07-16T00:00:00\", \"2019-07-17T00:00:00\", \"2019-07-18T00:00:00\", \"2019-07-19T00:00:00\", \"2019-07-22T00:00:00\", \"2019-07-23T00:00:00\", \"2019-07-24T00:00:00\", \"2019-07-25T00:00:00\", \"2019-07-26T00:00:00\", \"2019-07-29T00:00:00\", \"2019-07-30T00:00:00\", \"2019-07-31T00:00:00\", \"2019-08-01T00:00:00\", \"2019-08-02T00:00:00\", \"2019-08-05T00:00:00\", \"2019-08-06T00:00:00\", \"2019-08-07T00:00:00\", \"2019-08-08T00:00:00\", \"2019-08-09T00:00:00\", \"2019-08-12T00:00:00\", \"2019-08-13T00:00:00\", \"2019-08-14T00:00:00\", \"2019-08-15T00:00:00\", \"2019-08-16T00:00:00\", \"2019-08-19T00:00:00\", \"2019-08-20T00:00:00\", \"2019-08-21T00:00:00\", \"2019-08-22T00:00:00\", \"2019-08-23T00:00:00\", \"2019-08-26T00:00:00\", \"2019-08-27T00:00:00\", \"2019-08-28T00:00:00\", \"2019-08-29T00:00:00\", \"2019-08-30T00:00:00\", \"2019-09-03T00:00:00\", \"2019-09-04T00:00:00\", \"2019-09-05T00:00:00\", \"2019-09-06T00:00:00\", \"2019-09-09T00:00:00\", \"2019-09-10T00:00:00\", \"2019-09-11T00:00:00\", \"2019-09-12T00:00:00\", \"2019-09-13T00:00:00\", \"2019-09-16T00:00:00\", \"2019-09-17T00:00:00\", \"2019-09-18T00:00:00\", \"2019-09-19T00:00:00\", \"2019-09-20T00:00:00\", \"2019-09-23T00:00:00\", \"2019-09-24T00:00:00\", \"2019-09-25T00:00:00\", \"2019-09-26T00:00:00\", \"2019-09-27T00:00:00\", \"2019-09-30T00:00:00\", \"2019-10-01T00:00:00\", \"2019-10-02T00:00:00\", \"2019-10-03T00:00:00\", \"2019-10-04T00:00:00\", \"2019-10-07T00:00:00\", \"2019-10-08T00:00:00\", \"2019-10-09T00:00:00\", \"2019-10-10T00:00:00\", \"2019-10-11T00:00:00\", \"2019-10-14T00:00:00\", \"2019-10-15T00:00:00\", \"2019-10-16T00:00:00\", \"2019-10-17T00:00:00\", \"2019-10-18T00:00:00\", \"2019-10-21T00:00:00\", \"2019-10-22T00:00:00\", \"2019-10-23T00:00:00\", \"2019-10-24T00:00:00\", \"2019-10-25T00:00:00\", \"2019-10-28T00:00:00\", \"2019-10-29T00:00:00\", \"2019-10-30T00:00:00\", \"2019-10-31T00:00:00\", \"2019-11-01T00:00:00\", \"2019-11-04T00:00:00\", \"2019-11-05T00:00:00\", \"2019-11-06T00:00:00\", \"2019-11-07T00:00:00\", \"2019-11-08T00:00:00\", \"2019-11-11T00:00:00\", \"2019-11-12T00:00:00\", \"2019-11-13T00:00:00\", \"2019-11-14T00:00:00\", \"2019-11-15T00:00:00\", \"2019-11-18T00:00:00\", \"2019-11-19T00:00:00\", \"2019-11-20T00:00:00\", \"2019-11-21T00:00:00\", \"2019-11-22T00:00:00\", \"2019-11-25T00:00:00\", \"2019-11-26T00:00:00\", \"2019-11-27T00:00:00\", \"2019-11-29T00:00:00\", \"2019-12-02T00:00:00\", \"2019-12-03T00:00:00\", \"2019-12-04T00:00:00\", \"2019-12-05T00:00:00\", \"2019-12-06T00:00:00\", \"2019-12-09T00:00:00\", \"2019-12-10T00:00:00\", \"2019-12-11T00:00:00\", \"2019-12-12T00:00:00\", \"2019-12-13T00:00:00\", \"2019-12-16T00:00:00\", \"2019-12-17T00:00:00\", \"2019-12-18T00:00:00\", \"2019-12-19T00:00:00\", \"2019-12-20T00:00:00\", \"2019-12-23T00:00:00\", \"2019-12-24T00:00:00\", \"2019-12-26T00:00:00\", \"2019-12-27T00:00:00\", \"2019-12-30T00:00:00\", \"2019-12-31T00:00:00\", \"2020-01-02T00:00:00\", \"2020-01-03T00:00:00\", \"2020-01-06T00:00:00\", \"2020-01-07T00:00:00\", \"2020-01-08T00:00:00\", \"2020-01-09T00:00:00\", \"2020-01-10T00:00:00\", \"2020-01-13T00:00:00\", \"2020-01-14T00:00:00\", \"2020-01-15T00:00:00\", \"2020-01-16T00:00:00\", \"2020-01-17T00:00:00\", \"2020-01-21T00:00:00\", \"2020-01-22T00:00:00\", \"2020-01-23T00:00:00\", \"2020-01-24T00:00:00\", \"2020-01-27T00:00:00\", \"2020-01-28T00:00:00\", \"2020-01-29T00:00:00\", \"2020-01-30T00:00:00\", \"2020-01-31T00:00:00\", \"2020-02-03T00:00:00\", \"2020-02-04T00:00:00\", \"2020-02-05T00:00:00\", \"2020-02-06T00:00:00\", \"2020-02-07T00:00:00\", \"2020-02-10T00:00:00\", \"2020-02-11T00:00:00\", \"2020-02-12T00:00:00\", \"2020-02-13T00:00:00\", \"2020-02-14T00:00:00\", \"2020-02-18T00:00:00\", \"2020-02-19T00:00:00\", \"2020-02-20T00:00:00\", \"2020-02-21T00:00:00\", \"2020-02-24T00:00:00\", \"2020-02-25T00:00:00\", \"2020-02-26T00:00:00\", \"2020-02-27T00:00:00\", \"2020-02-28T00:00:00\", \"2020-03-02T00:00:00\", \"2020-03-03T00:00:00\", \"2020-03-04T00:00:00\", \"2020-03-05T00:00:00\", \"2020-03-06T00:00:00\", \"2020-03-09T00:00:00\", \"2020-03-10T00:00:00\", \"2020-03-11T00:00:00\", \"2020-03-12T00:00:00\", \"2020-03-13T00:00:00\", \"2020-03-16T00:00:00\", \"2020-03-17T00:00:00\", \"2020-03-18T00:00:00\", \"2020-03-19T00:00:00\", \"2020-03-20T00:00:00\", \"2020-03-23T00:00:00\", \"2020-03-24T00:00:00\", \"2020-03-25T00:00:00\", \"2020-03-26T00:00:00\", \"2020-03-27T00:00:00\", \"2020-03-30T00:00:00\", \"2020-03-31T00:00:00\", \"2020-04-01T00:00:00\", \"2020-04-02T00:00:00\", \"2020-04-03T00:00:00\", \"2020-04-06T00:00:00\", \"2020-04-07T00:00:00\", \"2020-04-08T00:00:00\", \"2020-04-09T00:00:00\", \"2020-04-13T00:00:00\", \"2020-04-14T00:00:00\", \"2020-04-15T00:00:00\", \"2020-04-16T00:00:00\", \"2020-04-17T00:00:00\", \"2020-04-20T00:00:00\", \"2020-04-21T00:00:00\", \"2020-04-22T00:00:00\", \"2020-04-23T00:00:00\", \"2020-04-24T00:00:00\", \"2020-04-27T00:00:00\", \"2020-04-28T00:00:00\", \"2020-04-29T00:00:00\", \"2020-04-30T00:00:00\", \"2020-05-01T00:00:00\", \"2020-05-04T00:00:00\", \"2020-05-05T00:00:00\", \"2020-05-06T00:00:00\", \"2020-05-07T00:00:00\", \"2020-05-08T00:00:00\", \"2020-05-11T00:00:00\", \"2020-05-12T00:00:00\", \"2020-05-13T00:00:00\", \"2020-05-14T00:00:00\", \"2020-05-15T00:00:00\", \"2020-05-18T00:00:00\", \"2020-05-19T00:00:00\", \"2020-05-20T00:00:00\", \"2020-05-21T00:00:00\", \"2020-05-22T00:00:00\", \"2020-05-26T00:00:00\", \"2020-05-27T00:00:00\", \"2020-05-28T00:00:00\", \"2020-05-29T00:00:00\", \"2020-06-01T00:00:00\", \"2020-06-02T00:00:00\", \"2020-06-03T00:00:00\", \"2020-06-04T00:00:00\", \"2020-06-05T00:00:00\", \"2020-06-08T00:00:00\", \"2020-06-09T00:00:00\", \"2020-06-10T00:00:00\", \"2020-06-11T00:00:00\", \"2020-06-12T00:00:00\", \"2020-06-15T00:00:00\", \"2020-06-16T00:00:00\", \"2020-06-17T00:00:00\", \"2020-06-18T00:00:00\", \"2020-06-19T00:00:00\", \"2020-06-22T00:00:00\", \"2020-06-23T00:00:00\", \"2020-06-24T00:00:00\", \"2020-06-25T00:00:00\", \"2020-06-26T00:00:00\", \"2020-06-29T00:00:00\", \"2020-06-30T00:00:00\", \"2020-07-01T00:00:00\", \"2020-07-02T00:00:00\", \"2020-07-06T00:00:00\", \"2020-07-07T00:00:00\", \"2020-07-08T00:00:00\", \"2020-07-09T00:00:00\", \"2020-07-10T00:00:00\", \"2020-07-13T00:00:00\", \"2020-07-14T00:00:00\", \"2020-07-15T00:00:00\", \"2020-07-16T00:00:00\", \"2020-07-17T00:00:00\", \"2020-07-20T00:00:00\", \"2020-07-21T00:00:00\", \"2020-07-22T00:00:00\", \"2020-07-23T00:00:00\", \"2020-07-24T00:00:00\", \"2020-07-27T00:00:00\", \"2020-07-28T00:00:00\", \"2020-07-29T00:00:00\", \"2020-07-30T00:00:00\", \"2020-07-31T00:00:00\", \"2020-08-03T00:00:00\", \"2020-08-04T00:00:00\", \"2020-08-05T00:00:00\", \"2020-08-06T00:00:00\", \"2020-08-07T00:00:00\", \"2020-08-10T00:00:00\", \"2020-08-11T00:00:00\", \"2020-08-12T00:00:00\", \"2020-08-13T00:00:00\", \"2020-08-14T00:00:00\", \"2020-08-17T00:00:00\", \"2020-08-18T00:00:00\", \"2020-08-19T00:00:00\", \"2020-08-20T00:00:00\", \"2020-08-21T00:00:00\", \"2020-08-24T00:00:00\", \"2020-08-25T00:00:00\", \"2020-08-26T00:00:00\", \"2020-08-27T00:00:00\", \"2020-08-28T00:00:00\", \"2020-08-31T00:00:00\", \"2020-09-01T00:00:00\", \"2020-09-02T00:00:00\", \"2020-09-03T00:00:00\", \"2020-09-04T00:00:00\", \"2020-09-08T00:00:00\", \"2020-09-09T00:00:00\", \"2020-09-10T00:00:00\", \"2020-09-11T00:00:00\", \"2020-09-14T00:00:00\", \"2020-09-15T00:00:00\", \"2020-09-16T00:00:00\", \"2020-09-17T00:00:00\", \"2020-09-18T00:00:00\", \"2020-09-21T00:00:00\", \"2020-09-22T00:00:00\", \"2020-09-23T00:00:00\", \"2020-09-24T00:00:00\", \"2020-09-25T00:00:00\", \"2020-09-28T00:00:00\", \"2020-09-29T00:00:00\", \"2020-09-30T00:00:00\", \"2020-10-01T00:00:00\", \"2020-10-02T00:00:00\", \"2020-10-05T00:00:00\", \"2020-10-06T00:00:00\", \"2020-10-07T00:00:00\", \"2020-10-08T00:00:00\", \"2020-10-09T00:00:00\", \"2020-10-12T00:00:00\", \"2020-10-13T00:00:00\", \"2020-10-14T00:00:00\", \"2020-10-15T00:00:00\", \"2020-10-16T00:00:00\", \"2020-10-19T00:00:00\", \"2020-10-20T00:00:00\", \"2020-10-21T00:00:00\", \"2020-10-22T00:00:00\", \"2020-10-23T00:00:00\", \"2020-10-26T00:00:00\", \"2020-10-27T00:00:00\", \"2020-10-28T00:00:00\", \"2020-10-29T00:00:00\", \"2020-10-30T00:00:00\", \"2020-11-02T00:00:00\", \"2020-11-03T00:00:00\", \"2020-11-04T00:00:00\", \"2020-11-05T00:00:00\", \"2020-11-06T00:00:00\", \"2020-11-09T00:00:00\", \"2020-11-10T00:00:00\", \"2020-11-11T00:00:00\", \"2020-11-12T00:00:00\", \"2020-11-13T00:00:00\", \"2020-11-16T00:00:00\", \"2020-11-17T00:00:00\", \"2020-11-18T00:00:00\", \"2020-11-19T00:00:00\", \"2020-11-20T00:00:00\", \"2020-11-23T00:00:00\", \"2020-11-24T00:00:00\", \"2020-11-25T00:00:00\", \"2020-11-27T00:00:00\", \"2020-11-30T00:00:00\", \"2020-12-01T00:00:00\", \"2020-12-02T00:00:00\", \"2020-12-03T00:00:00\", \"2020-12-04T00:00:00\", \"2020-12-07T00:00:00\", \"2020-12-08T00:00:00\", \"2020-12-09T00:00:00\", \"2020-12-10T00:00:00\", \"2020-12-11T00:00:00\", \"2020-12-14T00:00:00\", \"2020-12-15T00:00:00\", \"2020-12-16T00:00:00\", \"2020-12-17T00:00:00\", \"2020-12-18T00:00:00\", \"2020-12-21T00:00:00\", \"2020-12-22T00:00:00\", \"2020-12-23T00:00:00\", \"2020-12-24T00:00:00\", \"2020-12-28T00:00:00\", \"2020-12-29T00:00:00\", \"2020-12-30T00:00:00\", \"2020-12-31T00:00:00\", \"2021-01-04T00:00:00\", \"2021-01-05T00:00:00\", \"2021-01-06T00:00:00\", \"2021-01-07T00:00:00\", \"2021-01-08T00:00:00\", \"2021-01-11T00:00:00\", \"2021-01-12T00:00:00\", \"2021-01-13T00:00:00\", \"2021-01-14T00:00:00\", \"2021-01-15T00:00:00\", \"2021-01-19T00:00:00\", \"2021-01-20T00:00:00\", \"2021-01-21T00:00:00\", \"2021-01-22T00:00:00\", \"2021-01-25T00:00:00\", \"2021-01-26T00:00:00\", \"2021-01-27T00:00:00\", \"2021-01-28T00:00:00\", \"2021-01-29T00:00:00\", \"2021-02-01T00:00:00\", \"2021-02-02T00:00:00\", \"2021-02-03T00:00:00\", \"2021-02-04T00:00:00\", \"2021-02-05T00:00:00\", \"2021-02-08T00:00:00\", \"2021-02-09T00:00:00\", \"2021-02-10T00:00:00\", \"2021-02-11T00:00:00\", \"2021-02-12T00:00:00\", \"2021-02-16T00:00:00\", \"2021-02-17T00:00:00\", \"2021-02-18T00:00:00\", \"2021-02-19T00:00:00\", \"2021-02-22T00:00:00\", \"2021-02-23T00:00:00\", \"2021-02-24T00:00:00\", \"2021-02-25T00:00:00\", \"2021-02-26T00:00:00\", \"2021-03-01T00:00:00\", \"2021-03-02T00:00:00\", \"2021-03-03T00:00:00\", \"2021-03-04T00:00:00\", \"2021-03-05T00:00:00\"], \"xaxis\": \"x\", \"y\": [null, 1031.6849975, 1030.744995, 1036.25, 1046.5150145, 1065.320007, 1087.2650145, 1091.3650515, 1100.430054, 1078.625, 1059.774963, 1052.654968, 1038.0650025, 1045.6500245, 1057.715027, 1062.790039, 1052.0, 1029.3150025, 1022.619995, 1025.8599855, 1016.2099915000001, 994.4749755, 977.8799745, 1007.839966, 1041.669983, 1040.4799805, 1036.3449705, 1040.7299805, 1030.954987, 1043.3849795, 1069.549988, 1072.335022, 1075.4700315, 1072.494995, 1063.7599485, 1050.939941, 1060.9199825, 1079.0599975, 1085.4349975, 1094.080017, 1084.390015, 1073.044983, 1074.734985, 1082.445007, 1080.534973, 1065.3499755, 1074.840027, 1102.715027, 1113.5599975, 1121.7750245, 1139.3950195, 1130.609985, 1106.9699705, 1096.88501, 1095.0350345, 1108.1900025, 1120.7650145, 1120.915039, 1117.660034, 1116.1050415, 1116.180054, 1105.38501, 1103.669983, 1109.8850095, 1112.2650145, 1115.590027, 1117.9850465, 1130.455017, 1144.3950195, 1154.915039, 1159.945007, 1150.580017, 1142.8099975, 1159.039978, 1184.4799805, 1193.2599485, 1189.4349975, 1185.005005, 1184.3599855, 1191.554993, 1211.4099735, 1227.755005, 1218.5200195, 1199.25, 1188.8099975, 1178.8200075, 1170.755005, 1170.9000245, 1183.8700565, 1197.460022, 1203.205017, 1210.460022, 1211.075012, 1205.494995, 1200.544983, 1199.705017, 1203.3900145, 1211.244995, 1219.4849855, 1224.1149905, 1231.7349855, 1236.3549805, 1242.6049805, 1256.6950075, 1260.2750245, 1259.7249755, 1267.8150025, 1279.880005, 1238.029968, 1178.279968, 1165.3449705, 1174.0050045, 1187.3950195, 1181.7449955, 1170.184998, 1164.3250125, 1163.3250125, 1148.1500245, 1126.234985, 1142.324951, 1171.5949705, 1170.6400145, 1150.5750125, 1144.2399905, 1150.5250245, 1146.095032, 1137.1199955, 1133.8099975, 1125.3049925, 1117.204956, 1110.789978, 1069.9299925, 1044.6400145, 1047.63501, 1043.2799685, 1055.1900025, 1073.210022, 1079.549988, 1077.875, 1082.9000245, 1087.059998, 1088.924988, 1098.049988, 1102.964966, 1106.875, 1116.6500245, 1118.7000125, 1100.934998, 1083.0750125, 1077.9050295, 1078.460022, 1089.4299925, 1104.5999755, 1116.414978, 1126.584961, 1123.969971, 1120.589966, 1132.654968, 1142.3449705, 1144.5549925, 1147.619995, 1151.959961, 1149.964966, 1146.339966, 1138.214966, 1134.084961, 1142.1399535, 1142.01001, 1134.965027, 1191.2650145, 1244.910034, 1232.2750245, 1220.9100345, 1212.845032, 1201.5, 1173.154968, 1161.1349485, 1171.9699705, 1189.3950195, 1196.4050295, 1181.3599855, 1185.9899905, 1180.7800295, 1165.7750245, 1172.429993, 1188.0249635, 1190.569946, 1186.9699705, 1190.3900145, 1170.410034, 1160.090027, 1168.3649905, 1169.429993, 1181.934998, 1190.474976, 1178.2449955, 1174.9000245, 1196.3950195, 1208.1550295, 1204.670044, 1205.205017, 1213.085022, 1227.210022, 1236.9050295, 1235.430054, 1230.2250365, 1230.780029, 1235.5599975, 1234.3200075, 1231.9800415, 1226.3950195, 1232.640015, 1243.9550175, 1233.2399905, 1222.044983, 1212.049988, 1190.8649905, 1182.2299805, 1198.414978, 1208.340027, 1198.4050295, 1195.720032, 1205.4900515, 1212.0599975, 1216.294983, 1230.0750125, 1243.3250125, 1248.3549805, 1249.279968, 1245.820007, 1244.4750365, 1250.965027, 1260.0599975, 1263.0599975, 1277.5650025, 1276.3099975, 1261.955017, 1260.700012, 1266.9249875, 1282.5549925, 1291.700012, 1291.915039, 1300.330017, 1310.11499, 1305.279968, 1298.994995, 1298.4000245, 1304.7299805, 1323.164978, 1327.784973, 1318.079956, 1309.255005, 1302.2000125, 1298.344971, 1301.0149535, 1310.119995, 1313.2700195, 1308.9749755, 1297.4400025, 1292.6000365, 1307.910034, 1324.335022, 1334.375, 1342.090027, 1344.1100465, 1344.840027, 1347.64502, 1349.049988, 1354.5, 1358.1450195, 1353.869995, 1354.330017, 1352.8150025, 1349.214966, 1346.2000125, 1351.9800415, 1356.1450195, 1344.015015, 1336.5800175, 1352.1950075, 1364.0150145, 1377.4349975, 1393.7749635000002, 1398.8299560000003, 1412.0749510000003, 1424.7799680000005, 1434.4799800000008, 1435.0549925000005, 1435.0399780000007, 1445.449951000001, 1466.044983000001, 1482.395019500001, 1485.174987500001, 1486.2999875000007, 1476.6799925000007, 1450.3049925000007, 1443.2300415000007, 1455.5950320000004, 1457.2349855000004, 1445.0349730000003, 1460.0849605, 1466.5049435, 1447.649963, 1462.2299799999998, 1477.72998, 1493.9550170000002, 1508.7350465, 1513.5300295, 1516.465027, 1517.7000120000002, 1520.2050170000005, 1523.1799925000005, 1522.4199825000007, 1501.630004500001, 1453.349975500001, 1405.019958500001, 1390.8150025000011, 1355.635010000001, 1328.7099610000012, 1364.2199705000012, 1365.2500000000011, 1363.9550175000008, 1352.7800295000009, 1308.725036500001, 1256.9850465000009, 1247.9750370000008, 1247.9000245000009, 1165.160034000001, 1167.320007000001, 1152.029968000001, 1102.065002500001, 1108.3000490000009, 1106.0450440000009, 1093.804992500001, 1064.469970500001, 1095.539978000001, 1118.474975500001, 1132.119995000001, 1136.229980500001, 1128.764953500001, 1154.815002500001, 1134.2150270000009, 1113.229980500001, 1109.359985500001, 1142.4000245000009, 1186.7150270000009, 1198.395019500001, 1210.864990000001, 1214.505005000001, 1243.395019500001, 1265.849975500001, 1262.969971000001, 1273.359985500001, 1274.929992500001, 1241.474975500001, 1239.774963500001, 1269.7600100000009, 1277.8100590000008, 1277.5950320000009, 1254.7750245000009, 1287.575012000001, 1345.070007000001, 1334.635009500001, 1323.705017000001, 1338.955017000001, 1349.205017000001, 1359.9300540000008, 1380.4650270000009, 1395.8150025000011, 1389.5000000000014, 1362.5349730000016, 1352.7299805000016, 1364.6599730000016, 1378.564941000002, 1378.712463000002, 1390.1024780000018, 1404.7600100000018, 1406.610046500002, 1413.7200320000018, 1417.4299930000018, 1417.2849730000016, 1422.8250120000018, 1430.3699950000018, 1435.519958500002, 1437.7999880000023, 1424.2800295000022, 1425.285034500002, 1442.500000000002, 1451.385009500002, 1461.0050050000023, 1434.8449710000025, 1408.5100100000025, 1416.5150150000024, 1431.2849735000025, 1446.9199830000023, 1443.5399780000023, 1433.8399660000023, 1441.7899780000023, 1458.1350095000023, 1448.1900025000023, 1436.649963500002, 1400.614990000002, 1377.434997500002, 1404.2899780000018, 1425.8250120000018, 1451.3699950000018, 1480.199951000002, 1490.440002500002, 1490.5900270000022, 1503.494995000002, 1526.3649900000019, 1526.5399780000016, 1515.9599610000014, 1517.1099855000014, 1515.820007500001, 1516.775024500001, 1540.6350100000009, 1562.070007500001, 1563.4550170000014, 1542.0850220000013, 1513.7750245000016, 1521.0349730000019, 1515.2699585000018, 1511.1799930000018, 1526.7349855000018, 1507.2049560000019, 1478.7049560000016, 1469.7099610000016, 1469.2899780000018, 1486.8549805000018, 1497.294983000002, 1495.2949830000023, 1488.2099610000023, 1493.4699705000023, 1512.5349730000023, 1513.0899655000026, 1512.8549800000026, 1538.2899780000025, 1553.0650025000023, 1564.6400145000023, 1581.0850220000023, 1584.3099975000023, 1598.2099610000025, 1630.2999880000027, 1643.3549805000027, 1639.3699950000027, 1639.295044000003, 1647.445007500003, 1694.494995000003, 1685.059997500003, 1616.440002500003, 1561.7150270000027, 1544.6749880000027, 1544.4899905000025, 1526.3699955000022, 1520.0000000000023, 1530.359985000002, 1531.169982500002, 1508.215026500002, 1477.7600095000018, 1445.5750120000018, 1448.3099975000018, 1440.3349610000016, 1421.7500000000016, 1436.6250000000016, 1454.7399905000018, 1466.9249880000018, 1469.4649660000018, 1479.844971000002, 1474.255005000002, 1472.2200320000018, 1469.7299805000018, 1456.8649900000019, 1473.110046500002, 1500.575012500002, 1542.184997500002, 1570.415039000002, 1569.880005000002, 1563.6049805000023, 1566.070007500002, 1553.8099975000018, 1545.2700195000016, 1574.6200565000013, 1604.3200075000016, 1628.1649780000014, 1615.7249755000014, 1597.3549805000011, 1560.4400025000011, 1541.9299925000014, 1594.1250000000014, 1623.5200195000016, 1638.1199950000018, 1699.6699830000018, 1756.250000000002, 1762.5599975000018, 1762.3750000000018, 1751.6950075000018, 1746.5499880000016, 1751.2749635000014, 1763.4299930000013, 1779.200012500001, 1775.7650145000011, 1758.4650265000014, 1755.3500365000018, 1753.054992500002, 1738.5249630000017, 1751.8699950000016, 1770.1550295000015, 1782.3099975000018, 1776.9649655000019, 1779.4199830000018, 1813.0249635000018, 1827.3599855000016, 1827.3800050000016, 1823.7349850000019, 1819.0150145000016, 1801.3400270000016, 1779.7299805000014, 1778.5499880000011, 1770.9150395000015, 1763.9150395000015, 1765.3850100000016, 1755.4500120000016, 1739.4550170000016, 1735.1900025000018, 1731.4349975000018, 1727.9400025000018, 1735.614990500002, 1757.4699710000018, 1767.4049685000014, 1749.1199955000013, 1745.7000125000015, 1740.0599975000014, 1734.5800170000016, 1738.1050415000018, 1761.2700195000016, 1797.2299805000018, 1786.9649660000018, 1756.635010000002, 1750.475036500002, 1747.290039000002, 1738.1849975000023, 1763.5249630000023, 1838.8800045000023, 1889.0750120000025, 1896.150024500003, 1900.2250365000027, 1908.3200070000028, 1874.015014500003, 1846.950012000003, 1849.424987500003, 1868.544983000003, 1914.429993000003, 1998.7900390000027, 2066.220092500003, 2080.185058500003, 2095.4549560000028, 2088.2099610000027, 2089.4449465000025, 2095.6348880000023, 2100.0000000000027, 2113.0050045000025, 2125.104980500002, 2122.7550050000023, 2109.1699220000028, 2083.0098880000023, 2067.8699950000027, 2083.015014500003, 2063.264953500003, 2034.1099850000028, 2059.1849975000027, 2078.6750490000027, 2051.2750245000025, 2037.9000245000025, 2078.815063500002], \"yaxis\": \"y\"}, {\"line\": {\"color\": \"#92a1cf\"}, \"name\": \"5_d_avg\", \"type\": \"scatter\", \"x\": [\"2018-11-20T00:00:00\", \"2018-11-21T00:00:00\", \"2018-11-23T00:00:00\", \"2018-11-26T00:00:00\", \"2018-11-27T00:00:00\", \"2018-11-28T00:00:00\", \"2018-11-29T00:00:00\", \"2018-11-30T00:00:00\", \"2018-12-03T00:00:00\", \"2018-12-04T00:00:00\", \"2018-12-06T00:00:00\", \"2018-12-07T00:00:00\", \"2018-12-10T00:00:00\", \"2018-12-11T00:00:00\", \"2018-12-12T00:00:00\", \"2018-12-13T00:00:00\", \"2018-12-14T00:00:00\", \"2018-12-17T00:00:00\", \"2018-12-18T00:00:00\", \"2018-12-19T00:00:00\", \"2018-12-20T00:00:00\", \"2018-12-21T00:00:00\", \"2018-12-24T00:00:00\", \"2018-12-26T00:00:00\", \"2018-12-27T00:00:00\", \"2018-12-28T00:00:00\", \"2018-12-31T00:00:00\", \"2019-01-02T00:00:00\", \"2019-01-03T00:00:00\", \"2019-01-04T00:00:00\", \"2019-01-07T00:00:00\", \"2019-01-08T00:00:00\", \"2019-01-09T00:00:00\", \"2019-01-10T00:00:00\", \"2019-01-11T00:00:00\", \"2019-01-14T00:00:00\", \"2019-01-15T00:00:00\", \"2019-01-16T00:00:00\", \"2019-01-17T00:00:00\", \"2019-01-18T00:00:00\", \"2019-01-22T00:00:00\", \"2019-01-23T00:00:00\", \"2019-01-24T00:00:00\", \"2019-01-25T00:00:00\", \"2019-01-28T00:00:00\", \"2019-01-29T00:00:00\", \"2019-01-30T00:00:00\", \"2019-01-31T00:00:00\", \"2019-02-01T00:00:00\", \"2019-02-04T00:00:00\", \"2019-02-05T00:00:00\", \"2019-02-06T00:00:00\", \"2019-02-07T00:00:00\", \"2019-02-08T00:00:00\", \"2019-02-11T00:00:00\", \"2019-02-12T00:00:00\", \"2019-02-13T00:00:00\", \"2019-02-14T00:00:00\", \"2019-02-15T00:00:00\", \"2019-02-19T00:00:00\", \"2019-02-20T00:00:00\", \"2019-02-21T00:00:00\", \"2019-02-22T00:00:00\", \"2019-02-25T00:00:00\", \"2019-02-26T00:00:00\", \"2019-02-27T00:00:00\", \"2019-02-28T00:00:00\", \"2019-03-01T00:00:00\", \"2019-03-04T00:00:00\", \"2019-03-05T00:00:00\", \"2019-03-06T00:00:00\", \"2019-03-07T00:00:00\", \"2019-03-08T00:00:00\", \"2019-03-11T00:00:00\", \"2019-03-12T00:00:00\", \"2019-03-13T00:00:00\", \"2019-03-14T00:00:00\", \"2019-03-15T00:00:00\", \"2019-03-18T00:00:00\", \"2019-03-19T00:00:00\", \"2019-03-20T00:00:00\", \"2019-03-21T00:00:00\", \"2019-03-22T00:00:00\", \"2019-03-25T00:00:00\", \"2019-03-26T00:00:00\", \"2019-03-27T00:00:00\", \"2019-03-28T00:00:00\", \"2019-03-29T00:00:00\", \"2019-04-01T00:00:00\", \"2019-04-02T00:00:00\", \"2019-04-03T00:00:00\", \"2019-04-04T00:00:00\", \"2019-04-05T00:00:00\", \"2019-04-08T00:00:00\", \"2019-04-09T00:00:00\", \"2019-04-10T00:00:00\", \"2019-04-11T00:00:00\", \"2019-04-12T00:00:00\", \"2019-04-15T00:00:00\", \"2019-04-16T00:00:00\", \"2019-04-17T00:00:00\", \"2019-04-18T00:00:00\", \"2019-04-22T00:00:00\", \"2019-04-23T00:00:00\", \"2019-04-24T00:00:00\", \"2019-04-25T00:00:00\", \"2019-04-26T00:00:00\", \"2019-04-29T00:00:00\", \"2019-04-30T00:00:00\", \"2019-05-01T00:00:00\", \"2019-05-02T00:00:00\", \"2019-05-03T00:00:00\", \"2019-05-06T00:00:00\", \"2019-05-07T00:00:00\", \"2019-05-08T00:00:00\", \"2019-05-09T00:00:00\", \"2019-05-10T00:00:00\", \"2019-05-13T00:00:00\", \"2019-05-14T00:00:00\", \"2019-05-15T00:00:00\", \"2019-05-16T00:00:00\", \"2019-05-17T00:00:00\", \"2019-05-20T00:00:00\", \"2019-05-21T00:00:00\", \"2019-05-22T00:00:00\", \"2019-05-23T00:00:00\", \"2019-05-24T00:00:00\", \"2019-05-28T00:00:00\", \"2019-05-29T00:00:00\", \"2019-05-30T00:00:00\", \"2019-05-31T00:00:00\", \"2019-06-03T00:00:00\", \"2019-06-04T00:00:00\", \"2019-06-05T00:00:00\", \"2019-06-06T00:00:00\", \"2019-06-07T00:00:00\", \"2019-06-10T00:00:00\", \"2019-06-11T00:00:00\", \"2019-06-12T00:00:00\", \"2019-06-13T00:00:00\", \"2019-06-14T00:00:00\", \"2019-06-17T00:00:00\", \"2019-06-18T00:00:00\", \"2019-06-19T00:00:00\", \"2019-06-20T00:00:00\", \"2019-06-21T00:00:00\", \"2019-06-24T00:00:00\", \"2019-06-25T00:00:00\", \"2019-06-26T00:00:00\", \"2019-06-27T00:00:00\", \"2019-06-28T00:00:00\", \"2019-07-01T00:00:00\", \"2019-07-02T00:00:00\", \"2019-07-03T00:00:00\", \"2019-07-05T00:00:00\", \"2019-07-08T00:00:00\", \"2019-07-09T00:00:00\", \"2019-07-10T00:00:00\", \"2019-07-11T00:00:00\", \"2019-07-12T00:00:00\", \"2019-07-15T00:00:00\", \"2019-07-16T00:00:00\", \"2019-07-17T00:00:00\", \"2019-07-18T00:00:00\", \"2019-07-19T00:00:00\", \"2019-07-22T00:00:00\", \"2019-07-23T00:00:00\", \"2019-07-24T00:00:00\", \"2019-07-25T00:00:00\", \"2019-07-26T00:00:00\", \"2019-07-29T00:00:00\", \"2019-07-30T00:00:00\", \"2019-07-31T00:00:00\", \"2019-08-01T00:00:00\", \"2019-08-02T00:00:00\", \"2019-08-05T00:00:00\", \"2019-08-06T00:00:00\", \"2019-08-07T00:00:00\", \"2019-08-08T00:00:00\", \"2019-08-09T00:00:00\", \"2019-08-12T00:00:00\", \"2019-08-13T00:00:00\", \"2019-08-14T00:00:00\", \"2019-08-15T00:00:00\", \"2019-08-16T00:00:00\", \"2019-08-19T00:00:00\", \"2019-08-20T00:00:00\", \"2019-08-21T00:00:00\", \"2019-08-22T00:00:00\", \"2019-08-23T00:00:00\", \"2019-08-26T00:00:00\", \"2019-08-27T00:00:00\", \"2019-08-28T00:00:00\", \"2019-08-29T00:00:00\", \"2019-08-30T00:00:00\", \"2019-09-03T00:00:00\", \"2019-09-04T00:00:00\", \"2019-09-05T00:00:00\", \"2019-09-06T00:00:00\", \"2019-09-09T00:00:00\", \"2019-09-10T00:00:00\", \"2019-09-11T00:00:00\", \"2019-09-12T00:00:00\", \"2019-09-13T00:00:00\", \"2019-09-16T00:00:00\", \"2019-09-17T00:00:00\", \"2019-09-18T00:00:00\", \"2019-09-19T00:00:00\", \"2019-09-20T00:00:00\", \"2019-09-23T00:00:00\", \"2019-09-24T00:00:00\", \"2019-09-25T00:00:00\", \"2019-09-26T00:00:00\", \"2019-09-27T00:00:00\", \"2019-09-30T00:00:00\", \"2019-10-01T00:00:00\", \"2019-10-02T00:00:00\", \"2019-10-03T00:00:00\", \"2019-10-04T00:00:00\", \"2019-10-07T00:00:00\", \"2019-10-08T00:00:00\", \"2019-10-09T00:00:00\", \"2019-10-10T00:00:00\", \"2019-10-11T00:00:00\", \"2019-10-14T00:00:00\", \"2019-10-15T00:00:00\", \"2019-10-16T00:00:00\", \"2019-10-17T00:00:00\", \"2019-10-18T00:00:00\", \"2019-10-21T00:00:00\", \"2019-10-22T00:00:00\", \"2019-10-23T00:00:00\", \"2019-10-24T00:00:00\", \"2019-10-25T00:00:00\", \"2019-10-28T00:00:00\", \"2019-10-29T00:00:00\", \"2019-10-30T00:00:00\", \"2019-10-31T00:00:00\", \"2019-11-01T00:00:00\", \"2019-11-04T00:00:00\", \"2019-11-05T00:00:00\", \"2019-11-06T00:00:00\", \"2019-11-07T00:00:00\", \"2019-11-08T00:00:00\", \"2019-11-11T00:00:00\", \"2019-11-12T00:00:00\", \"2019-11-13T00:00:00\", \"2019-11-14T00:00:00\", \"2019-11-15T00:00:00\", \"2019-11-18T00:00:00\", \"2019-11-19T00:00:00\", \"2019-11-20T00:00:00\", \"2019-11-21T00:00:00\", \"2019-11-22T00:00:00\", \"2019-11-25T00:00:00\", \"2019-11-26T00:00:00\", \"2019-11-27T00:00:00\", \"2019-11-29T00:00:00\", \"2019-12-02T00:00:00\", \"2019-12-03T00:00:00\", \"2019-12-04T00:00:00\", \"2019-12-05T00:00:00\", \"2019-12-06T00:00:00\", \"2019-12-09T00:00:00\", \"2019-12-10T00:00:00\", \"2019-12-11T00:00:00\", \"2019-12-12T00:00:00\", \"2019-12-13T00:00:00\", \"2019-12-16T00:00:00\", \"2019-12-17T00:00:00\", \"2019-12-18T00:00:00\", \"2019-12-19T00:00:00\", \"2019-12-20T00:00:00\", \"2019-12-23T00:00:00\", \"2019-12-24T00:00:00\", \"2019-12-26T00:00:00\", \"2019-12-27T00:00:00\", \"2019-12-30T00:00:00\", \"2019-12-31T00:00:00\", \"2020-01-02T00:00:00\", \"2020-01-03T00:00:00\", \"2020-01-06T00:00:00\", \"2020-01-07T00:00:00\", \"2020-01-08T00:00:00\", \"2020-01-09T00:00:00\", \"2020-01-10T00:00:00\", \"2020-01-13T00:00:00\", \"2020-01-14T00:00:00\", \"2020-01-15T00:00:00\", \"2020-01-16T00:00:00\", \"2020-01-17T00:00:00\", \"2020-01-21T00:00:00\", \"2020-01-22T00:00:00\", \"2020-01-23T00:00:00\", \"2020-01-24T00:00:00\", \"2020-01-27T00:00:00\", \"2020-01-28T00:00:00\", \"2020-01-29T00:00:00\", \"2020-01-30T00:00:00\", \"2020-01-31T00:00:00\", \"2020-02-03T00:00:00\", \"2020-02-04T00:00:00\", \"2020-02-05T00:00:00\", \"2020-02-06T00:00:00\", \"2020-02-07T00:00:00\", \"2020-02-10T00:00:00\", \"2020-02-11T00:00:00\", \"2020-02-12T00:00:00\", \"2020-02-13T00:00:00\", \"2020-02-14T00:00:00\", \"2020-02-18T00:00:00\", \"2020-02-19T00:00:00\", \"2020-02-20T00:00:00\", \"2020-02-21T00:00:00\", \"2020-02-24T00:00:00\", \"2020-02-25T00:00:00\", \"2020-02-26T00:00:00\", \"2020-02-27T00:00:00\", \"2020-02-28T00:00:00\", \"2020-03-02T00:00:00\", \"2020-03-03T00:00:00\", \"2020-03-04T00:00:00\", \"2020-03-05T00:00:00\", \"2020-03-06T00:00:00\", \"2020-03-09T00:00:00\", \"2020-03-10T00:00:00\", \"2020-03-11T00:00:00\", \"2020-03-12T00:00:00\", \"2020-03-13T00:00:00\", \"2020-03-16T00:00:00\", \"2020-03-17T00:00:00\", \"2020-03-18T00:00:00\", \"2020-03-19T00:00:00\", \"2020-03-20T00:00:00\", \"2020-03-23T00:00:00\", \"2020-03-24T00:00:00\", \"2020-03-25T00:00:00\", \"2020-03-26T00:00:00\", \"2020-03-27T00:00:00\", \"2020-03-30T00:00:00\", \"2020-03-31T00:00:00\", \"2020-04-01T00:00:00\", \"2020-04-02T00:00:00\", \"2020-04-03T00:00:00\", \"2020-04-06T00:00:00\", \"2020-04-07T00:00:00\", \"2020-04-08T00:00:00\", \"2020-04-09T00:00:00\", \"2020-04-13T00:00:00\", \"2020-04-14T00:00:00\", \"2020-04-15T00:00:00\", \"2020-04-16T00:00:00\", \"2020-04-17T00:00:00\", \"2020-04-20T00:00:00\", \"2020-04-21T00:00:00\", \"2020-04-22T00:00:00\", \"2020-04-23T00:00:00\", \"2020-04-24T00:00:00\", \"2020-04-27T00:00:00\", \"2020-04-28T00:00:00\", \"2020-04-29T00:00:00\", \"2020-04-30T00:00:00\", \"2020-05-01T00:00:00\", \"2020-05-04T00:00:00\", \"2020-05-05T00:00:00\", \"2020-05-06T00:00:00\", \"2020-05-07T00:00:00\", \"2020-05-08T00:00:00\", \"2020-05-11T00:00:00\", \"2020-05-12T00:00:00\", \"2020-05-13T00:00:00\", \"2020-05-14T00:00:00\", \"2020-05-15T00:00:00\", \"2020-05-18T00:00:00\", \"2020-05-19T00:00:00\", \"2020-05-20T00:00:00\", \"2020-05-21T00:00:00\", \"2020-05-22T00:00:00\", \"2020-05-26T00:00:00\", \"2020-05-27T00:00:00\", \"2020-05-28T00:00:00\", \"2020-05-29T00:00:00\", \"2020-06-01T00:00:00\", \"2020-06-02T00:00:00\", \"2020-06-03T00:00:00\", \"2020-06-04T00:00:00\", \"2020-06-05T00:00:00\", \"2020-06-08T00:00:00\", \"2020-06-09T00:00:00\", \"2020-06-10T00:00:00\", \"2020-06-11T00:00:00\", \"2020-06-12T00:00:00\", \"2020-06-15T00:00:00\", \"2020-06-16T00:00:00\", \"2020-06-17T00:00:00\", \"2020-06-18T00:00:00\", \"2020-06-19T00:00:00\", \"2020-06-22T00:00:00\", \"2020-06-23T00:00:00\", \"2020-06-24T00:00:00\", \"2020-06-25T00:00:00\", \"2020-06-26T00:00:00\", \"2020-06-29T00:00:00\", \"2020-06-30T00:00:00\", \"2020-07-01T00:00:00\", \"2020-07-02T00:00:00\", \"2020-07-06T00:00:00\", \"2020-07-07T00:00:00\", \"2020-07-08T00:00:00\", \"2020-07-09T00:00:00\", \"2020-07-10T00:00:00\", \"2020-07-13T00:00:00\", \"2020-07-14T00:00:00\", \"2020-07-15T00:00:00\", \"2020-07-16T00:00:00\", \"2020-07-17T00:00:00\", \"2020-07-20T00:00:00\", \"2020-07-21T00:00:00\", \"2020-07-22T00:00:00\", \"2020-07-23T00:00:00\", \"2020-07-24T00:00:00\", \"2020-07-27T00:00:00\", \"2020-07-28T00:00:00\", \"2020-07-29T00:00:00\", \"2020-07-30T00:00:00\", \"2020-07-31T00:00:00\", \"2020-08-03T00:00:00\", \"2020-08-04T00:00:00\", \"2020-08-05T00:00:00\", \"2020-08-06T00:00:00\", \"2020-08-07T00:00:00\", \"2020-08-10T00:00:00\", \"2020-08-11T00:00:00\", \"2020-08-12T00:00:00\", \"2020-08-13T00:00:00\", \"2020-08-14T00:00:00\", \"2020-08-17T00:00:00\", \"2020-08-18T00:00:00\", \"2020-08-19T00:00:00\", \"2020-08-20T00:00:00\", \"2020-08-21T00:00:00\", \"2020-08-24T00:00:00\", \"2020-08-25T00:00:00\", \"2020-08-26T00:00:00\", \"2020-08-27T00:00:00\", \"2020-08-28T00:00:00\", \"2020-08-31T00:00:00\", \"2020-09-01T00:00:00\", \"2020-09-02T00:00:00\", \"2020-09-03T00:00:00\", \"2020-09-04T00:00:00\", \"2020-09-08T00:00:00\", \"2020-09-09T00:00:00\", \"2020-09-10T00:00:00\", \"2020-09-11T00:00:00\", \"2020-09-14T00:00:00\", \"2020-09-15T00:00:00\", \"2020-09-16T00:00:00\", \"2020-09-17T00:00:00\", \"2020-09-18T00:00:00\", \"2020-09-21T00:00:00\", \"2020-09-22T00:00:00\", \"2020-09-23T00:00:00\", \"2020-09-24T00:00:00\", \"2020-09-25T00:00:00\", \"2020-09-28T00:00:00\", \"2020-09-29T00:00:00\", \"2020-09-30T00:00:00\", \"2020-10-01T00:00:00\", \"2020-10-02T00:00:00\", \"2020-10-05T00:00:00\", \"2020-10-06T00:00:00\", \"2020-10-07T00:00:00\", \"2020-10-08T00:00:00\", \"2020-10-09T00:00:00\", \"2020-10-12T00:00:00\", \"2020-10-13T00:00:00\", \"2020-10-14T00:00:00\", \"2020-10-15T00:00:00\", \"2020-10-16T00:00:00\", \"2020-10-19T00:00:00\", \"2020-10-20T00:00:00\", \"2020-10-21T00:00:00\", \"2020-10-22T00:00:00\", \"2020-10-23T00:00:00\", \"2020-10-26T00:00:00\", \"2020-10-27T00:00:00\", \"2020-10-28T00:00:00\", \"2020-10-29T00:00:00\", \"2020-10-30T00:00:00\", \"2020-11-02T00:00:00\", \"2020-11-03T00:00:00\", \"2020-11-04T00:00:00\", \"2020-11-05T00:00:00\", \"2020-11-06T00:00:00\", \"2020-11-09T00:00:00\", \"2020-11-10T00:00:00\", \"2020-11-11T00:00:00\", \"2020-11-12T00:00:00\", \"2020-11-13T00:00:00\", \"2020-11-16T00:00:00\", \"2020-11-17T00:00:00\", \"2020-11-18T00:00:00\", \"2020-11-19T00:00:00\", \"2020-11-20T00:00:00\", \"2020-11-23T00:00:00\", \"2020-11-24T00:00:00\", \"2020-11-25T00:00:00\", \"2020-11-27T00:00:00\", \"2020-11-30T00:00:00\", \"2020-12-01T00:00:00\", \"2020-12-02T00:00:00\", \"2020-12-03T00:00:00\", \"2020-12-04T00:00:00\", \"2020-12-07T00:00:00\", \"2020-12-08T00:00:00\", \"2020-12-09T00:00:00\", \"2020-12-10T00:00:00\", \"2020-12-11T00:00:00\", \"2020-12-14T00:00:00\", \"2020-12-15T00:00:00\", \"2020-12-16T00:00:00\", \"2020-12-17T00:00:00\", \"2020-12-18T00:00:00\", \"2020-12-21T00:00:00\", \"2020-12-22T00:00:00\", \"2020-12-23T00:00:00\", \"2020-12-24T00:00:00\", \"2020-12-28T00:00:00\", \"2020-12-29T00:00:00\", \"2020-12-30T00:00:00\", \"2020-12-31T00:00:00\", \"2021-01-04T00:00:00\", \"2021-01-05T00:00:00\", \"2021-01-06T00:00:00\", \"2021-01-07T00:00:00\", \"2021-01-08T00:00:00\", \"2021-01-11T00:00:00\", \"2021-01-12T00:00:00\", \"2021-01-13T00:00:00\", \"2021-01-14T00:00:00\", \"2021-01-15T00:00:00\", \"2021-01-19T00:00:00\", \"2021-01-20T00:00:00\", \"2021-01-21T00:00:00\", \"2021-01-22T00:00:00\", \"2021-01-25T00:00:00\", \"2021-01-26T00:00:00\", \"2021-01-27T00:00:00\", \"2021-01-28T00:00:00\", \"2021-01-29T00:00:00\", \"2021-02-01T00:00:00\", \"2021-02-02T00:00:00\", \"2021-02-03T00:00:00\", \"2021-02-04T00:00:00\", \"2021-02-05T00:00:00\", \"2021-02-08T00:00:00\", \"2021-02-09T00:00:00\", \"2021-02-10T00:00:00\", \"2021-02-11T00:00:00\", \"2021-02-12T00:00:00\", \"2021-02-16T00:00:00\", \"2021-02-17T00:00:00\", \"2021-02-18T00:00:00\", \"2021-02-19T00:00:00\", \"2021-02-22T00:00:00\", \"2021-02-23T00:00:00\", \"2021-02-24T00:00:00\", \"2021-02-25T00:00:00\", \"2021-02-26T00:00:00\", \"2021-03-01T00:00:00\", \"2021-03-02T00:00:00\", \"2021-03-03T00:00:00\", \"2021-03-04T00:00:00\", \"2021-03-05T00:00:00\"], \"xaxis\": \"x\", \"y\": [null, null, null, null, 1036.0560057999999, 1048.1499998, 1058.2880125999998, 1072.3980223999997, 1083.9600341999997, 1085.2420165999997, 1081.7420165999997, 1071.3979979999997, 1060.4219969999995, 1049.4859861999994, 1052.0580077999996, 1050.6920165999995, 1051.7960205999996, 1047.1920165999995, 1042.5840087999998, 1034.4499999999996, 1023.9519897999995, 1011.4399901999993, 1003.3779785999996, 1005.5279785999995, 1009.7019775999995, 1015.2359741999996, 1026.4499755999998, 1040.3759765999996, 1035.6959839999995, 1041.0619751999998, 1047.3239869999998, 1055.4579957999997, 1061.2200073999998, 1072.0739989999997, 1069.3699949999996, 1064.6299801999996, 1064.8039791999995, 1066.0659665999997, 1069.9799801999998, 1078.1939939999997, 1083.3600097999995, 1083.0439941999994, 1081.6300047999994, 1081.8479979999993, 1076.2119871999992, 1074.2319821999993, 1076.9300047999993, 1085.4239989999994, 1089.3760009999994, 1101.9200195999995, 1118.9940185999994, 1124.2280027999993, 1120.6959959999995, 1117.5580077999996, 1109.9999999999995, 1105.0760009999997, 1106.0620117999995, 1110.6540283999996, 1114.3720213999998, 1119.0820311999996, 1117.5680419999994, 1112.9300293999993, 1110.6700195999995, 1109.8200195999993, 1109.1340087999993, 1109.5840087999993, 1114.1740233999994, 1120.2980223999994, 1127.9780273999993, 1137.3580321999993, 1145.7200193999993, 1150.396020399999, 1150.662011599999, 1156.2540037999993, 1162.4879881999993, 1169.5799803999994, 1178.0299803999994, 1186.4579833999996, 1188.1579833999997, 1189.2879883999994, 1195.4179933999997, 1204.6159913999995, 1208.8239991999994, 1210.5719971999995, 1207.7260009999995, 1197.5360107999993, 1184.9260009999994, 1178.4880127999993, 1178.7740235999995, 1181.9480225999994, 1188.5280273999992, 1197.8300293999994, 1204.5980223999995, 1206.4800047999993, 1205.8320067999994, 1205.0800047999994, 1203.0040037999993, 1205.1479979999992, 1208.5999999999992, 1214.5760009999992, 1221.4119873999994, 1227.7619873999993, 1233.9559815999992, 1242.6459961999994, 1248.4199951999994, 1253.8419921999994, 1261.0040039999994, 1268.7520019999997, 1253.5379881999997, 1235.9539793999998, 1215.7859861999998, 1198.4299801999998, 1178.7919919999997, 1175.9159911999996, 1175.5540039999996, 1175.5080079999996, 1171.2820071999995, 1159.8100099999995, 1149.0780029999994, 1148.6659911999996, 1151.9859861999996, 1151.5919919999997, 1152.9559813999997, 1158.7939941999998, 1156.2360107999998, 1148.5940187999997, 1142.8280031999998, 1141.8880128, 1135.2540040000001, 1128.5599854, 1121.1319824, 1101.6839842000002, 1085.4639892, 1070.6159911999998, 1055.8939941999997, 1048.3760009999996, 1057.2060059999997, 1062.3399903999998, 1069.3020019999997, 1078.1880127999998, 1082.0500001999997, 1084.4739991999998, 1089.4500001999997, 1094.5099855999997, 1099.0399903999999, 1106.3459961999997, 1110.9500001999997, 1107.5000001999997, 1102.9940187999996, 1095.9120119999995, 1087.7180177999996, 1084.2040039999997, 1089.1840087999997, 1097.5399901999997, 1108.6559813999997, 1115.7439697999994, 1121.1199707999992, 1126.9659667999993, 1131.4919677999994, 1134.1539793999996, 1140.9519773999996, 1146.7019773999996, 1147.8759765999996, 1148.2999755999995, 1145.339965999999, 1142.8859619999992, 1141.4119629999993, 1139.7039795999995, 1136.8619873999992, 1160.9239989999994, 1181.1920165999995, 1196.9780273999997, 1212.7520264, 1228.1300293999998, 1216.8460206, 1199.4280029999998, 1188.3899901999998, 1179.8519774000001, 1179.0099851999998, 1177.8139892, 1182.2919922, 1187.756006, 1185.8160157999998, 1178.308008, 1176.2260012, 1180.9739992, 1178.0579834, 1183.4499756, 1187.9039794, 1182.641992, 1176.7300048000002, 1173.7600097999998, 1169.7140138, 1170.3780032, 1177.7399905999998, 1177.6399906, 1180.3540042, 1188.4260012, 1190.8420168, 1194.1040284000003, 1201.6260254000003, 1209.3780274, 1213.9520264, 1220.8780274, 1226.2560303999999, 1230.8860352, 1233.3340332, 1234.2260254, 1232.3000244000002, 1232.8460204000003, 1230.7680176000001, 1233.5900148, 1234.1260256, 1233.1580079999999, 1230.1520022, 1227.4199954, 1213.4419924, 1202.7299806, 1199.5119874, 1197.2479982, 1194.054004, 1199.1900148, 1203.3580324, 1204.6480225999999, 1206.5400148, 1217.3160158, 1225.5820070000002, 1234.4619874, 1240.4699951999999, 1246.271997, 1246.2300048000002, 1249.3280028000001, 1250.9120116000001, 1254.8400146000001, 1263.6100098000002, 1267.5739990000002, 1268.0060058000001, 1267.8300048, 1269.5520018000002, 1269.8260008000002, 1275.7080076, 1281.8100096000003, 1291.5600096000003, 1299.0860106000002, 1300.6499998000002, 1302.0040038000002, 1303.2439940000004, 1303.7639892000004, 1308.4639892000005, 1312.7659912000004, 1316.0979736000004, 1317.1079834000004, 1315.0859864000001, 1307.1799806000001, 1304.3779786, 1303.9959961999998, 1305.9839843999998, 1306.7059814, 1305.6219970000002, 1303.3400146, 1304.7380126, 1307.7660156, 1314.8980224, 1325.6260253999997, 1335.5020264, 1340.3980225999999, 1344.8260255999999, 1346.2680178, 1349.7900148, 1351.8820070000002, 1353.4020020000003, 1354.5560058000003, 1354.9080078000002, 1352.4419922000002, 1350.130005, 1351.6860107999998, 1350.856006, 1348.1660158, 1345.8020265999999, 1350.5640137999999, 1350.6160157999998, 1359.080005, 1370.5199952, 1383.9799804000002, 1394.4719726, 1408.2859618000002, 1417.2899656000002, 1424.7979734, 1431.7739744000003, 1438.1479734000004, 1448.2799804, 1457.3139892000004, 1468.3279784000003, 1477.8179930000001, 1480.8199950000003, 1471.5219968000004, 1465.1540038000003, 1459.6900146000003, 1453.5280030000001, 1447.0320068, 1457.4399902, 1456.3419676, 1454.2619626, 1458.3399654, 1467.3399654, 1471.887988, 1484.2320066, 1498.2400146, 1505.9260254, 1514.2280274, 1516.4260254, 1520.0060058000004, 1519.9820066000004, 1514.0719968000005, 1494.2419920000004, 1467.9979734000003, 1441.2959960000003, 1401.2839844000002, 1372.1279786, 1365.6319824000002, 1356.2199952000003, 1354.8879884000003, 1355.078003, 1346.8940186000004, 1312.1840334000003, 1299.9840334000003, 1265.7620362000002, 1224.9360352000003, 1209.2000244000003, 1182.9540038000002, 1150.8360106000002, 1127.1140136000001, 1127.1900146, 1097.7080078, 1092.1660155999998, 1095.097998, 1096.2359862, 1105.5279784000002, 1113.2059814000004, 1131.2459716000003, 1136.9159912000002, 1137.5419922000003, 1129.3599854000004, 1126.7939942000005, 1134.8140138000006, 1139.5540040000008, 1160.4860108000007, 1178.6080078000007, 1202.5440186000005, 1219.0060058000006, 1234.1979980000008, 1244.8359864000008, 1259.1959962000008, 1269.0059814000008, 1258.4279786000006, 1258.5759766000006, 1261.1439942000004, 1260.3560060000004, 1262.2100100000002, 1265.6760256000005, 1281.3300294000005, 1295.8000244000007, 1304.0600096000005, 1314.2440184000004, 1337.7320066000004, 1338.8960204000002, 1343.6760254, 1357.2280274, 1372.5200196, 1377.4460206, 1377.8520020000003, 1374.5659912000003, 1371.5299804000003, 1367.6659666000003, 1367.2149656000006, 1378.6929686000008, 1388.0269774000005, 1395.4729980000004, 1402.0890138000002, 1410.9600100000002, 1412.9620118000003, 1418.1860108000005, 1422.4659912000002, 1426.9059814000004, 1430.6139892000006, 1429.7040040000006, 1431.5979982000008, 1434.5560060000012, 1437.944018600001, 1443.838012800001, 1442.169995200001, 1437.1280030000012, 1431.7760012000012, 1429.087988600001, 1426.1419924000013, 1432.5659914000014, 1436.2739748000015, 1442.6759766000014, 1447.0139892000013, 1443.1839844000015, 1444.2579834000014, 1429.8939940000014, 1418.5159912000015, 1408.3559814000014, 1409.5699950000012, 1414.2439940000015, 1441.4039794000014, 1459.4459960000015, 1475.9239990000015, 1490.5139892000013, 1505.9219970000013, 1509.050000000001, 1516.129980400001, 1519.657983400001, 1521.059985400001, 1515.821997200001, 1526.6979982000012, 1534.2660158000012, 1545.2360108000014, 1544.7720216000012, 1544.0360108000011, 1536.932006800001, 1525.315991200001, 1516.021997200001, 1519.175976600001, 1513.393969800001, 1502.243969800001, 1495.169970800001, 1485.4879638000014, 1479.217968800001, 1481.523974600001, 1485.853979600001, 1488.9239746000007, 1495.5259766000008, 1499.1959716000008, 1501.843969600001, 1506.2199704000009, 1521.875976400001, 1530.0579832000008, 1542.717993000001, 1557.256005800001, 1571.300000000001, 1581.2239990000012, 1602.1939942000015, 1612.7099854000014, 1625.5079834000014, 1634.7040040000015, 1645.2020020000014, 1660.3820068000016, 1661.8840088000015, 1651.2100098000014, 1630.852002000001, 1610.102002000001, 1570.8500002000012, 1546.6260012000014, 1532.2739992000013, 1534.0839844000016, 1526.8719970000013, 1519.5739988000012, 1507.428002600001, 1489.8040036000014, 1474.6080076000012, 1453.4699950000013, 1440.0219970000012, 1437.0159912000013, 1443.6879884000014, 1444.4619874000011, 1455.339990400001, 1467.6999758000009, 1470.3919924000008, 1474.6919924000008, 1471.513989400001, 1469.6520020000012, 1468.8200196000012, 1480.1800050000013, 1496.8060058000015, 1520.4540284000013, 1542.0120118000013, 1556.6520020000012, 1568.210009800001, 1561.3020020000008, 1558.1520020000007, 1563.1980226000007, 1574.4380128000007, 1588.0360108000004, 1599.2040040000006, 1608.8699952000002, 1593.5319824000005, 1583.9139892000007, 1579.9159912000007, 1587.0320068000005, 1596.2219970000006, 1642.7239990000003, 1681.9500000000003, 1710.0979980000004, 1737.4919922000004, 1755.5280030000001, 1756.2439942000005, 1753.5379884000001, 1756.5919924000002, 1760.2679934, 1766.2199952000003, 1765.0340088, 1767.8500244000002, 1760.8840086000005, 1751.5800046000004, 1751.3260008000002, 1756.2560058000004, 1762.1099852000002, 1765.8199950000003, 1778.4679932, 1790.2819823999998, 1801.3499755999997, 1808.3099853999997, 1820.0579833999996, 1824.1479979999997, 1815.3840087999993, 1805.0959959999993, 1795.8520019999992, 1783.9680177999992, 1773.8120119999992, 1769.5860109999994, 1764.1000245999996, 1753.9480225999996, 1749.8100097999995, 1740.9560057999995, 1734.8320067999994, 1733.021997199999, 1742.037988399999, 1745.907983599999, 1749.1119875999989, 1753.011987599999, 1750.889990399999, 1743.8560059999993, 1739.170019599999, 1748.716015599999, 1759.7820067999994, 1767.4780029999995, 1768.6040039999993, 1772.4260009999994, 1763.0120117999995, 1748.8080077999996, 1753.6360105999997, 1781.7060055999998, 1809.0760007999997, 1841.2499997999996, 1873.8920163999996, 1899.1680173999994, 1887.9460203999993, 1882.3180173999995, 1869.2560055999995, 1869.6459959999993, 1871.6999999999994, 1919.5560057999996, 1959.4080321999995, 2011.8600341999995, 2050.1720213999997, 2081.3720213999995, 2086.4339843999996, 2093.1379395999993, 2094.359960999999, 2100.157958999999, 2109.1179687999993, 2113.4819823999997, 2114.5319823999994, 2106.6859375999993, 2096.477978599999, 2089.8499511999994, 2072.681957999999, 2059.8259763999995, 2063.1520017999997, 2064.1479979999995, 2050.4560057999997, 2054.0020264, 2068.3380372], \"yaxis\": \"y\"}, {\"line\": {\"color\": \"#6E6E6E\"}, \"name\": \"7_d_avg\", \"type\": \"scatter\", \"x\": [\"2018-11-20T00:00:00\", \"2018-11-21T00:00:00\", \"2018-11-23T00:00:00\", \"2018-11-26T00:00:00\", \"2018-11-27T00:00:00\", \"2018-11-28T00:00:00\", \"2018-11-29T00:00:00\", \"2018-11-30T00:00:00\", \"2018-12-03T00:00:00\", \"2018-12-04T00:00:00\", \"2018-12-06T00:00:00\", \"2018-12-07T00:00:00\", \"2018-12-10T00:00:00\", \"2018-12-11T00:00:00\", \"2018-12-12T00:00:00\", \"2018-12-13T00:00:00\", \"2018-12-14T00:00:00\", \"2018-12-17T00:00:00\", \"2018-12-18T00:00:00\", \"2018-12-19T00:00:00\", \"2018-12-20T00:00:00\", \"2018-12-21T00:00:00\", \"2018-12-24T00:00:00\", \"2018-12-26T00:00:00\", \"2018-12-27T00:00:00\", \"2018-12-28T00:00:00\", \"2018-12-31T00:00:00\", \"2019-01-02T00:00:00\", \"2019-01-03T00:00:00\", \"2019-01-04T00:00:00\", \"2019-01-07T00:00:00\", \"2019-01-08T00:00:00\", \"2019-01-09T00:00:00\", \"2019-01-10T00:00:00\", \"2019-01-11T00:00:00\", \"2019-01-14T00:00:00\", \"2019-01-15T00:00:00\", \"2019-01-16T00:00:00\", \"2019-01-17T00:00:00\", \"2019-01-18T00:00:00\", \"2019-01-22T00:00:00\", \"2019-01-23T00:00:00\", \"2019-01-24T00:00:00\", \"2019-01-25T00:00:00\", \"2019-01-28T00:00:00\", \"2019-01-29T00:00:00\", \"2019-01-30T00:00:00\", \"2019-01-31T00:00:00\", \"2019-02-01T00:00:00\", \"2019-02-04T00:00:00\", \"2019-02-05T00:00:00\", \"2019-02-06T00:00:00\", \"2019-02-07T00:00:00\", \"2019-02-08T00:00:00\", \"2019-02-11T00:00:00\", \"2019-02-12T00:00:00\", \"2019-02-13T00:00:00\", \"2019-02-14T00:00:00\", \"2019-02-15T00:00:00\", \"2019-02-19T00:00:00\", \"2019-02-20T00:00:00\", \"2019-02-21T00:00:00\", \"2019-02-22T00:00:00\", \"2019-02-25T00:00:00\", \"2019-02-26T00:00:00\", \"2019-02-27T00:00:00\", \"2019-02-28T00:00:00\", \"2019-03-01T00:00:00\", \"2019-03-04T00:00:00\", \"2019-03-05T00:00:00\", \"2019-03-06T00:00:00\", \"2019-03-07T00:00:00\", \"2019-03-08T00:00:00\", \"2019-03-11T00:00:00\", \"2019-03-12T00:00:00\", \"2019-03-13T00:00:00\", \"2019-03-14T00:00:00\", \"2019-03-15T00:00:00\", \"2019-03-18T00:00:00\", \"2019-03-19T00:00:00\", \"2019-03-20T00:00:00\", \"2019-03-21T00:00:00\", \"2019-03-22T00:00:00\", \"2019-03-25T00:00:00\", \"2019-03-26T00:00:00\", \"2019-03-27T00:00:00\", \"2019-03-28T00:00:00\", \"2019-03-29T00:00:00\", \"2019-04-01T00:00:00\", \"2019-04-02T00:00:00\", \"2019-04-03T00:00:00\", \"2019-04-04T00:00:00\", \"2019-04-05T00:00:00\", \"2019-04-08T00:00:00\", \"2019-04-09T00:00:00\", \"2019-04-10T00:00:00\", \"2019-04-11T00:00:00\", \"2019-04-12T00:00:00\", \"2019-04-15T00:00:00\", \"2019-04-16T00:00:00\", \"2019-04-17T00:00:00\", \"2019-04-18T00:00:00\", \"2019-04-22T00:00:00\", \"2019-04-23T00:00:00\", \"2019-04-24T00:00:00\", \"2019-04-25T00:00:00\", \"2019-04-26T00:00:00\", \"2019-04-29T00:00:00\", \"2019-04-30T00:00:00\", \"2019-05-01T00:00:00\", \"2019-05-02T00:00:00\", \"2019-05-03T00:00:00\", \"2019-05-06T00:00:00\", \"2019-05-07T00:00:00\", \"2019-05-08T00:00:00\", \"2019-05-09T00:00:00\", \"2019-05-10T00:00:00\", \"2019-05-13T00:00:00\", \"2019-05-14T00:00:00\", \"2019-05-15T00:00:00\", \"2019-05-16T00:00:00\", \"2019-05-17T00:00:00\", \"2019-05-20T00:00:00\", \"2019-05-21T00:00:00\", \"2019-05-22T00:00:00\", \"2019-05-23T00:00:00\", \"2019-05-24T00:00:00\", \"2019-05-28T00:00:00\", \"2019-05-29T00:00:00\", \"2019-05-30T00:00:00\", \"2019-05-31T00:00:00\", \"2019-06-03T00:00:00\", \"2019-06-04T00:00:00\", \"2019-06-05T00:00:00\", \"2019-06-06T00:00:00\", \"2019-06-07T00:00:00\", \"2019-06-10T00:00:00\", \"2019-06-11T00:00:00\", \"2019-06-12T00:00:00\", \"2019-06-13T00:00:00\", \"2019-06-14T00:00:00\", \"2019-06-17T00:00:00\", \"2019-06-18T00:00:00\", \"2019-06-19T00:00:00\", \"2019-06-20T00:00:00\", \"2019-06-21T00:00:00\", \"2019-06-24T00:00:00\", \"2019-06-25T00:00:00\", \"2019-06-26T00:00:00\", \"2019-06-27T00:00:00\", \"2019-06-28T00:00:00\", \"2019-07-01T00:00:00\", \"2019-07-02T00:00:00\", \"2019-07-03T00:00:00\", \"2019-07-05T00:00:00\", \"2019-07-08T00:00:00\", \"2019-07-09T00:00:00\", \"2019-07-10T00:00:00\", \"2019-07-11T00:00:00\", \"2019-07-12T00:00:00\", \"2019-07-15T00:00:00\", \"2019-07-16T00:00:00\", \"2019-07-17T00:00:00\", \"2019-07-18T00:00:00\", \"2019-07-19T00:00:00\", \"2019-07-22T00:00:00\", \"2019-07-23T00:00:00\", \"2019-07-24T00:00:00\", \"2019-07-25T00:00:00\", \"2019-07-26T00:00:00\", \"2019-07-29T00:00:00\", \"2019-07-30T00:00:00\", \"2019-07-31T00:00:00\", \"2019-08-01T00:00:00\", \"2019-08-02T00:00:00\", \"2019-08-05T00:00:00\", \"2019-08-06T00:00:00\", \"2019-08-07T00:00:00\", \"2019-08-08T00:00:00\", \"2019-08-09T00:00:00\", \"2019-08-12T00:00:00\", \"2019-08-13T00:00:00\", \"2019-08-14T00:00:00\", \"2019-08-15T00:00:00\", \"2019-08-16T00:00:00\", \"2019-08-19T00:00:00\", \"2019-08-20T00:00:00\", \"2019-08-21T00:00:00\", \"2019-08-22T00:00:00\", \"2019-08-23T00:00:00\", \"2019-08-26T00:00:00\", \"2019-08-27T00:00:00\", \"2019-08-28T00:00:00\", \"2019-08-29T00:00:00\", \"2019-08-30T00:00:00\", \"2019-09-03T00:00:00\", \"2019-09-04T00:00:00\", \"2019-09-05T00:00:00\", \"2019-09-06T00:00:00\", \"2019-09-09T00:00:00\", \"2019-09-10T00:00:00\", \"2019-09-11T00:00:00\", \"2019-09-12T00:00:00\", \"2019-09-13T00:00:00\", \"2019-09-16T00:00:00\", \"2019-09-17T00:00:00\", \"2019-09-18T00:00:00\", \"2019-09-19T00:00:00\", \"2019-09-20T00:00:00\", \"2019-09-23T00:00:00\", \"2019-09-24T00:00:00\", \"2019-09-25T00:00:00\", \"2019-09-26T00:00:00\", \"2019-09-27T00:00:00\", \"2019-09-30T00:00:00\", \"2019-10-01T00:00:00\", \"2019-10-02T00:00:00\", \"2019-10-03T00:00:00\", \"2019-10-04T00:00:00\", \"2019-10-07T00:00:00\", \"2019-10-08T00:00:00\", \"2019-10-09T00:00:00\", \"2019-10-10T00:00:00\", \"2019-10-11T00:00:00\", \"2019-10-14T00:00:00\", \"2019-10-15T00:00:00\", \"2019-10-16T00:00:00\", \"2019-10-17T00:00:00\", \"2019-10-18T00:00:00\", \"2019-10-21T00:00:00\", \"2019-10-22T00:00:00\", \"2019-10-23T00:00:00\", \"2019-10-24T00:00:00\", \"2019-10-25T00:00:00\", \"2019-10-28T00:00:00\", \"2019-10-29T00:00:00\", \"2019-10-30T00:00:00\", \"2019-10-31T00:00:00\", \"2019-11-01T00:00:00\", \"2019-11-04T00:00:00\", \"2019-11-05T00:00:00\", \"2019-11-06T00:00:00\", \"2019-11-07T00:00:00\", \"2019-11-08T00:00:00\", \"2019-11-11T00:00:00\", \"2019-11-12T00:00:00\", \"2019-11-13T00:00:00\", \"2019-11-14T00:00:00\", \"2019-11-15T00:00:00\", \"2019-11-18T00:00:00\", \"2019-11-19T00:00:00\", \"2019-11-20T00:00:00\", \"2019-11-21T00:00:00\", \"2019-11-22T00:00:00\", \"2019-11-25T00:00:00\", \"2019-11-26T00:00:00\", \"2019-11-27T00:00:00\", \"2019-11-29T00:00:00\", \"2019-12-02T00:00:00\", \"2019-12-03T00:00:00\", \"2019-12-04T00:00:00\", \"2019-12-05T00:00:00\", \"2019-12-06T00:00:00\", \"2019-12-09T00:00:00\", \"2019-12-10T00:00:00\", \"2019-12-11T00:00:00\", \"2019-12-12T00:00:00\", \"2019-12-13T00:00:00\", \"2019-12-16T00:00:00\", \"2019-12-17T00:00:00\", \"2019-12-18T00:00:00\", \"2019-12-19T00:00:00\", \"2019-12-20T00:00:00\", \"2019-12-23T00:00:00\", \"2019-12-24T00:00:00\", \"2019-12-26T00:00:00\", \"2019-12-27T00:00:00\", \"2019-12-30T00:00:00\", \"2019-12-31T00:00:00\", \"2020-01-02T00:00:00\", \"2020-01-03T00:00:00\", \"2020-01-06T00:00:00\", \"2020-01-07T00:00:00\", \"2020-01-08T00:00:00\", \"2020-01-09T00:00:00\", \"2020-01-10T00:00:00\", \"2020-01-13T00:00:00\", \"2020-01-14T00:00:00\", \"2020-01-15T00:00:00\", \"2020-01-16T00:00:00\", \"2020-01-17T00:00:00\", \"2020-01-21T00:00:00\", \"2020-01-22T00:00:00\", \"2020-01-23T00:00:00\", \"2020-01-24T00:00:00\", \"2020-01-27T00:00:00\", \"2020-01-28T00:00:00\", \"2020-01-29T00:00:00\", \"2020-01-30T00:00:00\", \"2020-01-31T00:00:00\", \"2020-02-03T00:00:00\", \"2020-02-04T00:00:00\", \"2020-02-05T00:00:00\", \"2020-02-06T00:00:00\", \"2020-02-07T00:00:00\", \"2020-02-10T00:00:00\", \"2020-02-11T00:00:00\", \"2020-02-12T00:00:00\", \"2020-02-13T00:00:00\", \"2020-02-14T00:00:00\", \"2020-02-18T00:00:00\", \"2020-02-19T00:00:00\", \"2020-02-20T00:00:00\", \"2020-02-21T00:00:00\", \"2020-02-24T00:00:00\", \"2020-02-25T00:00:00\", \"2020-02-26T00:00:00\", \"2020-02-27T00:00:00\", \"2020-02-28T00:00:00\", \"2020-03-02T00:00:00\", \"2020-03-03T00:00:00\", \"2020-03-04T00:00:00\", \"2020-03-05T00:00:00\", \"2020-03-06T00:00:00\", \"2020-03-09T00:00:00\", \"2020-03-10T00:00:00\", \"2020-03-11T00:00:00\", \"2020-03-12T00:00:00\", \"2020-03-13T00:00:00\", \"2020-03-16T00:00:00\", \"2020-03-17T00:00:00\", \"2020-03-18T00:00:00\", \"2020-03-19T00:00:00\", \"2020-03-20T00:00:00\", \"2020-03-23T00:00:00\", \"2020-03-24T00:00:00\", \"2020-03-25T00:00:00\", \"2020-03-26T00:00:00\", \"2020-03-27T00:00:00\", \"2020-03-30T00:00:00\", \"2020-03-31T00:00:00\", \"2020-04-01T00:00:00\", \"2020-04-02T00:00:00\", \"2020-04-03T00:00:00\", \"2020-04-06T00:00:00\", \"2020-04-07T00:00:00\", \"2020-04-08T00:00:00\", \"2020-04-09T00:00:00\", \"2020-04-13T00:00:00\", \"2020-04-14T00:00:00\", \"2020-04-15T00:00:00\", \"2020-04-16T00:00:00\", \"2020-04-17T00:00:00\", \"2020-04-20T00:00:00\", \"2020-04-21T00:00:00\", \"2020-04-22T00:00:00\", \"2020-04-23T00:00:00\", \"2020-04-24T00:00:00\", \"2020-04-27T00:00:00\", \"2020-04-28T00:00:00\", \"2020-04-29T00:00:00\", \"2020-04-30T00:00:00\", \"2020-05-01T00:00:00\", \"2020-05-04T00:00:00\", \"2020-05-05T00:00:00\", \"2020-05-06T00:00:00\", \"2020-05-07T00:00:00\", \"2020-05-08T00:00:00\", \"2020-05-11T00:00:00\", \"2020-05-12T00:00:00\", \"2020-05-13T00:00:00\", \"2020-05-14T00:00:00\", \"2020-05-15T00:00:00\", \"2020-05-18T00:00:00\", \"2020-05-19T00:00:00\", \"2020-05-20T00:00:00\", \"2020-05-21T00:00:00\", \"2020-05-22T00:00:00\", \"2020-05-26T00:00:00\", \"2020-05-27T00:00:00\", \"2020-05-28T00:00:00\", \"2020-05-29T00:00:00\", \"2020-06-01T00:00:00\", \"2020-06-02T00:00:00\", \"2020-06-03T00:00:00\", \"2020-06-04T00:00:00\", \"2020-06-05T00:00:00\", \"2020-06-08T00:00:00\", \"2020-06-09T00:00:00\", \"2020-06-10T00:00:00\", \"2020-06-11T00:00:00\", \"2020-06-12T00:00:00\", \"2020-06-15T00:00:00\", \"2020-06-16T00:00:00\", \"2020-06-17T00:00:00\", \"2020-06-18T00:00:00\", \"2020-06-19T00:00:00\", \"2020-06-22T00:00:00\", \"2020-06-23T00:00:00\", \"2020-06-24T00:00:00\", \"2020-06-25T00:00:00\", \"2020-06-26T00:00:00\", \"2020-06-29T00:00:00\", \"2020-06-30T00:00:00\", \"2020-07-01T00:00:00\", \"2020-07-02T00:00:00\", \"2020-07-06T00:00:00\", \"2020-07-07T00:00:00\", \"2020-07-08T00:00:00\", \"2020-07-09T00:00:00\", \"2020-07-10T00:00:00\", \"2020-07-13T00:00:00\", \"2020-07-14T00:00:00\", \"2020-07-15T00:00:00\", \"2020-07-16T00:00:00\", \"2020-07-17T00:00:00\", \"2020-07-20T00:00:00\", \"2020-07-21T00:00:00\", \"2020-07-22T00:00:00\", \"2020-07-23T00:00:00\", \"2020-07-24T00:00:00\", \"2020-07-27T00:00:00\", \"2020-07-28T00:00:00\", \"2020-07-29T00:00:00\", \"2020-07-30T00:00:00\", \"2020-07-31T00:00:00\", \"2020-08-03T00:00:00\", \"2020-08-04T00:00:00\", \"2020-08-05T00:00:00\", \"2020-08-06T00:00:00\", \"2020-08-07T00:00:00\", \"2020-08-10T00:00:00\", \"2020-08-11T00:00:00\", \"2020-08-12T00:00:00\", \"2020-08-13T00:00:00\", \"2020-08-14T00:00:00\", \"2020-08-17T00:00:00\", \"2020-08-18T00:00:00\", \"2020-08-19T00:00:00\", \"2020-08-20T00:00:00\", \"2020-08-21T00:00:00\", \"2020-08-24T00:00:00\", \"2020-08-25T00:00:00\", \"2020-08-26T00:00:00\", \"2020-08-27T00:00:00\", \"2020-08-28T00:00:00\", \"2020-08-31T00:00:00\", \"2020-09-01T00:00:00\", \"2020-09-02T00:00:00\", \"2020-09-03T00:00:00\", \"2020-09-04T00:00:00\", \"2020-09-08T00:00:00\", \"2020-09-09T00:00:00\", \"2020-09-10T00:00:00\", \"2020-09-11T00:00:00\", \"2020-09-14T00:00:00\", \"2020-09-15T00:00:00\", \"2020-09-16T00:00:00\", \"2020-09-17T00:00:00\", \"2020-09-18T00:00:00\", \"2020-09-21T00:00:00\", \"2020-09-22T00:00:00\", \"2020-09-23T00:00:00\", \"2020-09-24T00:00:00\", \"2020-09-25T00:00:00\", \"2020-09-28T00:00:00\", \"2020-09-29T00:00:00\", \"2020-09-30T00:00:00\", \"2020-10-01T00:00:00\", \"2020-10-02T00:00:00\", \"2020-10-05T00:00:00\", \"2020-10-06T00:00:00\", \"2020-10-07T00:00:00\", \"2020-10-08T00:00:00\", \"2020-10-09T00:00:00\", \"2020-10-12T00:00:00\", \"2020-10-13T00:00:00\", \"2020-10-14T00:00:00\", \"2020-10-15T00:00:00\", \"2020-10-16T00:00:00\", \"2020-10-19T00:00:00\", \"2020-10-20T00:00:00\", \"2020-10-21T00:00:00\", \"2020-10-22T00:00:00\", \"2020-10-23T00:00:00\", \"2020-10-26T00:00:00\", \"2020-10-27T00:00:00\", \"2020-10-28T00:00:00\", \"2020-10-29T00:00:00\", \"2020-10-30T00:00:00\", \"2020-11-02T00:00:00\", \"2020-11-03T00:00:00\", \"2020-11-04T00:00:00\", \"2020-11-05T00:00:00\", \"2020-11-06T00:00:00\", \"2020-11-09T00:00:00\", \"2020-11-10T00:00:00\", \"2020-11-11T00:00:00\", \"2020-11-12T00:00:00\", \"2020-11-13T00:00:00\", \"2020-11-16T00:00:00\", \"2020-11-17T00:00:00\", \"2020-11-18T00:00:00\", \"2020-11-19T00:00:00\", \"2020-11-20T00:00:00\", \"2020-11-23T00:00:00\", \"2020-11-24T00:00:00\", \"2020-11-25T00:00:00\", \"2020-11-27T00:00:00\", \"2020-11-30T00:00:00\", \"2020-12-01T00:00:00\", \"2020-12-02T00:00:00\", \"2020-12-03T00:00:00\", \"2020-12-04T00:00:00\", \"2020-12-07T00:00:00\", \"2020-12-08T00:00:00\", \"2020-12-09T00:00:00\", \"2020-12-10T00:00:00\", \"2020-12-11T00:00:00\", \"2020-12-14T00:00:00\", \"2020-12-15T00:00:00\", \"2020-12-16T00:00:00\", \"2020-12-17T00:00:00\", \"2020-12-18T00:00:00\", \"2020-12-21T00:00:00\", \"2020-12-22T00:00:00\", \"2020-12-23T00:00:00\", \"2020-12-24T00:00:00\", \"2020-12-28T00:00:00\", \"2020-12-29T00:00:00\", \"2020-12-30T00:00:00\", \"2020-12-31T00:00:00\", \"2021-01-04T00:00:00\", \"2021-01-05T00:00:00\", \"2021-01-06T00:00:00\", \"2021-01-07T00:00:00\", \"2021-01-08T00:00:00\", \"2021-01-11T00:00:00\", \"2021-01-12T00:00:00\", \"2021-01-13T00:00:00\", \"2021-01-14T00:00:00\", \"2021-01-15T00:00:00\", \"2021-01-19T00:00:00\", \"2021-01-20T00:00:00\", \"2021-01-21T00:00:00\", \"2021-01-22T00:00:00\", \"2021-01-25T00:00:00\", \"2021-01-26T00:00:00\", \"2021-01-27T00:00:00\", \"2021-01-28T00:00:00\", \"2021-01-29T00:00:00\", \"2021-02-01T00:00:00\", \"2021-02-02T00:00:00\", \"2021-02-03T00:00:00\", \"2021-02-04T00:00:00\", \"2021-02-05T00:00:00\", \"2021-02-08T00:00:00\", \"2021-02-09T00:00:00\", \"2021-02-10T00:00:00\", \"2021-02-11T00:00:00\", \"2021-02-12T00:00:00\", \"2021-02-16T00:00:00\", \"2021-02-17T00:00:00\", \"2021-02-18T00:00:00\", \"2021-02-19T00:00:00\", \"2021-02-22T00:00:00\", \"2021-02-23T00:00:00\", \"2021-02-24T00:00:00\", \"2021-02-25T00:00:00\", \"2021-02-26T00:00:00\", \"2021-03-01T00:00:00\", \"2021-03-02T00:00:00\", \"2021-03-03T00:00:00\", \"2021-03-04T00:00:00\", \"2021-03-05T00:00:00\"], \"xaxis\": \"x2\", \"y\": [null, null, null, null, null, null, 1050.687151142857, 1060.4971574285714, 1070.3285958571428, 1074.177158857143, 1077.0500138571429, 1075.9314312857143, 1069.2628697142857, 1064.041434142857, 1059.648577, 1053.2871441428572, 1052.041434142857, 1044.584298285714, 1043.4600132857142, 1041.0971505714285, 1035.0485752857144, 1023.0285644285715, 1010.7885568571429, 1010.4114118571431, 1014.3185512857145, 1015.5142648571431, 1017.3142612857146, 1022.5199760000004, 1027.737121714286, 1041.235691714286, 1045.368556571429, 1049.9971314285717, 1055.3657140000003, 1060.3257098571432, 1061.9457048571433, 1066.0356967142861, 1066.955705714286, 1068.7528422857147, 1070.6985558571432, 1074.0699810000003, 1074.0971330000004, 1076.722848, 1080.895717, 1082.872855, 1081.3171385714286, 1077.134277285714, 1075.8199985714284, 1082.3699949999998, 1087.3957169999999, 1095.810006285714, 1103.667149142857, 1110.1171525714285, 1115.5585762857143, 1116.4157191428571, 1113.3642927142857, 1114.881434857143, 1113.0757184285717, 1109.6014404285718, 1109.3757324285718, 1112.211460714286, 1114.8886021428573, 1115.168596571429, 1113.5971680000005, 1112.060023714286, 1111.1257324285718, 1111.4685931428573, 1111.662876714286, 1115.5471540000003, 1122.808593714286, 1130.1885985714287, 1137.1114501428572, 1141.1357421428572, 1144.8885845714287, 1152.8657225714287, 1160.3242884285717, 1166.8271308571432, 1170.187133714286, 1173.9871302857148, 1179.8385532857149, 1187.9142718571434, 1194.8014091428577, 1200.278564571429, 1202.0185722857148, 1203.0828510000006, 1203.1057130000004, 1201.5000001428575, 1197.1628592857146, 1189.9257290000003, 1184.6243025714289, 1183.9085868571433, 1185.7543074285718, 1190.0943081428575, 1194.9700230000003, 1200.020019571429, 1203.4400111428574, 1204.5442940000005, 1205.1342947142862, 1206.8414305714289, 1207.712855714286, 1210.5671387142859, 1215.209995857143, 1220.7985665714284, 1227.4671282857141, 1236.0285645714284, 1241.4757081428568, 1247.5257045714284, 1253.961425857143, 1261.2814244285714, 1254.439993714286, 1242.9028494285717, 1228.3399831428576, 1218.2542722857147, 1207.674281428572, 1193.662841714286, 1176.3328508571433, 1172.6042830000006, 1172.060006428572, 1167.6914412857147, 1158.4114294285719, 1154.8142788571433, 1155.5114222857148, 1154.944283571429, 1151.5828508571433, 1149.4914201428576, 1152.2614222857148, 1155.1657192857147, 1150.7742921428576, 1144.370012714286, 1137.8214287142862, 1134.8357108571436, 1128.264282285715, 1111.8085588571435, 1099.277134428572, 1086.2414201428578, 1073.4114118571433, 1066.2085658571432, 1060.8414307142862, 1057.282854428572, 1063.1114328571434, 1068.2142858571435, 1074.3757151428576, 1081.2557200000006, 1086.6214252857148, 1089.757132571429, 1094.4285715714288, 1100.8357110000004, 1104.657139571429, 1104.7999967142862, 1102.9857180000004, 1099.0442942857148, 1095.984305428572, 1094.060006428572, 1092.541434285715, 1093.4071394285722, 1099.8699951428578, 1105.091413285715, 1112.065691285715, 1120.5756835714292, 1127.184256428572, 1131.9914027142863, 1136.0999755714292, 1139.2414027142863, 1143.5271170000008, 1146.5985455714292, 1145.1156878571435, 1144.2385428571433, 1144.4256767142863, 1142.6356900000005, 1139.5699812857147, 1154.4357038571434, 1167.7328578571435, 1181.310006285715, 1192.5400217142865, 1201.5114572857149, 1209.5371617142864, 1212.4228690000007, 1200.9285714285722, 1191.5828508571435, 1188.6771414285722, 1184.5814208571435, 1179.6814138571438, 1180.1499895714294, 1181.8600028571436, 1181.4757255714292, 1181.9914378571434, 1181.0842810000008, 1180.324271142858, 1182.6871338571436, 1181.5814208571435, 1179.7242780000008, 1179.9571358571434, 1178.5628487142862, 1174.6442871428576, 1176.095720714286, 1175.6457172857147, 1172.6257152857145, 1176.9285717142861, 1182.9985702857145, 1188.2971542857147, 1193.0671562857149, 1194.9457311428578, 1199.5271694285723, 1208.9357387142866, 1217.2428851428579, 1220.0886057142864, 1223.548601428572, 1227.548601428572, 1232.2214530000006, 1233.6157401428577, 1233.5843157142863, 1230.6128801428579, 1232.7871617142864, 1234.5357318571434, 1233.4900078571432, 1230.6742991428575, 1227.1271451428572, 1218.9271417142859, 1214.5085625714287, 1209.1485597142857, 1204.3328510000003, 1199.1957137142858, 1196.8114364285716, 1197.3214461428574, 1202.8671527142858, 1207.0543040000005, 1211.9128768571431, 1217.0500141428577, 1226.184291428572, 1232.3528530000006, 1237.7071358571434, 1241.6142927142862, 1247.6128627142862, 1250.1814312857148, 1253.251429857143, 1258.527151857143, 1260.9742954285718, 1263.137154714286, 1265.6100027142859, 1267.6971434285717, 1272.0371441428576, 1275.8800047142863, 1276.137154571429, 1282.7428674285718, 1289.8971468571435, 1295.4799977142866, 1299.060006142858, 1300.0071497142865, 1302.782854285715, 1308.9357037142865, 1310.6271274285723, 1311.2114082857152, 1311.762852285715, 1312.1271275714294, 1311.7471227142864, 1311.065691285715, 1308.0199847142862, 1306.9185617142862, 1305.4185617142862, 1303.5428467142863, 1302.675711428572, 1306.2757218571435, 1309.3385881428574, 1313.2057232857148, 1317.5728760000004, 1323.2443150000004, 1331.1157401428575, 1338.9714531428576, 1342.870012714286, 1347.590018285715, 1349.6614468571436, 1350.9557234285724, 1352.581438428572, 1353.2342878571435, 1353.029994428572, 1352.4200091428577, 1352.310006285715, 1351.8485805714288, 1349.494297714286, 1346.7771521428574, 1349.3171562857149, 1351.005737428572, 1358.2414377142866, 1362.9471437142863, 1370.4371338571436, 1382.3928397142865, 1395.6371197142867, 1405.9028318571436, 1415.9342562857148, 1422.3613977142863, 1430.6985384285722, 1441.565691142858, 1450.7899865714296, 1458.821411000001, 1465.595703000001, 1470.7142681428584, 1469.957135714287, 1470.0800082857154, 1466.9714354285727, 1462.8914271428582, 1455.502859857144, 1455.4014194285724, 1452.5957030000009, 1454.6428395714295, 1458.0242568571437, 1460.9671104285724, 1468.5156944285725, 1479.1671314285725, 1483.785714142858, 1493.441441000001, 1503.800013857144, 1510.0057372857154, 1516.7857317142868, 1518.1385845714299, 1514.7557197142871, 1500.9442834285728, 1482.91427157143, 1464.69142357143, 1435.89426957143, 1409.1285574285725, 1390.6942661428582, 1370.1628418571438, 1365.1528495714297, 1355.2371478571438, 1341.6985735714295, 1327.0514440000009, 1318.6314524285722, 1293.8171737142864, 1261.4628907142865, 1237.635742142858, 1204.105730285715, 1178.5900181428576, 1161.624302428572, 1138.0385915714292, 1117.597150428572, 1109.2700020000007, 1097.0885707142863, 1099.682861285715, 1105.6757114285722, 1107.6628417142867, 1112.167114142858, 1125.0942731428581, 1132.0942731428581, 1130.1485595714296, 1129.4899902857155, 1133.085710857144, 1143.9142892857155, 1152.9800154285726, 1159.9285714285727, 1175.9200091428586, 1197.11858257143, 1220.6314348571443, 1231.567138714287, 1245.3871372857157, 1253.4342738571445, 1254.1328474285729, 1260.6542620000016, 1261.6657018571443, 1264.071428714287, 1265.8442907142871, 1258.7614398571443, 1269.457153428573, 1288.360020285716, 1296.5600237142874, 1303.7728794285729, 1314.0300117142874, 1324.2328751428588, 1344.0743058571443, 1350.7728794285727, 1358.5728760000013, 1366.4485910000014, 1369.6671491428585, 1370.3842948571441, 1374.0828508571444, 1375.708548285716, 1373.582118285716, 1374.0763984285732, 1377.9421211428587, 1386.6692765714304, 1395.367850142859, 1401.746425142859, 1406.430716428573, 1414.3500105714302, 1417.9357212857158, 1423.138567285716, 1426.8471331428589, 1426.1557094285731, 1429.0914307142873, 1433.3600028571443, 1437.2514300000016, 1442.1128628571444, 1437.058576428573, 1433.744297714287, 1434.840000857144, 1435.4585660000012, 1436.1028531428585, 1433.2171284285728, 1428.3414134285729, 1435.2014161428585, 1442.5199847142871, 1444.2514125714301, 1444.0528390000015, 1431.0214145714303, 1425.1657017142875, 1422.5785608571446, 1420.6042828571444, 1420.6456995714302, 1429.749982428573, 1436.0142821428587, 1455.4571358571445, 1472.031424285716, 1490.3357107142874, 1500.8071288571446, 1508.7899867142874, 1511.3528530000017, 1516.0414167142874, 1518.8342808571444, 1526.6528495714301, 1529.035714428573, 1537.2000035714302, 1536.5000175714304, 1536.2471575714303, 1537.9900077142877, 1535.8171387142877, 1529.5742885714303, 1525.721418142859, 1513.5028425714304, 1507.6128278571448, 1500.9128244285732, 1492.8285435714301, 1492.794259285716, 1488.8613978571445, 1483.811401428573, 1483.4342564285728, 1488.0299770000013, 1495.6699741428583, 1500.5442591428582, 1503.0985454285726, 1512.257114857144, 1519.6042652857154, 1534.094273000001, 1544.6371371428581, 1554.601422857144, 1568.957135857144, 1588.1571394285727, 1598.9757080000013, 1612.815708714287, 1620.3057164285729, 1631.77570457143, 1651.7871442857156, 1656.5900007142868, 1647.8271484285724, 1633.2642997142868, 1620.7714321428582, 1606.1771415714297, 1586.1785715714298, 1556.3214287142869, 1541.9785680000011, 1531.9585658571443, 1526.6928535714299, 1512.8400005714298, 1498.4314311428584, 1490.5371440000013, 1475.6699914285728, 1459.505719714287, 1448.6571392857154, 1444.2271380000013, 1445.561418857144, 1451.0528391428581, 1454.5714112857152, 1460.7442802857151, 1468.9914204285724, 1470.202846142858, 1469.598563142858, 1471.9700057142868, 1478.487147857144, 1489.781441857144, 1505.9614432857156, 1517.6842912857155, 1532.782871857144, 1548.8857248571442, 1555.840000714287, 1561.6557268571444, 1565.1071604285728, 1571.3428607142869, 1581.760009857144, 1586.234287857144, 1590.6985735714297, 1588.1285750000013, 1589.7442801428585, 1593.7014160000015, 1595.2299978571443, 1596.5457065714302, 1619.214285714287, 1641.9442835714297, 1676.9628557142871, 1704.9285714285727, 1721.982857857144, 1740.0799910000012, 1754.312848857144, 1758.297136714287, 1760.8699952857153, 1762.0699987142868, 1759.752860000001, 1763.1142927142869, 1761.611432714287, 1759.4714354285727, 1758.308576142858, 1756.8871545714298, 1760.1785712857156, 1762.1728514285728, 1767.055698857144, 1779.307128857144, 1792.437133857144, 1800.8814174285726, 1807.7456925714298, 1811.3685651428582, 1814.709995857144, 1811.457135857144, 1804.8600028571439, 1795.3300084285725, 1786.7271555714294, 1778.658587000001, 1768.5657262857153, 1760.9771555714299, 1755.8400182857156, 1747.515729714287, 1743.561436285716, 1739.430001428573, 1741.29999657143, 1742.8457032857157, 1744.0614190000015, 1745.8485632857155, 1746.525704714287, 1747.7457102857156, 1747.2371478571442, 1748.831438428573, 1755.7585798571442, 1759.6442871428587, 1758.8828648571446, 1762.6200125714302, 1762.5142997142873, 1762.642857142859, 1763.1585692857163, 1774.542864000002, 1792.332868142859, 1814.4042967142875, 1835.1185824285733, 1860.4128590000018, 1873.9271587142873, 1884.2485872857162, 1876.940011000002, 1878.3828647142875, 1882.1628591428591, 1906.5442940000016, 1927.2771692857161, 1965.4500208571446, 1998.278581857145, 2033.674299000002, 2061.392857142859, 2085.4471261428594, 2090.3099888571446, 2098.8142438571444, 2103.1442522857164, 2106.614257857145, 2109.1328125714303, 2104.7756697142877, 2101.199986000002, 2099.9228167142874, 2086.9885428571442, 2073.92424657143, 2068.8256835714296, 2065.2114257142866, 2059.758579714287, 2056.648577000001, 2058.5585937142864], \"yaxis\": \"y2\"}, {\"line\": {\"color\": \"#9900FF\"}, \"name\": \"10_d_avg\", \"type\": \"scatter\", \"x\": [\"2018-11-20T00:00:00\", \"2018-11-21T00:00:00\", \"2018-11-23T00:00:00\", \"2018-11-26T00:00:00\", \"2018-11-27T00:00:00\", \"2018-11-28T00:00:00\", \"2018-11-29T00:00:00\", \"2018-11-30T00:00:00\", \"2018-12-03T00:00:00\", \"2018-12-04T00:00:00\", \"2018-12-06T00:00:00\", \"2018-12-07T00:00:00\", \"2018-12-10T00:00:00\", \"2018-12-11T00:00:00\", \"2018-12-12T00:00:00\", \"2018-12-13T00:00:00\", \"2018-12-14T00:00:00\", \"2018-12-17T00:00:00\", \"2018-12-18T00:00:00\", \"2018-12-19T00:00:00\", \"2018-12-20T00:00:00\", \"2018-12-21T00:00:00\", \"2018-12-24T00:00:00\", \"2018-12-26T00:00:00\", \"2018-12-27T00:00:00\", \"2018-12-28T00:00:00\", \"2018-12-31T00:00:00\", \"2019-01-02T00:00:00\", \"2019-01-03T00:00:00\", \"2019-01-04T00:00:00\", \"2019-01-07T00:00:00\", \"2019-01-08T00:00:00\", \"2019-01-09T00:00:00\", \"2019-01-10T00:00:00\", \"2019-01-11T00:00:00\", \"2019-01-14T00:00:00\", \"2019-01-15T00:00:00\", \"2019-01-16T00:00:00\", \"2019-01-17T00:00:00\", \"2019-01-18T00:00:00\", \"2019-01-22T00:00:00\", \"2019-01-23T00:00:00\", \"2019-01-24T00:00:00\", \"2019-01-25T00:00:00\", \"2019-01-28T00:00:00\", \"2019-01-29T00:00:00\", \"2019-01-30T00:00:00\", \"2019-01-31T00:00:00\", \"2019-02-01T00:00:00\", \"2019-02-04T00:00:00\", \"2019-02-05T00:00:00\", \"2019-02-06T00:00:00\", \"2019-02-07T00:00:00\", \"2019-02-08T00:00:00\", \"2019-02-11T00:00:00\", \"2019-02-12T00:00:00\", \"2019-02-13T00:00:00\", \"2019-02-14T00:00:00\", \"2019-02-15T00:00:00\", \"2019-02-19T00:00:00\", \"2019-02-20T00:00:00\", \"2019-02-21T00:00:00\", \"2019-02-22T00:00:00\", \"2019-02-25T00:00:00\", \"2019-02-26T00:00:00\", \"2019-02-27T00:00:00\", \"2019-02-28T00:00:00\", \"2019-03-01T00:00:00\", \"2019-03-04T00:00:00\", \"2019-03-05T00:00:00\", \"2019-03-06T00:00:00\", \"2019-03-07T00:00:00\", \"2019-03-08T00:00:00\", \"2019-03-11T00:00:00\", \"2019-03-12T00:00:00\", \"2019-03-13T00:00:00\", \"2019-03-14T00:00:00\", \"2019-03-15T00:00:00\", \"2019-03-18T00:00:00\", \"2019-03-19T00:00:00\", \"2019-03-20T00:00:00\", \"2019-03-21T00:00:00\", \"2019-03-22T00:00:00\", \"2019-03-25T00:00:00\", \"2019-03-26T00:00:00\", \"2019-03-27T00:00:00\", \"2019-03-28T00:00:00\", \"2019-03-29T00:00:00\", \"2019-04-01T00:00:00\", \"2019-04-02T00:00:00\", \"2019-04-03T00:00:00\", \"2019-04-04T00:00:00\", \"2019-04-05T00:00:00\", \"2019-04-08T00:00:00\", \"2019-04-09T00:00:00\", \"2019-04-10T00:00:00\", \"2019-04-11T00:00:00\", \"2019-04-12T00:00:00\", \"2019-04-15T00:00:00\", \"2019-04-16T00:00:00\", \"2019-04-17T00:00:00\", \"2019-04-18T00:00:00\", \"2019-04-22T00:00:00\", \"2019-04-23T00:00:00\", \"2019-04-24T00:00:00\", \"2019-04-25T00:00:00\", \"2019-04-26T00:00:00\", \"2019-04-29T00:00:00\", \"2019-04-30T00:00:00\", \"2019-05-01T00:00:00\", \"2019-05-02T00:00:00\", \"2019-05-03T00:00:00\", \"2019-05-06T00:00:00\", \"2019-05-07T00:00:00\", \"2019-05-08T00:00:00\", \"2019-05-09T00:00:00\", \"2019-05-10T00:00:00\", \"2019-05-13T00:00:00\", \"2019-05-14T00:00:00\", \"2019-05-15T00:00:00\", \"2019-05-16T00:00:00\", \"2019-05-17T00:00:00\", \"2019-05-20T00:00:00\", \"2019-05-21T00:00:00\", \"2019-05-22T00:00:00\", \"2019-05-23T00:00:00\", \"2019-05-24T00:00:00\", \"2019-05-28T00:00:00\", \"2019-05-29T00:00:00\", \"2019-05-30T00:00:00\", \"2019-05-31T00:00:00\", \"2019-06-03T00:00:00\", \"2019-06-04T00:00:00\", \"2019-06-05T00:00:00\", \"2019-06-06T00:00:00\", \"2019-06-07T00:00:00\", \"2019-06-10T00:00:00\", \"2019-06-11T00:00:00\", \"2019-06-12T00:00:00\", \"2019-06-13T00:00:00\", \"2019-06-14T00:00:00\", \"2019-06-17T00:00:00\", \"2019-06-18T00:00:00\", \"2019-06-19T00:00:00\", \"2019-06-20T00:00:00\", \"2019-06-21T00:00:00\", \"2019-06-24T00:00:00\", \"2019-06-25T00:00:00\", \"2019-06-26T00:00:00\", \"2019-06-27T00:00:00\", \"2019-06-28T00:00:00\", \"2019-07-01T00:00:00\", \"2019-07-02T00:00:00\", \"2019-07-03T00:00:00\", \"2019-07-05T00:00:00\", \"2019-07-08T00:00:00\", \"2019-07-09T00:00:00\", \"2019-07-10T00:00:00\", \"2019-07-11T00:00:00\", \"2019-07-12T00:00:00\", \"2019-07-15T00:00:00\", \"2019-07-16T00:00:00\", \"2019-07-17T00:00:00\", \"2019-07-18T00:00:00\", \"2019-07-19T00:00:00\", \"2019-07-22T00:00:00\", \"2019-07-23T00:00:00\", \"2019-07-24T00:00:00\", \"2019-07-25T00:00:00\", \"2019-07-26T00:00:00\", \"2019-07-29T00:00:00\", \"2019-07-30T00:00:00\", \"2019-07-31T00:00:00\", \"2019-08-01T00:00:00\", \"2019-08-02T00:00:00\", \"2019-08-05T00:00:00\", \"2019-08-06T00:00:00\", \"2019-08-07T00:00:00\", \"2019-08-08T00:00:00\", \"2019-08-09T00:00:00\", \"2019-08-12T00:00:00\", \"2019-08-13T00:00:00\", \"2019-08-14T00:00:00\", \"2019-08-15T00:00:00\", \"2019-08-16T00:00:00\", \"2019-08-19T00:00:00\", \"2019-08-20T00:00:00\", \"2019-08-21T00:00:00\", \"2019-08-22T00:00:00\", \"2019-08-23T00:00:00\", \"2019-08-26T00:00:00\", \"2019-08-27T00:00:00\", \"2019-08-28T00:00:00\", \"2019-08-29T00:00:00\", \"2019-08-30T00:00:00\", \"2019-09-03T00:00:00\", \"2019-09-04T00:00:00\", \"2019-09-05T00:00:00\", \"2019-09-06T00:00:00\", \"2019-09-09T00:00:00\", \"2019-09-10T00:00:00\", \"2019-09-11T00:00:00\", \"2019-09-12T00:00:00\", \"2019-09-13T00:00:00\", \"2019-09-16T00:00:00\", \"2019-09-17T00:00:00\", \"2019-09-18T00:00:00\", \"2019-09-19T00:00:00\", \"2019-09-20T00:00:00\", \"2019-09-23T00:00:00\", \"2019-09-24T00:00:00\", \"2019-09-25T00:00:00\", \"2019-09-26T00:00:00\", \"2019-09-27T00:00:00\", \"2019-09-30T00:00:00\", \"2019-10-01T00:00:00\", \"2019-10-02T00:00:00\", \"2019-10-03T00:00:00\", \"2019-10-04T00:00:00\", \"2019-10-07T00:00:00\", \"2019-10-08T00:00:00\", \"2019-10-09T00:00:00\", \"2019-10-10T00:00:00\", \"2019-10-11T00:00:00\", \"2019-10-14T00:00:00\", \"2019-10-15T00:00:00\", \"2019-10-16T00:00:00\", \"2019-10-17T00:00:00\", \"2019-10-18T00:00:00\", \"2019-10-21T00:00:00\", \"2019-10-22T00:00:00\", \"2019-10-23T00:00:00\", \"2019-10-24T00:00:00\", \"2019-10-25T00:00:00\", \"2019-10-28T00:00:00\", \"2019-10-29T00:00:00\", \"2019-10-30T00:00:00\", \"2019-10-31T00:00:00\", \"2019-11-01T00:00:00\", \"2019-11-04T00:00:00\", \"2019-11-05T00:00:00\", \"2019-11-06T00:00:00\", \"2019-11-07T00:00:00\", \"2019-11-08T00:00:00\", \"2019-11-11T00:00:00\", \"2019-11-12T00:00:00\", \"2019-11-13T00:00:00\", \"2019-11-14T00:00:00\", \"2019-11-15T00:00:00\", \"2019-11-18T00:00:00\", \"2019-11-19T00:00:00\", \"2019-11-20T00:00:00\", \"2019-11-21T00:00:00\", \"2019-11-22T00:00:00\", \"2019-11-25T00:00:00\", \"2019-11-26T00:00:00\", \"2019-11-27T00:00:00\", \"2019-11-29T00:00:00\", \"2019-12-02T00:00:00\", \"2019-12-03T00:00:00\", \"2019-12-04T00:00:00\", \"2019-12-05T00:00:00\", \"2019-12-06T00:00:00\", \"2019-12-09T00:00:00\", \"2019-12-10T00:00:00\", \"2019-12-11T00:00:00\", \"2019-12-12T00:00:00\", \"2019-12-13T00:00:00\", \"2019-12-16T00:00:00\", \"2019-12-17T00:00:00\", \"2019-12-18T00:00:00\", \"2019-12-19T00:00:00\", \"2019-12-20T00:00:00\", \"2019-12-23T00:00:00\", \"2019-12-24T00:00:00\", \"2019-12-26T00:00:00\", \"2019-12-27T00:00:00\", \"2019-12-30T00:00:00\", \"2019-12-31T00:00:00\", \"2020-01-02T00:00:00\", \"2020-01-03T00:00:00\", \"2020-01-06T00:00:00\", \"2020-01-07T00:00:00\", \"2020-01-08T00:00:00\", \"2020-01-09T00:00:00\", \"2020-01-10T00:00:00\", \"2020-01-13T00:00:00\", \"2020-01-14T00:00:00\", \"2020-01-15T00:00:00\", \"2020-01-16T00:00:00\", \"2020-01-17T00:00:00\", \"2020-01-21T00:00:00\", \"2020-01-22T00:00:00\", \"2020-01-23T00:00:00\", \"2020-01-24T00:00:00\", \"2020-01-27T00:00:00\", \"2020-01-28T00:00:00\", \"2020-01-29T00:00:00\", \"2020-01-30T00:00:00\", \"2020-01-31T00:00:00\", \"2020-02-03T00:00:00\", \"2020-02-04T00:00:00\", \"2020-02-05T00:00:00\", \"2020-02-06T00:00:00\", \"2020-02-07T00:00:00\", \"2020-02-10T00:00:00\", \"2020-02-11T00:00:00\", \"2020-02-12T00:00:00\", \"2020-02-13T00:00:00\", \"2020-02-14T00:00:00\", \"2020-02-18T00:00:00\", \"2020-02-19T00:00:00\", \"2020-02-20T00:00:00\", \"2020-02-21T00:00:00\", \"2020-02-24T00:00:00\", \"2020-02-25T00:00:00\", \"2020-02-26T00:00:00\", \"2020-02-27T00:00:00\", \"2020-02-28T00:00:00\", \"2020-03-02T00:00:00\", \"2020-03-03T00:00:00\", \"2020-03-04T00:00:00\", \"2020-03-05T00:00:00\", \"2020-03-06T00:00:00\", \"2020-03-09T00:00:00\", \"2020-03-10T00:00:00\", \"2020-03-11T00:00:00\", \"2020-03-12T00:00:00\", \"2020-03-13T00:00:00\", \"2020-03-16T00:00:00\", \"2020-03-17T00:00:00\", \"2020-03-18T00:00:00\", \"2020-03-19T00:00:00\", \"2020-03-20T00:00:00\", \"2020-03-23T00:00:00\", \"2020-03-24T00:00:00\", \"2020-03-25T00:00:00\", \"2020-03-26T00:00:00\", \"2020-03-27T00:00:00\", \"2020-03-30T00:00:00\", \"2020-03-31T00:00:00\", \"2020-04-01T00:00:00\", \"2020-04-02T00:00:00\", \"2020-04-03T00:00:00\", \"2020-04-06T00:00:00\", \"2020-04-07T00:00:00\", \"2020-04-08T00:00:00\", \"2020-04-09T00:00:00\", \"2020-04-13T00:00:00\", \"2020-04-14T00:00:00\", \"2020-04-15T00:00:00\", \"2020-04-16T00:00:00\", \"2020-04-17T00:00:00\", \"2020-04-20T00:00:00\", \"2020-04-21T00:00:00\", \"2020-04-22T00:00:00\", \"2020-04-23T00:00:00\", \"2020-04-24T00:00:00\", \"2020-04-27T00:00:00\", \"2020-04-28T00:00:00\", \"2020-04-29T00:00:00\", \"2020-04-30T00:00:00\", \"2020-05-01T00:00:00\", \"2020-05-04T00:00:00\", \"2020-05-05T00:00:00\", \"2020-05-06T00:00:00\", \"2020-05-07T00:00:00\", \"2020-05-08T00:00:00\", \"2020-05-11T00:00:00\", \"2020-05-12T00:00:00\", \"2020-05-13T00:00:00\", \"2020-05-14T00:00:00\", \"2020-05-15T00:00:00\", \"2020-05-18T00:00:00\", \"2020-05-19T00:00:00\", \"2020-05-20T00:00:00\", \"2020-05-21T00:00:00\", \"2020-05-22T00:00:00\", \"2020-05-26T00:00:00\", \"2020-05-27T00:00:00\", \"2020-05-28T00:00:00\", \"2020-05-29T00:00:00\", \"2020-06-01T00:00:00\", \"2020-06-02T00:00:00\", \"2020-06-03T00:00:00\", \"2020-06-04T00:00:00\", \"2020-06-05T00:00:00\", \"2020-06-08T00:00:00\", \"2020-06-09T00:00:00\", \"2020-06-10T00:00:00\", \"2020-06-11T00:00:00\", \"2020-06-12T00:00:00\", \"2020-06-15T00:00:00\", \"2020-06-16T00:00:00\", \"2020-06-17T00:00:00\", \"2020-06-18T00:00:00\", \"2020-06-19T00:00:00\", \"2020-06-22T00:00:00\", \"2020-06-23T00:00:00\", \"2020-06-24T00:00:00\", \"2020-06-25T00:00:00\", \"2020-06-26T00:00:00\", \"2020-06-29T00:00:00\", \"2020-06-30T00:00:00\", \"2020-07-01T00:00:00\", \"2020-07-02T00:00:00\", \"2020-07-06T00:00:00\", \"2020-07-07T00:00:00\", \"2020-07-08T00:00:00\", \"2020-07-09T00:00:00\", \"2020-07-10T00:00:00\", \"2020-07-13T00:00:00\", \"2020-07-14T00:00:00\", \"2020-07-15T00:00:00\", \"2020-07-16T00:00:00\", \"2020-07-17T00:00:00\", \"2020-07-20T00:00:00\", \"2020-07-21T00:00:00\", \"2020-07-22T00:00:00\", \"2020-07-23T00:00:00\", \"2020-07-24T00:00:00\", \"2020-07-27T00:00:00\", \"2020-07-28T00:00:00\", \"2020-07-29T00:00:00\", \"2020-07-30T00:00:00\", \"2020-07-31T00:00:00\", \"2020-08-03T00:00:00\", \"2020-08-04T00:00:00\", \"2020-08-05T00:00:00\", \"2020-08-06T00:00:00\", \"2020-08-07T00:00:00\", \"2020-08-10T00:00:00\", \"2020-08-11T00:00:00\", \"2020-08-12T00:00:00\", \"2020-08-13T00:00:00\", \"2020-08-14T00:00:00\", \"2020-08-17T00:00:00\", \"2020-08-18T00:00:00\", \"2020-08-19T00:00:00\", \"2020-08-20T00:00:00\", \"2020-08-21T00:00:00\", \"2020-08-24T00:00:00\", \"2020-08-25T00:00:00\", \"2020-08-26T00:00:00\", \"2020-08-27T00:00:00\", \"2020-08-28T00:00:00\", \"2020-08-31T00:00:00\", \"2020-09-01T00:00:00\", \"2020-09-02T00:00:00\", \"2020-09-03T00:00:00\", \"2020-09-04T00:00:00\", \"2020-09-08T00:00:00\", \"2020-09-09T00:00:00\", \"2020-09-10T00:00:00\", \"2020-09-11T00:00:00\", \"2020-09-14T00:00:00\", \"2020-09-15T00:00:00\", \"2020-09-16T00:00:00\", \"2020-09-17T00:00:00\", \"2020-09-18T00:00:00\", \"2020-09-21T00:00:00\", \"2020-09-22T00:00:00\", \"2020-09-23T00:00:00\", \"2020-09-24T00:00:00\", \"2020-09-25T00:00:00\", \"2020-09-28T00:00:00\", \"2020-09-29T00:00:00\", \"2020-09-30T00:00:00\", \"2020-10-01T00:00:00\", \"2020-10-02T00:00:00\", \"2020-10-05T00:00:00\", \"2020-10-06T00:00:00\", \"2020-10-07T00:00:00\", \"2020-10-08T00:00:00\", \"2020-10-09T00:00:00\", \"2020-10-12T00:00:00\", \"2020-10-13T00:00:00\", \"2020-10-14T00:00:00\", \"2020-10-15T00:00:00\", \"2020-10-16T00:00:00\", \"2020-10-19T00:00:00\", \"2020-10-20T00:00:00\", \"2020-10-21T00:00:00\", \"2020-10-22T00:00:00\", \"2020-10-23T00:00:00\", \"2020-10-26T00:00:00\", \"2020-10-27T00:00:00\", \"2020-10-28T00:00:00\", \"2020-10-29T00:00:00\", \"2020-10-30T00:00:00\", \"2020-11-02T00:00:00\", \"2020-11-03T00:00:00\", \"2020-11-04T00:00:00\", \"2020-11-05T00:00:00\", \"2020-11-06T00:00:00\", \"2020-11-09T00:00:00\", \"2020-11-10T00:00:00\", \"2020-11-11T00:00:00\", \"2020-11-12T00:00:00\", \"2020-11-13T00:00:00\", \"2020-11-16T00:00:00\", \"2020-11-17T00:00:00\", \"2020-11-18T00:00:00\", \"2020-11-19T00:00:00\", \"2020-11-20T00:00:00\", \"2020-11-23T00:00:00\", \"2020-11-24T00:00:00\", \"2020-11-25T00:00:00\", \"2020-11-27T00:00:00\", \"2020-11-30T00:00:00\", \"2020-12-01T00:00:00\", \"2020-12-02T00:00:00\", \"2020-12-03T00:00:00\", \"2020-12-04T00:00:00\", \"2020-12-07T00:00:00\", \"2020-12-08T00:00:00\", \"2020-12-09T00:00:00\", \"2020-12-10T00:00:00\", \"2020-12-11T00:00:00\", \"2020-12-14T00:00:00\", \"2020-12-15T00:00:00\", \"2020-12-16T00:00:00\", \"2020-12-17T00:00:00\", \"2020-12-18T00:00:00\", \"2020-12-21T00:00:00\", \"2020-12-22T00:00:00\", \"2020-12-23T00:00:00\", \"2020-12-24T00:00:00\", \"2020-12-28T00:00:00\", \"2020-12-29T00:00:00\", \"2020-12-30T00:00:00\", \"2020-12-31T00:00:00\", \"2021-01-04T00:00:00\", \"2021-01-05T00:00:00\", \"2021-01-06T00:00:00\", \"2021-01-07T00:00:00\", \"2021-01-08T00:00:00\", \"2021-01-11T00:00:00\", \"2021-01-12T00:00:00\", \"2021-01-13T00:00:00\", \"2021-01-14T00:00:00\", \"2021-01-15T00:00:00\", \"2021-01-19T00:00:00\", \"2021-01-20T00:00:00\", \"2021-01-21T00:00:00\", \"2021-01-22T00:00:00\", \"2021-01-25T00:00:00\", \"2021-01-26T00:00:00\", \"2021-01-27T00:00:00\", \"2021-01-28T00:00:00\", \"2021-01-29T00:00:00\", \"2021-02-01T00:00:00\", \"2021-02-02T00:00:00\", \"2021-02-03T00:00:00\", \"2021-02-04T00:00:00\", \"2021-02-05T00:00:00\", \"2021-02-08T00:00:00\", \"2021-02-09T00:00:00\", \"2021-02-10T00:00:00\", \"2021-02-11T00:00:00\", \"2021-02-12T00:00:00\", \"2021-02-16T00:00:00\", \"2021-02-17T00:00:00\", \"2021-02-18T00:00:00\", \"2021-02-19T00:00:00\", \"2021-02-22T00:00:00\", \"2021-02-23T00:00:00\", \"2021-02-24T00:00:00\", \"2021-02-25T00:00:00\", \"2021-02-26T00:00:00\", \"2021-03-01T00:00:00\", \"2021-03-02T00:00:00\", \"2021-03-03T00:00:00\", \"2021-03-04T00:00:00\", \"2021-03-05T00:00:00\"], \"xaxis\": \"x2\", \"y\": [null, null, null, null, null, null, null, null, null, 1060.6490112, 1064.9460082, 1064.8430053, 1066.4100096999998, 1066.7230101999999, 1068.6500121999998, 1066.2170165999999, 1061.5970092999999, 1053.8070067999997, 1046.0349974999997, 1043.2540038999998, 1037.3220031999997, 1031.6180054, 1025.2849976, 1024.0559937, 1022.0759888, 1019.593982, 1018.9449828999999, 1021.8769775999999, 1020.6119812999999, 1025.3819764, 1031.2799806, 1040.9539857, 1050.797992, 1053.8849914999998, 1055.2159851000001, 1055.9769836, 1060.1309875000002, 1063.6429870000004, 1071.0269896000004, 1073.7819945000003, 1073.9949950000002, 1073.9239867000001, 1073.8479857000002, 1075.9139891000002, 1077.2029906000002, 1078.795996, 1079.9869995, 1083.5270018999997, 1085.6119994999997, 1089.0660033999998, 1096.6130003999997, 1100.5790037999998, 1103.0599974999998, 1103.4670043999997, 1105.9600097999996, 1112.0350097999994, 1115.1450072999996, 1115.6750121999999, 1115.9650146, 1114.5410155999998, 1111.3220214999997, 1109.4960205999998, 1110.6620239999997, 1112.0960204999997, 1114.10802, 1113.5760253999997, 1113.5520263999997, 1115.4840209999998, 1118.8990234999997, 1123.2460204999995, 1127.6520140999996, 1132.2850218999995, 1135.4800169999994, 1142.1160155999994, 1149.9230101999995, 1157.6499998999993, 1164.2130003999994, 1168.5599974999993, 1172.2059935999994, 1175.8879882999995, 1182.4989868999994, 1191.3229858999994, 1197.6409912999993, 1199.3649902999994, 1198.5069946999995, 1196.4770020999995, 1194.7709961999994, 1193.6560059999995, 1194.6730103999994, 1194.8370117999996, 1193.0320190999996, 1191.3780151999995, 1191.5430175999995, 1192.6270141999996, 1193.8900146999997, 1196.8040160999997, 1200.4170166, 1204.8730101999997, 1207.5400023999996, 1210.2040038999999, 1213.2459960999997, 1215.3829955999997, 1219.5519897999998, 1225.6229980999997, 1231.4979980999997, 1237.6269897999996, 1244.3829956999998, 1251.3539918, 1248.0919921999998, 1242.1869873, 1234.8139892, 1229.7169921, 1223.7719970000003, 1214.7269897, 1205.7539917000001, 1195.6469971000001, 1184.8559937, 1169.301001, 1162.4969971, 1162.1099976, 1163.7469971000003, 1161.4369996, 1156.3829957000003, 1153.9359986000002, 1152.4510010000001, 1150.2900025000004, 1147.2099976000004, 1147.4219971000005, 1147.0239991000003, 1142.3979981000004, 1134.8630006000003, 1122.2559937000003, 1113.6760010000003, 1102.9349976000005, 1092.2269898000004, 1084.7539917000004, 1079.4449951000004, 1073.9019898000004, 1069.9589966000003, 1067.0410035000002, 1065.2130006000002, 1070.8400026000004, 1075.8949953000003, 1081.9059938000003, 1088.6140016000004, 1094.1979982000005, 1097.7119997000004, 1098.4750002000005, 1098.7520022000003, 1097.4760012000004, 1097.0320070000005, 1097.5770021000005, 1098.3420045000007, 1100.2670045000007, 1102.2839967000004, 1101.7309938000005, 1102.6619874000005, 1108.0749878000006, 1114.5159790000007, 1121.4049804000008, 1128.3479736000006, 1133.9109741000007, 1137.4209717000006, 1139.8959717000005, 1139.7469727000005, 1141.9189697000006, 1144.0569702000007, 1143.7899781000006, 1142.5809815000005, 1153.1319825000005, 1162.0389893000006, 1169.1949952000004, 1176.2280030000006, 1182.4960084000006, 1188.8850098000007, 1190.3100098000007, 1192.6840088000006, 1196.3020019000007, 1203.5700073000007, 1197.3300049000006, 1190.8599976000007, 1188.0729981000009, 1182.8339966000008, 1178.6589966000006, 1177.0199952000007, 1181.6329957000007, 1182.9069947000007, 1184.6329957000007, 1183.1059937000007, 1179.4339966000007, 1178.8520020000008, 1175.9089966000006, 1176.5819947000007, 1179.1409913000007, 1180.1909913000006, 1177.1849977000006, 1177.0570070000008, 1179.0700075000009, 1180.6100100000008, 1185.922009500001, 1189.6330080000012, 1194.8660158000012, 1201.1890138000012, 1205.860022100001, 1210.180029400001, 1216.2560303000014, 1221.3560303000013, 1224.0890259000014, 1226.5890259000014, 1229.5510254000014, 1230.8270264000014, 1233.4620240000013, 1234.1760255000013, 1232.7290162000013, 1231.4990113000013, 1229.0940065000011, 1223.516003600001, 1218.4280031000012, 1216.3349977000012, 1213.700000200001, 1210.736999700001, 1206.316003600001, 1203.044006500001, 1202.0800050000012, 1201.894006500001, 1205.685009900001, 1212.386010900001, 1218.9100099000011, 1222.5590089000011, 1226.4060059000012, 1231.7730103000013, 1237.4550049000013, 1242.686999500001, 1247.6550049000011, 1254.9410034000011, 1256.9020019000013, 1258.6670043000013, 1259.3710082000011, 1262.1960082000012, 1266.7180053000013, 1271.6410033000013, 1274.9080077000012, 1279.6950072000013, 1284.3190062000012, 1285.2380003000012, 1288.8560057000013, 1292.5270018000015, 1297.6619994000016, 1303.7749999000016, 1306.7079955000015, 1309.0509887000017, 1310.1759887000017, 1309.4249878000016, 1307.8219849000016, 1308.5719849000016, 1310.0469849000015, 1311.5459839000016, 1310.8959839000015, 1306.4009888000014, 1303.8589966000013, 1304.3670044000014, 1306.8750000000014, 1310.8020019000012, 1315.6240112000012, 1319.4210205000013, 1322.5680176000012, 1326.2960206000012, 1330.5830201000012, 1337.7080201000012, 1343.6920167000012, 1346.9000123000012, 1349.6910157000013, 1350.5880128000013, 1351.1160035000012, 1351.006006000001, 1352.544006400001, 1352.706005900001, 1351.5370118000012, 1349.1220094000012, 1350.347009400001, 1351.151013300001, 1354.9680055000013, 1359.3430055000013, 1364.8910035000013, 1372.5179932000012, 1379.4509888000011, 1388.184985300001, 1397.6589843000008, 1407.876977400001, 1416.3099730000008, 1428.2829711000009, 1437.3019774000009, 1446.562975900001, 1454.7959837000012, 1459.4839842000013, 1459.9009886000013, 1461.2339965000012, 1464.0089965000013, 1465.6729980000014, 1463.9260009000013, 1464.4809935000012, 1460.7479857000012, 1456.975988600001, 1455.933984200001, 1457.185986100001, 1464.663989100001, 1470.286987100001, 1476.2509886000012, 1482.1329954000012, 1490.7839964000011, 1494.1570067000011, 1502.1190062000012, 1509.111010600001, 1509.999011100001, 1504.235009700001, 1492.2119994000009, 1480.6510009000008, 1460.6329955000008, 1443.0999877000008, 1429.9369872000009, 1412.1089843000007, 1398.0919922000007, 1378.1809937000005, 1359.5109986000007, 1338.9080079000007, 1328.1020143000007, 1310.3250123000007, 1290.007019100001, 1278.047021500001, 1247.5690186000006, 1225.4100220000007, 1196.4380249000008, 1176.0630249000008, 1153.4540161000007, 1137.5600097000006, 1122.9670043000006, 1111.6749999000006, 1116.3589965000006, 1105.4569946000006, 1111.7059936000005, 1116.0069946000006, 1116.8889892000004, 1117.4439819000004, 1119.9999878000006, 1133.0299927000008, 1138.2349976000007, 1149.0140015000006, 1153.9839966000006, 1164.6690064000006, 1176.9100098000006, 1186.8760010000008, 1202.6609986000008, 1218.9020020000007, 1235.7750000000008, 1238.7169922000007, 1246.3869873000008, 1252.9899903000007, 1259.7760011000005, 1265.6079957000006, 1262.0520021000007, 1269.9530030000005, 1278.4720093000005, 1282.2080078000006, 1288.2270142000004, 1301.7040161000004, 1310.1130249000003, 1319.7380249000003, 1330.6440185000004, 1343.3820190000001, 1357.5890136000003, 1358.3740112, 1359.1210083, 1364.3790039000003, 1370.0929931000005, 1372.3304931000007, 1378.2724853000007, 1381.2964843000007, 1383.5014892000006, 1384.8774902000007, 1389.0874878000006, 1395.8274902000007, 1403.1064941000009, 1408.9694946000006, 1414.4974976000008, 1420.7869996000009, 1421.333007900001, 1424.892004500001, 1428.510998600001, 1432.4250000000009, 1437.226001000001, 1435.936999600001, 1434.3630006000008, 1433.1660036000007, 1433.5160036000009, 1434.990002600001, 1437.367993300001, 1436.7009889000012, 1437.225988900001, 1438.0509889000011, 1434.6629884000013, 1438.4119874000012, 1433.0839844000013, 1430.5959839000013, 1427.6849853000012, 1426.3769897000013, 1429.2509887000012, 1435.6489867000014, 1438.9809936000013, 1442.1399902000012, 1450.0419921000012, 1460.0829955000013, 1475.226989700001, 1487.787988200001, 1497.790991200001, 1505.786987300001, 1510.8719971000012, 1517.8739991000011, 1525.197998100001, 1532.4469971000012, 1532.9160035000014, 1529.9290040000012, 1531.8150025000014, 1529.7910035000014, 1530.629004000001, 1531.973999100001, 1528.714990300001, 1519.5879883000011, 1510.242981000001, 1500.7549805000012, 1499.196972700001, 1497.4589722000012, 1494.0489747000013, 1492.0469727000013, 1490.5069702000014, 1489.2069702000013, 1491.683972100001, 1496.0369750000011, 1505.399975500001, 1512.791979900001, 1520.956982300001, 1529.549987700001, 1538.7599852000012, 1551.5499877000013, 1566.125988700001, 1577.7139892000012, 1591.381994600001, 1603.002002000001, 1613.2130005000013, 1631.288000500001, 1637.2969971000014, 1638.3589966000013, 1632.778003000001, 1627.652002000001, 1615.6160035000007, 1604.2550050000007, 1591.7420045000006, 1582.4679932000006, 1568.4869995000004, 1545.2119995000007, 1527.0270019000006, 1511.0390014000009, 1504.3459960000007, 1490.1709960000007, 1479.7979979000006, 1472.2219969000007, 1466.7459960000008, 1459.5349975000006, 1454.4049927000005, 1453.8609864000005, 1453.7039918000005, 1459.1899904000006, 1457.9879884000006, 1462.4959962000005, 1468.2599977000004, 1475.2859987000006, 1485.7489991000007, 1495.9840089000006, 1505.8320069000006, 1512.7360108000007, 1524.1950074000006, 1529.0540039000007, 1539.3030152000006, 1552.6050172000007, 1565.5450074000007, 1578.1230103000007, 1580.2530030000007, 1583.5109986000007, 1578.3650025000009, 1579.176001000001, 1583.9760010000011, 1593.118005400001, 1602.545996100001, 1618.1279907000012, 1632.9319946000012, 1645.006994600001, 1662.2619995000011, 1675.8750000000014, 1699.4839966000013, 1717.7439942000012, 1733.344995200001, 1748.8799928000008, 1760.8739991000007, 1760.6390015000009, 1760.6940064000005, 1758.7380005000007, 1755.9239990000005, 1758.7729980000004, 1760.6450073000003, 1764.9800048000004, 1763.3520018000004, 1765.0239989000006, 1770.8039916000005, 1778.8029907000005, 1785.2099853000004, 1792.9389892000004, 1801.3079956000006, 1802.8329956000005, 1803.2229858000005, 1802.0809937000006, 1802.0130006000006, 1798.9800050000006, 1792.4850099000007, 1784.5980103000006, 1774.900012300001, 1766.889013800001, 1757.384008900001, 1752.2090089000008, 1748.5610109000008, 1747.993005500001, 1747.8589967000007, 1745.0339967000007, 1743.9219972000005, 1741.9559938000007, 1742.9469972000002, 1742.5390016000001, 1748.9140016000001, 1756.3969972000002, 1759.1839967, 1756.2300050000001, 1755.7980103000002, 1755.8640137000002, 1754.2950073000004, 1760.5570068000004, 1775.1550048000004, 1790.7510009000005, 1802.1310058000006, 1811.3500121000004, 1826.4020140000005, 1834.8260130000003, 1845.6970091000003, 1855.2530027, 1871.7690062000001, 1885.4340087000005, 1903.7510131000006, 1920.8630248000009, 1940.5580199000008, 1959.9090087000009, 1976.536010700001, 2002.994995100001, 2026.272985900001, 2053.1099976000014, 2075.1649902000013, 2095.244995100001, 2099.9579834000006, 2103.8349610000005, 2100.5229493000006, 2098.317968800001, 2099.4839600000005, 2093.081970200001, 2087.1789794000006, 2084.918969700001, 2080.312988300001, 2070.152978500001, 2063.341992200001, 2064.082006800001], \"yaxis\": \"y2\"}, {\"line\": {\"color\": \"#FF0044\"}, \"name\": \"30_d_avg\", \"type\": \"scatter\", \"x\": [\"2018-11-20T00:00:00\", \"2018-11-21T00:00:00\", \"2018-11-23T00:00:00\", \"2018-11-26T00:00:00\", \"2018-11-27T00:00:00\", \"2018-11-28T00:00:00\", \"2018-11-29T00:00:00\", \"2018-11-30T00:00:00\", \"2018-12-03T00:00:00\", \"2018-12-04T00:00:00\", \"2018-12-06T00:00:00\", \"2018-12-07T00:00:00\", \"2018-12-10T00:00:00\", \"2018-12-11T00:00:00\", \"2018-12-12T00:00:00\", \"2018-12-13T00:00:00\", \"2018-12-14T00:00:00\", \"2018-12-17T00:00:00\", \"2018-12-18T00:00:00\", \"2018-12-19T00:00:00\", \"2018-12-20T00:00:00\", \"2018-12-21T00:00:00\", \"2018-12-24T00:00:00\", \"2018-12-26T00:00:00\", \"2018-12-27T00:00:00\", \"2018-12-28T00:00:00\", \"2018-12-31T00:00:00\", \"2019-01-02T00:00:00\", \"2019-01-03T00:00:00\", \"2019-01-04T00:00:00\", \"2019-01-07T00:00:00\", \"2019-01-08T00:00:00\", \"2019-01-09T00:00:00\", \"2019-01-10T00:00:00\", \"2019-01-11T00:00:00\", \"2019-01-14T00:00:00\", \"2019-01-15T00:00:00\", \"2019-01-16T00:00:00\", \"2019-01-17T00:00:00\", \"2019-01-18T00:00:00\", \"2019-01-22T00:00:00\", \"2019-01-23T00:00:00\", \"2019-01-24T00:00:00\", \"2019-01-25T00:00:00\", \"2019-01-28T00:00:00\", \"2019-01-29T00:00:00\", \"2019-01-30T00:00:00\", \"2019-01-31T00:00:00\", \"2019-02-01T00:00:00\", \"2019-02-04T00:00:00\", \"2019-02-05T00:00:00\", \"2019-02-06T00:00:00\", \"2019-02-07T00:00:00\", \"2019-02-08T00:00:00\", \"2019-02-11T00:00:00\", \"2019-02-12T00:00:00\", \"2019-02-13T00:00:00\", \"2019-02-14T00:00:00\", \"2019-02-15T00:00:00\", \"2019-02-19T00:00:00\", \"2019-02-20T00:00:00\", \"2019-02-21T00:00:00\", \"2019-02-22T00:00:00\", \"2019-02-25T00:00:00\", \"2019-02-26T00:00:00\", \"2019-02-27T00:00:00\", \"2019-02-28T00:00:00\", \"2019-03-01T00:00:00\", \"2019-03-04T00:00:00\", \"2019-03-05T00:00:00\", \"2019-03-06T00:00:00\", \"2019-03-07T00:00:00\", \"2019-03-08T00:00:00\", \"2019-03-11T00:00:00\", \"2019-03-12T00:00:00\", \"2019-03-13T00:00:00\", \"2019-03-14T00:00:00\", \"2019-03-15T00:00:00\", \"2019-03-18T00:00:00\", \"2019-03-19T00:00:00\", \"2019-03-20T00:00:00\", \"2019-03-21T00:00:00\", \"2019-03-22T00:00:00\", \"2019-03-25T00:00:00\", \"2019-03-26T00:00:00\", \"2019-03-27T00:00:00\", \"2019-03-28T00:00:00\", \"2019-03-29T00:00:00\", \"2019-04-01T00:00:00\", \"2019-04-02T00:00:00\", \"2019-04-03T00:00:00\", \"2019-04-04T00:00:00\", \"2019-04-05T00:00:00\", \"2019-04-08T00:00:00\", \"2019-04-09T00:00:00\", \"2019-04-10T00:00:00\", \"2019-04-11T00:00:00\", \"2019-04-12T00:00:00\", \"2019-04-15T00:00:00\", \"2019-04-16T00:00:00\", \"2019-04-17T00:00:00\", \"2019-04-18T00:00:00\", \"2019-04-22T00:00:00\", \"2019-04-23T00:00:00\", \"2019-04-24T00:00:00\", \"2019-04-25T00:00:00\", \"2019-04-26T00:00:00\", \"2019-04-29T00:00:00\", \"2019-04-30T00:00:00\", \"2019-05-01T00:00:00\", \"2019-05-02T00:00:00\", \"2019-05-03T00:00:00\", \"2019-05-06T00:00:00\", \"2019-05-07T00:00:00\", \"2019-05-08T00:00:00\", \"2019-05-09T00:00:00\", \"2019-05-10T00:00:00\", \"2019-05-13T00:00:00\", \"2019-05-14T00:00:00\", \"2019-05-15T00:00:00\", \"2019-05-16T00:00:00\", \"2019-05-17T00:00:00\", \"2019-05-20T00:00:00\", \"2019-05-21T00:00:00\", \"2019-05-22T00:00:00\", \"2019-05-23T00:00:00\", \"2019-05-24T00:00:00\", \"2019-05-28T00:00:00\", \"2019-05-29T00:00:00\", \"2019-05-30T00:00:00\", \"2019-05-31T00:00:00\", \"2019-06-03T00:00:00\", \"2019-06-04T00:00:00\", \"2019-06-05T00:00:00\", \"2019-06-06T00:00:00\", \"2019-06-07T00:00:00\", \"2019-06-10T00:00:00\", \"2019-06-11T00:00:00\", \"2019-06-12T00:00:00\", \"2019-06-13T00:00:00\", \"2019-06-14T00:00:00\", \"2019-06-17T00:00:00\", \"2019-06-18T00:00:00\", \"2019-06-19T00:00:00\", \"2019-06-20T00:00:00\", \"2019-06-21T00:00:00\", \"2019-06-24T00:00:00\", \"2019-06-25T00:00:00\", \"2019-06-26T00:00:00\", \"2019-06-27T00:00:00\", \"2019-06-28T00:00:00\", \"2019-07-01T00:00:00\", \"2019-07-02T00:00:00\", \"2019-07-03T00:00:00\", \"2019-07-05T00:00:00\", \"2019-07-08T00:00:00\", \"2019-07-09T00:00:00\", \"2019-07-10T00:00:00\", \"2019-07-11T00:00:00\", \"2019-07-12T00:00:00\", \"2019-07-15T00:00:00\", \"2019-07-16T00:00:00\", \"2019-07-17T00:00:00\", \"2019-07-18T00:00:00\", \"2019-07-19T00:00:00\", \"2019-07-22T00:00:00\", \"2019-07-23T00:00:00\", \"2019-07-24T00:00:00\", \"2019-07-25T00:00:00\", \"2019-07-26T00:00:00\", \"2019-07-29T00:00:00\", \"2019-07-30T00:00:00\", \"2019-07-31T00:00:00\", \"2019-08-01T00:00:00\", \"2019-08-02T00:00:00\", \"2019-08-05T00:00:00\", \"2019-08-06T00:00:00\", \"2019-08-07T00:00:00\", \"2019-08-08T00:00:00\", \"2019-08-09T00:00:00\", \"2019-08-12T00:00:00\", \"2019-08-13T00:00:00\", \"2019-08-14T00:00:00\", \"2019-08-15T00:00:00\", \"2019-08-16T00:00:00\", \"2019-08-19T00:00:00\", \"2019-08-20T00:00:00\", \"2019-08-21T00:00:00\", \"2019-08-22T00:00:00\", \"2019-08-23T00:00:00\", \"2019-08-26T00:00:00\", \"2019-08-27T00:00:00\", \"2019-08-28T00:00:00\", \"2019-08-29T00:00:00\", \"2019-08-30T00:00:00\", \"2019-09-03T00:00:00\", \"2019-09-04T00:00:00\", \"2019-09-05T00:00:00\", \"2019-09-06T00:00:00\", \"2019-09-09T00:00:00\", \"2019-09-10T00:00:00\", \"2019-09-11T00:00:00\", \"2019-09-12T00:00:00\", \"2019-09-13T00:00:00\", \"2019-09-16T00:00:00\", \"2019-09-17T00:00:00\", \"2019-09-18T00:00:00\", \"2019-09-19T00:00:00\", \"2019-09-20T00:00:00\", \"2019-09-23T00:00:00\", \"2019-09-24T00:00:00\", \"2019-09-25T00:00:00\", \"2019-09-26T00:00:00\", \"2019-09-27T00:00:00\", \"2019-09-30T00:00:00\", \"2019-10-01T00:00:00\", \"2019-10-02T00:00:00\", \"2019-10-03T00:00:00\", \"2019-10-04T00:00:00\", \"2019-10-07T00:00:00\", \"2019-10-08T00:00:00\", \"2019-10-09T00:00:00\", \"2019-10-10T00:00:00\", \"2019-10-11T00:00:00\", \"2019-10-14T00:00:00\", \"2019-10-15T00:00:00\", \"2019-10-16T00:00:00\", \"2019-10-17T00:00:00\", \"2019-10-18T00:00:00\", \"2019-10-21T00:00:00\", \"2019-10-22T00:00:00\", \"2019-10-23T00:00:00\", \"2019-10-24T00:00:00\", \"2019-10-25T00:00:00\", \"2019-10-28T00:00:00\", \"2019-10-29T00:00:00\", \"2019-10-30T00:00:00\", \"2019-10-31T00:00:00\", \"2019-11-01T00:00:00\", \"2019-11-04T00:00:00\", \"2019-11-05T00:00:00\", \"2019-11-06T00:00:00\", \"2019-11-07T00:00:00\", \"2019-11-08T00:00:00\", \"2019-11-11T00:00:00\", \"2019-11-12T00:00:00\", \"2019-11-13T00:00:00\", \"2019-11-14T00:00:00\", \"2019-11-15T00:00:00\", \"2019-11-18T00:00:00\", \"2019-11-19T00:00:00\", \"2019-11-20T00:00:00\", \"2019-11-21T00:00:00\", \"2019-11-22T00:00:00\", \"2019-11-25T00:00:00\", \"2019-11-26T00:00:00\", \"2019-11-27T00:00:00\", \"2019-11-29T00:00:00\", \"2019-12-02T00:00:00\", \"2019-12-03T00:00:00\", \"2019-12-04T00:00:00\", \"2019-12-05T00:00:00\", \"2019-12-06T00:00:00\", \"2019-12-09T00:00:00\", \"2019-12-10T00:00:00\", \"2019-12-11T00:00:00\", \"2019-12-12T00:00:00\", \"2019-12-13T00:00:00\", \"2019-12-16T00:00:00\", \"2019-12-17T00:00:00\", \"2019-12-18T00:00:00\", \"2019-12-19T00:00:00\", \"2019-12-20T00:00:00\", \"2019-12-23T00:00:00\", \"2019-12-24T00:00:00\", \"2019-12-26T00:00:00\", \"2019-12-27T00:00:00\", \"2019-12-30T00:00:00\", \"2019-12-31T00:00:00\", \"2020-01-02T00:00:00\", \"2020-01-03T00:00:00\", \"2020-01-06T00:00:00\", \"2020-01-07T00:00:00\", \"2020-01-08T00:00:00\", \"2020-01-09T00:00:00\", \"2020-01-10T00:00:00\", \"2020-01-13T00:00:00\", \"2020-01-14T00:00:00\", \"2020-01-15T00:00:00\", \"2020-01-16T00:00:00\", \"2020-01-17T00:00:00\", \"2020-01-21T00:00:00\", \"2020-01-22T00:00:00\", \"2020-01-23T00:00:00\", \"2020-01-24T00:00:00\", \"2020-01-27T00:00:00\", \"2020-01-28T00:00:00\", \"2020-01-29T00:00:00\", \"2020-01-30T00:00:00\", \"2020-01-31T00:00:00\", \"2020-02-03T00:00:00\", \"2020-02-04T00:00:00\", \"2020-02-05T00:00:00\", \"2020-02-06T00:00:00\", \"2020-02-07T00:00:00\", \"2020-02-10T00:00:00\", \"2020-02-11T00:00:00\", \"2020-02-12T00:00:00\", \"2020-02-13T00:00:00\", \"2020-02-14T00:00:00\", \"2020-02-18T00:00:00\", \"2020-02-19T00:00:00\", \"2020-02-20T00:00:00\", \"2020-02-21T00:00:00\", \"2020-02-24T00:00:00\", \"2020-02-25T00:00:00\", \"2020-02-26T00:00:00\", \"2020-02-27T00:00:00\", \"2020-02-28T00:00:00\", \"2020-03-02T00:00:00\", \"2020-03-03T00:00:00\", \"2020-03-04T00:00:00\", \"2020-03-05T00:00:00\", \"2020-03-06T00:00:00\", \"2020-03-09T00:00:00\", \"2020-03-10T00:00:00\", \"2020-03-11T00:00:00\", \"2020-03-12T00:00:00\", \"2020-03-13T00:00:00\", \"2020-03-16T00:00:00\", \"2020-03-17T00:00:00\", \"2020-03-18T00:00:00\", \"2020-03-19T00:00:00\", \"2020-03-20T00:00:00\", \"2020-03-23T00:00:00\", \"2020-03-24T00:00:00\", \"2020-03-25T00:00:00\", \"2020-03-26T00:00:00\", \"2020-03-27T00:00:00\", \"2020-03-30T00:00:00\", \"2020-03-31T00:00:00\", \"2020-04-01T00:00:00\", \"2020-04-02T00:00:00\", \"2020-04-03T00:00:00\", \"2020-04-06T00:00:00\", \"2020-04-07T00:00:00\", \"2020-04-08T00:00:00\", \"2020-04-09T00:00:00\", \"2020-04-13T00:00:00\", \"2020-04-14T00:00:00\", \"2020-04-15T00:00:00\", \"2020-04-16T00:00:00\", \"2020-04-17T00:00:00\", \"2020-04-20T00:00:00\", \"2020-04-21T00:00:00\", \"2020-04-22T00:00:00\", \"2020-04-23T00:00:00\", \"2020-04-24T00:00:00\", \"2020-04-27T00:00:00\", \"2020-04-28T00:00:00\", \"2020-04-29T00:00:00\", \"2020-04-30T00:00:00\", \"2020-05-01T00:00:00\", \"2020-05-04T00:00:00\", \"2020-05-05T00:00:00\", \"2020-05-06T00:00:00\", \"2020-05-07T00:00:00\", \"2020-05-08T00:00:00\", \"2020-05-11T00:00:00\", \"2020-05-12T00:00:00\", \"2020-05-13T00:00:00\", \"2020-05-14T00:00:00\", \"2020-05-15T00:00:00\", \"2020-05-18T00:00:00\", \"2020-05-19T00:00:00\", \"2020-05-20T00:00:00\", \"2020-05-21T00:00:00\", \"2020-05-22T00:00:00\", \"2020-05-26T00:00:00\", \"2020-05-27T00:00:00\", \"2020-05-28T00:00:00\", \"2020-05-29T00:00:00\", \"2020-06-01T00:00:00\", \"2020-06-02T00:00:00\", \"2020-06-03T00:00:00\", \"2020-06-04T00:00:00\", \"2020-06-05T00:00:00\", \"2020-06-08T00:00:00\", \"2020-06-09T00:00:00\", \"2020-06-10T00:00:00\", \"2020-06-11T00:00:00\", \"2020-06-12T00:00:00\", \"2020-06-15T00:00:00\", \"2020-06-16T00:00:00\", \"2020-06-17T00:00:00\", \"2020-06-18T00:00:00\", \"2020-06-19T00:00:00\", \"2020-06-22T00:00:00\", \"2020-06-23T00:00:00\", \"2020-06-24T00:00:00\", \"2020-06-25T00:00:00\", \"2020-06-26T00:00:00\", \"2020-06-29T00:00:00\", \"2020-06-30T00:00:00\", \"2020-07-01T00:00:00\", \"2020-07-02T00:00:00\", \"2020-07-06T00:00:00\", \"2020-07-07T00:00:00\", \"2020-07-08T00:00:00\", \"2020-07-09T00:00:00\", \"2020-07-10T00:00:00\", \"2020-07-13T00:00:00\", \"2020-07-14T00:00:00\", \"2020-07-15T00:00:00\", \"2020-07-16T00:00:00\", \"2020-07-17T00:00:00\", \"2020-07-20T00:00:00\", \"2020-07-21T00:00:00\", \"2020-07-22T00:00:00\", \"2020-07-23T00:00:00\", \"2020-07-24T00:00:00\", \"2020-07-27T00:00:00\", \"2020-07-28T00:00:00\", \"2020-07-29T00:00:00\", \"2020-07-30T00:00:00\", \"2020-07-31T00:00:00\", \"2020-08-03T00:00:00\", \"2020-08-04T00:00:00\", \"2020-08-05T00:00:00\", \"2020-08-06T00:00:00\", \"2020-08-07T00:00:00\", \"2020-08-10T00:00:00\", \"2020-08-11T00:00:00\", \"2020-08-12T00:00:00\", \"2020-08-13T00:00:00\", \"2020-08-14T00:00:00\", \"2020-08-17T00:00:00\", \"2020-08-18T00:00:00\", \"2020-08-19T00:00:00\", \"2020-08-20T00:00:00\", \"2020-08-21T00:00:00\", \"2020-08-24T00:00:00\", \"2020-08-25T00:00:00\", \"2020-08-26T00:00:00\", \"2020-08-27T00:00:00\", \"2020-08-28T00:00:00\", \"2020-08-31T00:00:00\", \"2020-09-01T00:00:00\", \"2020-09-02T00:00:00\", \"2020-09-03T00:00:00\", \"2020-09-04T00:00:00\", \"2020-09-08T00:00:00\", \"2020-09-09T00:00:00\", \"2020-09-10T00:00:00\", \"2020-09-11T00:00:00\", \"2020-09-14T00:00:00\", \"2020-09-15T00:00:00\", \"2020-09-16T00:00:00\", \"2020-09-17T00:00:00\", \"2020-09-18T00:00:00\", \"2020-09-21T00:00:00\", \"2020-09-22T00:00:00\", \"2020-09-23T00:00:00\", \"2020-09-24T00:00:00\", \"2020-09-25T00:00:00\", \"2020-09-28T00:00:00\", \"2020-09-29T00:00:00\", \"2020-09-30T00:00:00\", \"2020-10-01T00:00:00\", \"2020-10-02T00:00:00\", \"2020-10-05T00:00:00\", \"2020-10-06T00:00:00\", \"2020-10-07T00:00:00\", \"2020-10-08T00:00:00\", \"2020-10-09T00:00:00\", \"2020-10-12T00:00:00\", \"2020-10-13T00:00:00\", \"2020-10-14T00:00:00\", \"2020-10-15T00:00:00\", \"2020-10-16T00:00:00\", \"2020-10-19T00:00:00\", \"2020-10-20T00:00:00\", \"2020-10-21T00:00:00\", \"2020-10-22T00:00:00\", \"2020-10-23T00:00:00\", \"2020-10-26T00:00:00\", \"2020-10-27T00:00:00\", \"2020-10-28T00:00:00\", \"2020-10-29T00:00:00\", \"2020-10-30T00:00:00\", \"2020-11-02T00:00:00\", \"2020-11-03T00:00:00\", \"2020-11-04T00:00:00\", \"2020-11-05T00:00:00\", \"2020-11-06T00:00:00\", \"2020-11-09T00:00:00\", \"2020-11-10T00:00:00\", \"2020-11-11T00:00:00\", \"2020-11-12T00:00:00\", \"2020-11-13T00:00:00\", \"2020-11-16T00:00:00\", \"2020-11-17T00:00:00\", \"2020-11-18T00:00:00\", \"2020-11-19T00:00:00\", \"2020-11-20T00:00:00\", \"2020-11-23T00:00:00\", \"2020-11-24T00:00:00\", \"2020-11-25T00:00:00\", \"2020-11-27T00:00:00\", \"2020-11-30T00:00:00\", \"2020-12-01T00:00:00\", \"2020-12-02T00:00:00\", \"2020-12-03T00:00:00\", \"2020-12-04T00:00:00\", \"2020-12-07T00:00:00\", \"2020-12-08T00:00:00\", \"2020-12-09T00:00:00\", \"2020-12-10T00:00:00\", \"2020-12-11T00:00:00\", \"2020-12-14T00:00:00\", \"2020-12-15T00:00:00\", \"2020-12-16T00:00:00\", \"2020-12-17T00:00:00\", \"2020-12-18T00:00:00\", \"2020-12-21T00:00:00\", \"2020-12-22T00:00:00\", \"2020-12-23T00:00:00\", \"2020-12-24T00:00:00\", \"2020-12-28T00:00:00\", \"2020-12-29T00:00:00\", \"2020-12-30T00:00:00\", \"2020-12-31T00:00:00\", \"2021-01-04T00:00:00\", \"2021-01-05T00:00:00\", \"2021-01-06T00:00:00\", \"2021-01-07T00:00:00\", \"2021-01-08T00:00:00\", \"2021-01-11T00:00:00\", \"2021-01-12T00:00:00\", \"2021-01-13T00:00:00\", \"2021-01-14T00:00:00\", \"2021-01-15T00:00:00\", \"2021-01-19T00:00:00\", \"2021-01-20T00:00:00\", \"2021-01-21T00:00:00\", \"2021-01-22T00:00:00\", \"2021-01-25T00:00:00\", \"2021-01-26T00:00:00\", \"2021-01-27T00:00:00\", \"2021-01-28T00:00:00\", \"2021-01-29T00:00:00\", \"2021-02-01T00:00:00\", \"2021-02-02T00:00:00\", \"2021-02-03T00:00:00\", \"2021-02-04T00:00:00\", \"2021-02-05T00:00:00\", \"2021-02-08T00:00:00\", \"2021-02-09T00:00:00\", \"2021-02-10T00:00:00\", \"2021-02-11T00:00:00\", \"2021-02-12T00:00:00\", \"2021-02-16T00:00:00\", \"2021-02-17T00:00:00\", \"2021-02-18T00:00:00\", \"2021-02-19T00:00:00\", \"2021-02-22T00:00:00\", \"2021-02-23T00:00:00\", \"2021-02-24T00:00:00\", \"2021-02-25T00:00:00\", \"2021-02-26T00:00:00\", \"2021-03-01T00:00:00\", \"2021-03-02T00:00:00\", \"2021-03-03T00:00:00\", \"2021-03-04T00:00:00\", \"2021-03-05T00:00:00\"], \"xaxis\": \"x2\", \"y\": [null, null, null, null, null, null, null, null, null, null, null, null, null, null, null, null, null, null, null, null, null, null, null, null, null, null, null, null, null, 1043.0949971666666, 1044.5159973333334, 1045.8049988000002, 1047.4976664333337, 1048.2213318000004, 1048.6473287000003, 1047.2626607333336, 1046.8909932333336, 1046.4423238000002, 1045.8913228000001, 1047.472658266667, 1047.5323262666668, 1048.8319926000001, 1049.9769917666667, 1051.2849914333335, 1051.4983215000002, 1051.4556538666668, 1053.0209899666668, 1056.3489888333336, 1059.0836568000002, 1062.7433247666668, 1067.295992, 1071.8189920666666, 1075.9019917333333, 1077.7553283333334, 1079.4596618333335, 1082.2693298000002, 1085.0876647666669, 1087.615000366667, 1090.8680012333334, 1092.4630045000001, 1093.9766723, 1094.6663370333333, 1095.8566690666667, 1097.1590046666668, 1099.0903401333335, 1101.4690104000001, 1102.8946777333333, 1104.8953450333333, 1106.8253458666666, 1108.9510131666668, 1111.8623453333335, 1114.1200154333333, 1116.4006794999998, 1119.226346833333, 1123.3303466666664, 1127.7536783666665, 1130.9700113666663, 1133.2396768999997, 1135.6900105666662, 1137.8916747999997, 1140.4910074999996, 1144.3680094666663, 1147.927677433333, 1151.1923421333329, 1154.1793416333328, 1155.901009133333, 1157.5120076666665, 1159.2333414999998, 1161.9260091666663, 1164.6570068666663, 1167.7276733666663, 1171.6620076666663, 1174.8880086333331, 1178.0360066999997, 1180.7733398666664, 1183.6436726999998, 1186.4670044, 1189.0296712333331, 1191.4730021333332, 1193.6430013333331, 1196.2590006999997, 1199.361332233333, 1202.9119995666663, 1205.871667533333, 1207.9650024999996, 1210.302669333333, 1213.1903361666662, 1216.6276693333327, 1216.7683349999998, 1215.7426676666664, 1213.6973348, 1212.1593343, 1211.6223347999999, 1210.9923339999998, 1210.3806681666663, 1210.0260009999997, 1209.885335333333, 1208.5093343333328, 1206.042997233333, 1204.8336629333328, 1203.9356607999996, 1202.1789957666663, 1199.9023274999995, 1198.0953287999994, 1196.5676635999994, 1194.5213297999992, 1192.1496623333326, 1189.3589966333325, 1185.8709961333327, 1182.2316609999993, 1177.8079956333327, 1171.1366617999995, 1164.6103312333328, 1157.199328633333, 1150.143994166666, 1143.563663766666, 1137.1703287999994, 1130.2083292999994, 1126.4933309333326, 1123.849666399999, 1121.2743327666656, 1118.1776652999988, 1115.3179973333322, 1112.9256633333323, 1111.097330799999, 1109.7473307999992, 1108.1223307999992, 1106.5996623666656, 1105.2449992999989, 1102.3050009333322, 1099.0360027333325, 1096.8909994666658, 1095.971000266666, 1095.0359986333326, 1094.3749960333328, 1093.560994566666, 1093.2729940666661, 1093.4839925999995, 1094.4089925999995, 1095.3073283666663, 1096.8643270666662, 1100.7759929333329, 1103.8859904999995, 1107.356323333333, 1110.214990333333, 1112.615987233333, 1114.8103190999998, 1116.7799886999999, 1118.6163209, 1124.0043213666663, 1129.139656633333, 1133.5609904666665, 1137.3303263999996, 1140.8863281999995, 1143.638659733333, 1144.6533244333332, 1146.4676554666667, 1149.3889892666668, 1153.5556559333336, 1157.288989266667, 1160.4156535000002, 1163.7263224666667, 1165.4943237666666, 1167.0169922333332, 1168.5506592333331, 1171.2873250666667, 1173.2159912333332, 1174.9083252333332, 1176.4189941666666, 1176.6319946666665, 1177.2503296333332, 1177.7256632999997, 1178.5479980999996, 1180.0986654333328, 1182.0319987666662, 1183.0426677333328, 1184.2160034999993, 1186.6683350333326, 1189.095336999999, 1187.5620036666658, 1186.4483358666657, 1186.2826701666659, 1186.8683350333326, 1187.8866699999994, 1189.1303386333325, 1191.6913412333327, 1193.773343999999, 1195.9306763666657, 1196.768343199999, 1198.3023438333325, 1199.7706787999991, 1201.4123454666658, 1203.9823446666658, 1205.9100098666656, 1207.290010666666, 1207.5116781666657, 1207.3096802999992, 1207.1956788333325, 1207.8446778666657, 1209.7243450333324, 1210.3990113666657, 1211.5480144666658, 1212.8030152666659, 1213.556347766666, 1214.524349066666, 1217.0116822333327, 1219.0860149333325, 1220.4756796333327, 1221.8276774999997, 1223.2190104999997, 1224.4456787999995, 1225.7443441666662, 1226.6356771666663, 1227.4880086999995, 1229.444673733333, 1230.560339433333, 1231.5230062666662, 1232.2363403999996, 1233.6966715999997, 1235.6080037999998, 1238.0503377666666, 1239.5596720666663, 1241.8086710666664, 1244.6846720333333, 1247.3576700666665, 1250.481005833333, 1254.5266723333332, 1258.6476724999998, 1262.8433389999998, 1266.6106689, 1270.8216674333335, 1274.1796671, 1277.2689981666665, 1279.9319986666665, 1282.9169961999999, 1285.268330833333, 1287.5799966666666, 1289.3096638333332, 1290.790665633333, 1292.4283324666662, 1295.0196654666663, 1297.3196654666665, 1299.9739989666664, 1302.5883340999999, 1304.4103352333332, 1307.157002733333, 1310.1230020999997, 1313.047001133333, 1315.9613362666662, 1318.0863362666662, 1320.1060017999994, 1322.2473347999994, 1323.6050008333327, 1324.853999866666, 1326.3330037999995, 1328.3863362999996, 1330.182670133333, 1331.0053385999995, 1331.0770060999994, 1332.6326742333326, 1334.1393433333326, 1337.178007066666, 1340.2443400666662, 1343.8770060666661, 1347.6483398999997, 1351.5210042666663, 1355.7290039333332, 1359.926338733333, 1364.9023356333332, 1370.1163330333331, 1375.4446655666663, 1380.6536661999999, 1385.4979980666665, 1390.2676635666664, 1394.3359944666665, 1397.2986612666666, 1400.7083292333332, 1404.4016641999997, 1407.5573282666664, 1410.1943277666664, 1414.6383259666663, 1417.6726562, 1420.9606566666664, 1425.2069904666666, 1429.7293211666665, 1434.671988833333, 1439.9019896333332, 1445.9729898, 1451.8943236000002, 1457.0066567666668, 1462.3069904333336, 1466.7229897666666, 1470.8833250333334, 1473.5763263333333, 1473.6349933333333, 1472.258992366667, 1470.7239948333333, 1466.9643268666666, 1463.6353270333334, 1461.5489948333334, 1456.9156615, 1453.6529946999997, 1448.0893309666665, 1441.814664633333, 1433.443001233333, 1428.3260009333328, 1420.4210000999994, 1408.9636677333328, 1401.0933348666663, 1389.430000733333, 1377.2253376666663, 1365.5496744333327, 1354.4516763999995, 1340.9880085999996, 1326.9010090999993, 1314.4270059999994, 1300.883671033333, 1288.9996703666664, 1275.5346679333331, 1263.0706664666664, 1251.1753336333334, 1237.1396687666668, 1223.8960001666667, 1210.9883341666666, 1203.1660034333331, 1196.4346720666663, 1190.3380045666665, 1186.7833374, 1182.7243408333334, 1178.7283406666663, 1176.0976725333333, 1171.9960042333332, 1170.8030029333333, 1169.7430013, 1169.7689982, 1169.1963297333334, 1171.2263305666668, 1176.7063314000002, 1178.5779989000002, 1183.5560018333335, 1190.945332866667, 1199.3406657000005, 1206.1846639000005, 1214.6673340000004, 1224.4836670000004, 1231.5783366000003, 1240.5806722333336, 1248.134672066667, 1257.886340366667, 1265.5170085000002, 1271.7343384000003, 1280.0846720666668, 1288.4963379, 1298.0316691, 1304.2505004666668, 1311.5908325000003, 1318.0081665, 1324.6405029333332, 1331.2891682999996, 1336.2428344999998, 1341.3848348, 1346.8998372333333, 1351.8521687666666, 1357.6058349666666, 1364.9405029333332, 1369.9061726999998, 1375.3088378999996, 1380.8855020999995, 1386.8948363999996, 1394.6341674666662, 1396.712833666666, 1398.8635009999994, 1402.1715006999991, 1406.0354980999991, 1409.3691650999992, 1412.3244954999993, 1414.2964925666658, 1416.4128255666658, 1418.4511596999992, 1420.3254923999991, 1423.3921590666657, 1423.517826366666, 1424.243827366666, 1425.2328288333329, 1427.384663966666, 1429.3173299666662, 1432.4139933666663, 1434.9059936999995, 1437.5386596999995, 1440.6436604999994, 1444.8106608333328, 1447.5579915666663, 1450.5166585666661, 1452.9973266999993, 1455.7179931999995, 1459.1636596999995, 1463.4079915666662, 1467.1349935333326, 1470.8793253999995, 1472.5403279999994, 1476.1413289666662, 1480.0419921999996, 1482.7249918666664, 1485.368326833333, 1488.045992033333, 1489.6126586999997, 1491.0369913666664, 1491.4739908999995, 1491.780655933333, 1494.0516560999997, 1495.823657233333, 1500.3636556333329, 1503.2086547999997, 1506.3089884666663, 1508.9893188666663, 1510.4236531666663, 1511.1663207999998, 1513.6136515333333, 1515.3313191666666, 1517.6899861666666, 1518.9793212999998, 1521.5413207999998, 1524.4626546333332, 1529.0873209666665, 1532.9649861666664, 1537.260319, 1539.5423217666664, 1542.9519856666666, 1548.2783203, 1552.4836507, 1555.1226521666665, 1555.1956543, 1557.0829874666665, 1557.4163207999998, 1557.0586547999997, 1558.269323733333, 1560.5023233999996, 1562.3666584999996, 1563.0973266333328, 1561.7603270999998, 1559.6493285666663, 1558.627994733333, 1556.4576618999997, 1553.8466633666662, 1551.396997033333, 1549.956665033333, 1548.3349975666663, 1545.3683308999996, 1543.4536621333327, 1539.3426635999995, 1536.1959961333328, 1531.7039957999991, 1526.7729980666659, 1521.2246663666658, 1517.2543335333323, 1514.7456665333325, 1512.662333199999, 1509.5746663666657, 1503.9363322333325, 1501.6420003666656, 1499.7609985666656, 1500.5456665333325, 1501.7573364666657, 1504.5343343333327, 1508.5436686333328, 1510.915999366666, 1513.010001666666, 1512.8673340333328, 1515.2576660666662, 1520.625000066666, 1527.120666566666, 1533.2789998999992, 1544.4096680333325, 1555.5789998999994, 1566.138667866666, 1576.0880005333324, 1585.1233358333325, 1594.5603353333324, 1603.2186686666657, 1613.8386678666657, 1623.6840006999992, 1634.241003466666, 1643.7906697999995, 1653.0570027999995, 1660.622668466666, 1666.1463338333328, 1672.7196655333328, 1679.4980021333326, 1687.2999999999993, 1693.5576659999995, 1702.3406656999991, 1711.4079955999994, 1719.1899942999994, 1726.2786620999993, 1732.227994766666, 1739.8313313666658, 1745.8269978666658, 1754.4506632333325, 1761.6016642333323, 1766.2366658666658, 1770.9613322333325, 1774.7210001999993, 1774.6800008333328, 1773.601334666666, 1772.8553344999993, 1771.5386678333327, 1771.2716674999995, 1770.8096679999992, 1771.6846679999992, 1771.074666366666, 1769.6793335333325, 1769.0703328999991, 1768.452331599999, 1767.6856649333324, 1767.4556681999993, 1769.2020020333325, 1770.4796672333325, 1770.3226644666659, 1768.7680013999993, 1768.5566691999993, 1766.6260051333327, 1763.5673381333324, 1762.3703369666657, 1764.3340047666657, 1766.7263387666655, 1769.4763387666655, 1773.3186727333325, 1778.049007199999, 1779.6830078333326, 1783.1180053666658, 1785.3836710333323, 1789.995336899999, 1795.9823364333322, 1807.2843383666657, 1818.051009099999, 1830.5343424333323, 1842.552005999999, 1854.040673799999, 1864.6836710333325, 1875.9226684333325, 1888.0756713333326, 1900.4096678999992, 1913.7453368666659, 1926.2880004333326, 1938.482995566666, 1947.7373249999994, 1956.5256631999994, 1967.4739948999995, 1976.967659433333, 1986.3829914666665, 1997.7606566666664, 2009.082328233333, 2016.9439940999996, 2022.3503295666662, 2029.593330866666], \"yaxis\": \"y2\"}, {\"line\": {\"color\": \"#01DF3A\"}, \"name\": \"Closing Price\", \"type\": \"scatter\", \"x\": [\"2018-11-20T00:00:00\", \"2018-11-21T00:00:00\", \"2018-11-23T00:00:00\", \"2018-11-26T00:00:00\", \"2018-11-27T00:00:00\", \"2018-11-28T00:00:00\", \"2018-11-29T00:00:00\", \"2018-11-30T00:00:00\", \"2018-12-03T00:00:00\", \"2018-12-04T00:00:00\", \"2018-12-06T00:00:00\", \"2018-12-07T00:00:00\", \"2018-12-10T00:00:00\", \"2018-12-11T00:00:00\", \"2018-12-12T00:00:00\", \"2018-12-13T00:00:00\", \"2018-12-14T00:00:00\", \"2018-12-17T00:00:00\", \"2018-12-18T00:00:00\", \"2018-12-19T00:00:00\", \"2018-12-20T00:00:00\", \"2018-12-21T00:00:00\", \"2018-12-24T00:00:00\", \"2018-12-26T00:00:00\", \"2018-12-27T00:00:00\", \"2018-12-28T00:00:00\", \"2018-12-31T00:00:00\", \"2019-01-02T00:00:00\", \"2019-01-03T00:00:00\", \"2019-01-04T00:00:00\", \"2019-01-07T00:00:00\", \"2019-01-08T00:00:00\", \"2019-01-09T00:00:00\", \"2019-01-10T00:00:00\", \"2019-01-11T00:00:00\", \"2019-01-14T00:00:00\", \"2019-01-15T00:00:00\", \"2019-01-16T00:00:00\", \"2019-01-17T00:00:00\", \"2019-01-18T00:00:00\", \"2019-01-22T00:00:00\", \"2019-01-23T00:00:00\", \"2019-01-24T00:00:00\", \"2019-01-25T00:00:00\", \"2019-01-28T00:00:00\", \"2019-01-29T00:00:00\", \"2019-01-30T00:00:00\", \"2019-01-31T00:00:00\", \"2019-02-01T00:00:00\", \"2019-02-04T00:00:00\", \"2019-02-05T00:00:00\", \"2019-02-06T00:00:00\", \"2019-02-07T00:00:00\", \"2019-02-08T00:00:00\", \"2019-02-11T00:00:00\", \"2019-02-12T00:00:00\", \"2019-02-13T00:00:00\", \"2019-02-14T00:00:00\", \"2019-02-15T00:00:00\", \"2019-02-19T00:00:00\", \"2019-02-20T00:00:00\", \"2019-02-21T00:00:00\", \"2019-02-22T00:00:00\", \"2019-02-25T00:00:00\", \"2019-02-26T00:00:00\", \"2019-02-27T00:00:00\", \"2019-02-28T00:00:00\", \"2019-03-01T00:00:00\", \"2019-03-04T00:00:00\", \"2019-03-05T00:00:00\", \"2019-03-06T00:00:00\", \"2019-03-07T00:00:00\", \"2019-03-08T00:00:00\", \"2019-03-11T00:00:00\", \"2019-03-12T00:00:00\", \"2019-03-13T00:00:00\", \"2019-03-14T00:00:00\", \"2019-03-15T00:00:00\", \"2019-03-18T00:00:00\", \"2019-03-19T00:00:00\", \"2019-03-20T00:00:00\", \"2019-03-21T00:00:00\", \"2019-03-22T00:00:00\", \"2019-03-25T00:00:00\", \"2019-03-26T00:00:00\", \"2019-03-27T00:00:00\", \"2019-03-28T00:00:00\", \"2019-03-29T00:00:00\", \"2019-04-01T00:00:00\", \"2019-04-02T00:00:00\", \"2019-04-03T00:00:00\", \"2019-04-04T00:00:00\", \"2019-04-05T00:00:00\", \"2019-04-08T00:00:00\", \"2019-04-09T00:00:00\", \"2019-04-10T00:00:00\", \"2019-04-11T00:00:00\", \"2019-04-12T00:00:00\", \"2019-04-15T00:00:00\", \"2019-04-16T00:00:00\", \"2019-04-17T00:00:00\", \"2019-04-18T00:00:00\", \"2019-04-22T00:00:00\", \"2019-04-23T00:00:00\", \"2019-04-24T00:00:00\", \"2019-04-25T00:00:00\", \"2019-04-26T00:00:00\", \"2019-04-29T00:00:00\", \"2019-04-30T00:00:00\", \"2019-05-01T00:00:00\", \"2019-05-02T00:00:00\", \"2019-05-03T00:00:00\", \"2019-05-06T00:00:00\", \"2019-05-07T00:00:00\", \"2019-05-08T00:00:00\", \"2019-05-09T00:00:00\", \"2019-05-10T00:00:00\", \"2019-05-13T00:00:00\", \"2019-05-14T00:00:00\", \"2019-05-15T00:00:00\", \"2019-05-16T00:00:00\", \"2019-05-17T00:00:00\", \"2019-05-20T00:00:00\", \"2019-05-21T00:00:00\", \"2019-05-22T00:00:00\", \"2019-05-23T00:00:00\", \"2019-05-24T00:00:00\", \"2019-05-28T00:00:00\", \"2019-05-29T00:00:00\", \"2019-05-30T00:00:00\", \"2019-05-31T00:00:00\", \"2019-06-03T00:00:00\", \"2019-06-04T00:00:00\", \"2019-06-05T00:00:00\", \"2019-06-06T00:00:00\", \"2019-06-07T00:00:00\", \"2019-06-10T00:00:00\", \"2019-06-11T00:00:00\", \"2019-06-12T00:00:00\", \"2019-06-13T00:00:00\", \"2019-06-14T00:00:00\", \"2019-06-17T00:00:00\", \"2019-06-18T00:00:00\", \"2019-06-19T00:00:00\", \"2019-06-20T00:00:00\", \"2019-06-21T00:00:00\", \"2019-06-24T00:00:00\", \"2019-06-25T00:00:00\", \"2019-06-26T00:00:00\", \"2019-06-27T00:00:00\", \"2019-06-28T00:00:00\", \"2019-07-01T00:00:00\", \"2019-07-02T00:00:00\", \"2019-07-03T00:00:00\", \"2019-07-05T00:00:00\", \"2019-07-08T00:00:00\", \"2019-07-09T00:00:00\", \"2019-07-10T00:00:00\", \"2019-07-11T00:00:00\", \"2019-07-12T00:00:00\", \"2019-07-15T00:00:00\", \"2019-07-16T00:00:00\", \"2019-07-17T00:00:00\", \"2019-07-18T00:00:00\", \"2019-07-19T00:00:00\", \"2019-07-22T00:00:00\", \"2019-07-23T00:00:00\", \"2019-07-24T00:00:00\", \"2019-07-25T00:00:00\", \"2019-07-26T00:00:00\", \"2019-07-29T00:00:00\", \"2019-07-30T00:00:00\", \"2019-07-31T00:00:00\", \"2019-08-01T00:00:00\", \"2019-08-02T00:00:00\", \"2019-08-05T00:00:00\", \"2019-08-06T00:00:00\", \"2019-08-07T00:00:00\", \"2019-08-08T00:00:00\", \"2019-08-09T00:00:00\", \"2019-08-12T00:00:00\", \"2019-08-13T00:00:00\", \"2019-08-14T00:00:00\", \"2019-08-15T00:00:00\", \"2019-08-16T00:00:00\", \"2019-08-19T00:00:00\", \"2019-08-20T00:00:00\", \"2019-08-21T00:00:00\", \"2019-08-22T00:00:00\", \"2019-08-23T00:00:00\", \"2019-08-26T00:00:00\", \"2019-08-27T00:00:00\", \"2019-08-28T00:00:00\", \"2019-08-29T00:00:00\", \"2019-08-30T00:00:00\", \"2019-09-03T00:00:00\", \"2019-09-04T00:00:00\", \"2019-09-05T00:00:00\", \"2019-09-06T00:00:00\", \"2019-09-09T00:00:00\", \"2019-09-10T00:00:00\", \"2019-09-11T00:00:00\", \"2019-09-12T00:00:00\", \"2019-09-13T00:00:00\", \"2019-09-16T00:00:00\", \"2019-09-17T00:00:00\", \"2019-09-18T00:00:00\", \"2019-09-19T00:00:00\", \"2019-09-20T00:00:00\", \"2019-09-23T00:00:00\", \"2019-09-24T00:00:00\", \"2019-09-25T00:00:00\", \"2019-09-26T00:00:00\", \"2019-09-27T00:00:00\", \"2019-09-30T00:00:00\", \"2019-10-01T00:00:00\", \"2019-10-02T00:00:00\", \"2019-10-03T00:00:00\", \"2019-10-04T00:00:00\", \"2019-10-07T00:00:00\", \"2019-10-08T00:00:00\", \"2019-10-09T00:00:00\", \"2019-10-10T00:00:00\", \"2019-10-11T00:00:00\", \"2019-10-14T00:00:00\", \"2019-10-15T00:00:00\", \"2019-10-16T00:00:00\", \"2019-10-17T00:00:00\", \"2019-10-18T00:00:00\", \"2019-10-21T00:00:00\", \"2019-10-22T00:00:00\", \"2019-10-23T00:00:00\", \"2019-10-24T00:00:00\", \"2019-10-25T00:00:00\", \"2019-10-28T00:00:00\", \"2019-10-29T00:00:00\", \"2019-10-30T00:00:00\", \"2019-10-31T00:00:00\", \"2019-11-01T00:00:00\", \"2019-11-04T00:00:00\", \"2019-11-05T00:00:00\", \"2019-11-06T00:00:00\", \"2019-11-07T00:00:00\", \"2019-11-08T00:00:00\", \"2019-11-11T00:00:00\", \"2019-11-12T00:00:00\", \"2019-11-13T00:00:00\", \"2019-11-14T00:00:00\", \"2019-11-15T00:00:00\", \"2019-11-18T00:00:00\", \"2019-11-19T00:00:00\", \"2019-11-20T00:00:00\", \"2019-11-21T00:00:00\", \"2019-11-22T00:00:00\", \"2019-11-25T00:00:00\", \"2019-11-26T00:00:00\", \"2019-11-27T00:00:00\", \"2019-11-29T00:00:00\", \"2019-12-02T00:00:00\", \"2019-12-03T00:00:00\", \"2019-12-04T00:00:00\", \"2019-12-05T00:00:00\", \"2019-12-06T00:00:00\", \"2019-12-09T00:00:00\", \"2019-12-10T00:00:00\", \"2019-12-11T00:00:00\", \"2019-12-12T00:00:00\", \"2019-12-13T00:00:00\", \"2019-12-16T00:00:00\", \"2019-12-17T00:00:00\", \"2019-12-18T00:00:00\", \"2019-12-19T00:00:00\", \"2019-12-20T00:00:00\", \"2019-12-23T00:00:00\", \"2019-12-24T00:00:00\", \"2019-12-26T00:00:00\", \"2019-12-27T00:00:00\", \"2019-12-30T00:00:00\", \"2019-12-31T00:00:00\", \"2020-01-02T00:00:00\", \"2020-01-03T00:00:00\", \"2020-01-06T00:00:00\", \"2020-01-07T00:00:00\", \"2020-01-08T00:00:00\", \"2020-01-09T00:00:00\", \"2020-01-10T00:00:00\", \"2020-01-13T00:00:00\", \"2020-01-14T00:00:00\", \"2020-01-15T00:00:00\", \"2020-01-16T00:00:00\", \"2020-01-17T00:00:00\", \"2020-01-21T00:00:00\", \"2020-01-22T00:00:00\", \"2020-01-23T00:00:00\", \"2020-01-24T00:00:00\", \"2020-01-27T00:00:00\", \"2020-01-28T00:00:00\", \"2020-01-29T00:00:00\", \"2020-01-30T00:00:00\", \"2020-01-31T00:00:00\", \"2020-02-03T00:00:00\", \"2020-02-04T00:00:00\", \"2020-02-05T00:00:00\", \"2020-02-06T00:00:00\", \"2020-02-07T00:00:00\", \"2020-02-10T00:00:00\", \"2020-02-11T00:00:00\", \"2020-02-12T00:00:00\", \"2020-02-13T00:00:00\", \"2020-02-14T00:00:00\", \"2020-02-18T00:00:00\", \"2020-02-19T00:00:00\", \"2020-02-20T00:00:00\", \"2020-02-21T00:00:00\", \"2020-02-24T00:00:00\", \"2020-02-25T00:00:00\", \"2020-02-26T00:00:00\", \"2020-02-27T00:00:00\", \"2020-02-28T00:00:00\", \"2020-03-02T00:00:00\", \"2020-03-03T00:00:00\", \"2020-03-04T00:00:00\", \"2020-03-05T00:00:00\", \"2020-03-06T00:00:00\", \"2020-03-09T00:00:00\", \"2020-03-10T00:00:00\", \"2020-03-11T00:00:00\", \"2020-03-12T00:00:00\", \"2020-03-13T00:00:00\", \"2020-03-16T00:00:00\", \"2020-03-17T00:00:00\", \"2020-03-18T00:00:00\", \"2020-03-19T00:00:00\", \"2020-03-20T00:00:00\", \"2020-03-23T00:00:00\", \"2020-03-24T00:00:00\", \"2020-03-25T00:00:00\", \"2020-03-26T00:00:00\", \"2020-03-27T00:00:00\", \"2020-03-30T00:00:00\", \"2020-03-31T00:00:00\", \"2020-04-01T00:00:00\", \"2020-04-02T00:00:00\", \"2020-04-03T00:00:00\", \"2020-04-06T00:00:00\", \"2020-04-07T00:00:00\", \"2020-04-08T00:00:00\", \"2020-04-09T00:00:00\", \"2020-04-13T00:00:00\", \"2020-04-14T00:00:00\", \"2020-04-15T00:00:00\", \"2020-04-16T00:00:00\", \"2020-04-17T00:00:00\", \"2020-04-20T00:00:00\", \"2020-04-21T00:00:00\", \"2020-04-22T00:00:00\", \"2020-04-23T00:00:00\", \"2020-04-24T00:00:00\", \"2020-04-27T00:00:00\", \"2020-04-28T00:00:00\", \"2020-04-29T00:00:00\", \"2020-04-30T00:00:00\", \"2020-05-01T00:00:00\", \"2020-05-04T00:00:00\", \"2020-05-05T00:00:00\", \"2020-05-06T00:00:00\", \"2020-05-07T00:00:00\", \"2020-05-08T00:00:00\", \"2020-05-11T00:00:00\", \"2020-05-12T00:00:00\", \"2020-05-13T00:00:00\", \"2020-05-14T00:00:00\", \"2020-05-15T00:00:00\", \"2020-05-18T00:00:00\", \"2020-05-19T00:00:00\", \"2020-05-20T00:00:00\", \"2020-05-21T00:00:00\", \"2020-05-22T00:00:00\", \"2020-05-26T00:00:00\", \"2020-05-27T00:00:00\", \"2020-05-28T00:00:00\", \"2020-05-29T00:00:00\", \"2020-06-01T00:00:00\", \"2020-06-02T00:00:00\", \"2020-06-03T00:00:00\", \"2020-06-04T00:00:00\", \"2020-06-05T00:00:00\", \"2020-06-08T00:00:00\", \"2020-06-09T00:00:00\", \"2020-06-10T00:00:00\", \"2020-06-11T00:00:00\", \"2020-06-12T00:00:00\", \"2020-06-15T00:00:00\", \"2020-06-16T00:00:00\", \"2020-06-17T00:00:00\", \"2020-06-18T00:00:00\", \"2020-06-19T00:00:00\", \"2020-06-22T00:00:00\", \"2020-06-23T00:00:00\", \"2020-06-24T00:00:00\", \"2020-06-25T00:00:00\", \"2020-06-26T00:00:00\", \"2020-06-29T00:00:00\", \"2020-06-30T00:00:00\", \"2020-07-01T00:00:00\", \"2020-07-02T00:00:00\", \"2020-07-06T00:00:00\", \"2020-07-07T00:00:00\", \"2020-07-08T00:00:00\", \"2020-07-09T00:00:00\", \"2020-07-10T00:00:00\", \"2020-07-13T00:00:00\", \"2020-07-14T00:00:00\", \"2020-07-15T00:00:00\", \"2020-07-16T00:00:00\", \"2020-07-17T00:00:00\", \"2020-07-20T00:00:00\", \"2020-07-21T00:00:00\", \"2020-07-22T00:00:00\", \"2020-07-23T00:00:00\", \"2020-07-24T00:00:00\", \"2020-07-27T00:00:00\", \"2020-07-28T00:00:00\", \"2020-07-29T00:00:00\", \"2020-07-30T00:00:00\", \"2020-07-31T00:00:00\", \"2020-08-03T00:00:00\", \"2020-08-04T00:00:00\", \"2020-08-05T00:00:00\", \"2020-08-06T00:00:00\", \"2020-08-07T00:00:00\", \"2020-08-10T00:00:00\", \"2020-08-11T00:00:00\", \"2020-08-12T00:00:00\", \"2020-08-13T00:00:00\", \"2020-08-14T00:00:00\", \"2020-08-17T00:00:00\", \"2020-08-18T00:00:00\", \"2020-08-19T00:00:00\", \"2020-08-20T00:00:00\", \"2020-08-21T00:00:00\", \"2020-08-24T00:00:00\", \"2020-08-25T00:00:00\", \"2020-08-26T00:00:00\", \"2020-08-27T00:00:00\", \"2020-08-28T00:00:00\", \"2020-08-31T00:00:00\", \"2020-09-01T00:00:00\", \"2020-09-02T00:00:00\", \"2020-09-03T00:00:00\", \"2020-09-04T00:00:00\", \"2020-09-08T00:00:00\", \"2020-09-09T00:00:00\", \"2020-09-10T00:00:00\", \"2020-09-11T00:00:00\", \"2020-09-14T00:00:00\", \"2020-09-15T00:00:00\", \"2020-09-16T00:00:00\", \"2020-09-17T00:00:00\", \"2020-09-18T00:00:00\", \"2020-09-21T00:00:00\", \"2020-09-22T00:00:00\", \"2020-09-23T00:00:00\", \"2020-09-24T00:00:00\", \"2020-09-25T00:00:00\", \"2020-09-28T00:00:00\", \"2020-09-29T00:00:00\", \"2020-09-30T00:00:00\", \"2020-10-01T00:00:00\", \"2020-10-02T00:00:00\", \"2020-10-05T00:00:00\", \"2020-10-06T00:00:00\", \"2020-10-07T00:00:00\", \"2020-10-08T00:00:00\", \"2020-10-09T00:00:00\", \"2020-10-12T00:00:00\", \"2020-10-13T00:00:00\", \"2020-10-14T00:00:00\", \"2020-10-15T00:00:00\", \"2020-10-16T00:00:00\", \"2020-10-19T00:00:00\", \"2020-10-20T00:00:00\", \"2020-10-21T00:00:00\", \"2020-10-22T00:00:00\", \"2020-10-23T00:00:00\", \"2020-10-26T00:00:00\", \"2020-10-27T00:00:00\", \"2020-10-28T00:00:00\", \"2020-10-29T00:00:00\", \"2020-10-30T00:00:00\", \"2020-11-02T00:00:00\", \"2020-11-03T00:00:00\", \"2020-11-04T00:00:00\", \"2020-11-05T00:00:00\", \"2020-11-06T00:00:00\", \"2020-11-09T00:00:00\", \"2020-11-10T00:00:00\", \"2020-11-11T00:00:00\", \"2020-11-12T00:00:00\", \"2020-11-13T00:00:00\", \"2020-11-16T00:00:00\", \"2020-11-17T00:00:00\", \"2020-11-18T00:00:00\", \"2020-11-19T00:00:00\", \"2020-11-20T00:00:00\", \"2020-11-23T00:00:00\", \"2020-11-24T00:00:00\", \"2020-11-25T00:00:00\", \"2020-11-27T00:00:00\", \"2020-11-30T00:00:00\", \"2020-12-01T00:00:00\", \"2020-12-02T00:00:00\", \"2020-12-03T00:00:00\", \"2020-12-04T00:00:00\", \"2020-12-07T00:00:00\", \"2020-12-08T00:00:00\", \"2020-12-09T00:00:00\", \"2020-12-10T00:00:00\", \"2020-12-11T00:00:00\", \"2020-12-14T00:00:00\", \"2020-12-15T00:00:00\", \"2020-12-16T00:00:00\", \"2020-12-17T00:00:00\", \"2020-12-18T00:00:00\", \"2020-12-21T00:00:00\", \"2020-12-22T00:00:00\", \"2020-12-23T00:00:00\", \"2020-12-24T00:00:00\", \"2020-12-28T00:00:00\", \"2020-12-29T00:00:00\", \"2020-12-30T00:00:00\", \"2020-12-31T00:00:00\", \"2021-01-04T00:00:00\", \"2021-01-05T00:00:00\", \"2021-01-06T00:00:00\", \"2021-01-07T00:00:00\", \"2021-01-08T00:00:00\", \"2021-01-11T00:00:00\", \"2021-01-12T00:00:00\", \"2021-01-13T00:00:00\", \"2021-01-14T00:00:00\", \"2021-01-15T00:00:00\", \"2021-01-19T00:00:00\", \"2021-01-20T00:00:00\", \"2021-01-21T00:00:00\", \"2021-01-22T00:00:00\", \"2021-01-25T00:00:00\", \"2021-01-26T00:00:00\", \"2021-01-27T00:00:00\", \"2021-01-28T00:00:00\", \"2021-01-29T00:00:00\", \"2021-02-01T00:00:00\", \"2021-02-02T00:00:00\", \"2021-02-03T00:00:00\", \"2021-02-04T00:00:00\", \"2021-02-05T00:00:00\", \"2021-02-08T00:00:00\", \"2021-02-09T00:00:00\", \"2021-02-10T00:00:00\", \"2021-02-11T00:00:00\", \"2021-02-12T00:00:00\", \"2021-02-16T00:00:00\", \"2021-02-17T00:00:00\", \"2021-02-18T00:00:00\", \"2021-02-19T00:00:00\", \"2021-02-22T00:00:00\", \"2021-02-23T00:00:00\", \"2021-02-24T00:00:00\", \"2021-02-25T00:00:00\", \"2021-02-26T00:00:00\", \"2021-03-01T00:00:00\", \"2021-03-02T00:00:00\", \"2021-03-03T00:00:00\", \"2021-03-04T00:00:00\", \"2021-03-05T00:00:00\"], \"xaxis\": \"x3\", \"y\": [1025.76001, 1037.609985, 1023.8800050000001, 1048.619995, 1044.410034, 1086.22998, 1088.300049, 1094.430054, 1106.430054, 1050.819946, 1068.72998, 1036.579956, 1039.550049, 1051.75, 1063.680054, 1061.900024, 1042.099976, 1016.5300289999999, 1028.709961, 1023.01001, 1009.409973, 979.5399779999999, 976.2199710000001, 1039.459961, 1043.880005, 1037.079956, 1035.609985, 1045.849976, 1016.0599980000001, 1070.709961, 1068.390015, 1076.280029, 1074.660034, 1070.329956, 1057.189941, 1044.689941, 1077.150024, 1080.969971, 1089.900024, 1098.26001, 1070.52002, 1075.569946, 1073.900024, 1090.98999, 1070.079956, 1060.619995, 1089.060059, 1116.369995, 1110.75, 1132.800049, 1145.98999, 1115.22998, 1098.709961, 1095.060059, 1095.01001, 1121.369995, 1120.160034, 1121.670044, 1113.650024, 1118.560059, 1113.800049, 1096.969971, 1110.369995, 1109.400024, 1115.130005, 1116.050049, 1119.920044, 1140.98999, 1147.800049, 1162.030029, 1157.859985, 1143.300049, 1142.319946, 1175.76001, 1193.199951, 1193.319946, 1185.550049, 1184.459961, 1184.26001, 1198.849976, 1223.969971, 1231.540039, 1205.5, 1193.0, 1184.619995, 1173.02002, 1168.48999, 1173.310059, 1194.430054, 1200.48999, 1205.920044, 1215.0, 1207.150024, 1203.839966, 1197.25, 1202.160034, 1204.619995, 1217.869995, 1221.099976, 1227.130005, 1236.339966, 1236.369995, 1248.839966, 1264.550049, 1256.0, 1263.449951, 1272.180054, 1287.579956, 1188.47998, 1168.079956, 1162.609985, 1185.400024, 1189.390015, 1174.099976, 1166.27002, 1162.380005, 1164.27002, 1132.030029, 1120.439941, 1164.209961, 1178.97998, 1162.300049, 1138.849976, 1149.630005, 1151.420044, 1140.77002, 1133.469971, 1134.150024, 1116.459961, 1117.949951, 1103.630005, 1036.22998, 1053.050049, 1042.219971, 1044.339966, 1066.040039, 1080.380005, 1078.719971, 1077.030029, 1088.77002, 1085.349976, 1092.5, 1103.599976, 1102.329956, 1111.420044, 1121.880005, 1115.52002, 1086.349976, 1079.800049, 1076.01001, 1080.910034, 1097.949951, 1111.25, 1121.579956, 1131.589966, 1116.349976, 1124.829956, 1140.47998, 1144.209961, 1144.900024, 1150.339966, 1153.579956, 1146.349976, 1146.329956, 1130.099976, 1138.069946, 1146.209961, 1137.810059, 1132.119995, 1250.410034, 1239.410034, 1225.140015, 1216.680054, 1209.01001, 1193.98999, 1152.319946, 1169.949951, 1173.98999, 1204.800049, 1188.01001, 1174.709961, 1197.27002, 1164.290039, 1167.26001, 1177.599976, 1198.449951, 1182.689941, 1191.25, 1189.530029, 1151.290039, 1168.890015, 1167.839966, 1171.02002, 1192.849976, 1188.099976, 1168.390015, 1181.410034, 1211.380005, 1204.930054, 1204.410034, 1206.0, 1220.170044, 1234.25, 1239.560059, 1231.300049, 1229.150024, 1232.410034, 1238.709961, 1229.930054, 1234.030029, 1218.76001, 1246.52002, 1241.390015, 1225.089966, 1219.0, 1205.099976, 1176.630005, 1187.829956, 1209.0, 1207.680054, 1189.130005, 1202.310059, 1208.670044, 1215.449951, 1217.140015, 1243.01001, 1243.640015, 1253.069946, 1245.48999, 1246.150024, 1242.800049, 1259.130005, 1260.98999, 1265.130005, 1290.0, 1262.619995, 1261.290039, 1260.109985, 1273.73999, 1291.369995, 1292.030029, 1291.800049, 1308.859985, 1311.369995, 1299.189941, 1298.800049, 1298.0, 1311.459961, 1334.869995, 1320.699951, 1315.459961, 1303.050049, 1301.349976, 1295.339966, 1306.689941, 1313.550049, 1312.98999, 1304.959961, 1289.920044, 1295.280029, 1320.540039, 1328.130005, 1340.619995, 1343.560059, 1344.660034, 1345.02002, 1350.27002, 1347.829956, 1361.170044, 1355.119995, 1352.619995, 1356.040039, 1349.589966, 1348.839966, 1343.560059, 1360.400024, 1351.890015, 1336.140015, 1337.02002, 1367.369995, 1360.660034, 1394.209961, 1393.339966, 1404.319946, 1419.829956, 1429.72998, 1439.22998, 1430.880005, 1439.199951, 1451.699951, 1480.390015, 1484.400024, 1485.949951, 1486.650024, 1466.709961, 1433.900024, 1452.560059, 1458.630005, 1455.839966, 1434.22998, 1485.939941, 1447.069946, 1448.22998, 1476.22998, 1479.22998, 1508.680054, 1508.790039, 1518.27002, 1514.660034, 1520.73999, 1519.670044, 1526.689941, 1518.150024, 1485.109985, 1421.589966, 1388.449951, 1393.180054, 1318.089966, 1339.329956, 1389.109985, 1341.390015, 1386.52002, 1319.040039, 1298.410034, 1215.560059, 1280.390015, 1215.410034, 1114.910034, 1219.72998, 1084.329956, 1119.800049, 1096.800049, 1115.290039, 1072.319946, 1056.619995, 1134.459961, 1102.48999, 1161.75, 1110.709961, 1146.819946, 1162.810059, 1105.619995, 1120.839966, 1097.880005, 1186.920044, 1186.51001, 1210.280029, 1211.449951, 1217.560059, 1269.22998, 1262.469971, 1263.469971, 1283.25, 1266.609985, 1216.339966, 1263.209961, 1276.310059, 1279.310059, 1275.880005, 1233.670044, 1341.47998, 1348.660034, 1320.609985, 1326.800049, 1351.109985, 1347.300049, 1372.560059, 1388.369995, 1403.26001, 1375.73999, 1349.329956, 1356.130005, 1373.189941, 1383.939941, 1373.484985, 1406.719971, 1402.800049, 1410.420044, 1417.02002, 1417.839966, 1416.72998, 1428.920044, 1431.819946, 1439.219971, 1436.380005, 1412.180054, 1438.390015, 1446.609985, 1456.160034, 1465.849976, 1403.839966, 1413.180054, 1419.849976, 1442.719971, 1451.119995, 1435.959961, 1431.719971, 1451.859985, 1464.410034, 1431.969971, 1441.329956, 1359.900024, 1394.969971, 1413.609985, 1438.040039, 1464.699951, 1495.699951, 1485.180054, 1496.0, 1510.98999, 1541.73999, 1511.339966, 1520.579956, 1513.640015, 1518.0, 1515.550049, 1565.719971, 1558.420044, 1568.48999, 1515.680054, 1511.869995, 1530.199951, 1500.339966, 1522.02002, 1531.449951, 1482.959961, 1474.449951, 1464.969971, 1473.609985, 1500.099976, 1494.48999, 1496.099976, 1480.319946, 1506.619995, 1518.449951, 1507.72998, 1517.97998, 1558.599976, 1547.530029, 1581.75, 1580.420044, 1588.199951, 1608.219971, 1652.380005, 1634.329956, 1644.410034, 1634.180054, 1660.709961, 1728.280029, 1641.839966, 1591.040039, 1532.390015, 1556.959961, 1532.02002, 1520.719971, 1519.280029, 1541.439941, 1520.900024, 1495.530029, 1459.98999, 1431.160034, 1465.459961, 1415.209961, 1428.290039, 1444.959961, 1464.52002, 1469.329956, 1469.599976, 1490.089966, 1458.420044, 1486.02002, 1453.439941, 1460.290039, 1485.930054, 1515.219971, 1569.150024, 1571.680054, 1568.079956, 1559.130005, 1573.01001, 1534.609985, 1555.930054, 1593.310059, 1615.329956, 1641.0, 1590.449951, 1604.26001, 1516.619995, 1567.23999, 1621.01001, 1626.030029, 1650.209961, 1749.130005, 1763.369995, 1761.75, 1763.0, 1740.390015, 1752.709961, 1749.839966, 1777.02002, 1781.380005, 1770.1500239999998, 1746.780029, 1763.9200440000002, 1742.189941, 1734.859985, 1768.880005, 1771.430054, 1793.189941, 1760.7399899999998, 1798.0999760000002, 1827.949951, 1826.77002, 1827.9899899999998, 1819.47998, 1818.550049, 1784.130005, 1775.3299559999998, 1781.77002, 1760.060059, 1767.77002, 1763.0, 1747.9000239999998, 1731.0100100000002, 1739.369995, 1723.5, 1732.380005, 1738.8499760000002, 1776.089966, 1758.719971, 1739.52002, 1751.880005, 1728.2399899999998, 1740.9200440000002, 1735.290039, 1787.25, 1807.209961, 1766.719971, 1746.550049, 1754.4000239999998, 1740.180054, 1736.189941, 1790.859985, 1886.9000239999998, 1891.25, 1901.050049, 1899.4000239999998, 1917.2399899999998, 1830.790039, 1863.109985, 1835.7399899999998, 1901.3499760000002, 1927.5100100000002, 2070.070068, 2062.3701170000004, 2098.0, 2092.909912, 2083.51001, 2095.3798829999996, 2095.889893, 2104.110107, 2121.899902, 2128.310059, 2117.199951, 2101.139893, 2064.8798829999996, 2070.860107, 2095.169922, 2031.359985, 2036.859985, 2081.51001, 2075.840088, 2026.709961, 2049.090088, 2108.540039], \"yaxis\": \"y3\"}],\n",
              "                        {\"height\": 800, \"paper_bgcolor\": \"#F2DFCE\", \"plot_bgcolor\": \"#F2DFCE\", \"template\": {\"data\": {\"bar\": [{\"error_x\": {\"color\": \"#2a3f5f\"}, \"error_y\": {\"color\": \"#2a3f5f\"}, \"marker\": {\"line\": {\"color\": \"#E5ECF6\", \"width\": 0.5}}, \"type\": \"bar\"}], \"barpolar\": [{\"marker\": {\"line\": {\"color\": \"#E5ECF6\", \"width\": 0.5}}, \"type\": \"barpolar\"}], \"carpet\": [{\"aaxis\": {\"endlinecolor\": \"#2a3f5f\", \"gridcolor\": \"white\", \"linecolor\": \"white\", \"minorgridcolor\": \"white\", \"startlinecolor\": \"#2a3f5f\"}, \"baxis\": {\"endlinecolor\": \"#2a3f5f\", \"gridcolor\": \"white\", \"linecolor\": \"white\", \"minorgridcolor\": \"white\", \"startlinecolor\": \"#2a3f5f\"}, \"type\": \"carpet\"}], \"choropleth\": [{\"colorbar\": {\"outlinewidth\": 0, \"ticks\": \"\"}, \"type\": \"choropleth\"}], \"contour\": [{\"colorbar\": {\"outlinewidth\": 0, \"ticks\": \"\"}, \"colorscale\": [[0.0, \"#0d0887\"], [0.1111111111111111, \"#46039f\"], [0.2222222222222222, \"#7201a8\"], [0.3333333333333333, \"#9c179e\"], [0.4444444444444444, \"#bd3786\"], [0.5555555555555556, \"#d8576b\"], [0.6666666666666666, \"#ed7953\"], [0.7777777777777778, \"#fb9f3a\"], [0.8888888888888888, \"#fdca26\"], [1.0, \"#f0f921\"]], \"type\": \"contour\"}], \"contourcarpet\": [{\"colorbar\": {\"outlinewidth\": 0, \"ticks\": \"\"}, \"type\": \"contourcarpet\"}], \"heatmap\": [{\"colorbar\": {\"outlinewidth\": 0, \"ticks\": \"\"}, \"colorscale\": [[0.0, \"#0d0887\"], [0.1111111111111111, \"#46039f\"], [0.2222222222222222, \"#7201a8\"], [0.3333333333333333, \"#9c179e\"], [0.4444444444444444, \"#bd3786\"], [0.5555555555555556, \"#d8576b\"], [0.6666666666666666, \"#ed7953\"], [0.7777777777777778, \"#fb9f3a\"], [0.8888888888888888, \"#fdca26\"], [1.0, \"#f0f921\"]], \"type\": \"heatmap\"}], \"heatmapgl\": [{\"colorbar\": {\"outlinewidth\": 0, \"ticks\": \"\"}, \"colorscale\": [[0.0, \"#0d0887\"], [0.1111111111111111, \"#46039f\"], [0.2222222222222222, \"#7201a8\"], [0.3333333333333333, \"#9c179e\"], [0.4444444444444444, \"#bd3786\"], [0.5555555555555556, \"#d8576b\"], [0.6666666666666666, \"#ed7953\"], [0.7777777777777778, \"#fb9f3a\"], [0.8888888888888888, \"#fdca26\"], [1.0, \"#f0f921\"]], \"type\": \"heatmapgl\"}], \"histogram\": [{\"marker\": {\"colorbar\": {\"outlinewidth\": 0, \"ticks\": \"\"}}, \"type\": \"histogram\"}], \"histogram2d\": [{\"colorbar\": {\"outlinewidth\": 0, \"ticks\": \"\"}, \"colorscale\": [[0.0, \"#0d0887\"], [0.1111111111111111, \"#46039f\"], [0.2222222222222222, \"#7201a8\"], [0.3333333333333333, \"#9c179e\"], [0.4444444444444444, \"#bd3786\"], [0.5555555555555556, \"#d8576b\"], [0.6666666666666666, \"#ed7953\"], [0.7777777777777778, \"#fb9f3a\"], [0.8888888888888888, \"#fdca26\"], [1.0, \"#f0f921\"]], \"type\": \"histogram2d\"}], \"histogram2dcontour\": [{\"colorbar\": {\"outlinewidth\": 0, \"ticks\": \"\"}, \"colorscale\": [[0.0, \"#0d0887\"], [0.1111111111111111, \"#46039f\"], [0.2222222222222222, \"#7201a8\"], [0.3333333333333333, \"#9c179e\"], [0.4444444444444444, \"#bd3786\"], [0.5555555555555556, \"#d8576b\"], [0.6666666666666666, \"#ed7953\"], [0.7777777777777778, \"#fb9f3a\"], [0.8888888888888888, \"#fdca26\"], [1.0, \"#f0f921\"]], \"type\": \"histogram2dcontour\"}], \"mesh3d\": [{\"colorbar\": {\"outlinewidth\": 0, \"ticks\": \"\"}, \"type\": \"mesh3d\"}], \"parcoords\": [{\"line\": {\"colorbar\": {\"outlinewidth\": 0, \"ticks\": \"\"}}, \"type\": \"parcoords\"}], \"pie\": [{\"automargin\": true, \"type\": \"pie\"}], \"scatter\": [{\"marker\": {\"colorbar\": {\"outlinewidth\": 0, \"ticks\": \"\"}}, \"type\": \"scatter\"}], \"scatter3d\": [{\"line\": {\"colorbar\": {\"outlinewidth\": 0, \"ticks\": \"\"}}, \"marker\": {\"colorbar\": {\"outlinewidth\": 0, \"ticks\": \"\"}}, \"type\": \"scatter3d\"}], \"scattercarpet\": [{\"marker\": {\"colorbar\": {\"outlinewidth\": 0, \"ticks\": \"\"}}, \"type\": \"scattercarpet\"}], \"scattergeo\": [{\"marker\": {\"colorbar\": {\"outlinewidth\": 0, \"ticks\": \"\"}}, \"type\": \"scattergeo\"}], \"scattergl\": [{\"marker\": {\"colorbar\": {\"outlinewidth\": 0, \"ticks\": \"\"}}, \"type\": \"scattergl\"}], \"scattermapbox\": [{\"marker\": {\"colorbar\": {\"outlinewidth\": 0, \"ticks\": \"\"}}, \"type\": \"scattermapbox\"}], \"scatterpolar\": [{\"marker\": {\"colorbar\": {\"outlinewidth\": 0, \"ticks\": \"\"}}, \"type\": \"scatterpolar\"}], \"scatterpolargl\": [{\"marker\": {\"colorbar\": {\"outlinewidth\": 0, \"ticks\": \"\"}}, \"type\": \"scatterpolargl\"}], \"scatterternary\": [{\"marker\": {\"colorbar\": {\"outlinewidth\": 0, \"ticks\": \"\"}}, \"type\": \"scatterternary\"}], \"surface\": [{\"colorbar\": {\"outlinewidth\": 0, \"ticks\": \"\"}, \"colorscale\": [[0.0, \"#0d0887\"], [0.1111111111111111, \"#46039f\"], [0.2222222222222222, \"#7201a8\"], [0.3333333333333333, \"#9c179e\"], [0.4444444444444444, \"#bd3786\"], [0.5555555555555556, \"#d8576b\"], [0.6666666666666666, \"#ed7953\"], [0.7777777777777778, \"#fb9f3a\"], [0.8888888888888888, \"#fdca26\"], [1.0, \"#f0f921\"]], \"type\": \"surface\"}], \"table\": [{\"cells\": {\"fill\": {\"color\": \"#EBF0F8\"}, \"line\": {\"color\": \"white\"}}, \"header\": {\"fill\": {\"color\": \"#C8D4E3\"}, \"line\": {\"color\": \"white\"}}, \"type\": \"table\"}]}, \"layout\": {\"annotationdefaults\": {\"arrowcolor\": \"#2a3f5f\", \"arrowhead\": 0, \"arrowwidth\": 1}, \"coloraxis\": {\"colorbar\": {\"outlinewidth\": 0, \"ticks\": \"\"}}, \"colorscale\": {\"diverging\": [[0, \"#8e0152\"], [0.1, \"#c51b7d\"], [0.2, \"#de77ae\"], [0.3, \"#f1b6da\"], [0.4, \"#fde0ef\"], [0.5, \"#f7f7f7\"], [0.6, \"#e6f5d0\"], [0.7, \"#b8e186\"], [0.8, \"#7fbc41\"], [0.9, \"#4d9221\"], [1, \"#276419\"]], \"sequential\": [[0.0, \"#0d0887\"], [0.1111111111111111, \"#46039f\"], [0.2222222222222222, \"#7201a8\"], [0.3333333333333333, \"#9c179e\"], [0.4444444444444444, \"#bd3786\"], [0.5555555555555556, \"#d8576b\"], [0.6666666666666666, \"#ed7953\"], [0.7777777777777778, \"#fb9f3a\"], [0.8888888888888888, \"#fdca26\"], [1.0, \"#f0f921\"]], \"sequentialminus\": [[0.0, \"#0d0887\"], [0.1111111111111111, \"#46039f\"], [0.2222222222222222, \"#7201a8\"], [0.3333333333333333, \"#9c179e\"], [0.4444444444444444, \"#bd3786\"], [0.5555555555555556, \"#d8576b\"], [0.6666666666666666, \"#ed7953\"], [0.7777777777777778, \"#fb9f3a\"], [0.8888888888888888, \"#fdca26\"], [1.0, \"#f0f921\"]]}, \"colorway\": [\"#636efa\", \"#EF553B\", \"#00cc96\", \"#ab63fa\", \"#FFA15A\", \"#19d3f3\", \"#FF6692\", \"#B6E880\", \"#FF97FF\", \"#FECB52\"], \"font\": {\"color\": \"#2a3f5f\"}, \"geo\": {\"bgcolor\": \"white\", \"lakecolor\": \"white\", \"landcolor\": \"#E5ECF6\", \"showlakes\": true, \"showland\": true, \"subunitcolor\": \"white\"}, \"hoverlabel\": {\"align\": \"left\"}, \"hovermode\": \"closest\", \"mapbox\": {\"style\": \"light\"}, \"paper_bgcolor\": \"white\", \"plot_bgcolor\": \"#E5ECF6\", \"polar\": {\"angularaxis\": {\"gridcolor\": \"white\", \"linecolor\": \"white\", \"ticks\": \"\"}, \"bgcolor\": \"#E5ECF6\", \"radialaxis\": {\"gridcolor\": \"white\", \"linecolor\": \"white\", \"ticks\": \"\"}}, \"scene\": {\"xaxis\": {\"backgroundcolor\": \"#E5ECF6\", \"gridcolor\": \"white\", \"gridwidth\": 2, \"linecolor\": \"white\", \"showbackground\": true, \"ticks\": \"\", \"zerolinecolor\": \"white\"}, \"yaxis\": {\"backgroundcolor\": \"#E5ECF6\", \"gridcolor\": \"white\", \"gridwidth\": 2, \"linecolor\": \"white\", \"showbackground\": true, \"ticks\": \"\", \"zerolinecolor\": \"white\"}, \"zaxis\": {\"backgroundcolor\": \"#E5ECF6\", \"gridcolor\": \"white\", \"gridwidth\": 2, \"linecolor\": \"white\", \"showbackground\": true, \"ticks\": \"\", \"zerolinecolor\": \"white\"}}, \"shapedefaults\": {\"line\": {\"color\": \"#2a3f5f\"}}, \"ternary\": {\"aaxis\": {\"gridcolor\": \"white\", \"linecolor\": \"white\", \"ticks\": \"\"}, \"baxis\": {\"gridcolor\": \"white\", \"linecolor\": \"white\", \"ticks\": \"\"}, \"bgcolor\": \"#E5ECF6\", \"caxis\": {\"gridcolor\": \"white\", \"linecolor\": \"white\", \"ticks\": \"\"}}, \"title\": {\"x\": 0.05}, \"xaxis\": {\"automargin\": true, \"gridcolor\": \"white\", \"linecolor\": \"white\", \"ticks\": \"\", \"title\": {\"standoff\": 15}, \"zerolinecolor\": \"white\", \"zerolinewidth\": 2}, \"yaxis\": {\"automargin\": true, \"gridcolor\": \"white\", \"linecolor\": \"white\", \"ticks\": \"\", \"title\": {\"standoff\": 15}, \"zerolinecolor\": \"white\", \"zerolinewidth\": 2}}}, \"title\": {\"text\": \"Relationship between MAs <br> and Closing Price\"}, \"xaxis\": {\"anchor\": \"y\", \"domain\": [0.0, 1.0], \"matches\": \"x3\", \"showticklabels\": false}, \"xaxis2\": {\"anchor\": \"y2\", \"domain\": [0.0, 1.0], \"matches\": \"x3\", \"showticklabels\": false}, \"xaxis3\": {\"anchor\": \"y3\", \"domain\": [0.0, 1.0]}, \"yaxis\": {\"anchor\": \"x\", \"domain\": [0.7333333333333333, 1.0]}, \"yaxis2\": {\"anchor\": \"x2\", \"domain\": [0.36666666666666664, 0.6333333333333333]}, \"yaxis3\": {\"anchor\": \"x3\", \"domain\": [0.0, 0.26666666666666666]}},\n",
              "                        {\"showLink\": true, \"linkText\": \"Export to plot.ly\", \"plotlyServerURL\": \"https://plot.ly\", \"responsive\": true}\n",
              "                    ).then(function(){\n",
              "                            \n",
              "var gd = document.getElementById('a3a122c3-8990-4061-98b6-787be9082918');\n",
              "var x = new MutationObserver(function (mutations, observer) {{\n",
              "        var display = window.getComputedStyle(gd).display;\n",
              "        if (!display || display === 'none') {{\n",
              "            console.log([gd, 'removed!']);\n",
              "            Plotly.purge(gd);\n",
              "            observer.disconnect();\n",
              "        }}\n",
              "}});\n",
              "\n",
              "// Listen for the removal of the full notebook cells\n",
              "var notebookContainer = gd.closest('#notebook-container');\n",
              "if (notebookContainer) {{\n",
              "    x.observe(notebookContainer, {childList: true});\n",
              "}}\n",
              "\n",
              "// Listen for the clearing of the current output cell\n",
              "var outputEl = gd.closest('.output');\n",
              "if (outputEl) {{\n",
              "    x.observe(outputEl, {childList: true});\n",
              "}}\n",
              "\n",
              "                        })\n",
              "                };\n",
              "                \n",
              "            </script>\n",
              "        </div>\n",
              "</body>\n",
              "</html>"
            ]
          },
          "metadata": {
            "tags": []
          }
        }
      ]
    },
    {
      "cell_type": "code",
      "metadata": {
        "id": "PLfJAdRC4Th5"
      },
      "source": [
        ""
      ],
      "execution_count": null,
      "outputs": []
    }
  ]
}
{
  "nbformat": 4,
  "nbformat_minor": 0,
  "metadata": {
    "accelerator": "GPU",
    "colab": {
      "name": "LSTM Multivariate SP.ipynb",
      "provenance": [],
      "collapsed_sections": []
    },
    "kernelspec": {
      "display_name": "Python [default]",
      "language": "python",
      "name": "python3"
    },
    "language_info": {
      "codemirror_mode": {
        "name": "ipython",
        "version": 3
      },
      "file_extension": ".py",
      "mimetype": "text/x-python",
      "name": "python",
      "nbconvert_exporter": "python",
      "pygments_lexer": "ipython3",
      "version": "3.6.8"
    }
  },
  "cells": [
    {
      "cell_type": "code",
      "metadata": {
        "colab": {
          "base_uri": "https://localhost:8080/"
        },
        "id": "S19jleua1_GE",
        "outputId": "66149885-79c7-48ff-bbb9-26391f677b07"
      },
      "source": [
        "import sys\n",
        "print(sys.version)"
      ],
      "execution_count": 1,
      "outputs": [
        {
          "output_type": "stream",
          "text": [
            "3.6.9 (default, Oct  8 2020, 12:12:24) \n",
            "[GCC 8.4.0]\n"
          ],
          "name": "stdout"
        }
      ]
    },
    {
      "cell_type": "code",
      "metadata": {
        "id": "XGXh32Yl3E5s"
      },
      "source": [
        "# Importing dependencies\n",
        "\n",
        "import numpy as np\n",
        "np.random.seed(1)\n",
        "import tensorflow as tf\n",
        "tf.random.set_seed(2) \n",
        "import pandas as pd\n",
        "import matplotlib.pyplot as plt\n",
        "from keras.models import Sequential, load_model\n",
        "from keras.layers.core import Dense,Dropout\n",
        "from keras.layers.recurrent import LSTM,GRU\n",
        "from keras import optimizers\n",
        "from keras.callbacks import EarlyStopping\n",
        "from sklearn.preprocessing import MinMaxScaler\n",
        "from sklearn.metrics import mean_squared_error, r2_score\n",
        "from math import sqrt\n",
        "import datetime as dt\n",
        "import time\n",
        "plt.style.use('ggplot')"
      ],
      "execution_count": 2,
      "outputs": []
    },
    {
      "cell_type": "code",
      "metadata": {
        "id": "uxlTL28r5Q61"
      },
      "source": [
        "# from google.colab import drive\n",
        "# drive.mount('/content/drive')"
      ],
      "execution_count": 3,
      "outputs": []
    },
    {
      "cell_type": "markdown",
      "metadata": {
        "id": "VX29co2B3fnH"
      },
      "source": [
        "### Data Preprocessing"
      ]
    },
    {
      "cell_type": "code",
      "metadata": {
        "colab": {
          "base_uri": "https://localhost:8080/",
          "height": 202
        },
        "id": "r5O0a39R9Z_Z",
        "outputId": "701fce13-9ee7-4977-f100-2bfb1ce30bf5"
      },
      "source": [
        "# Loading the dataset\n",
        "df = pd.read_csv('GOOG.csv')\n",
        "df.head()"
      ],
      "execution_count": 4,
      "outputs": [
        {
          "output_type": "execute_result",
          "data": {
            "text/html": [
              "<div>\n",
              "<style scoped>\n",
              "    .dataframe tbody tr th:only-of-type {\n",
              "        vertical-align: middle;\n",
              "    }\n",
              "\n",
              "    .dataframe tbody tr th {\n",
              "        vertical-align: top;\n",
              "    }\n",
              "\n",
              "    .dataframe thead th {\n",
              "        text-align: right;\n",
              "    }\n",
              "</style>\n",
              "<table border=\"1\" class=\"dataframe\">\n",
              "  <thead>\n",
              "    <tr style=\"text-align: right;\">\n",
              "      <th></th>\n",
              "      <th>Date</th>\n",
              "      <th>Open</th>\n",
              "      <th>High</th>\n",
              "      <th>Low</th>\n",
              "      <th>Close</th>\n",
              "      <th>Adj Close</th>\n",
              "      <th>Volume</th>\n",
              "    </tr>\n",
              "  </thead>\n",
              "  <tbody>\n",
              "    <tr>\n",
              "      <th>0</th>\n",
              "      <td>2004-08-19</td>\n",
              "      <td>49.813286</td>\n",
              "      <td>51.835709</td>\n",
              "      <td>47.800831</td>\n",
              "      <td>49.982655</td>\n",
              "      <td>49.982655</td>\n",
              "      <td>44871300</td>\n",
              "    </tr>\n",
              "    <tr>\n",
              "      <th>1</th>\n",
              "      <td>2004-08-20</td>\n",
              "      <td>50.316402</td>\n",
              "      <td>54.336334</td>\n",
              "      <td>50.062355</td>\n",
              "      <td>53.952770</td>\n",
              "      <td>53.952770</td>\n",
              "      <td>22942800</td>\n",
              "    </tr>\n",
              "    <tr>\n",
              "      <th>2</th>\n",
              "      <td>2004-08-23</td>\n",
              "      <td>55.168217</td>\n",
              "      <td>56.528118</td>\n",
              "      <td>54.321388</td>\n",
              "      <td>54.495735</td>\n",
              "      <td>54.495735</td>\n",
              "      <td>18342800</td>\n",
              "    </tr>\n",
              "    <tr>\n",
              "      <th>3</th>\n",
              "      <td>2004-08-24</td>\n",
              "      <td>55.412300</td>\n",
              "      <td>55.591629</td>\n",
              "      <td>51.591621</td>\n",
              "      <td>52.239193</td>\n",
              "      <td>52.239193</td>\n",
              "      <td>15319700</td>\n",
              "    </tr>\n",
              "    <tr>\n",
              "      <th>4</th>\n",
              "      <td>2004-08-25</td>\n",
              "      <td>52.284027</td>\n",
              "      <td>53.798351</td>\n",
              "      <td>51.746044</td>\n",
              "      <td>52.802086</td>\n",
              "      <td>52.802086</td>\n",
              "      <td>9232100</td>\n",
              "    </tr>\n",
              "  </tbody>\n",
              "</table>\n",
              "</div>"
            ],
            "text/plain": [
              "         Date       Open       High        Low      Close  Adj Close    Volume\n",
              "0  2004-08-19  49.813286  51.835709  47.800831  49.982655  49.982655  44871300\n",
              "1  2004-08-20  50.316402  54.336334  50.062355  53.952770  53.952770  22942800\n",
              "2  2004-08-23  55.168217  56.528118  54.321388  54.495735  54.495735  18342800\n",
              "3  2004-08-24  55.412300  55.591629  51.591621  52.239193  52.239193  15319700\n",
              "4  2004-08-25  52.284027  53.798351  51.746044  52.802086  52.802086   9232100"
            ]
          },
          "metadata": {
            "tags": []
          },
          "execution_count": 4
        }
      ]
    },
    {
      "cell_type": "code",
      "metadata": {
        "id": "W2iVD8l5EMCI"
      },
      "source": [
        "df['Date']= pd.to_datetime(df['Date'])"
      ],
      "execution_count": 5,
      "outputs": []
    },
    {
      "cell_type": "code",
      "metadata": {
        "colab": {
          "base_uri": "https://localhost:8080/",
          "height": 202
        },
        "id": "yPM2a3gcHo3_",
        "outputId": "63a5756a-bbd4-436e-92b3-8a4bde328931"
      },
      "source": [
        "# df.set_index(\"Date\",inplace=True)\r\n",
        "#df = df.iloc[:4122,:]\r\n",
        "df.tail()"
      ],
      "execution_count": 6,
      "outputs": [
        {
          "output_type": "execute_result",
          "data": {
            "text/html": [
              "<div>\n",
              "<style scoped>\n",
              "    .dataframe tbody tr th:only-of-type {\n",
              "        vertical-align: middle;\n",
              "    }\n",
              "\n",
              "    .dataframe tbody tr th {\n",
              "        vertical-align: top;\n",
              "    }\n",
              "\n",
              "    .dataframe thead th {\n",
              "        text-align: right;\n",
              "    }\n",
              "</style>\n",
              "<table border=\"1\" class=\"dataframe\">\n",
              "  <thead>\n",
              "    <tr style=\"text-align: right;\">\n",
              "      <th></th>\n",
              "      <th>Date</th>\n",
              "      <th>Open</th>\n",
              "      <th>High</th>\n",
              "      <th>Low</th>\n",
              "      <th>Close</th>\n",
              "      <th>Adj Close</th>\n",
              "      <th>Volume</th>\n",
              "    </tr>\n",
              "  </thead>\n",
              "  <tbody>\n",
              "    <tr>\n",
              "      <th>4122</th>\n",
              "      <td>2021-01-04</td>\n",
              "      <td>1757.540039</td>\n",
              "      <td>1760.650024</td>\n",
              "      <td>1707.849976</td>\n",
              "      <td>1728.239990</td>\n",
              "      <td>1728.239990</td>\n",
              "      <td>1901900</td>\n",
              "    </tr>\n",
              "    <tr>\n",
              "      <th>4123</th>\n",
              "      <td>2021-01-05</td>\n",
              "      <td>1725.000000</td>\n",
              "      <td>1747.670044</td>\n",
              "      <td>1718.015015</td>\n",
              "      <td>1740.920044</td>\n",
              "      <td>1740.920044</td>\n",
              "      <td>1145300</td>\n",
              "    </tr>\n",
              "    <tr>\n",
              "      <th>4124</th>\n",
              "      <td>2021-01-06</td>\n",
              "      <td>1702.630005</td>\n",
              "      <td>1748.000000</td>\n",
              "      <td>1699.000000</td>\n",
              "      <td>1735.290039</td>\n",
              "      <td>1735.290039</td>\n",
              "      <td>2602100</td>\n",
              "    </tr>\n",
              "    <tr>\n",
              "      <th>4125</th>\n",
              "      <td>2021-01-07</td>\n",
              "      <td>1740.060059</td>\n",
              "      <td>1788.400024</td>\n",
              "      <td>1737.050049</td>\n",
              "      <td>1787.250000</td>\n",
              "      <td>1787.250000</td>\n",
              "      <td>2265000</td>\n",
              "    </tr>\n",
              "    <tr>\n",
              "      <th>4126</th>\n",
              "      <td>2021-01-08</td>\n",
              "      <td>1787.979980</td>\n",
              "      <td>1809.839966</td>\n",
              "      <td>1773.535034</td>\n",
              "      <td>1807.209961</td>\n",
              "      <td>1807.209961</td>\n",
              "      <td>2050600</td>\n",
              "    </tr>\n",
              "  </tbody>\n",
              "</table>\n",
              "</div>"
            ],
            "text/plain": [
              "           Date         Open         High  ...        Close    Adj Close   Volume\n",
              "4122 2021-01-04  1757.540039  1760.650024  ...  1728.239990  1728.239990  1901900\n",
              "4123 2021-01-05  1725.000000  1747.670044  ...  1740.920044  1740.920044  1145300\n",
              "4124 2021-01-06  1702.630005  1748.000000  ...  1735.290039  1735.290039  2602100\n",
              "4125 2021-01-07  1740.060059  1788.400024  ...  1787.250000  1787.250000  2265000\n",
              "4126 2021-01-08  1787.979980  1809.839966  ...  1807.209961  1807.209961  2050600\n",
              "\n",
              "[5 rows x 7 columns]"
            ]
          },
          "metadata": {
            "tags": []
          },
          "execution_count": 6
        }
      ]
    },
    {
      "cell_type": "code",
      "metadata": {
        "colab": {
          "base_uri": "https://localhost:8080/"
        },
        "id": "2H5Lkte_NgWT",
        "outputId": "64c42d37-0826-4802-9bb1-cbfa67504f01"
      },
      "source": [
        "# Correlation matrix\n",
        "df.corr()['Adj Close']"
      ],
      "execution_count": 7,
      "outputs": [
        {
          "output_type": "execute_result",
          "data": {
            "text/plain": [
              "Open         0.999752\n",
              "High         0.999869\n",
              "Low          0.999889\n",
              "Close        1.000000\n",
              "Adj Close    1.000000\n",
              "Volume      -0.531202\n",
              "Name: Adj Close, dtype: float64"
            ]
          },
          "metadata": {
            "tags": []
          },
          "execution_count": 7
        }
      ]
    },
    {
      "cell_type": "code",
      "metadata": {
        "colab": {
          "base_uri": "https://localhost:8080/"
        },
        "id": "1anbu_yx3bta",
        "outputId": "0ef10a6a-5c9a-4920-a0fa-2452b97b0fd1"
      },
      "source": [
        "print(df.describe().Volume) \n",
        "df.drop(df[df['Volume']==0].index, inplace = True) #Dropping rows with volume value 0"
      ],
      "execution_count": 8,
      "outputs": [
        {
          "output_type": "stream",
          "text": [
            "count    4.127000e+03\n",
            "mean     6.764648e+06\n",
            "std      7.925282e+06\n",
            "min      7.900000e+03\n",
            "25%      1.689050e+06\n",
            "50%      4.073300e+06\n",
            "75%      8.662900e+06\n",
            "max      8.254150e+07\n",
            "Name: Volume, dtype: float64\n"
          ],
          "name": "stdout"
        }
      ]
    },
    {
      "cell_type": "code",
      "metadata": {
        "id": "FNioyc6mZUAJ"
      },
      "source": [
        "# Setting up an early stop\n",
        "earlystop = EarlyStopping(monitor='val_loss', min_delta=0.0001, patience=80,  verbose=1, mode='min')\n",
        "callbacks_list = [earlystop]"
      ],
      "execution_count": 9,
      "outputs": []
    },
    {
      "cell_type": "code",
      "metadata": {
        "id": "Sxgf2O6xl-dg"
      },
      "source": [
        "#model.summary()"
      ],
      "execution_count": 10,
      "outputs": []
    },
    {
      "cell_type": "code",
      "metadata": {
        "id": "LpwHmJeQJqyI"
      },
      "source": [
        "# Evaluating the model\n",
        "def evaluate_model(model,test,timesteps):\n",
        "  \n",
        "    # Prediction Time !!!!\n",
        "    Y_hat = model.predict(X_test)\n",
        "    Y_hat = sc.inverse_transform(Y_hat)\n",
        "    Y_test = sc.inverse_transform(Y_test)\n",
        "    mse = mean_squared_error(Y_test,Y_hat)\n",
        "    rmse = sqrt(mse)\n",
        "    r = r2_score(Y_test,Y_hat,multioutput='uniform_average')\n",
        "    return mse, rmse, r, Y_test, Y_hat"
      ],
      "execution_count": 11,
      "outputs": []
    },
    {
      "cell_type": "code",
      "metadata": {
        "id": "pI0q18ajCLx6"
      },
      "source": [
        "# # Plotting the predictions\n",
        "# def plot_data(Y_test,Y_hat):\n",
        "#     plt.plot(Y_test,c = 'y')\n",
        "#     plt.plot(Y_hat,c = 'g')\n",
        "#     plt.xlabel('Day')\n",
        "#     plt.ylabel('Price')\n",
        "#     plt.title('Stock Prediction Graph using Multivariate-LSTM model')\n",
        "#     plt.legend(['Actual','Predicted'],loc = 'lower right')\n",
        "#     plt.show()"
      ],
      "execution_count": 12,
      "outputs": []
    },
    {
      "cell_type": "code",
      "metadata": {
        "id": "4NeqKRBZZr0Q"
      },
      "source": [
        "# Plotting the training errors\n",
        "def plot_error(train_loss,val_loss):\n",
        "    plt.plot(train_loss,c = 'r')\n",
        "    plt.plot(val_loss,c = 'b')\n",
        "    plt.ylabel('Loss')\n",
        "    plt.legend(['train','val'],loc = 'upper right')\n",
        "    plt.show()"
      ],
      "execution_count": 13,
      "outputs": []
    },
    {
      "cell_type": "markdown",
      "metadata": {
        "id": "gflcHxE-3fnQ"
      },
      "source": [
        "### Model Building"
      ]
    },
    {
      "cell_type": "code",
      "metadata": {
        "colab": {
          "base_uri": "https://localhost:8080/"
        },
        "id": "gAvOMIyjIQO-",
        "outputId": "b55372b6-9d68-451c-d676-aec15fde607b"
      },
      "source": [
        "# Extracting the series\n",
        "series = df[['Date','Open','High','Low','Adj Close']] # Picking the series with high correlation\n",
        "print(series.shape)\n",
        "print(series.tail())"
      ],
      "execution_count": 14,
      "outputs": [
        {
          "output_type": "stream",
          "text": [
            "(4127, 5)\n",
            "           Date         Open         High          Low    Adj Close\n",
            "4122 2021-01-04  1757.540039  1760.650024  1707.849976  1728.239990\n",
            "4123 2021-01-05  1725.000000  1747.670044  1718.015015  1740.920044\n",
            "4124 2021-01-06  1702.630005  1748.000000  1699.000000  1735.290039\n",
            "4125 2021-01-07  1740.060059  1788.400024  1737.050049  1787.250000\n",
            "4126 2021-01-08  1787.979980  1809.839966  1773.535034  1807.209961\n"
          ],
          "name": "stdout"
        }
      ]
    },
    {
      "cell_type": "code",
      "metadata": {
        "id": "wFjigzJBgSRU"
      },
      "source": [
        "# Train Val Test Split\r\n",
        "#sert = series[series['Date'] <= '2019-12-31']\r\n",
        "#future = series[(series['Date'] > '2019-12-31')]\r\n",
        "# val_data = series.loc[151:201]\r\n",
        "# test_data = series.loc[202:250]\r\n",
        "# print(train_data.shape,val_data.shape,test_data.shape)\r\n",
        "#print(sert.shape,future.shape)"
      ],
      "execution_count": 15,
      "outputs": []
    },
    {
      "cell_type": "code",
      "metadata": {
        "colab": {
          "base_uri": "https://localhost:8080/"
        },
        "id": "oqTAIeGbErUh",
        "outputId": "2a4de16c-f4c9-4eaa-a6a8-2eaed07699d2"
      },
      "source": [
        "# Normalisation\r\n",
        "sc = MinMaxScaler()\r\n",
        "main_data = sc.fit_transform(series.drop(['Date'],axis=1))\r\n",
        "# test_data = sc.fit_transform(serte.drop(['Date'],axis=1))\r\n",
        "# series_sc = np.column_stack((series_sc,temp))\r\n",
        "print(main_data.shape)\r\n",
        "# print(test_data.shape)"
      ],
      "execution_count": 16,
      "outputs": [
        {
          "output_type": "stream",
          "text": [
            "(4127, 4)\n"
          ],
          "name": "stdout"
        }
      ]
    },
    {
      "cell_type": "code",
      "metadata": {
        "colab": {
          "base_uri": "https://localhost:8080/"
        },
        "id": "H5opCk6vMneR",
        "outputId": "b5b75d92-b315-494f-8d7e-c37a19a29708"
      },
      "source": [
        "train_data = main_data[:int(len(main_data)*0.8),:]\r\n",
        "test_data = main_data[int(len(main_data)*0.8):,:]\r\n",
        "train_data.shape,test_data.shape"
      ],
      "execution_count": 17,
      "outputs": [
        {
          "output_type": "execute_result",
          "data": {
            "text/plain": [
              "((3301, 4), (826, 4))"
            ]
          },
          "metadata": {
            "tags": []
          },
          "execution_count": 17
        }
      ]
    },
    {
      "cell_type": "code",
      "metadata": {
        "id": "M8i6IMNLI8st"
      },
      "source": [
        "# Number of past days to be taken\r\n",
        "timesteps=3"
      ],
      "execution_count": 18,
      "outputs": []
    },
    {
      "cell_type": "code",
      "metadata": {
        "id": "BpAXHO2mXA5q",
        "colab": {
          "base_uri": "https://localhost:8080/"
        },
        "outputId": "06b26d69-fe7b-4c12-9f63-50ff34aff6fa"
      },
      "source": [
        "X_train = []\r\n",
        "Y_train = []\r\n",
        "for i in range(len(train_data)-timesteps-1):\r\n",
        "    X_train.append(train_data[i:i+timesteps,:3])\r\n",
        "    Y_train.append((train_data[i+timesteps,3]))\r\n",
        "X_train,Y_train = np.array(X_train),np.array(Y_train)\r\n",
        "X_train = X_train.reshape(X_train.shape[0],X_train.shape[1] , 3)\r\n",
        "Y_train =Y_train.reshape(Y_train.shape[0], 1)\r\n",
        "print('shape of X_train and Y_train',X_train.shape,Y_train.shape)"
      ],
      "execution_count": 19,
      "outputs": [
        {
          "output_type": "stream",
          "text": [
            "shape of X_train and Y_train (3297, 3, 3) (3297, 1)\n"
          ],
          "name": "stdout"
        }
      ]
    },
    {
      "cell_type": "code",
      "metadata": {
        "colab": {
          "base_uri": "https://localhost:8080/"
        },
        "id": "XI2_VVUrHjVT",
        "outputId": "9a1d4899-d6a9-4437-aa64-23f9e18ab1ff"
      },
      "source": [
        "X_test = []\r\n",
        "Y_test = []\r\n",
        "\r\n",
        "# Loop for testing data\r\n",
        "for i in range(len(test_data)-timesteps-1):\r\n",
        "    X_test.append(test_data[i:i+timesteps,:3])\r\n",
        "    Y_test.append((test_data[i+timesteps,3]))\r\n",
        "X_test,Y_test = np.array(X_test),np.array(Y_test)\r\n",
        "X_test =X_test.reshape(X_test.shape[0],X_test.shape[1] , 3)\r\n",
        "Y_test =Y_test.reshape(Y_test.shape[0], 1)\r\n",
        "print(X_test.shape,Y_test.shape)"
      ],
      "execution_count": 20,
      "outputs": [
        {
          "output_type": "stream",
          "text": [
            "(822, 3, 3) (822, 1)\n"
          ],
          "name": "stdout"
        }
      ]
    },
    {
      "cell_type": "code",
      "metadata": {
        "id": "zRVEzZ1FXj_p",
        "colab": {
          "base_uri": "https://localhost:8080/",
          "height": 1000
        },
        "outputId": "d21f7713-70cd-4b18-b9a1-aac67c96f36f"
      },
      "source": [
        "#Build and train the model\n",
        "\n",
        "# Adding Layers to the model\n",
        "model = Sequential()\n",
        "model.add(GRU(units=50,input_shape = (X_train.shape[1],X_train.shape[2]),return_sequences = True,activation='relu'))\n",
        "model.add(Dropout(0.2))\n",
        "# model.add(GRU(units=50,return_sequences = True,activation='relu'))\n",
        "# model.add(Dropout(0.2))        \n",
        "# model.add(LSTM(units=50,activation='relu',return_sequences=True))\n",
        "# model.add(Dropout(0.2))\n",
        "model.add(GRU(units=50,return_sequences = True,activation='relu'))\n",
        "model.add(Dropout(0.2))\n",
        "# model.add(Dense(50, activation='relu'))\n",
        "# model.add(Dropout(0.2))\n",
        "# model.add(LSTM(units=50,activation='relu',return_sequences=True))\n",
        "# model.add(Dropout(0.2))\n",
        "model.add(LSTM(units=50,activation='relu'))\n",
        "# model.add(Dropout(0.2))\n",
        "# model.add(Dense(50))\n",
        "# model.add(Dropout(0.2))\n",
        "model.add(Dense(1))\n",
        "model.compile(optimizer = 'adamax', loss = 'mean_squared_error')\n",
        "#print(model.summary())\n",
        "\n",
        "# Training the data\n",
        "history = model.fit(X_train,Y_train,epochs = 20,batch_size = 32,validation_split=0.2,verbose = 1, callbacks=callbacks_list)\n",
        "# model.reset_states()\n",
        "plot_error(history.history['loss'],history.history['val_loss'])"
      ],
      "execution_count": 21,
      "outputs": [
        {
          "output_type": "stream",
          "text": [
            "WARNING:tensorflow:Layer gru will not use cuDNN kernel since it doesn't meet the cuDNN kernel criteria. It will use generic GPU kernel as fallback when running on GPU\n",
            "WARNING:tensorflow:Layer gru_1 will not use cuDNN kernel since it doesn't meet the cuDNN kernel criteria. It will use generic GPU kernel as fallback when running on GPU\n",
            "WARNING:tensorflow:Layer lstm will not use cuDNN kernel since it doesn't meet the cuDNN kernel criteria. It will use generic GPU kernel as fallback when running on GPU\n",
            "Epoch 1/20\n",
            "83/83 [==============================] - 5s 27ms/step - loss: 0.0110 - val_loss: 0.0131\n",
            "Epoch 2/20\n",
            "83/83 [==============================] - 2s 21ms/step - loss: 7.0725e-04 - val_loss: 8.1239e-05\n",
            "Epoch 3/20\n",
            "83/83 [==============================] - 2s 21ms/step - loss: 2.2056e-04 - val_loss: 1.3628e-04\n",
            "Epoch 4/20\n",
            "83/83 [==============================] - 2s 22ms/step - loss: 2.1675e-04 - val_loss: 1.5861e-04\n",
            "Epoch 5/20\n",
            "83/83 [==============================] - 2s 19ms/step - loss: 1.5997e-04 - val_loss: 2.0028e-04\n",
            "Epoch 6/20\n",
            "83/83 [==============================] - 2s 20ms/step - loss: 1.6096e-04 - val_loss: 2.4985e-04\n",
            "Epoch 7/20\n",
            "83/83 [==============================] - 2s 21ms/step - loss: 1.6702e-04 - val_loss: 1.2309e-04\n",
            "Epoch 8/20\n",
            "83/83 [==============================] - 2s 21ms/step - loss: 1.4385e-04 - val_loss: 2.6977e-04\n",
            "Epoch 9/20\n",
            "83/83 [==============================] - 2s 22ms/step - loss: 1.3635e-04 - val_loss: 1.8147e-04\n",
            "Epoch 10/20\n",
            "83/83 [==============================] - 2s 20ms/step - loss: 1.2238e-04 - val_loss: 1.2244e-04\n",
            "Epoch 11/20\n",
            "83/83 [==============================] - 2s 20ms/step - loss: 1.1822e-04 - val_loss: 1.5634e-04\n",
            "Epoch 12/20\n",
            "83/83 [==============================] - 2s 20ms/step - loss: 1.0624e-04 - val_loss: 2.0002e-04\n",
            "Epoch 13/20\n",
            "83/83 [==============================] - 2s 19ms/step - loss: 9.8693e-05 - val_loss: 8.0663e-05\n",
            "Epoch 14/20\n",
            "83/83 [==============================] - 2s 22ms/step - loss: 1.0047e-04 - val_loss: 1.4179e-04\n",
            "Epoch 15/20\n",
            "83/83 [==============================] - 2s 20ms/step - loss: 9.3040e-05 - val_loss: 1.7171e-04\n",
            "Epoch 16/20\n",
            "83/83 [==============================] - 2s 21ms/step - loss: 8.8606e-05 - val_loss: 1.0341e-04\n",
            "Epoch 17/20\n",
            "83/83 [==============================] - 2s 19ms/step - loss: 8.0127e-05 - val_loss: 8.7260e-05\n",
            "Epoch 18/20\n",
            "83/83 [==============================] - 2s 20ms/step - loss: 7.0743e-05 - val_loss: 1.9300e-04\n",
            "Epoch 19/20\n",
            "83/83 [==============================] - 2s 23ms/step - loss: 9.7811e-05 - val_loss: 1.8819e-04\n",
            "Epoch 20/20\n",
            "83/83 [==============================] - 2s 20ms/step - loss: 8.2804e-05 - val_loss: 1.2346e-04\n"
          ],
          "name": "stdout"
        },
        {
          "output_type": "display_data",
          "data": {
            "image/png": "[encoded data removed]",
            "text/plain": [
              "<Figure size 432x288 with 1 Axes>"
            ]
          },
          "metadata": {
            "tags": []
          }
        }
      ]
    },
    {
      "cell_type": "code",
      "metadata": {
        "colab": {
          "base_uri": "https://localhost:8080/"
        },
        "id": "x3xL1U7tMD6w",
        "outputId": "42c4feae-861b-4021-ef2d-31227eb91541"
      },
      "source": [
        "y_hat = model.predict(X_train)\r\n",
        "mse = mean_squared_error(Y_train,y_hat)\r\n",
        "rmse = sqrt(mse)\r\n",
        "r = r2_score(Y_train,y_hat)\r\n",
        "print('MSE = {}'.format(mse))\r\n",
        "print('RMSE = {}'.format(rmse))\r\n",
        "print('R-Squared Score = {}'.format(r))"
      ],
      "execution_count": 22,
      "outputs": [
        {
          "output_type": "stream",
          "text": [
            "MSE = 4.865188654832728e-05\n",
            "RMSE = 0.006975090432985603\n",
            "R-Squared Score = 0.996850218479801\n"
          ],
          "name": "stdout"
        }
      ]
    },
    {
      "cell_type": "code",
      "metadata": {
        "colab": {
          "base_uri": "https://localhost:8080/"
        },
        "id": "5cjj3gx4JVdO",
        "outputId": "0d3426b8-7966-4a5a-deee-118d3a9d2ea1"
      },
      "source": [
        "y_pred = model.predict(X_test)\r\n",
        "mse = mean_squared_error(Y_test,y_pred)\r\n",
        "rmse = sqrt(mse)\r\n",
        "r = r2_score(Y_test,y_pred)\r\n",
        "print('MSE = {}'.format(mse))\r\n",
        "print('RMSE = {}'.format(rmse))\r\n",
        "print('R-Squared Score = {}'.format(r))"
      ],
      "execution_count": 23,
      "outputs": [
        {
          "output_type": "stream",
          "text": [
            "MSE = 0.0004349418170689183\n",
            "RMSE = 0.020855258738958823\n",
            "R-Squared Score = 0.9669062847642221\n"
          ],
          "name": "stdout"
        }
      ]
    },
    {
      "cell_type": "code",
      "metadata": {
        "id": "PRfRc2IwWkPj"
      },
      "source": [
        "a = np.zeros(((len(y_pred)),3))"
      ],
      "execution_count": 24,
      "outputs": []
    },
    {
      "cell_type": "code",
      "metadata": {
        "id": "b8DR6ag-TrPf"
      },
      "source": [
        "y_pred = np.append(a,y_pred,axis=1)\r\n",
        "Y_test = np.append(a,Y_test,axis=1)"
      ],
      "execution_count": 25,
      "outputs": []
    },
    {
      "cell_type": "code",
      "metadata": {
        "id": "ioVoAjvBKw5P"
      },
      "source": [
        "y_pred = sc.inverse_transform(y_pred)\r\n",
        "Y_test = sc.inverse_transform(Y_test)"
      ],
      "execution_count": 26,
      "outputs": []
    },
    {
      "cell_type": "code",
      "metadata": {
        "id": "bm_C_0vhMT3-"
      },
      "source": [
        "# mse, rmse, r2_value,true,predicted = evaluate_model(model,train_data,timesteps)\r\n",
        "# print('MSE = {}'.format(mse))\r\n",
        "# print('RMSE = {}'.format(rmse))\r\n",
        "# print('R-Squared Score = {}'.format(r2_value))"
      ],
      "execution_count": null,
      "outputs": []
    },
    {
      "cell_type": "code",
      "metadata": {
        "id": "9Xp4GBzJ3fnT"
      },
      "source": [
        "# mse, rmse, r2_value,true,predicted = evaluate_model(model,test_data,timesteps)\n",
        "# print('MSE = {}'.format(mse))\n",
        "# print('RMSE = {}'.format(rmse))\n",
        "# print('R-Squared Score = {}'.format(r2_value))"
      ],
      "execution_count": null,
      "outputs": []
    },
    {
      "cell_type": "code",
      "metadata": {
        "id": "3Jgh353feBGl"
      },
      "source": [
        "# model.save('Stock_try.h5')"
      ],
      "execution_count": null,
      "outputs": []
    },
    {
      "cell_type": "code",
      "metadata": {
        "id": "A4-QkdPiH8G7"
      },
      "source": [
        "temp = pd.DataFrame(Y_test,columns=['','','','Adj Close'])\r\n",
        "temp2 = pd.DataFrame(y_pred,columns=['','','','Adj Close'])"
      ],
      "execution_count": 27,
      "outputs": []
    },
    {
      "cell_type": "code",
      "metadata": {
        "id": "Y97vdh8YHGwE",
        "colab": {
          "base_uri": "https://localhost:8080/",
          "height": 355
        },
        "outputId": "bd71a256-327b-4d7e-9e13-1c749e8b110d"
      },
      "source": [
        "plt.figure(figsize=(8,5))\r\n",
        "plt.title(\"Stock prediction\")\r\n",
        "plt.plot(temp['Adj Close'],label='Actual Close')\r\n",
        "plt.plot(temp2['Adj Close'],label='Predicted Close')\r\n",
        "# plt.plot(temp['High'],label='Actual High')\r\n",
        "# plt.plot(temp2['High'],label='Predicted High')\r\n",
        "# plt.plot(temp['Low'],label='Actual Low')\r\n",
        "# plt.plot(temp2['Low'],label='Predicted Low')\r\n",
        "plt.legend()"
      ],
      "execution_count": 28,
      "outputs": [
        {
          "output_type": "execute_result",
          "data": {
            "text/plain": [
              "<matplotlib.legend.Legend at 0x7f85b0c624e0>"
            ]
          },
          "metadata": {
            "tags": []
          },
          "execution_count": 28
        },
        {
          "output_type": "display_data",
          "data": {
            "image/png": "[encoded data removed]",
            "text/plain": [
              "<Figure size 576x360 with 1 Axes>"
            ]
          },
          "metadata": {
            "tags": []
          }
        }
      ]
    },
    {
      "cell_type": "code",
      "metadata": {
        "id": "wDS7IJAMXJt2"
      },
      "source": [
        "past_days = 3"
      ],
      "execution_count": 45,
      "outputs": []
    },
    {
      "cell_type": "code",
      "metadata": {
        "colab": {
          "base_uri": "https://localhost:8080/",
          "height": 141
        },
        "id": "Wa6KrFsDR626",
        "outputId": "bfa61d29-f92f-44e3-afc5-13aba8f7960d"
      },
      "source": [
        "t_df = series.drop(['Date'],axis=1)"
      ],
      "execution_count": 54,
      "outputs": [
        {
          "output_type": "execute_result",
          "data": {
            "text/html": [
              "<div>\n",
              "<style scoped>\n",
              "    .dataframe tbody tr th:only-of-type {\n",
              "        vertical-align: middle;\n",
              "    }\n",
              "\n",
              "    .dataframe tbody tr th {\n",
              "        vertical-align: top;\n",
              "    }\n",
              "\n",
              "    .dataframe thead th {\n",
              "        text-align: right;\n",
              "    }\n",
              "</style>\n",
              "<table border=\"1\" class=\"dataframe\">\n",
              "  <thead>\n",
              "    <tr style=\"text-align: right;\">\n",
              "      <th></th>\n",
              "      <th>Open</th>\n",
              "      <th>High</th>\n",
              "      <th>Low</th>\n",
              "      <th>Adj Close</th>\n",
              "    </tr>\n",
              "  </thead>\n",
              "  <tbody>\n",
              "    <tr>\n",
              "      <th>4124</th>\n",
              "      <td>1702.630005</td>\n",
              "      <td>1748.000000</td>\n",
              "      <td>1699.000000</td>\n",
              "      <td>1735.290039</td>\n",
              "    </tr>\n",
              "    <tr>\n",
              "      <th>4125</th>\n",
              "      <td>1740.060059</td>\n",
              "      <td>1788.400024</td>\n",
              "      <td>1737.050049</td>\n",
              "      <td>1787.250000</td>\n",
              "    </tr>\n",
              "    <tr>\n",
              "      <th>4126</th>\n",
              "      <td>1787.979980</td>\n",
              "      <td>1809.839966</td>\n",
              "      <td>1773.535034</td>\n",
              "      <td>1807.209961</td>\n",
              "    </tr>\n",
              "  </tbody>\n",
              "</table>\n",
              "</div>"
            ],
            "text/plain": [
              "             Open         High          Low    Adj Close\n",
              "4124  1702.630005  1748.000000  1699.000000  1735.290039\n",
              "4125  1740.060059  1788.400024  1737.050049  1787.250000\n",
              "4126  1787.979980  1809.839966  1773.535034  1807.209961"
            ]
          },
          "metadata": {
            "tags": []
          },
          "execution_count": 54
        }
      ]
    },
    {
      "cell_type": "code",
      "metadata": {
        "id": "90_BRG50LCMI"
      },
      "source": [
        "x_input = t_df.iloc[-past_days:,:3]"
      ],
      "execution_count": 55,
      "outputs": []
    },
    {
      "cell_type": "code",
      "metadata": {
        "id": "nhJno8vQNENa",
        "colab": {
          "base_uri": "https://localhost:8080/"
        },
        "outputId": "c845ceed-e600-47f9-da62-0da84fcf430e"
      },
      "source": [
        "x_input = sc.fit_transform(x_input)\r\n",
        "x_input = x_input.reshape(1,x_input.shape[0],x_input.shape[1])\r\n",
        "x_input.shape"
      ],
      "execution_count": 56,
      "outputs": [
        {
          "output_type": "execute_result",
          "data": {
            "text/plain": [
              "(1, 3, 3)"
            ]
          },
          "metadata": {
            "tags": []
          },
          "execution_count": 56
        }
      ]
    },
    {
      "cell_type": "code",
      "metadata": {
        "colab": {
          "base_uri": "https://localhost:8080/"
        },
        "id": "PdOwjtHLdw38",
        "outputId": "9375e8ed-88c1-4ab8-db84-f7bfcb7b2052"
      },
      "source": [
        "yhat = model.predict(x_input, verbose=1)\r\n",
        "a = np.zeros((1,2))"
      ],
      "execution_count": 57,
      "outputs": [
        {
          "output_type": "stream",
          "text": [
            "1/1 [==============================] - 0s 14ms/step\n"
          ],
          "name": "stdout"
        }
      ]
    },
    {
      "cell_type": "code",
      "metadata": {
        "colab": {
          "base_uri": "https://localhost:8080/"
        },
        "id": "WtSmevwJeFCd",
        "outputId": "53f09320-06fa-4f59-c350-4f829753a4fe"
      },
      "source": [
        "a"
      ],
      "execution_count": 58,
      "outputs": [
        {
          "output_type": "execute_result",
          "data": {
            "text/plain": [
              "array([[0., 0.]])"
            ]
          },
          "metadata": {
            "tags": []
          },
          "execution_count": 58
        }
      ]
    },
    {
      "cell_type": "code",
      "metadata": {
        "colab": {
          "base_uri": "https://localhost:8080/"
        },
        "id": "umkowrc4d4HT",
        "outputId": "fc5e63ec-2ffb-4094-c1df-977f35b2b5d3"
      },
      "source": [
        "sc.inverse_transform(np.append(a,yhat,axis=1))[:,2]"
      ],
      "execution_count": 61,
      "outputs": [
        {
          "output_type": "execute_result",
          "data": {
            "text/plain": [
              "array([1725.01693456])"
            ]
          },
          "metadata": {
            "tags": []
          },
          "execution_count": 61
        }
      ]
    },
    {
      "cell_type": "code",
      "metadata": {
        "id": "am8yCYXyPgy1"
      },
      "source": [
        "# sub_df = future.set_index(['Date'])\r\n",
        "# sub1 = sub_df.iloc[:future_days,:]"
      ],
      "execution_count": null,
      "outputs": []
    },
    {
      "cell_type": "code",
      "metadata": {
        "id": "dwHkA7XXQoJB"
      },
      "source": [
        "# ind = sub1.index"
      ],
      "execution_count": null,
      "outputs": []
    },
    {
      "cell_type": "code",
      "metadata": {
        "id": "RdN_ZgUtb96i"
      },
      "source": [
        "# output = pd.DataFrame(lst_output,columns=['Pred Adj Close'])\r\n",
        "# output = output.set_index(ind)\r\n",
        "# sub_df.append(output,ignore_index=True,)"
      ],
      "execution_count": null,
      "outputs": []
    },
    {
      "cell_type": "code",
      "metadata": {
        "colab": {
          "base_uri": "https://localhost:8080/",
          "height": 999
        },
        "id": "Gfp83ui5cDdt",
        "outputId": "fa0c55b0-9323-4263-b6cb-75c1f4ce9ae9"
      },
      "source": [
        "# pd.merge(sub1,output,how='left',left_index=True,right_index=True)"
      ],
      "execution_count": null,
      "outputs": [
        {
          "output_type": "execute_result",
          "data": {
            "text/html": [
              "<div>\n",
              "<style scoped>\n",
              "    .dataframe tbody tr th:only-of-type {\n",
              "        vertical-align: middle;\n",
              "    }\n",
              "\n",
              "    .dataframe tbody tr th {\n",
              "        vertical-align: top;\n",
              "    }\n",
              "\n",
              "    .dataframe thead th {\n",
              "        text-align: right;\n",
              "    }\n",
              "</style>\n",
              "<table border=\"1\" class=\"dataframe\">\n",
              "  <thead>\n",
              "    <tr style=\"text-align: right;\">\n",
              "      <th></th>\n",
              "      <th>Adj Close</th>\n",
              "      <th>Pred Adj Close</th>\n",
              "    </tr>\n",
              "    <tr>\n",
              "      <th>Date</th>\n",
              "      <th></th>\n",
              "      <th></th>\n",
              "    </tr>\n",
              "  </thead>\n",
              "  <tbody>\n",
              "    <tr>\n",
              "      <th>2020-01-02</th>\n",
              "      <td>1367.369995</td>\n",
              "      <td>1343.676147</td>\n",
              "    </tr>\n",
              "    <tr>\n",
              "      <th>2020-01-03</th>\n",
              "      <td>1360.660034</td>\n",
              "      <td>1343.137573</td>\n",
              "    </tr>\n",
              "    <tr>\n",
              "      <th>2020-01-06</th>\n",
              "      <td>1394.209961</td>\n",
              "      <td>1342.672974</td>\n",
              "    </tr>\n",
              "    <tr>\n",
              "      <th>2020-01-07</th>\n",
              "      <td>1393.339966</td>\n",
              "      <td>1342.274170</td>\n",
              "    </tr>\n",
              "    <tr>\n",
              "      <th>2020-01-08</th>\n",
              "      <td>1404.319946</td>\n",
              "      <td>1341.913818</td>\n",
              "    </tr>\n",
              "    <tr>\n",
              "      <th>2020-01-09</th>\n",
              "      <td>1419.829956</td>\n",
              "      <td>1341.570679</td>\n",
              "    </tr>\n",
              "    <tr>\n",
              "      <th>2020-01-10</th>\n",
              "      <td>1429.729980</td>\n",
              "      <td>1341.232666</td>\n",
              "    </tr>\n",
              "    <tr>\n",
              "      <th>2020-01-13</th>\n",
              "      <td>1439.229980</td>\n",
              "      <td>1340.896606</td>\n",
              "    </tr>\n",
              "    <tr>\n",
              "      <th>2020-01-14</th>\n",
              "      <td>1430.880005</td>\n",
              "      <td>1340.558838</td>\n",
              "    </tr>\n",
              "    <tr>\n",
              "      <th>2020-01-15</th>\n",
              "      <td>1439.199951</td>\n",
              "      <td>1340.218262</td>\n",
              "    </tr>\n",
              "    <tr>\n",
              "      <th>2020-01-16</th>\n",
              "      <td>1451.699951</td>\n",
              "      <td>1339.873535</td>\n",
              "    </tr>\n",
              "    <tr>\n",
              "      <th>2020-01-17</th>\n",
              "      <td>1480.390015</td>\n",
              "      <td>1339.524658</td>\n",
              "    </tr>\n",
              "    <tr>\n",
              "      <th>2020-01-21</th>\n",
              "      <td>1484.400024</td>\n",
              "      <td>1339.172485</td>\n",
              "    </tr>\n",
              "    <tr>\n",
              "      <th>2020-01-22</th>\n",
              "      <td>1485.949951</td>\n",
              "      <td>1338.817017</td>\n",
              "    </tr>\n",
              "    <tr>\n",
              "      <th>2020-01-23</th>\n",
              "      <td>1486.650024</td>\n",
              "      <td>1338.457275</td>\n",
              "    </tr>\n",
              "    <tr>\n",
              "      <th>2020-01-24</th>\n",
              "      <td>1466.709961</td>\n",
              "      <td>1338.094116</td>\n",
              "    </tr>\n",
              "    <tr>\n",
              "      <th>2020-01-27</th>\n",
              "      <td>1433.900024</td>\n",
              "      <td>1337.728516</td>\n",
              "    </tr>\n",
              "    <tr>\n",
              "      <th>2020-01-28</th>\n",
              "      <td>1452.560059</td>\n",
              "      <td>1337.359619</td>\n",
              "    </tr>\n",
              "    <tr>\n",
              "      <th>2020-01-29</th>\n",
              "      <td>1458.630005</td>\n",
              "      <td>1336.987427</td>\n",
              "    </tr>\n",
              "    <tr>\n",
              "      <th>2020-01-30</th>\n",
              "      <td>1455.839966</td>\n",
              "      <td>1336.611206</td>\n",
              "    </tr>\n",
              "    <tr>\n",
              "      <th>2020-01-31</th>\n",
              "      <td>1434.229980</td>\n",
              "      <td>1336.230347</td>\n",
              "    </tr>\n",
              "    <tr>\n",
              "      <th>2020-02-03</th>\n",
              "      <td>1485.939941</td>\n",
              "      <td>1335.847534</td>\n",
              "    </tr>\n",
              "    <tr>\n",
              "      <th>2020-02-04</th>\n",
              "      <td>1447.069946</td>\n",
              "      <td>1335.461914</td>\n",
              "    </tr>\n",
              "    <tr>\n",
              "      <th>2020-02-05</th>\n",
              "      <td>1448.229980</td>\n",
              "      <td>1335.073975</td>\n",
              "    </tr>\n",
              "    <tr>\n",
              "      <th>2020-02-06</th>\n",
              "      <td>1476.229980</td>\n",
              "      <td>1334.682983</td>\n",
              "    </tr>\n",
              "    <tr>\n",
              "      <th>2020-02-07</th>\n",
              "      <td>1479.229980</td>\n",
              "      <td>1334.289185</td>\n",
              "    </tr>\n",
              "    <tr>\n",
              "      <th>2020-02-10</th>\n",
              "      <td>1508.680054</td>\n",
              "      <td>1333.891846</td>\n",
              "    </tr>\n",
              "    <tr>\n",
              "      <th>2020-02-11</th>\n",
              "      <td>1508.790039</td>\n",
              "      <td>1333.491089</td>\n",
              "    </tr>\n",
              "    <tr>\n",
              "      <th>2020-02-12</th>\n",
              "      <td>1518.270020</td>\n",
              "      <td>1333.087769</td>\n",
              "    </tr>\n",
              "    <tr>\n",
              "      <th>2020-02-13</th>\n",
              "      <td>1514.660034</td>\n",
              "      <td>1332.682129</td>\n",
              "    </tr>\n",
              "  </tbody>\n",
              "</table>\n",
              "</div>"
            ],
            "text/plain": [
              "              Adj Close  Pred Adj Close\n",
              "Date                                   \n",
              "2020-01-02  1367.369995     1343.676147\n",
              "2020-01-03  1360.660034     1343.137573\n",
              "2020-01-06  1394.209961     1342.672974\n",
              "2020-01-07  1393.339966     1342.274170\n",
              "2020-01-08  1404.319946     1341.913818\n",
              "2020-01-09  1419.829956     1341.570679\n",
              "2020-01-10  1429.729980     1341.232666\n",
              "2020-01-13  1439.229980     1340.896606\n",
              "2020-01-14  1430.880005     1340.558838\n",
              "2020-01-15  1439.199951     1340.218262\n",
              "2020-01-16  1451.699951     1339.873535\n",
              "2020-01-17  1480.390015     1339.524658\n",
              "2020-01-21  1484.400024     1339.172485\n",
              "2020-01-22  1485.949951     1338.817017\n",
              "2020-01-23  1486.650024     1338.457275\n",
              "2020-01-24  1466.709961     1338.094116\n",
              "2020-01-27  1433.900024     1337.728516\n",
              "2020-01-28  1452.560059     1337.359619\n",
              "2020-01-29  1458.630005     1336.987427\n",
              "2020-01-30  1455.839966     1336.611206\n",
              "2020-01-31  1434.229980     1336.230347\n",
              "2020-02-03  1485.939941     1335.847534\n",
              "2020-02-04  1447.069946     1335.461914\n",
              "2020-02-05  1448.229980     1335.073975\n",
              "2020-02-06  1476.229980     1334.682983\n",
              "2020-02-07  1479.229980     1334.289185\n",
              "2020-02-10  1508.680054     1333.891846\n",
              "2020-02-11  1508.790039     1333.491089\n",
              "2020-02-12  1518.270020     1333.087769\n",
              "2020-02-13  1514.660034     1332.682129"
            ]
          },
          "metadata": {
            "tags": []
          },
          "execution_count": 39
        }
      ]
    },
    {
      "cell_type": "code",
      "metadata": {
        "id": "oLthqwFuZmX7"
      },
      "source": [
        ""
      ],
      "execution_count": null,
      "outputs": []
    }
  ]
}

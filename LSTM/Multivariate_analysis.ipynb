{
  "nbformat": 4,
  "nbformat_minor": 0,
  "metadata": {
    "accelerator": "TPU",
    "colab": {
      "name": "Multivariate_analysis.ipynb",
      "provenance": [],
      "collapsed_sections": [],
      "toc_visible": true
    },
    "kernelspec": {
      "display_name": "Python [default]",
      "language": "python",
      "name": "python3"
    },
    "language_info": {
      "codemirror_mode": {
        "name": "ipython",
        "version": 3
      },
      "file_extension": ".py",
      "mimetype": "text/x-python",
      "name": "python",
      "nbconvert_exporter": "python",
      "pygments_lexer": "ipython3",
      "version": "3.6.8"
    }
  },
  "cells": [
    {
      "cell_type": "code",
      "metadata": {
        "colab": {
          "base_uri": "https://localhost:8080/"
        },
        "id": "S19jleua1_GE",
        "outputId": "b1fda0c6-d016-4853-d63e-2d86517dc3f5"
      },
      "source": [
        "import sys\n",
        "print(sys.version)"
      ],
      "execution_count": 1,
      "outputs": [
        {
          "output_type": "stream",
          "text": [
            "3.6.9 (default, Oct  8 2020, 12:12:24) \n",
            "[GCC 8.4.0]\n"
          ],
          "name": "stdout"
        }
      ]
    },
    {
      "cell_type": "code",
      "metadata": {
        "id": "XGXh32Yl3E5s"
      },
      "source": [
        "# Importing dependencies\n",
        "\n",
        "import numpy as np\n",
        "np.random.seed(1)\n",
        "import tensorflow as tf\n",
        "tf.random.set_seed(2) \n",
        "import pandas as pd\n",
        "import matplotlib.pyplot as plt\n",
        "from keras.models import Sequential, load_model\n",
        "from keras.layers.core import Dense\n",
        "from keras.layers.recurrent import LSTM\n",
        "from keras import optimizers\n",
        "from keras.callbacks import EarlyStopping\n",
        "from sklearn.preprocessing import MinMaxScaler\n",
        "from sklearn.metrics import mean_squared_error, r2_score\n",
        "from math import sqrt\n",
        "import datetime as dt\n",
        "import time\n",
        "plt.style.use('ggplot')"
      ],
      "execution_count": 2,
      "outputs": []
    },
    {
      "cell_type": "code",
      "metadata": {
        "id": "hlErDk5C5Qcm"
      },
      "source": [
        ""
      ],
      "execution_count": null,
      "outputs": []
    },
    {
      "cell_type": "code",
      "metadata": {
        "colab": {
          "base_uri": "https://localhost:8080/"
        },
        "id": "uxlTL28r5Q61",
        "outputId": "f452c975-e184-40dd-eb49-334aab0f6bd9"
      },
      "source": [
        "from google.colab import drive\n",
        "drive.mount('/content/drive')"
      ],
      "execution_count": 3,
      "outputs": [
        {
          "output_type": "stream",
          "text": [
            "Mounted at /content/drive\n"
          ],
          "name": "stdout"
        }
      ]
    },
    {
      "cell_type": "markdown",
      "metadata": {
        "id": "VX29co2B3fnH"
      },
      "source": [
        "### Data Preprocessing"
      ]
    },
    {
      "cell_type": "code",
      "metadata": {
        "colab": {
          "base_uri": "https://localhost:8080/",
          "height": 204
        },
        "id": "r5O0a39R9Z_Z",
        "outputId": "23f0f5b8-3ae8-40a0-8f25-45ea7d5c6d74"
      },
      "source": [
        "# Loading the dataset\n",
        "df = pd.read_csv('/content/drive/MyDrive/Colab Notebooks/data/CSV.csv')\n",
        "df.tail()"
      ],
      "execution_count": 4,
      "outputs": [
        {
          "output_type": "execute_result",
          "data": {
            "text/html": [
              "<div>\n",
              "<style scoped>\n",
              "    .dataframe tbody tr th:only-of-type {\n",
              "        vertical-align: middle;\n",
              "    }\n",
              "\n",
              "    .dataframe tbody tr th {\n",
              "        vertical-align: top;\n",
              "    }\n",
              "\n",
              "    .dataframe thead th {\n",
              "        text-align: right;\n",
              "    }\n",
              "</style>\n",
              "<table border=\"1\" class=\"dataframe\">\n",
              "  <thead>\n",
              "    <tr style=\"text-align: right;\">\n",
              "      <th></th>\n",
              "      <th>Date</th>\n",
              "      <th>Open</th>\n",
              "      <th>High</th>\n",
              "      <th>Low</th>\n",
              "      <th>Close</th>\n",
              "      <th>Adj Close</th>\n",
              "      <th>Volume</th>\n",
              "    </tr>\n",
              "  </thead>\n",
              "  <tbody>\n",
              "    <tr>\n",
              "      <th>246</th>\n",
              "      <td>2021-01-04</td>\n",
              "      <td>31.520000</td>\n",
              "      <td>31.620001</td>\n",
              "      <td>30.709999</td>\n",
              "      <td>30.969999</td>\n",
              "      <td>30.969999</td>\n",
              "      <td>77900</td>\n",
              "    </tr>\n",
              "    <tr>\n",
              "      <th>247</th>\n",
              "      <td>2021-01-05</td>\n",
              "      <td>31.000000</td>\n",
              "      <td>32.020000</td>\n",
              "      <td>31.000000</td>\n",
              "      <td>31.809999</td>\n",
              "      <td>31.809999</td>\n",
              "      <td>94900</td>\n",
              "    </tr>\n",
              "    <tr>\n",
              "      <th>248</th>\n",
              "      <td>2021-01-06</td>\n",
              "      <td>32.049999</td>\n",
              "      <td>34.000000</td>\n",
              "      <td>32.049999</td>\n",
              "      <td>33.430000</td>\n",
              "      <td>33.430000</td>\n",
              "      <td>157100</td>\n",
              "    </tr>\n",
              "    <tr>\n",
              "      <th>249</th>\n",
              "      <td>2021-01-07</td>\n",
              "      <td>34.000000</td>\n",
              "      <td>34.430000</td>\n",
              "      <td>33.660000</td>\n",
              "      <td>33.980000</td>\n",
              "      <td>33.980000</td>\n",
              "      <td>117700</td>\n",
              "    </tr>\n",
              "    <tr>\n",
              "      <th>250</th>\n",
              "      <td>2021-01-08</td>\n",
              "      <td>34.110001</td>\n",
              "      <td>34.180000</td>\n",
              "      <td>33.250000</td>\n",
              "      <td>33.630001</td>\n",
              "      <td>33.630001</td>\n",
              "      <td>92400</td>\n",
              "    </tr>\n",
              "  </tbody>\n",
              "</table>\n",
              "</div>"
            ],
            "text/plain": [
              "           Date       Open       High        Low      Close  Adj Close  Volume\n",
              "246  2021-01-04  31.520000  31.620001  30.709999  30.969999  30.969999   77900\n",
              "247  2021-01-05  31.000000  32.020000  31.000000  31.809999  31.809999   94900\n",
              "248  2021-01-06  32.049999  34.000000  32.049999  33.430000  33.430000  157100\n",
              "249  2021-01-07  34.000000  34.430000  33.660000  33.980000  33.980000  117700\n",
              "250  2021-01-08  34.110001  34.180000  33.250000  33.630001  33.630001   92400"
            ]
          },
          "metadata": {
            "tags": []
          },
          "execution_count": 4
        }
      ]
    },
    {
      "cell_type": "code",
      "metadata": {
        "id": "W2iVD8l5EMCI"
      },
      "source": [
        "df['Date']= pd.to_datetime(df['Date'])\r\n"
      ],
      "execution_count": 5,
      "outputs": []
    },
    {
      "cell_type": "code",
      "metadata": {
        "colab": {
          "base_uri": "https://localhost:8080/",
          "height": 235
        },
        "id": "yPM2a3gcHo3_",
        "outputId": "389c54e7-8de7-4686-ba9f-3f13a3eaca39"
      },
      "source": [
        "df.set_index(\"Date\",inplace=True)\r\n",
        "df.tail()"
      ],
      "execution_count": 6,
      "outputs": [
        {
          "output_type": "execute_result",
          "data": {
            "text/html": [
              "<div>\n",
              "<style scoped>\n",
              "    .dataframe tbody tr th:only-of-type {\n",
              "        vertical-align: middle;\n",
              "    }\n",
              "\n",
              "    .dataframe tbody tr th {\n",
              "        vertical-align: top;\n",
              "    }\n",
              "\n",
              "    .dataframe thead th {\n",
              "        text-align: right;\n",
              "    }\n",
              "</style>\n",
              "<table border=\"1\" class=\"dataframe\">\n",
              "  <thead>\n",
              "    <tr style=\"text-align: right;\">\n",
              "      <th></th>\n",
              "      <th>Open</th>\n",
              "      <th>High</th>\n",
              "      <th>Low</th>\n",
              "      <th>Close</th>\n",
              "      <th>Adj Close</th>\n",
              "      <th>Volume</th>\n",
              "    </tr>\n",
              "    <tr>\n",
              "      <th>Date</th>\n",
              "      <th></th>\n",
              "      <th></th>\n",
              "      <th></th>\n",
              "      <th></th>\n",
              "      <th></th>\n",
              "      <th></th>\n",
              "    </tr>\n",
              "  </thead>\n",
              "  <tbody>\n",
              "    <tr>\n",
              "      <th>2021-01-04</th>\n",
              "      <td>31.520000</td>\n",
              "      <td>31.620001</td>\n",
              "      <td>30.709999</td>\n",
              "      <td>30.969999</td>\n",
              "      <td>30.969999</td>\n",
              "      <td>77900</td>\n",
              "    </tr>\n",
              "    <tr>\n",
              "      <th>2021-01-05</th>\n",
              "      <td>31.000000</td>\n",
              "      <td>32.020000</td>\n",
              "      <td>31.000000</td>\n",
              "      <td>31.809999</td>\n",
              "      <td>31.809999</td>\n",
              "      <td>94900</td>\n",
              "    </tr>\n",
              "    <tr>\n",
              "      <th>2021-01-06</th>\n",
              "      <td>32.049999</td>\n",
              "      <td>34.000000</td>\n",
              "      <td>32.049999</td>\n",
              "      <td>33.430000</td>\n",
              "      <td>33.430000</td>\n",
              "      <td>157100</td>\n",
              "    </tr>\n",
              "    <tr>\n",
              "      <th>2021-01-07</th>\n",
              "      <td>34.000000</td>\n",
              "      <td>34.430000</td>\n",
              "      <td>33.660000</td>\n",
              "      <td>33.980000</td>\n",
              "      <td>33.980000</td>\n",
              "      <td>117700</td>\n",
              "    </tr>\n",
              "    <tr>\n",
              "      <th>2021-01-08</th>\n",
              "      <td>34.110001</td>\n",
              "      <td>34.180000</td>\n",
              "      <td>33.250000</td>\n",
              "      <td>33.630001</td>\n",
              "      <td>33.630001</td>\n",
              "      <td>92400</td>\n",
              "    </tr>\n",
              "  </tbody>\n",
              "</table>\n",
              "</div>"
            ],
            "text/plain": [
              "                 Open       High        Low      Close  Adj Close  Volume\n",
              "Date                                                                     \n",
              "2021-01-04  31.520000  31.620001  30.709999  30.969999  30.969999   77900\n",
              "2021-01-05  31.000000  32.020000  31.000000  31.809999  31.809999   94900\n",
              "2021-01-06  32.049999  34.000000  32.049999  33.430000  33.430000  157100\n",
              "2021-01-07  34.000000  34.430000  33.660000  33.980000  33.980000  117700\n",
              "2021-01-08  34.110001  34.180000  33.250000  33.630001  33.630001   92400"
            ]
          },
          "metadata": {
            "tags": []
          },
          "execution_count": 6
        }
      ]
    },
    {
      "cell_type": "code",
      "metadata": {
        "colab": {
          "base_uri": "https://localhost:8080/"
        },
        "id": "2H5Lkte_NgWT",
        "outputId": "f0bd6bfa-276f-4085-d739-7bb9a2654586"
      },
      "source": [
        "# Correlation matrix\n",
        "df.corr()['Close']"
      ],
      "execution_count": 7,
      "outputs": [
        {
          "output_type": "execute_result",
          "data": {
            "text/plain": [
              "Open         0.992819\n",
              "High         0.995887\n",
              "Low          0.997442\n",
              "Close        1.000000\n",
              "Adj Close    0.999814\n",
              "Volume      -0.498830\n",
              "Name: Close, dtype: float64"
            ]
          },
          "metadata": {
            "tags": []
          },
          "execution_count": 7
        }
      ]
    },
    {
      "cell_type": "code",
      "metadata": {
        "colab": {
          "base_uri": "https://localhost:8080/"
        },
        "id": "1anbu_yx3bta",
        "outputId": "eda6cbc4-ccfa-45fe-a1e8-bb6a99e28c0e"
      },
      "source": [
        "print(df.describe().Volume) \n",
        "df.drop(df[df['Volume']==0].index, inplace = True) #Dropping rows with volume value 0"
      ],
      "execution_count": 8,
      "outputs": [
        {
          "output_type": "stream",
          "text": [
            "count       251.000000\n",
            "mean     137443.027888\n",
            "std       91980.793980\n",
            "min       28800.000000\n",
            "25%       71400.000000\n",
            "50%      115700.000000\n",
            "75%      178200.000000\n",
            "max      653000.000000\n",
            "Name: Volume, dtype: float64\n"
          ],
          "name": "stdout"
        }
      ]
    },
    {
      "cell_type": "code",
      "metadata": {
        "id": "FNioyc6mZUAJ"
      },
      "source": [
        "# Setting up an early stop\n",
        "earlystop = EarlyStopping(monitor='val_loss', min_delta=0.0001, patience=80,  verbose=1, mode='min')\n",
        "callbacks_list = [earlystop]"
      ],
      "execution_count": 9,
      "outputs": []
    },
    {
      "cell_type": "code",
      "metadata": {
        "id": "zRVEzZ1FXj_p"
      },
      "source": [
        "#Build and train the model\n",
        "def fit_model(train,val,timesteps,hl,lr,batch,epochs):\n",
        "    X_train = []\n",
        "    Y_train = []\n",
        "    X_val = []\n",
        "    Y_val = []\n",
        "  \n",
        "    # Loop for training data\n",
        "    for i in range(timesteps,train.shape[0]):\n",
        "        X_train.append(train[i-timesteps:i])\n",
        "        Y_train.append(train[i][0])\n",
        "    X_train,Y_train = np.array(X_train),np.array(Y_train)\n",
        "  \n",
        "    # Loop for val data\n",
        "    for i in range(timesteps,val.shape[0]):\n",
        "        X_val.append(val[i-timesteps:i])\n",
        "        Y_val.append(val[i][0])\n",
        "    X_val,Y_val = np.array(X_val),np.array(Y_val)\n",
        "    \n",
        "    # Adding Layers to the model\n",
        "    model = Sequential()\n",
        "    model.add(LSTM(X_train.shape[2],input_shape = (X_train.shape[1],X_train.shape[2]),return_sequences = True,\n",
        "                   activation = 'relu'))\n",
        "    for i in range(len(hl)-1):        \n",
        "        model.add(LSTM(hl[i],activation = 'relu',return_sequences = True))\n",
        "    model.add(LSTM(hl[-1],activation = 'relu'))\n",
        "    model.add(Dense(1))\n",
        "    model.compile(optimizer = optimizers.Adam(lr = lr), loss = 'mean_squared_error')\n",
        "    #print(model.summary())\n",
        "  \n",
        "    # Training the data\n",
        "    history = model.fit(X_train,Y_train,epochs = epochs,batch_size = batch,validation_data = (X_val, Y_val),verbose = 0,\n",
        "                        shuffle = False, callbacks=callbacks_list)\n",
        "    model.reset_states()\n",
        "    return model, history.history['loss'], history.history['val_loss']\n"
      ],
      "execution_count": 10,
      "outputs": []
    },
    {
      "cell_type": "code",
      "metadata": {
        "id": "LpwHmJeQJqyI"
      },
      "source": [
        "# Evaluating the model\n",
        "def evaluate_model(model,test,timesteps):\n",
        "    X_test = []\n",
        "    Y_test = []\n",
        "\n",
        "    # Loop for testing data\n",
        "    for i in range(timesteps,test.shape[0]):\n",
        "        X_test.append(test[i-timesteps:i])\n",
        "        Y_test.append(test[i][0])\n",
        "    X_test,Y_test = np.array(X_test),np.array(Y_test)\n",
        "    #print(X_test.shape,Y_test.shape)\n",
        "  \n",
        "    # Prediction Time !!!!\n",
        "    Y_hat = model.predict(X_test)\n",
        "    mse = mean_squared_error(Y_test,Y_hat)\n",
        "    rmse = sqrt(mse)\n",
        "    r = r2_score(Y_test,Y_hat)\n",
        "    return mse, rmse, r, Y_test, Y_hat\n",
        "  "
      ],
      "execution_count": 11,
      "outputs": []
    },
    {
      "cell_type": "code",
      "metadata": {
        "id": "pI0q18ajCLx6"
      },
      "source": [
        "# Plotting the predictions\n",
        "def plot_data(Y_test,Y_hat):\n",
        "    plt.plot(Y_test,c = 'r')\n",
        "    plt.plot(Y_hat,c = 'y')\n",
        "    plt.xlabel('Day')\n",
        "    plt.ylabel('Price')\n",
        "    plt.title('Stock Prediction Graph using Multivariate-LSTM model')\n",
        "    plt.legend(['Actual','Predicted'],loc = 'lower right')\n",
        "    plt.show()"
      ],
      "execution_count": 12,
      "outputs": []
    },
    {
      "cell_type": "code",
      "metadata": {
        "id": "4NeqKRBZZr0Q"
      },
      "source": [
        "# Plotting the training errors\n",
        "def plot_error(train_loss,val_loss):\n",
        "    plt.plot(train_loss,c = 'r')\n",
        "    plt.plot(val_loss,c = 'b')\n",
        "    plt.ylabel('Loss')\n",
        "    plt.legend(['train','val'],loc = 'upper right')\n",
        "    plt.show()"
      ],
      "execution_count": 13,
      "outputs": []
    },
    {
      "cell_type": "markdown",
      "metadata": {
        "id": "gflcHxE-3fnQ"
      },
      "source": [
        "### Model Building"
      ]
    },
    {
      "cell_type": "code",
      "metadata": {
        "colab": {
          "base_uri": "https://localhost:8080/"
        },
        "id": "gAvOMIyjIQO-",
        "outputId": "46f692d5-b196-4cae-e844-35d9232e54e3"
      },
      "source": [
        "# Extracting the series\n",
        "series = df[['Close','High','Volume']] # Picking the series with high correlation\n",
        "print(series.shape)\n",
        "print(series.tail())"
      ],
      "execution_count": 14,
      "outputs": [
        {
          "output_type": "stream",
          "text": [
            "(251, 3)\n",
            "                Close       High  Volume\n",
            "Date                                    \n",
            "2021-01-04  30.969999  31.620001   77900\n",
            "2021-01-05  31.809999  32.020000   94900\n",
            "2021-01-06  33.430000  34.000000  157100\n",
            "2021-01-07  33.980000  34.430000  117700\n",
            "2021-01-08  33.630001  34.180000   92400\n"
          ],
          "name": "stdout"
        }
      ]
    },
    {
      "cell_type": "code",
      "metadata": {
        "id": "wFjigzJBgSRU"
      },
      "source": [
        "# Train Val Test Split\r\n",
        "# train_data = series.loc[0:150]\r\n",
        "\r\n",
        "# val_data = series.loc[151:201]\r\n",
        "# test_data = series.loc[202:250]\r\n",
        "# print(train_data.shape,val_data.shape,test_data.shape)"
      ],
      "execution_count": 15,
      "outputs": []
    },
    {
      "cell_type": "code",
      "metadata": {
        "colab": {
          "base_uri": "https://localhost:8080/"
        },
        "id": "BYZboeukjfzh",
        "outputId": "1e64a876-f36e-4864-853d-a25b7ce6b753"
      },
      "source": [
        "train_start = dt.date(2020,1,13)\r\n",
        "train_end = dt.date(2020,8,18)\r\n",
        "train_data = series.loc[train_start:train_end]\r\n",
        "\r\n",
        "\r\n",
        "val_start = dt.date(2020,8,19)\r\n",
        "val_end = dt.date(2020,10,28)\r\n",
        "val_data = series.loc[val_start:val_end]\r\n",
        "\r\n",
        "test_start = dt.date(2020,10,28)\r\n",
        "test_end = dt.date(2021,1,8)\r\n",
        "test_data = series.loc[test_start:test_end]\r\n",
        "\r\n",
        "print(train_data.shape,val_data.shape,test_data.shape)"
      ],
      "execution_count": 16,
      "outputs": [
        {
          "output_type": "stream",
          "text": [
            "(152, 3) (50, 3) (50, 3)\n"
          ],
          "name": "stdout"
        }
      ]
    },
    {
      "cell_type": "code",
      "metadata": {
        "id": "Tjso-RjNDmbs"
      },
      "source": [
        "# Train Val Test Split\n",
        "\n",
        "# train_start = '2020-01-13'\n",
        "# train_end = '2020-08-18'\n",
        "# mask = (df['Date'] > start_date) & (df['Date'] <= end_date)\n",
        "# train_data = series.loc[mask]\n",
        "\n",
        "# # train_start = dt.date(2020,01,13)\n",
        "# # train_end = dt.date(2020,08,18)\n",
        "# # train_data = series.loc[train_start:train_end]\n",
        "\n",
        "# val_start = '2020-08-19'\n",
        "# val_end = '2020-10-28'\n",
        "# mask1 = (df['Date'] > val_start) & (df['Date'] <= val_end)\n",
        "# val_data = series.loc[mask1]\n",
        "\n",
        "# test_start = '2020-10-29'\n",
        "# test_end = '2020-01-08'\n",
        "# mask2 = (df['Date'] > test_start) & (df['Date'] <= test_end)\n",
        "# test_data = series.loc[mask2]\n",
        "\n",
        "# print(train_data.shape,val_data.shape,test_data.shape)"
      ],
      "execution_count": 17,
      "outputs": []
    },
    {
      "cell_type": "code",
      "metadata": {
        "colab": {
          "base_uri": "https://localhost:8080/"
        },
        "id": "NWXR5oL2ZnY4",
        "outputId": "0c2322d8-345a-40e5-b678-18c2594f63ee"
      },
      "source": [
        "# Normalisation\n",
        "sc = MinMaxScaler()\n",
        "train = sc.fit_transform(train_data)\n",
        "val = sc.transform(val_data)\n",
        "test = sc.transform(test_data)\n",
        "print(train.shape,val.shape,test.shape)"
      ],
      "execution_count": 18,
      "outputs": [
        {
          "output_type": "stream",
          "text": [
            "(152, 3) (50, 3) (50, 3)\n"
          ],
          "name": "stdout"
        }
      ]
    },
    {
      "cell_type": "code",
      "metadata": {
        "id": "jqRrcSyR3fnS"
      },
      "source": [
        "timesteps = 5\n",
        "hl = [15,10]\n",
        "lr = 1e-3\n",
        "batch_size = 10\n",
        "num_epochs = 700"
      ],
      "execution_count": 19,
      "outputs": []
    },
    {
      "cell_type": "code",
      "metadata": {
        "colab": {
          "base_uri": "https://localhost:8080/",
          "height": 282
        },
        "id": "I9G70ykj3fnT",
        "outputId": "df7bd25e-43d5-409e-9626-59249199b741"
      },
      "source": [
        "model,train_error,val_error = fit_model(train,val,timesteps,hl,lr,batch_size,num_epochs)\n",
        "plot_error(train_error,val_error)"
      ],
      "execution_count": 20,
      "outputs": [
        {
          "output_type": "stream",
          "text": [
            "Epoch 00251: early stopping\n"
          ],
          "name": "stdout"
        },
        {
          "output_type": "display_data",
          "data": {
            "image/png": "[encoded data removed]",
            "text/plain": [
              "<Figure size 432x288 with 1 Axes>"
            ]
          },
          "metadata": {
            "tags": []
          }
        }
      ]
    },
    {
      "cell_type": "code",
      "metadata": {
        "colab": {
          "base_uri": "https://localhost:8080/",
          "height": 350
        },
        "id": "9Xp4GBzJ3fnT",
        "outputId": "0f5ed039-9989-4456-c984-241bf0c75a00"
      },
      "source": [
        "mse, rmse, r2_value,true,predicted = evaluate_model(model,test,timesteps)\n",
        "print('MSE = {}'.format(mse))\n",
        "print('RMSE = {}'.format(rmse))\n",
        "print('R-Squared Score = {}'.format(r2_value))\n",
        "plot_data(true,predicted)"
      ],
      "execution_count": 21,
      "outputs": [
        {
          "output_type": "stream",
          "text": [
            "MSE = 0.00695153126410855\n",
            "RMSE = 0.08337584340867893\n",
            "R-Squared Score = 0.6752126174784308\n"
          ],
          "name": "stdout"
        },
        {
          "output_type": "display_data",
          "data": {
            "image/png": "[encoded data removed]",
            "text/plain": [
              "<Figure size 432x288 with 1 Axes>"
            ]
          },
          "metadata": {
            "tags": []
          }
        }
      ]
    }
  ]
}
